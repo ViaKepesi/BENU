{
 "cells": [
  {
   "cell_type": "code",
   "execution_count": 201,
   "metadata": {},
   "outputs": [],
   "source": [
    "#import requited libraries \n",
    "from requests import get\n",
    "from bs4 import BeautifulSoup\n",
    "from xlsxwriter import Workbook\n",
    "import xlrd\n",
    "import pandas as pd\n",
    "import re\n",
    "from datetime import date"
   ]
  },
  {
   "cell_type": "code",
   "execution_count": 202,
   "metadata": {},
   "outputs": [
    {
     "name": "stdout",
     "output_type": "stream",
     "text": [
      "C:\\Users\\malejin\\Documents\\_diploma\\test_bs\n"
     ]
    }
   ],
   "source": [
    "#check current working directory \n",
    "import os\n",
    "print(os.getcwd())"
   ]
  },
  {
   "cell_type": "code",
   "execution_count": 203,
   "metadata": {},
   "outputs": [],
   "source": [
    "#import pyodbc library\n",
    "import pyodbc"
   ]
  },
  {
   "cell_type": "code",
   "execution_count": 204,
   "metadata": {},
   "outputs": [
    {
     "name": "stdout",
     "output_type": "stream",
     "text": [
      "SQL Server\n",
      "Microsoft Access dBASE Driver (*.dbf, *.ndx, *.mdx)\n",
      "SQL Server Native Client 11.0\n",
      "SQL Server Native Client RDA 11.0\n",
      "ODBC Driver 17 for SQL Server\n",
      "Microsoft Access Driver (*.mdb, *.accdb)\n",
      "Microsoft Excel Driver (*.xls, *.xlsx, *.xlsm, *.xlsb)\n",
      "Microsoft Access Text Driver (*.txt, *.csv)\n"
     ]
    }
   ],
   "source": [
    "#check for drivers\n",
    "for driver in pyodbc.drivers():\n",
    "    print(driver)"
   ]
  },
  {
   "cell_type": "code",
   "execution_count": 205,
   "metadata": {},
   "outputs": [],
   "source": [
    "#set connection\n",
    "conn = pyodbc.connect('Driver={SQL Server};'\n",
    "                      'Server=DESKTOP-42IUD2D;'\n",
    "                      'Database=Pharmacy_Price_Comparsion;'\n",
    "                      'Trusted_Connection=yes;')"
   ]
  },
  {
   "cell_type": "code",
   "execution_count": 206,
   "metadata": {},
   "outputs": [],
   "source": [
    "cursor = conn.cursor()"
   ]
  },
  {
   "cell_type": "code",
   "execution_count": 207,
   "metadata": {},
   "outputs": [
    {
     "data": {
      "text/plain": [
       "pandas.core.frame.DataFrame"
      ]
     },
     "execution_count": 207,
     "metadata": {},
     "output_type": "execute_result"
    }
   ],
   "source": [
    "#import ogyi_product_names from dbo.ogyi_product_list_simplified\n",
    "ogyi_workbook = pd.read_sql_query('''SELECT * from dbo.ogyi_product_list_simplified''', conn)\n",
    "type(ogyi_workbook)"
   ]
  },
  {
   "cell_type": "code",
   "execution_count": 208,
   "metadata": {},
   "outputs": [
    {
     "data": {
      "text/plain": [
       "0              ACC 100 mg granulátum gyermekeknek\n",
       "1                   ACC 20 mg/ml belsőleges oldat\n",
       "2                           ACC 200 mg granulátum\n",
       "3                       ACC 200 mg pezsgőtabletta\n",
       "4          ACC HOT 600 mg por belsõleges oldathoz\n",
       "                          ...                    \n",
       "233                       XYZAL 5 mg filmtabletta\n",
       "234                    YOSQIERO 5 mg filmtabletta\n",
       "235                      ZILOLA 5 mg filmtabletta\n",
       "236                     ZYRTEC 10 mg filmtabletta\n",
       "237    ZYRTEC 10 mg/ml belsőleges oldatos cseppek\n",
       "Name: ogyi_product_name, Length: 238, dtype: object"
      ]
     },
     "execution_count": 208,
     "metadata": {},
     "output_type": "execute_result"
    }
   ],
   "source": [
    "ogyi_workbook.columns[1]\n",
    "ogyi_product_name=ogyi_workbook[ogyi_workbook.columns[1]]\n",
    "type(ogyi_product_name)\n",
    "len(ogyi_product_name)  \n",
    "ogyi_product_name  \n",
    "    "
   ]
  },
  {
   "cell_type": "code",
   "execution_count": 209,
   "metadata": {},
   "outputs": [
    {
     "data": {
      "text/plain": [
       "'ACC 100 mg granulátum gyermekeknek'"
      ]
     },
     "execution_count": 209,
     "metadata": {},
     "output_type": "execute_result"
    }
   ],
   "source": [
    "ogyi_product_name[0]\n"
   ]
  },
  {
   "cell_type": "code",
   "execution_count": 210,
   "metadata": {},
   "outputs": [
    {
     "data": {
      "text/plain": [
       "'https://benu.hu/shop/catalogsearch/result/?wp-kereses=1&q='"
      ]
     },
     "execution_count": 210,
     "metadata": {},
     "output_type": "execute_result"
    }
   ],
   "source": [
    "#set url base which is the search page url of BENU. I am using this due to the complexity of the product names. There is no exact rules for the details page url setup, also i would need to use 3columns of the OGYI site but no exact rules can be defined which string parts can compose the exact search url..So most probably this way is more efficient.\n",
    "url_base='https://benu.hu/shop/catalogsearch/result/?wp-kereses=1&q='\n",
    "url_base\n"
   ]
  },
  {
   "cell_type": "code",
   "execution_count": 211,
   "metadata": {},
   "outputs": [
    {
     "data": {
      "text/plain": [
       "['https://benu.hu/shop/catalogsearch/result/?wp-kereses=1&q=ACC 100 mg granulátum gyermekeknek',\n",
       " 'https://benu.hu/shop/catalogsearch/result/?wp-kereses=1&q=ACC 20 mg/ml belsőleges oldat',\n",
       " 'https://benu.hu/shop/catalogsearch/result/?wp-kereses=1&q=ACC 200 mg granulátum',\n",
       " 'https://benu.hu/shop/catalogsearch/result/?wp-kereses=1&q=ACC 200 mg pezsgőtabletta',\n",
       " 'https://benu.hu/shop/catalogsearch/result/?wp-kereses=1&q=ACC HOT 600 mg por belsõleges oldathoz',\n",
       " 'https://benu.hu/shop/catalogsearch/result/?wp-kereses=1&q=ACC HOT 600 mg por belsőleges oldathoz',\n",
       " 'https://benu.hu/shop/catalogsearch/result/?wp-kereses=1&q=ACC INSTANT 600 mg belsőleges por',\n",
       " 'https://benu.hu/shop/catalogsearch/result/?wp-kereses=1&q=ACC LONG 600 mg pezsgőtabletta',\n",
       " 'https://benu.hu/shop/catalogsearch/result/?wp-kereses=1&q=AFRIN 0,5 mg/ml oldatos orrspray',\n",
       " 'https://benu.hu/shop/catalogsearch/result/?wp-kereses=1&q=AFRIN COMFORT MENTOLLAL 0,5 mg/ml oldatos orrspray',\n",
       " 'https://benu.hu/shop/catalogsearch/result/?wp-kereses=1&q=AFRIN COMFORT ORIGINAL 0,5 mg/ml oldatos orrspray',\n",
       " 'https://benu.hu/shop/catalogsearch/result/?wp-kereses=1&q=ALLEGRA 120 mg filmtabletta',\n",
       " 'https://benu.hu/shop/catalogsearch/result/?wp-kereses=1&q=ALLEGRA FORTE 180 mg filmtabletta',\n",
       " 'https://benu.hu/shop/catalogsearch/result/?wp-kereses=1&q=ALLEGRA JUNIOR 30 mg filmtabletta',\n",
       " 'https://benu.hu/shop/catalogsearch/result/?wp-kereses=1&q=ALLENASAL 1 mg/ml oldatos orrspray',\n",
       " 'https://benu.hu/shop/catalogsearch/result/?wp-kereses=1&q=ALLERGODIL oldatos orrspray',\n",
       " 'https://benu.hu/shop/catalogsearch/result/?wp-kereses=1&q=AMBROBENE  7,5 mg/ml belsőleges oldat',\n",
       " 'https://benu.hu/shop/catalogsearch/result/?wp-kereses=1&q=AMBROXOL-TEVA 3 mg/ml szirup',\n",
       " 'https://benu.hu/shop/catalogsearch/result/?wp-kereses=1&q=AMBROXOL-TEVA 30 mg tabletta',\n",
       " 'https://benu.hu/shop/catalogsearch/result/?wp-kereses=1&q=AMBROXOL-TEVA 75 mg retard kemény kapszula',\n",
       " 'https://benu.hu/shop/catalogsearch/result/?wp-kereses=1&q=ANGISED CITROM szájnyálkahártyán alkalmazott oldatos spray',\n",
       " 'https://benu.hu/shop/catalogsearch/result/?wp-kereses=1&q=ANGISED CITROM szopogató tabletta',\n",
       " 'https://benu.hu/shop/catalogsearch/result/?wp-kereses=1&q=ANGISED MENTOL szájnyálkahártyán alkalmazott oldatos spray',\n",
       " 'https://benu.hu/shop/catalogsearch/result/?wp-kereses=1&q=ANGISED MENTOL szopogató tabletta',\n",
       " 'https://benu.hu/shop/catalogsearch/result/?wp-kereses=1&q=ANGISED MÉZ szopogató tabletta',\n",
       " 'https://benu.hu/shop/catalogsearch/result/?wp-kereses=1&q=BABY LUUF illóolajos kenőcs',\n",
       " 'https://benu.hu/shop/catalogsearch/result/?wp-kereses=1&q=BRONCHIPRET belsőleges oldatos cseppek',\n",
       " 'https://benu.hu/shop/catalogsearch/result/?wp-kereses=1&q=BRONCHIPRET filmtabletta',\n",
       " 'https://benu.hu/shop/catalogsearch/result/?wp-kereses=1&q=BRONCHIPRET szirup',\n",
       " 'https://benu.hu/shop/catalogsearch/result/?wp-kereses=1&q=BRONCHOSTOP DUO köhögés elleni belsőleges gumipasztilla',\n",
       " 'https://benu.hu/shop/catalogsearch/result/?wp-kereses=1&q=BRONCHOSTOP köhögés elleni belsőleges gumipasztilla',\n",
       " 'https://benu.hu/shop/catalogsearch/result/?wp-kereses=1&q=BRONCHOSTOP köhögés elleni belsőleges oldat',\n",
       " 'https://benu.hu/shop/catalogsearch/result/?wp-kereses=1&q=BRONCHOSTOP SINE alkoholmentes köhögés elleni belsőleges oldat',\n",
       " 'https://benu.hu/shop/catalogsearch/result/?wp-kereses=1&q=BROXIO 3 mg/ml belsőleges oldat',\n",
       " 'https://benu.hu/shop/catalogsearch/result/?wp-kereses=1&q=BROXIO 30 mg pezsgőtabletta belsőleges oldathoz',\n",
       " 'https://benu.hu/shop/catalogsearch/result/?wp-kereses=1&q=BROXIO 6 mg/ml belsőleges oldat',\n",
       " 'https://benu.hu/shop/catalogsearch/result/?wp-kereses=1&q=BROXIO 60 mg pezsgőtabletta belsőleges oldathoz',\n",
       " 'https://benu.hu/shop/catalogsearch/result/?wp-kereses=1&q=CETIGEN 10 mg filmtabletta',\n",
       " 'https://benu.hu/shop/catalogsearch/result/?wp-kereses=1&q=CETIMAX 10 mg filmtabletta',\n",
       " 'https://benu.hu/shop/catalogsearch/result/?wp-kereses=1&q=CETIRIZIN 1 A PHARMA 10 mg filmtabletta',\n",
       " 'https://benu.hu/shop/catalogsearch/result/?wp-kereses=1&q=CETIRIZIN HEXAL 10 mg filmtabletta',\n",
       " 'https://benu.hu/shop/catalogsearch/result/?wp-kereses=1&q=CETIRIZIN HEXAL 10 mg/ml belsőleges oldatos cseppek',\n",
       " 'https://benu.hu/shop/catalogsearch/result/?wp-kereses=1&q=CETIRIZINE GALPHARM 10 mg filmtabletta',\n",
       " 'https://benu.hu/shop/catalogsearch/result/?wp-kereses=1&q=CETIRIZIN-EP 10 mg filmtabletta',\n",
       " 'https://benu.hu/shop/catalogsearch/result/?wp-kereses=1&q=CETIRIZIN-TEVA 10 mg filmtabletta',\n",
       " 'https://benu.hu/shop/catalogsearch/result/?wp-kereses=1&q=CEZERA 5 mg filmtabletta',\n",
       " 'https://benu.hu/shop/catalogsearch/result/?wp-kereses=1&q=CHIANA-Olaj',\n",
       " 'https://benu.hu/shop/catalogsearch/result/?wp-kereses=1&q=CLARITINE 1 mg/ml szirup',\n",
       " 'https://benu.hu/shop/catalogsearch/result/?wp-kereses=1&q=CLARITINE 10 mg tabletta',\n",
       " 'https://benu.hu/shop/catalogsearch/result/?wp-kereses=1&q=COLDASTOP 15000 NE/ml+20 mg/ml oldatos orrcsepp',\n",
       " 'https://benu.hu/shop/catalogsearch/result/?wp-kereses=1&q=DAEDALON 50 mg tabletta',\n",
       " 'https://benu.hu/shop/catalogsearch/result/?wp-kereses=1&q=DAEDALON végbélkúp',\n",
       " 'https://benu.hu/shop/catalogsearch/result/?wp-kereses=1&q=DASSERGO 5 mg filmtabletta',\n",
       " 'https://benu.hu/shop/catalogsearch/result/?wp-kereses=1&q=DIAPELARGO filmtabletta',\n",
       " 'https://benu.hu/shop/catalogsearch/result/?wp-kereses=1&q=DORITHRICIN erdei gyümölcs szopogató tabletta',\n",
       " 'https://benu.hu/shop/catalogsearch/result/?wp-kereses=1&q=DORITHRICIN MENTOL szopogató tabletta',\n",
       " 'https://benu.hu/shop/catalogsearch/result/?wp-kereses=1&q=ELIXIRIUM THYMI COMPOSITUM FoNo VII. HUNGARO-GAL',\n",
       " 'https://benu.hu/shop/catalogsearch/result/?wp-kereses=1&q=ELIXIRIUM THYMI COMPOSITUM FoNo VII. NATURLAND',\n",
       " 'https://benu.hu/shop/catalogsearch/result/?wp-kereses=1&q=ERDOMED 175 mg/5 ml por belsőleges szuszpenzióhoz',\n",
       " 'https://benu.hu/shop/catalogsearch/result/?wp-kereses=1&q=ERDOMED 225 mg por belsőleges oldathoz',\n",
       " 'https://benu.hu/shop/catalogsearch/result/?wp-kereses=1&q=ERDOMED 300 mg kemény kapszula',\n",
       " 'https://benu.hu/shop/catalogsearch/result/?wp-kereses=1&q=EROLIN 1 mg/ml szirup',\n",
       " 'https://benu.hu/shop/catalogsearch/result/?wp-kereses=1&q=EROLIN 10 mg tabletta',\n",
       " 'https://benu.hu/shop/catalogsearch/result/?wp-kereses=1&q=FEXGEN 120 mg filmtabletta',\n",
       " 'https://benu.hu/shop/catalogsearch/result/?wp-kereses=1&q=FEXGEN 180 mg filmtabletta',\n",
       " 'https://benu.hu/shop/catalogsearch/result/?wp-kereses=1&q=FLUIMUCIL 200 mg granulátum',\n",
       " 'https://benu.hu/shop/catalogsearch/result/?wp-kereses=1&q=FLUIMUCIL FORTE 600 mg pezsgőtabletta',\n",
       " 'https://benu.hu/shop/catalogsearch/result/?wp-kereses=1&q=FLUIMUCIL JUNIOR 100 mg granulátum',\n",
       " 'https://benu.hu/shop/catalogsearch/result/?wp-kereses=1&q=FLUIMUCIL szirup',\n",
       " 'https://benu.hu/shop/catalogsearch/result/?wp-kereses=1&q=GLYCOSEPT szájnyálkahártyán alkalmazott oldat',\n",
       " 'https://benu.hu/shop/catalogsearch/result/?wp-kereses=1&q=GRIPPOMED WICK Citrom ízû por belsőleges oldathoz',\n",
       " 'https://benu.hu/shop/catalogsearch/result/?wp-kereses=1&q=GRIPPOSTAD C kemény kapszula',\n",
       " 'https://benu.hu/shop/catalogsearch/result/?wp-kereses=1&q=HALIXOL 3 mg/ml szirup',\n",
       " 'https://benu.hu/shop/catalogsearch/result/?wp-kereses=1&q=HALIXOL 30 mg tabletta',\n",
       " 'https://benu.hu/shop/catalogsearch/result/?wp-kereses=1&q=HALSET 1,5 mg préselt szopogató tabletta',\n",
       " 'https://benu.hu/shop/catalogsearch/result/?wp-kereses=1&q=HEDELIX belsőleges oldatos cseppek',\n",
       " 'https://benu.hu/shop/catalogsearch/result/?wp-kereses=1&q=HEDELIX pezsgőtabletta',\n",
       " 'https://benu.hu/shop/catalogsearch/result/?wp-kereses=1&q=HEDELIX szirup',\n",
       " 'https://benu.hu/shop/catalogsearch/result/?wp-kereses=1&q=HERBION BOROSTYÁN 35 mg szopogató tabletta',\n",
       " 'https://benu.hu/shop/catalogsearch/result/?wp-kereses=1&q=HERBION borostyán 7 mg/ml szirup',\n",
       " 'https://benu.hu/shop/catalogsearch/result/?wp-kereses=1&q=HERBION izlandi zuzmó 6 mg/ml szirup',\n",
       " 'https://benu.hu/shop/catalogsearch/result/?wp-kereses=1&q=HISTISYNT 5 mg filmtabletta',\n",
       " 'https://benu.hu/shop/catalogsearch/result/?wp-kereses=1&q=IBUPROFEN/PSZEUDOEFEDRIN WICK 200 mg/30 mg filmtabletta',\n",
       " 'https://benu.hu/shop/catalogsearch/result/?wp-kereses=1&q=IMMUN HERBAL BÉRES filmtabletta',\n",
       " 'https://benu.hu/shop/catalogsearch/result/?wp-kereses=1&q=INALLER 5 mg filmtabletta',\n",
       " 'https://benu.hu/shop/catalogsearch/result/?wp-kereses=1&q=KALOBA 20 mg filmtabletta',\n",
       " 'https://benu.hu/shop/catalogsearch/result/?wp-kereses=1&q=KALOBA belsőleges oldatos cseppek',\n",
       " 'https://benu.hu/shop/catalogsearch/result/?wp-kereses=1&q=KALOBA szirup',\n",
       " 'https://benu.hu/shop/catalogsearch/result/?wp-kereses=1&q=LERTAZIN 5 mg filmtabletta',\n",
       " 'https://benu.hu/shop/catalogsearch/result/?wp-kereses=1&q=LEVOPRONT belsőleges oldatos cseppek',\n",
       " 'https://benu.hu/shop/catalogsearch/result/?wp-kereses=1&q=LEVOPRONT szirup',\n",
       " 'https://benu.hu/shop/catalogsearch/result/?wp-kereses=1&q=LIBEXIN 100 mg tabletta',\n",
       " 'https://benu.hu/shop/catalogsearch/result/?wp-kereses=1&q=LOLIGRIP 500 mg/200 mg/25 mg por belsőleges oldathoz',\n",
       " 'https://benu.hu/shop/catalogsearch/result/?wp-kereses=1&q=LOLIMARINE HA 1 mg/ml oldatos orrspray',\n",
       " 'https://benu.hu/shop/catalogsearch/result/?wp-kereses=1&q=LOLIMARINE HA KID 0,5 mg/ml oldatos orrspray',\n",
       " 'https://benu.hu/shop/catalogsearch/result/?wp-kereses=1&q=LOLIMUCIN 375 mg kemény kapszula',\n",
       " 'https://benu.hu/shop/catalogsearch/result/?wp-kereses=1&q=LOLISEPT 1,5 mg/ml szájnyálkahártyán alkalmazott spray',\n",
       " 'https://benu.hu/shop/catalogsearch/result/?wp-kereses=1&q=LOLISEPT FORTE 3 mg/ml szájnyálkahártyán alkalmazott spray',\n",
       " 'https://benu.hu/shop/catalogsearch/result/?wp-kereses=1&q=LORATADIN HEXAL 10 mg tabletta',\n",
       " 'https://benu.hu/shop/catalogsearch/result/?wp-kereses=1&q=LORATADINE APC 10 mg tabletta',\n",
       " 'https://benu.hu/shop/catalogsearch/result/?wp-kereses=1&q=LORATADIN-RATIOPHARM 10 mg tabletta',\n",
       " 'https://benu.hu/shop/catalogsearch/result/?wp-kereses=1&q=LUUF BOROSTYÁN szopogató tabletta',\n",
       " 'https://benu.hu/shop/catalogsearch/result/?wp-kereses=1&q=LYXIO 200 mg por belsőleges oldathoz',\n",
       " 'https://benu.hu/shop/catalogsearch/result/?wp-kereses=1&q=LYXIO 600 mg por belsőleges oldathoz',\n",
       " 'https://benu.hu/shop/catalogsearch/result/?wp-kereses=1&q=MEBUCAIN MINT 2 mg/1 mg szopogató tabletta',\n",
       " 'https://benu.hu/shop/catalogsearch/result/?wp-kereses=1&q=MEBUCAIN ORANGE szopogató tabletta',\n",
       " 'https://benu.hu/shop/catalogsearch/result/?wp-kereses=1&q=MEDDEX WICK 20 mg/15 ml méz ízû szirup',\n",
       " 'https://benu.hu/shop/catalogsearch/result/?wp-kereses=1&q=MEDDEX WICK 7,33 mg méz ízû szopogató tabletta',\n",
       " 'https://benu.hu/shop/catalogsearch/result/?wp-kereses=1&q=MUCOANGIN 20 mg szopogató tabletta',\n",
       " 'https://benu.hu/shop/catalogsearch/result/?wp-kereses=1&q=MUCOFREE 15 mg pasztilla',\n",
       " 'https://benu.hu/shop/catalogsearch/result/?wp-kereses=1&q=MUCOFREE 15 mg/5 ml szirup',\n",
       " 'https://benu.hu/shop/catalogsearch/result/?wp-kereses=1&q=MUCOFREE 30 mg tabletta',\n",
       " 'https://benu.hu/shop/catalogsearch/result/?wp-kereses=1&q=MUCOFREE 30 mg/5 ml szirup',\n",
       " 'https://benu.hu/shop/catalogsearch/result/?wp-kereses=1&q=MUCOFREE MAX 75 mg retard kemény kapszula',\n",
       " 'https://benu.hu/shop/catalogsearch/result/?wp-kereses=1&q=MUCOPLANT DR. THEISS Borostyán köhögés elleni szirup',\n",
       " 'https://benu.hu/shop/catalogsearch/result/?wp-kereses=1&q=MUCOPLANT DR. THEISS Eukaliptusz és fenyőolaj kenőcs',\n",
       " 'https://benu.hu/shop/catalogsearch/result/?wp-kereses=1&q=MUCOPLANT DR. THEISS Kakukkfû ánizsolajjal belsőleges oldatos cseppek',\n",
       " 'https://benu.hu/shop/catalogsearch/result/?wp-kereses=1&q=MUCOPLANT DR. THEISS Lándzsás útifû szirup',\n",
       " 'https://benu.hu/shop/catalogsearch/result/?wp-kereses=1&q=MUCOPRONT 375 mg kemény kapszula',\n",
       " 'https://benu.hu/shop/catalogsearch/result/?wp-kereses=1&q=MUCOPRONT 50 mg/g szirup',\n",
       " 'https://benu.hu/shop/catalogsearch/result/?wp-kereses=1&q=MUKAMBRO 10 mg/adag belsőleges oldatos spray',\n",
       " 'https://benu.hu/shop/catalogsearch/result/?wp-kereses=1&q=NASIC 0,5 mg/ml+50 mg/ml oldatos orrspray kisgyermekeknek',\n",
       " 'https://benu.hu/shop/catalogsearch/result/?wp-kereses=1&q=NASIC 1 mg/ml+50 mg/ml oldatos orrspray felnőtteknek és gyermekeknek',\n",
       " 'https://benu.hu/shop/catalogsearch/result/?wp-kereses=1&q=NASIC PUR 0,5 mg/ml + 50 mg/ml oldatos orrspray kisgyermekeknek',\n",
       " 'https://benu.hu/shop/catalogsearch/result/?wp-kereses=1&q=NASIC PUR 1 mg/ml + 50 mg/ml oldatos orrspray felnőtteknek és gyermekeknek',\n",
       " 'https://benu.hu/shop/catalogsearch/result/?wp-kereses=1&q=NASIVIN BABY 0,1 mg/ml tartósítószermentes oldatos orrcsepp',\n",
       " 'https://benu.hu/shop/catalogsearch/result/?wp-kereses=1&q=NASIVIN CLASSIC 0,5 mg/ml oldatos orrcsepp',\n",
       " 'https://benu.hu/shop/catalogsearch/result/?wp-kereses=1&q=NASIVIN CLASSIC 0,5 mg/ml oldatos orrspray',\n",
       " 'https://benu.hu/shop/catalogsearch/result/?wp-kereses=1&q=NASIVIN CLASSIC 0,5 mg/ml tartósítószermentes oldatos orrspray',\n",
       " 'https://benu.hu/shop/catalogsearch/result/?wp-kereses=1&q=NASIVIN KIDS 0,25 mg/ml oldatos orrcsepp',\n",
       " 'https://benu.hu/shop/catalogsearch/result/?wp-kereses=1&q=NASIVIN KIDS 0,25 mg/ml tartósítószermentes oldatos orrspray',\n",
       " 'https://benu.hu/shop/catalogsearch/result/?wp-kereses=1&q=NASOPAX orrspray felnőtteknek',\n",
       " 'https://benu.hu/shop/catalogsearch/result/?wp-kereses=1&q=NASOPAX orrspray gyermekeknek',\n",
       " 'https://benu.hu/shop/catalogsearch/result/?wp-kereses=1&q=NEO-ANGIN cseresznye szopogató tabletta',\n",
       " 'https://benu.hu/shop/catalogsearch/result/?wp-kereses=1&q=NEO-ANGIN cukormentes szopogató tabletta',\n",
       " 'https://benu.hu/shop/catalogsearch/result/?wp-kereses=1&q=NEO-ANGIN szopogató tabletta',\n",
       " 'https://benu.hu/shop/catalogsearch/result/?wp-kereses=1&q=NEO-ANGIN zsálya szopogató tabletta',\n",
       " 'https://benu.hu/shop/catalogsearch/result/?wp-kereses=1&q=NEO-BRONCHOL szopogató tabletta',\n",
       " 'https://benu.hu/shop/catalogsearch/result/?wp-kereses=1&q=NOVOCETRIN 5 mg filmtabletta',\n",
       " 'https://benu.hu/shop/catalogsearch/result/?wp-kereses=1&q=NOVORIN 0,05% oldatos orrcsepp',\n",
       " 'https://benu.hu/shop/catalogsearch/result/?wp-kereses=1&q=NOVORIN 0,1% oldatos orrcsepp',\n",
       " 'https://benu.hu/shop/catalogsearch/result/?wp-kereses=1&q=ORODRILL 3 mg/0,2 mg citrom-menta ízesítésû szopogató tabletta',\n",
       " 'https://benu.hu/shop/catalogsearch/result/?wp-kereses=1&q=ORODRILL 3 mg/0,2 mg cukormentes, menthol-eukaliptusz ízû szopogató tabletta',\n",
       " 'https://benu.hu/shop/catalogsearch/result/?wp-kereses=1&q=ORODRILL 3 mg/0,2 mg menthol-eukaliptusz ízesítésû szopogató tabletta',\n",
       " 'https://benu.hu/shop/catalogsearch/result/?wp-kereses=1&q=ORODRILL 3 mg/0,2 mg méz ízesítésû szopogató tabletta',\n",
       " 'https://benu.hu/shop/catalogsearch/result/?wp-kereses=1&q=OTRIVIN ALLERGIA adagoló oldatos orrspray',\n",
       " 'https://benu.hu/shop/catalogsearch/result/?wp-kereses=1&q=OTRIVIN EXTRA 1 mg/ml+50 mg/ml adagoló oldatos orrspray',\n",
       " 'https://benu.hu/shop/catalogsearch/result/?wp-kereses=1&q=OTRIVIN GYERMEK 0,5 mg/ml oldatos orrcsepp',\n",
       " 'https://benu.hu/shop/catalogsearch/result/?wp-kereses=1&q=OTRIVIN KOMPLEX 0,5 mg/ml+0,6 mg/ml oldatos orrspray',\n",
       " 'https://benu.hu/shop/catalogsearch/result/?wp-kereses=1&q=OTRIVIN RAPID 1 mg/ml adagoló oldatos orrspray',\n",
       " 'https://benu.hu/shop/catalogsearch/result/?wp-kereses=1&q=OTRIVIN RAPID 1 mg/ml oldatos orrcsepp',\n",
       " 'https://benu.hu/shop/catalogsearch/result/?wp-kereses=1&q=OTRIVIN RAPID MENTOL 1 mg/ml adagoló oldatos orrspray',\n",
       " 'https://benu.hu/shop/catalogsearch/result/?wp-kereses=1&q=PARLAZIN 10 mg filmtabletta',\n",
       " 'https://benu.hu/shop/catalogsearch/result/?wp-kereses=1&q=PARLAZIN 10 mg/ml belsőleges oldatos cseppek',\n",
       " 'https://benu.hu/shop/catalogsearch/result/?wp-kereses=1&q=PAXIRASOL 2 mg/ml belsőleges oldat',\n",
       " 'https://benu.hu/shop/catalogsearch/result/?wp-kereses=1&q=PAXIRASOL 8 mg tabletta',\n",
       " 'https://benu.hu/shop/catalogsearch/result/?wp-kereses=1&q=PECTODRILL 750 mg rágótabletta',\n",
       " 'https://benu.hu/shop/catalogsearch/result/?wp-kereses=1&q=PELOID belsőleges cseppek',\n",
       " 'https://benu.hu/shop/catalogsearch/result/?wp-kereses=1&q=PHLOGOSOL külsőleges oldat',\n",
       " 'https://benu.hu/shop/catalogsearch/result/?wp-kereses=1&q=POLLEZIN 5 mg filmtabletta',\n",
       " 'https://benu.hu/shop/catalogsearch/result/?wp-kereses=1&q=POLLEZIN 5 mg/ml belsőleges oldatos cseppek',\n",
       " 'https://benu.hu/shop/catalogsearch/result/?wp-kereses=1&q=PROSPAN belsőleges oldatos cseppek',\n",
       " 'https://benu.hu/shop/catalogsearch/result/?wp-kereses=1&q=PROSPAN szirup',\n",
       " 'https://benu.hu/shop/catalogsearch/result/?wp-kereses=1&q=REVICET 10 mg préselt szopogató tabletta',\n",
       " 'https://benu.hu/shop/catalogsearch/result/?wp-kereses=1&q=REVICET AKUT 10 mg préselt szopogató tabletta',\n",
       " 'https://benu.hu/shop/catalogsearch/result/?wp-kereses=1&q=RHINATHIOL 1 mg/ml köhögéscsillapító szirup gyermekeknek',\n",
       " 'https://benu.hu/shop/catalogsearch/result/?wp-kereses=1&q=RHINATHIOL 1 mg/ml oldatos orrspray',\n",
       " 'https://benu.hu/shop/catalogsearch/result/?wp-kereses=1&q=RHINATHIOL 1,33 mg/ml köhögéscsillapító szirup felnőtteknek',\n",
       " 'https://benu.hu/shop/catalogsearch/result/?wp-kereses=1&q=RHINATHIOL COLD 200 mg/30 mg filmtabletta',\n",
       " 'https://benu.hu/shop/catalogsearch/result/?wp-kereses=1&q=RHINATHIOL köptető 20 mg/ml szirup gyermekeknek',\n",
       " 'https://benu.hu/shop/catalogsearch/result/?wp-kereses=1&q=RHINATHIOL köptető 50 mg/ml szirup felnőtteknek',\n",
       " 'https://benu.hu/shop/catalogsearch/result/?wp-kereses=1&q=RHINATHIOL TUSSO 100 mg tabletta',\n",
       " 'https://benu.hu/shop/catalogsearch/result/?wp-kereses=1&q=RHINOSPRAY PLUS 1,265 mg/ml oldatos orrspray',\n",
       " 'https://benu.hu/shop/catalogsearch/result/?wp-kereses=1&q=RINOFLUIMUCIL oldatos orrspray',\n",
       " 'https://benu.hu/shop/catalogsearch/result/?wp-kereses=1&q=RINOMARIS 0,5 mg/ml oldatos orrspray',\n",
       " 'https://benu.hu/shop/catalogsearch/result/?wp-kereses=1&q=RINOMARIS 1 mg/ml oldatos orrspray',\n",
       " 'https://benu.hu/shop/catalogsearch/result/?wp-kereses=1&q=ROBITUSSIN ANTITUSSICUM szirup',\n",
       " 'https://benu.hu/shop/catalogsearch/result/?wp-kereses=1&q=ROBITUSSIN EXPECTORANS szirup',\n",
       " 'https://benu.hu/shop/catalogsearch/result/?wp-kereses=1&q=ROBITUSSIN JUNIOR szirup',\n",
       " 'https://benu.hu/shop/catalogsearch/result/?wp-kereses=1&q=SEFALLER 5 mg filmtabletta',\n",
       " 'https://benu.hu/shop/catalogsearch/result/?wp-kereses=1&q=SEPTANAZAL 0,5 mg/ml + 50 mg/ml oldatos orrspray gyermekeknek',\n",
       " 'https://benu.hu/shop/catalogsearch/result/?wp-kereses=1&q=SEPTANAZAL 1 mg/ml + 50 mg/ml oldatos orrspray felnőtteknek',\n",
       " 'https://benu.hu/shop/catalogsearch/result/?wp-kereses=1&q=SEPTOFORT tabletta',\n",
       " 'https://benu.hu/shop/catalogsearch/result/?wp-kereses=1&q=SEPTOLETE EXTRA 1,5 mg/ml + 5 mg/ml szájnyálkahártyán alkalmazott oldatos spray',\n",
       " 'https://benu.hu/shop/catalogsearch/result/?wp-kereses=1&q=SEPTOLETE EXTRA citrom-bodza 3 mg/1 mg szopogató tabletta',\n",
       " 'https://benu.hu/shop/catalogsearch/result/?wp-kereses=1&q=SEPTOLETE EXTRA citrom-méz 3 mg/1 mg szopogató tabletta',\n",
       " 'https://benu.hu/shop/catalogsearch/result/?wp-kereses=1&q=SEPTOLETE EXTRA eukaliptusz ízû 3 mg/1 mg szopogató tabletta',\n",
       " 'https://benu.hu/shop/catalogsearch/result/?wp-kereses=1&q=SINUPRET belsőleges oldatos cseppek',\n",
       " 'https://benu.hu/shop/catalogsearch/result/?wp-kereses=1&q=SINUPRET bevont tabletta',\n",
       " 'https://benu.hu/shop/catalogsearch/result/?wp-kereses=1&q=SINUPRET FORTE bevont tabletta',\n",
       " 'https://benu.hu/shop/catalogsearch/result/?wp-kereses=1&q=SNUP 0,5 mg/ml oldatos orrspray',\n",
       " 'https://benu.hu/shop/catalogsearch/result/?wp-kereses=1&q=SNUP 1 mg/ml oldatos orrspray',\n",
       " 'https://benu.hu/shop/catalogsearch/result/?wp-kereses=1&q=SOLEDUM 100 mg gyomornedv-ellenálló lágy kapszula',\n",
       " 'https://benu.hu/shop/catalogsearch/result/?wp-kereses=1&q=SOLEDUM FORTE 200 mg gyomornedv-ellenálló lágy kapszula',\n",
       " 'https://benu.hu/shop/catalogsearch/result/?wp-kereses=1&q=SOLMUCOL 200 mg szopogató tabletta',\n",
       " 'https://benu.hu/shop/catalogsearch/result/?wp-kereses=1&q=SPUTOPUR 200 mg kemény kapszula',\n",
       " 'https://benu.hu/shop/catalogsearch/result/?wp-kereses=1&q=Stodal szirup',\n",
       " 'https://benu.hu/shop/catalogsearch/result/?wp-kereses=1&q=STOPANGIN 5 mg/1 mg szopogató tabletta',\n",
       " 'https://benu.hu/shop/catalogsearch/result/?wp-kereses=1&q=STREPFEN 8,75 mg szopogató tabletta',\n",
       " 'https://benu.hu/shop/catalogsearch/result/?wp-kereses=1&q=STREPFEN cukormentes 8,75 mg szopogató tabletta',\n",
       " 'https://benu.hu/shop/catalogsearch/result/?wp-kereses=1&q=STREPFEN DIREKT 16,2 mg/ml szájnyálkahártyán alkalmazott oldatos spray',\n",
       " 'https://benu.hu/shop/catalogsearch/result/?wp-kereses=1&q=STREPFEN DIREKT méz és citrom ízû 16,2 mg/ml szájnyálkahártyán alkalmazott oldatos spray',\n",
       " 'https://benu.hu/shop/catalogsearch/result/?wp-kereses=1&q=STREPSILS citromízû cukormentes szopogató tabletta',\n",
       " 'https://benu.hu/shop/catalogsearch/result/?wp-kereses=1&q=STREPSILS eperízû cukormentes szopogató tabletta',\n",
       " 'https://benu.hu/shop/catalogsearch/result/?wp-kereses=1&q=STREPSILS HONEY AND LEMON szopogató tabletta',\n",
       " 'https://benu.hu/shop/catalogsearch/result/?wp-kereses=1&q=STREPSILS MENTHOL AND EUCALYPTUS szopogató tabletta',\n",
       " 'https://benu.hu/shop/catalogsearch/result/?wp-kereses=1&q=STREPSILS PLUS tabletta',\n",
       " 'https://benu.hu/shop/catalogsearch/result/?wp-kereses=1&q=STREPSILS VITAMIN C 100 mg szopogató tabletta',\n",
       " 'https://benu.hu/shop/catalogsearch/result/?wp-kereses=1&q=TALEUM 22 mg/g oldatos orrspray',\n",
       " 'https://benu.hu/shop/catalogsearch/result/?wp-kereses=1&q=TANTUM VERDE CITROM 3 mg szopogató tabletta',\n",
       " 'https://benu.hu/shop/catalogsearch/result/?wp-kereses=1&q=TANTUM VERDE EUKALIPTUSZ 3 mg szopogató tabletta',\n",
       " 'https://benu.hu/shop/catalogsearch/result/?wp-kereses=1&q=TANTUM VERDE MENTA 3 mg szopogató tabletta',\n",
       " 'https://benu.hu/shop/catalogsearch/result/?wp-kereses=1&q=TANTUM VERDE NARANCS-MÉZ 3 mg szopogató tabletta',\n",
       " 'https://benu.hu/shop/catalogsearch/result/?wp-kereses=1&q=TELFAST 120 mg filmtabletta',\n",
       " 'https://benu.hu/shop/catalogsearch/result/?wp-kereses=1&q=TELFAST 180 mg filmtabletta',\n",
       " 'https://benu.hu/shop/catalogsearch/result/?wp-kereses=1&q=TEVA-AMBROBENE 15 mg/5 ml szirup',\n",
       " 'https://benu.hu/shop/catalogsearch/result/?wp-kereses=1&q=TEVA-AMBROBENE 30 mg tabletta',\n",
       " 'https://benu.hu/shop/catalogsearch/result/?wp-kereses=1&q=TEVA-NAZAL 0,5 mg/ml + 50 mg/ml oldatos orrspray',\n",
       " 'https://benu.hu/shop/catalogsearch/result/?wp-kereses=1&q=TEVA-NAZAL 1 mg/ml + 50 mg/ml oldatos orrspray',\n",
       " 'https://benu.hu/shop/catalogsearch/result/?wp-kereses=1&q=TUSSODRILL 15 mg/5 ml belsőleges oldat felnőtteknek',\n",
       " 'https://benu.hu/shop/catalogsearch/result/?wp-kereses=1&q=TUSSODRILL 5 mg/5 ml belsőleges oldat gyermekeknek',\n",
       " 'https://benu.hu/shop/catalogsearch/result/?wp-kereses=1&q=UNGUENTUM NASALE FoNo VII. HUNGARO-GAL',\n",
       " 'https://benu.hu/shop/catalogsearch/result/?wp-kereses=1&q=UNGUENTUM NASALE FoNo VII. NATURLAND',\n",
       " 'https://benu.hu/shop/catalogsearch/result/?wp-kereses=1&q=UNGUENTUM NASALE FoNo VII. PARMA',\n",
       " 'https://benu.hu/shop/catalogsearch/result/?wp-kereses=1&q=VIBROCIL oldatos orrcsepp',\n",
       " 'https://benu.hu/shop/catalogsearch/result/?wp-kereses=1&q=VIBROCIL oldatos orrspray',\n",
       " 'https://benu.hu/shop/catalogsearch/result/?wp-kereses=1&q=WICK GUAIFENOMED 200 mg/15 ml méz és gyömbér ízû szirup',\n",
       " 'https://benu.hu/shop/catalogsearch/result/?wp-kereses=1&q=WICK SINEX Aloe Vera és Eukaliptusz 0,5 mg/ml oldatos orrspray',\n",
       " 'https://benu.hu/shop/catalogsearch/result/?wp-kereses=1&q=WICK TRIACTIN citrom ízû por belsőleges oldathoz',\n",
       " 'https://benu.hu/shop/catalogsearch/result/?wp-kereses=1&q=WICK VAPORUB kenőcs',\n",
       " 'https://benu.hu/shop/catalogsearch/result/?wp-kereses=1&q=XILOMARE 1 mg/ml oldatos orrspray',\n",
       " 'https://benu.hu/shop/catalogsearch/result/?wp-kereses=1&q=XILOMARE KID 0,5 mg/ml oldatos orrspray',\n",
       " 'https://benu.hu/shop/catalogsearch/result/?wp-kereses=1&q=XYZAL 0,5 mg/ml belsőleges oldat',\n",
       " 'https://benu.hu/shop/catalogsearch/result/?wp-kereses=1&q=XYZAL 5 mg filmtabletta',\n",
       " 'https://benu.hu/shop/catalogsearch/result/?wp-kereses=1&q=YOSQIERO 5 mg filmtabletta',\n",
       " 'https://benu.hu/shop/catalogsearch/result/?wp-kereses=1&q=ZILOLA 5 mg filmtabletta',\n",
       " 'https://benu.hu/shop/catalogsearch/result/?wp-kereses=1&q=ZYRTEC 10 mg filmtabletta',\n",
       " 'https://benu.hu/shop/catalogsearch/result/?wp-kereses=1&q=ZYRTEC 10 mg/ml belsőleges oldatos cseppek']"
      ]
     },
     "execution_count": 211,
     "metadata": {},
     "output_type": "execute_result"
    }
   ],
   "source": [
    "#generate the search page urls\n",
    "url_list=[]\n",
    "for i in range(len(ogyi_workbook)):\n",
    "    url_list.append(url_base+ogyi_product_name[i])\n",
    "\n",
    "url_list"
   ]
  },
  {
   "cell_type": "code",
   "execution_count": 212,
   "metadata": {},
   "outputs": [
    {
     "data": {
      "text/plain": [
       "str"
      ]
     },
     "execution_count": 212,
     "metadata": {},
     "output_type": "execute_result"
    }
   ],
   "source": [
    "#check the len of the url list\n",
    "type(url_list[0])"
   ]
  },
  {
   "cell_type": "code",
   "execution_count": 213,
   "metadata": {},
   "outputs": [],
   "source": [
    "#change iopub_data_rate_limit in prompt\n",
    "#NotebookApp.iopub_data_rate_limit=1000000.0 (bytes/sec)-> I changed to NotebookApp.iopub_data_rate_limit = 100000000\n",
    "#NotebookApp.rate_limit_window=3.0 (secs)-> I changed it to NotebookApp.rate_limit_window\n",
    "#also buffering limit was changed"
   ]
  },
  {
   "cell_type": "code",
   "execution_count": 214,
   "metadata": {},
   "outputs": [],
   "source": [
    "#generate the soupf of the content of the url list\n",
    "soup_list=[]\n",
    "\n",
    "from timeit import default_timer as timer\n",
    "\n",
    "start = timer()\n",
    "\n",
    "soup_list.append(BeautifulSoup(get(url_list[i]).text))\n",
    "\n",
    "end = timer()\n"
   ]
  },
  {
   "cell_type": "code",
   "execution_count": 215,
   "metadata": {},
   "outputs": [
    {
     "name": "stdout",
     "output_type": "stream",
     "text": [
      "0.43728820000023916\n"
     ]
    }
   ],
   "source": [
    "#check how much time the souping takes\n",
    "print(end - start) #time in seconds\n",
    "\n",
    "#souping 150urls takes 48.15 secs if printing included. Without pringting it takes 43.90\n",
    "#souping 300urls takes 94.16 secs without printing\n",
    "#souping 625 urls takes 187.73 secs without printing"
   ]
  },
  {
   "cell_type": "code",
   "execution_count": 216,
   "metadata": {},
   "outputs": [
    {
     "data": {
      "text/plain": [
       "1"
      ]
     },
     "execution_count": 216,
     "metadata": {},
     "output_type": "execute_result"
    }
   ],
   "source": [
    "#check the soup\n",
    "soup_list[0]\n",
    "type(soup_list[0])\n",
    "len(soup_list)"
   ]
  },
  {
   "cell_type": "code",
   "execution_count": 217,
   "metadata": {},
   "outputs": [
    {
     "name": "stdout",
     "output_type": "stream",
     "text": [
      "[<div class=\"wrapper-hover product-box\">\n",
      "<a class=\"product-image\" href=\"https://benu.hu/shop/zyrtec-10-mg-ml-belsoleges-oldatos-cseppek-20ml\" itemprop=\"url\" onclick=\"window.prefixboxAnalytics('click', 'serp', {'pattern':'ZYRTEC 10 mg/ml belsőleges oldatos cseppek', 'position':1, 'productId':'44922', 'title':'Zyrtec 10 mg/ml belsőleges oldatos cseppek 20ml', 'url':'https://benu.hu/shop/zyrtec-10-mg-ml-belsoleges-oldatos-cseppek-20ml', 'category':'Allergia'})\" rel=\"nofollow\" title=\"Zyrtec 10 mg/ml belsőleges oldatos cseppek 20ml\">\n",
      "<img alt=\"Zyrtec 10 mg/ml belsőleges oldatos cseppek 20ml\" itemprop=\"image\" src=\"https://benu.hu/shop/media/catalog/product/cache/1/small_image/130x130/9df78eab33525d08d6e5fb8d27136e95/Z/y/Zyrtec_10_mg_ml_belsoleges_oldatos_cseppek__20ml_225971_2016_1.jpg\"/>\n",
      "</a>\n",
      "<div class=\"product-shop\">\n",
      "<h2 class=\"product-name\">\n",
      "<a href=\"https://benu.hu/shop/zyrtec-10-mg-ml-belsoleges-oldatos-cseppek-20ml\" itemprop=\"name\" onclick=\"window.prefixboxAnalytics('click', 'serp', {'pattern':'ZYRTEC 10 mg/ml belsőleges oldatos cseppek', 'position':1, 'productId':'44922', 'title':'Zyrtec 10 mg/ml belsőleges oldatos cseppek 20ml', 'url':'https://benu.hu/shop/zyrtec-10-mg-ml-belsoleges-oldatos-cseppek-20ml', 'category':'Allergia'})\" rel=\"nofollow\" title=\"Zyrtec 10 mg/ml belsőleges oldatos cseppek 20ml\">\n",
      "                                                Zyrtec 10 mg/ml belsőleges oldatos cseppek 20ml                                            </a>\n",
      "</h2>\n",
      "<div class=\"price-box col-md-5\" content=\"1549\" itemprop=\"offers\" itemscope=\"\" itemtype=\"http://schema.org/Offer http://schema.org/Drug\">\n",
      "<span class=\"regular-price\" content=\"1549\" id=\"product-price-44922\">\n",
      "<span class=\"price\">1 549 Ft</span> </span>\n",
      "<meta content=\"1549\" itemprop=\"price\"/>\n",
      "<meta content=\"HUF\" itemprop=\"priceCurrency\"/>\n",
      "</div>\n",
      "<div class=\"desc_grid\" itemprop=\"description\">\n",
      "</div>\n",
      "<div class=\"actions\">\n",
      "<span style=\"color:#57aa00;font-weight:bold;font-size:14px;\">KÉSZLETEN</span>\n",
      "</div>\n",
      "</div>\n",
      "<div class=\"label-product\">\n",
      "</div>\n",
      "<div class=\"clear\"><!-- empty --></div>\n",
      "<span class=\"product-link\" data-content=\"https://benu.hu/shop/zyrtec-10-mg-ml-belsoleges-oldatos-cseppek-20ml\"><!-- empty --></span>\n",
      "<span class=\"benu_hatoanyag\" data-content=\"cetirizinium chloratum\"><!-- empty --></span>\n",
      "<span class=\"lx_cikk_besorolas\" data-content=\"\"><!-- empty --></span>\n",
      "</div>]\n"
     ]
    }
   ],
   "source": [
    "#validate that those urls has no 'div', {'class': 'wrapper-hover product-box' where the product was not found\n",
    "searched_product_s0=soup_list[0].find_all('div', {'class': 'wrapper-hover product-box'})\n",
    "print(searched_product_s0)"
   ]
  },
  {
   "cell_type": "code",
   "execution_count": 218,
   "metadata": {},
   "outputs": [],
   "source": [
    "#save only those page contents where product so 'div', {'class': 'wrapper-hover product-box' was found\n",
    "#since we search for an exact product name the result page will list only 1 product as i found so 'find' looks sufficient\n",
    "searched_product_all=[]\n",
    "product_not_found=[]\n",
    "souped_product_names=[]\n",
    "souped_product_urls=[]\n",
    "\n",
    "start = timer()\n",
    "\n",
    "for i in range(len(soup_list)):\n",
    "    soup_of_product_boxes=soup_list[i].find('div', {'class': 'wrapper-hover product-box'})\n",
    "    if soup_of_product_boxes != None:\n",
    "        searched_product_all.append(soup_of_product_boxes)\n",
    "        souped_product_names.append(ogyi_product_name[i])\n",
    "        souped_product_urls.append(url_list[i])\n",
    "    else: product_not_found.append(url_list[i])\n",
    "    #here still i would like to add the url of the product that was not found\n",
    "end = timer()\n",
    "#print(end - start)#time in seconds"
   ]
  },
  {
   "cell_type": "code",
   "execution_count": 219,
   "metadata": {},
   "outputs": [
    {
     "data": {
      "text/plain": [
       "['ACC 100 mg granulátum gyermekeknek']"
      ]
     },
     "execution_count": 219,
     "metadata": {},
     "output_type": "execute_result"
    }
   ],
   "source": [
    "souped_product_names"
   ]
  },
  {
   "cell_type": "code",
   "execution_count": 220,
   "metadata": {},
   "outputs": [
    {
     "name": "stdout",
     "output_type": "stream",
     "text": [
      "0.014456399999744463\n"
     ]
    }
   ],
   "source": [
    "#check how much it took to filter out the soup\n",
    "print(end - start)#time in seconds"
   ]
  },
  {
   "cell_type": "code",
   "execution_count": 221,
   "metadata": {},
   "outputs": [
    {
     "name": "stdout",
     "output_type": "stream",
     "text": [
      "[<div class=\"wrapper-hover product-box\">\n",
      "<a class=\"product-image\" href=\"https://benu.hu/shop/zyrtec-10-mg-ml-belsoleges-oldatos-cseppek-20ml\" itemprop=\"url\" onclick=\"window.prefixboxAnalytics('click', 'serp', {'pattern':'ZYRTEC 10 mg/ml belsőleges oldatos cseppek', 'position':1, 'productId':'44922', 'title':'Zyrtec 10 mg/ml belsőleges oldatos cseppek 20ml', 'url':'https://benu.hu/shop/zyrtec-10-mg-ml-belsoleges-oldatos-cseppek-20ml', 'category':'Allergia'})\" rel=\"nofollow\" title=\"Zyrtec 10 mg/ml belsőleges oldatos cseppek 20ml\">\n",
      "<img alt=\"Zyrtec 10 mg/ml belsőleges oldatos cseppek 20ml\" itemprop=\"image\" src=\"https://benu.hu/shop/media/catalog/product/cache/1/small_image/130x130/9df78eab33525d08d6e5fb8d27136e95/Z/y/Zyrtec_10_mg_ml_belsoleges_oldatos_cseppek__20ml_225971_2016_1.jpg\"/>\n",
      "</a>\n",
      "<div class=\"product-shop\">\n",
      "<h2 class=\"product-name\">\n",
      "<a href=\"https://benu.hu/shop/zyrtec-10-mg-ml-belsoleges-oldatos-cseppek-20ml\" itemprop=\"name\" onclick=\"window.prefixboxAnalytics('click', 'serp', {'pattern':'ZYRTEC 10 mg/ml belsőleges oldatos cseppek', 'position':1, 'productId':'44922', 'title':'Zyrtec 10 mg/ml belsőleges oldatos cseppek 20ml', 'url':'https://benu.hu/shop/zyrtec-10-mg-ml-belsoleges-oldatos-cseppek-20ml', 'category':'Allergia'})\" rel=\"nofollow\" title=\"Zyrtec 10 mg/ml belsőleges oldatos cseppek 20ml\">\n",
      "                                                Zyrtec 10 mg/ml belsőleges oldatos cseppek 20ml                                            </a>\n",
      "</h2>\n",
      "<div class=\"price-box col-md-5\" content=\"1549\" itemprop=\"offers\" itemscope=\"\" itemtype=\"http://schema.org/Offer http://schema.org/Drug\">\n",
      "<span class=\"regular-price\" content=\"1549\" id=\"product-price-44922\">\n",
      "<span class=\"price\">1 549 Ft</span> </span>\n",
      "<meta content=\"1549\" itemprop=\"price\"/>\n",
      "<meta content=\"HUF\" itemprop=\"priceCurrency\"/>\n",
      "</div>\n",
      "<div class=\"desc_grid\" itemprop=\"description\">\n",
      "</div>\n",
      "<div class=\"actions\">\n",
      "<span style=\"color:#57aa00;font-weight:bold;font-size:14px;\">KÉSZLETEN</span>\n",
      "</div>\n",
      "</div>\n",
      "<div class=\"label-product\">\n",
      "</div>\n",
      "<div class=\"clear\"><!-- empty --></div>\n",
      "<span class=\"product-link\" data-content=\"https://benu.hu/shop/zyrtec-10-mg-ml-belsoleges-oldatos-cseppek-20ml\"><!-- empty --></span>\n",
      "<span class=\"benu_hatoanyag\" data-content=\"cetirizinium chloratum\"><!-- empty --></span>\n",
      "<span class=\"lx_cikk_besorolas\" data-content=\"\"><!-- empty --></span>\n",
      "</div>]\n"
     ]
    }
   ],
   "source": [
    "print(searched_product_all)"
   ]
  },
  {
   "cell_type": "code",
   "execution_count": 222,
   "metadata": {},
   "outputs": [
    {
     "data": {
      "text/plain": [
       "1"
      ]
     },
     "execution_count": 222,
     "metadata": {},
     "output_type": "execute_result"
    }
   ],
   "source": [
    "#check length of searched_product_all as it shows how many product was actually found\n",
    "len(searched_product_all)"
   ]
  },
  {
   "cell_type": "code",
   "execution_count": 223,
   "metadata": {},
   "outputs": [
    {
     "data": {
      "text/plain": [
       "[<div class=\"wrapper-hover product-box\">\n",
       " <a class=\"product-image\" href=\"https://benu.hu/shop/zyrtec-10-mg-ml-belsoleges-oldatos-cseppek-20ml\" itemprop=\"url\" onclick=\"window.prefixboxAnalytics('click', 'serp', {'pattern':'ZYRTEC 10 mg/ml belsőleges oldatos cseppek', 'position':1, 'productId':'44922', 'title':'Zyrtec 10 mg/ml belsőleges oldatos cseppek 20ml', 'url':'https://benu.hu/shop/zyrtec-10-mg-ml-belsoleges-oldatos-cseppek-20ml', 'category':'Allergia'})\" rel=\"nofollow\" title=\"Zyrtec 10 mg/ml belsőleges oldatos cseppek 20ml\">\n",
       " <img alt=\"Zyrtec 10 mg/ml belsőleges oldatos cseppek 20ml\" itemprop=\"image\" src=\"https://benu.hu/shop/media/catalog/product/cache/1/small_image/130x130/9df78eab33525d08d6e5fb8d27136e95/Z/y/Zyrtec_10_mg_ml_belsoleges_oldatos_cseppek__20ml_225971_2016_1.jpg\"/>\n",
       " </a>\n",
       " <div class=\"product-shop\">\n",
       " <h2 class=\"product-name\">\n",
       " <a href=\"https://benu.hu/shop/zyrtec-10-mg-ml-belsoleges-oldatos-cseppek-20ml\" itemprop=\"name\" onclick=\"window.prefixboxAnalytics('click', 'serp', {'pattern':'ZYRTEC 10 mg/ml belsőleges oldatos cseppek', 'position':1, 'productId':'44922', 'title':'Zyrtec 10 mg/ml belsőleges oldatos cseppek 20ml', 'url':'https://benu.hu/shop/zyrtec-10-mg-ml-belsoleges-oldatos-cseppek-20ml', 'category':'Allergia'})\" rel=\"nofollow\" title=\"Zyrtec 10 mg/ml belsőleges oldatos cseppek 20ml\">\n",
       "                                                 Zyrtec 10 mg/ml belsőleges oldatos cseppek 20ml                                            </a>\n",
       " </h2>\n",
       " <div class=\"price-box col-md-5\" content=\"1549\" itemprop=\"offers\" itemscope=\"\" itemtype=\"http://schema.org/Offer http://schema.org/Drug\">\n",
       " <span class=\"regular-price\" content=\"1549\" id=\"product-price-44922\">\n",
       " <span class=\"price\">1 549 Ft</span> </span>\n",
       " <meta content=\"1549\" itemprop=\"price\"/>\n",
       " <meta content=\"HUF\" itemprop=\"priceCurrency\"/>\n",
       " </div>\n",
       " <div class=\"desc_grid\" itemprop=\"description\">\n",
       " </div>\n",
       " <div class=\"actions\">\n",
       " <span style=\"color:#57aa00;font-weight:bold;font-size:14px;\">KÉSZLETEN</span>\n",
       " </div>\n",
       " </div>\n",
       " <div class=\"label-product\">\n",
       " </div>\n",
       " <div class=\"clear\"><!-- empty --></div>\n",
       " <span class=\"product-link\" data-content=\"https://benu.hu/shop/zyrtec-10-mg-ml-belsoleges-oldatos-cseppek-20ml\"><!-- empty --></span>\n",
       " <span class=\"benu_hatoanyag\" data-content=\"cetirizinium chloratum\"><!-- empty --></span>\n",
       " <span class=\"lx_cikk_besorolas\" data-content=\"\"><!-- empty --></span>\n",
       " </div>]"
      ]
     },
     "execution_count": 223,
     "metadata": {},
     "output_type": "execute_result"
    }
   ],
   "source": [
    "#checking the data\n",
    "searched_product_all"
   ]
  },
  {
   "cell_type": "code",
   "execution_count": 224,
   "metadata": {},
   "outputs": [
    {
     "data": {
      "text/plain": [
       "1"
      ]
     },
     "execution_count": 224,
     "metadata": {},
     "output_type": "execute_result"
    }
   ],
   "source": [
    "#filter to a product name\n",
    "benu_product_name=[]\n",
    "for i in range(len(searched_product_all)):\n",
    "    benu_product_name.append(searched_product_all[i].h2.a.get_text('title').strip())\n",
    "len(benu_product_name)"
   ]
  },
  {
   "cell_type": "code",
   "execution_count": 225,
   "metadata": {},
   "outputs": [
    {
     "data": {
      "text/plain": [
       "['1549']"
      ]
     },
     "execution_count": 225,
     "metadata": {},
     "output_type": "execute_result"
    }
   ],
   "source": [
    "#filter to price of a product\n",
    "searched_product_all[0].div.div.get('content')\n",
    "\n",
    "price=[]\n",
    "for i in range(len(searched_product_all)):\n",
    "    if searched_product_all[i].div.div.get('content')!=None:\n",
    "        price.append(str(searched_product_all[i].div.div.get('content')))\n",
    "    else:price.append(\"üres\")\n",
    "price\n"
   ]
  },
  {
   "cell_type": "code",
   "execution_count": 226,
   "metadata": {
    "scrolled": false
   },
   "outputs": [],
   "source": [
    "#Remove html tags own function. This will be used by each section later in the code.\n",
    "def striphtml(data):\n",
    "    p = re.compile(r'<.*?>')\n",
    "    return p.sub('', data)\n",
    "\n",
    "#Clean string after html removal\n",
    "def cleanstring(data):\n",
    "    for i in range(len(data)):\n",
    "        if data!=\"üres\":\n",
    "            data=data.strip().replace('\\n', ' ').replace('\\\\r', ' ').replace(u'\\xa0',' ').replace(\"\\\\xa0\",\"\").replace(\"  \",\" \").replace(\",,\",\",\").replace(\", ,\",\",\").replace(\" , \",\",\").replace('\\t', ' ').replace(\"amp;\",\"\").replace(\" :\",\":\").replace(\" ,\",\",\")\n",
    "\n",
    "            while data.endswith(\"]']\"):\n",
    "                data=re.sub(r\"]']+$\",\"\", str(data)).strip()\n",
    "                \n",
    "            while data.startswith(\"['\"):\n",
    "                data=re.sub(r\"^\\['+\", \"\", str(data)).strip()\n",
    "            \n",
    "            while data.endswith((\"'\",\",\")):\n",
    "                data=re.sub(r\"'|,+$\",\"\", str(data)).strip()\n",
    "                \n",
    "            while data.startswith((\",\",\":\")):\n",
    "                data=re.sub(r\"^\\'|^\\,|^\\:+\", \"\", str(data)).strip() \n",
    "            \n",
    "\n",
    "    return data   \n",
    "\n",
    "#removal of unwanted copy parts\n",
    "def removeunwantedparts(data):\n",
    "    for i in range(len(data)):\n",
    "        if data!=\"üres\":\n",
    "            if 'A forgalomba hozatali engedély jogosultja' in data:\n",
    "                data=data.replace('A forgalomba hozatali engedély jogosultja',\"\").strip()\n",
    "            if 'A forgalombahozatali engedély jogosultja' in data:\n",
    "                data=data.replace('A forgalombahozatali engedély jogosultja',\"\").strip()\n",
    "            if 'és gyártó' in data:\n",
    "                data=data.replace('és gyártó',\"\").strip()\n",
    "            if 'és a gyártó' in data:\n",
    "                data=data.replace('és a gyártó',\"\").strip()\n",
    "            if 'Gyártó' in data:\n",
    "                data=data.replace('Gyártó',\"\").strip()\n",
    "            if \"A készítményhez kapcsolódó további kérdéseivel forduljon a forgalomba hozatali engedély jogosultjának helyi képviseletéhez\" in data:\n",
    "                data=data.replace(\"A készítményhez kapcsolódó további kérdéseivel forduljon a forgalomba hozatali engedély jogosultjának helyi képviseletéhez\",\"\")            \n",
    "            if \"A készítményhez kapcsolódó további kérdéseivel forduljon a forgalomba hozatali engedély jogosultjához:\" in data:\n",
    "                data=data.replace(\"A készítményhez kapcsolódó további kérdéseivel forduljon a forgalomba hozatali engedély jogosultjához:\",\"\")\n",
    "            if \"Ezt a gyógyszert az Európai Gazdasági Térség tagállamaiban az alábbi neveken engedélyezték:\" in data:\n",
    "                data=data.split(\"Ezt a gyógyszert az Európai Gazdasági Térség tagállamaiban az alábbi neveken engedélyezték:\")[0] \n",
    "            if \"Nyilvántartási száma\" in data:\n",
    "                data=data.split(\"Nyilvántartási száma\")[0]\n",
    "            if \"Nyilvántartási számai\" in data:\n",
    "                data=data.split(\"Nyilvántartási számai\")[0]\n",
    "            if \"A betegtájékoztató legutóbbi felülvizsgálatának dátuma\" in data:\n",
    "                data=data.split(\"A betegtájékoztató legutóbbi felülvizsgálatának dátuma\")[0]\n",
    "            if \"[logo'\" in data:\n",
    "                data=data.replace(\"[logo'\",\"\").strip()\n",
    "            if \"PVC/PVDC//Al buborékcsomagolásban\" in data:\n",
    "                data=data.replace(\"PVC/PVDC//Al buborékcsomagolásban\",\"\").strip()\n",
    "            if \"PVC/PE/PVDC//Al buborékcsomagolásban\" in data:\n",
    "                data=data.replace(\"PVC/PE/PVDC//Al buborékcsomagolásban\",\"\").strip()\n",
    "            if \"A forgalomba hozatali engedély száma\" in data:\n",
    "                data=data.replace(\"A forgalomba hozatali engedély száma\",\"\").strip()\n",
    "            if \"Kid 0,5 mg/ml oldatos orrspray\" in data:\n",
    "                data=data.replace(\"Kid 0,5 mg/ml oldatos orrspray\",\"\").strip()   \n",
    "\n",
    "    return data  "
   ]
  },
  {
   "cell_type": "code",
   "execution_count": 227,
   "metadata": {},
   "outputs": [
    {
     "data": {
      "text/plain": [
       "['üres']"
      ]
     },
     "execution_count": 227,
     "metadata": {},
     "output_type": "execute_result"
    }
   ],
   "source": [
    "#check what is shown under 'p' if there is no promo\n",
    "len(searched_product_all[0].div.div.select('p'))\n",
    "\n",
    "original_price=[]\n",
    "promo_price=[]\n",
    "for i in range(len(searched_product_all)):\n",
    "    if len(searched_product_all[i].div.div.select('p')) !=0:\n",
    "        original_price.append(cleanstring(str(searched_product_all[i].div.div.p.span.get_text())))\n",
    "        promo_price.append(cleanstring(str(searched_product_all[i].div.div.p.next_sibling.next_sibling.span.get_text())))\n",
    "    else: original_price.append(\"üres\"); promo_price.append(\"üres\")\n",
    "        \n",
    "original_price\n",
    "promo_price"
   ]
  },
  {
   "cell_type": "code",
   "execution_count": 228,
   "metadata": {},
   "outputs": [],
   "source": [
    "#filter to a details url \n",
    "#searched_product_all[1].h2.a.get('href')"
   ]
  },
  {
   "cell_type": "code",
   "execution_count": 229,
   "metadata": {},
   "outputs": [
    {
     "name": "stdout",
     "output_type": "stream",
     "text": [
      "['https://benu.hu/shop/zyrtec-10-mg-ml-belsoleges-oldatos-cseppek-20ml']\n"
     ]
    }
   ],
   "source": [
    "#generate the url list of the details pages\n",
    "url_list_details=[]\n",
    "for i in range(len(searched_product_all)):\n",
    "    #collect href tags and save into url_list_details->will be used in the 2nd round of scraping\n",
    "    searched_product_details_url=searched_product_all[i].h2.a.get('href')\n",
    "    url_list_details.append( searched_product_details_url)\n",
    "print(url_list_details)"
   ]
  },
  {
   "cell_type": "code",
   "execution_count": 230,
   "metadata": {},
   "outputs": [
    {
     "data": {
      "text/plain": [
       "1"
      ]
     },
     "execution_count": 230,
     "metadata": {},
     "output_type": "execute_result"
    }
   ],
   "source": [
    "#check the length of the url list\n",
    "len(url_list_details)"
   ]
  },
  {
   "cell_type": "code",
   "execution_count": 231,
   "metadata": {},
   "outputs": [],
   "source": [
    "#generate soup from the html of the details pages\n",
    "soup_list_details=[]\n",
    "\n",
    "start = timer()\n",
    "\n",
    "for i in range(len(url_list_details)):\n",
    "    soup_list_details.append(BeautifulSoup(get(url_list_details[i]).text))\n",
    "#print(up_list_details)\n",
    "#print(len(up_list_details))\n",
    "\n",
    "end = timer()"
   ]
  },
  {
   "cell_type": "code",
   "execution_count": 232,
   "metadata": {},
   "outputs": [
    {
     "name": "stdout",
     "output_type": "stream",
     "text": [
      "1.0302168999996866\n"
     ]
    }
   ],
   "source": [
    "#check how much time generating the soup takes\n",
    "print(end - start)#time in seconds"
   ]
  },
  {
   "cell_type": "code",
   "execution_count": 233,
   "metadata": {},
   "outputs": [
    {
     "data": {
      "text/plain": [
       "1"
      ]
     },
     "execution_count": 233,
     "metadata": {},
     "output_type": "execute_result"
    }
   ],
   "source": [
    "#check length of the soup\n",
    "len(soup_list_details)"
   ]
  },
  {
   "cell_type": "code",
   "execution_count": 234,
   "metadata": {},
   "outputs": [
    {
     "data": {
      "text/plain": [
       "['Allergia']"
      ]
     },
     "execution_count": 234,
     "metadata": {},
     "output_type": "execute_result"
    }
   ],
   "source": [
    "#the <div class=\"product-shop\"> includes the most of the product details however there are too many divs embeded and the required info placed not in directly neighbour divs. Therefore I soup them separately.\n",
    "#check product category\n",
    "searched_product_breadcrumbs_all=[]\n",
    "\n",
    "start = timer()\n",
    "\n",
    "#search for the last <li> tag which is the one with product, in this way the last category breadcrumb can be found as previous sibling\n",
    "for i in range(len(soup_list_details)):\n",
    "    product_breadcrumbs_temp=soup_list_details[i].find('div', {'class': 'breadcrumbs'})\n",
    "    if product_breadcrumbs_temp != None:\n",
    "        searched_product_breadcrumbs_all.append(soup_list_details[i].find('div', {'class': 'breadcrumbs'}).find('li', {'class': 'product'}).previous_sibling.previous_sibling.a.get_text('title'))\n",
    "    else:searched_product_breadcrumbs_all.append(\"üres\")\n",
    "len(searched_product_breadcrumbs_all)\n",
    "searched_product_breadcrumbs_all"
   ]
  },
  {
   "cell_type": "code",
   "execution_count": 235,
   "metadata": {},
   "outputs": [
    {
     "data": {
      "text/plain": [
       "['A Zyrtec egy allergia elleni gyógyszer. A Zyrtec felnőttek, valamint 2 éves és afeletti gyermekek alábbi tüneteinek kezelésére javasolt: szezonális és egész éven át tartó allergiás nátha orr- és szemtüneteinek enyhítésére, krónikus csalánkiütés (krónikus idiopátiás urtikária) enyhítésére.']"
      ]
     },
     "execution_count": 235,
     "metadata": {},
     "output_type": "execute_result"
    }
   ],
   "source": [
    "#product short description\n",
    "searched_product_short_description_all=[]\n",
    "\n",
    "start = timer()\n",
    "\n",
    "for i in range(len(soup_list_details)):\n",
    "    soup_of_short_description=soup_list_details[i].find('div', {'class': 'short-description'})\n",
    "    if soup_of_short_description != None:\n",
    "        searched_product_short_description_all.append(soup_list_details[i].find('div', {'class': 'short-description'}).div.get_text('p'))\n",
    "    else:searched_product_short_description_all.append(\"üres\")\n",
    "len(searched_product_short_description_all)\n",
    "searched_product_short_description_all"
   ]
  },
  {
   "cell_type": "code",
   "execution_count": 236,
   "metadata": {},
   "outputs": [
    {
     "data": {
      "text/plain": [
       "['cetirizinium chloratum']"
      ]
     },
     "execution_count": 236,
     "metadata": {},
     "output_type": "execute_result"
    }
   ],
   "source": [
    "#active agent\n",
    "searched_product_active_agent_all=[]\n",
    "\n",
    "for i in range(len(soup_list_details)):\n",
    "    if soup_list_details[i].find('span', {'class': 'benu_hatoanyag'}) != None :\n",
    "        if soup_list_details[i].find('span', {'class': 'benu_hatoanyag'}).get('data-content')!='':\n",
    "            searched_product_active_agent_all.append(soup_list_details[i].find('span', {'class': 'benu_hatoanyag'}).get('data-content'))\n",
    "        else: searched_product_active_agent_all.append(\"üres\")\n",
    "    else: searched_product_active_agent_all.append(\"üres\")\n",
    "len(searched_product_active_agent_all)\n",
    "searched_product_active_agent_all\n"
   ]
  },
  {
   "cell_type": "code",
   "execution_count": 237,
   "metadata": {},
   "outputs": [
    {
     "data": {
      "text/plain": [
       "['Készleten']"
      ]
     },
     "execution_count": 237,
     "metadata": {},
     "output_type": "execute_result"
    }
   ],
   "source": [
    "#product availability\n",
    "searched_product_availability_all=[]\n",
    "\n",
    "for i in range(len(soup_list_details)):\n",
    "    soup_of_availability=soup_list_details[i].find('div', {'class': 'availability in-stock'})\n",
    "    if soup_of_availability != None:\n",
    "        searched_product_availability_all.append(soup_of_availability.span.next_sibling.get_text())\n",
    "    else:searched_product_availability_all.append(\"üres\")\n",
    "len(searched_product_availability_all)\n",
    "searched_product_availability_all"
   ]
  },
  {
   "cell_type": "code",
   "execution_count": 238,
   "metadata": {
    "scrolled": true
   },
   "outputs": [
    {
     "data": {
      "text/plain": [
       "['77,50 Ft/ml']"
      ]
     },
     "execution_count": 238,
     "metadata": {},
     "output_type": "execute_result"
    }
   ],
   "source": [
    "#unit price\n",
    "searched_product_unit_price_all=[]\n",
    "\n",
    "for i in range(len(soup_list_details)):\n",
    "    product_unit_price=soup_list_details[i].find('p', {'class': 'unit-price'})\n",
    "    spl_word=\": \"\n",
    "    if product_unit_price != None:\n",
    "        searched_product_unit_price_temp=(soup_list_details[i].find('p', {'class': 'unit-price'}).get_text())\n",
    "        searched_product_unit_price_all.append(searched_product_unit_price_temp.partition(spl_word)[2])\n",
    "    else:searched_product_unit_price_all.append(\"üres\")\n",
    "\n",
    "len(searched_product_unit_price_all)\n",
    "searched_product_unit_price_all"
   ]
  },
  {
   "cell_type": "code",
   "execution_count": 239,
   "metadata": {},
   "outputs": [
    {
     "data": {
      "text/plain": [
       "[]"
      ]
     },
     "execution_count": 239,
     "metadata": {},
     "output_type": "execute_result"
    }
   ],
   "source": [
    "#Product can be payed with EP(Egészségpénztár) \n",
    "searched_product_ep_all=[]\n",
    "\n",
    "for i in range(len(soup_list_details)):\n",
    "    #product_ep=soup_list_details[i].find_all('div', {'class': 'termeklap-ikon'})    \n",
    "    product_ep=soup_list_details[i].find_all('div', {'class': 'termeklap-ikon-text'})\n",
    "    if len(product_ep)>1:\n",
    "        searched_product_ep_all.append(product_ep[1].get_text())\n",
    "    else: searched_product_ep_all.append(\"üres\")\n",
    "\n",
    "len( searched_product_ep_all)\n",
    "searched_product_ep_all[1:5]   "
   ]
  },
  {
   "cell_type": "code",
   "execution_count": 240,
   "metadata": {},
   "outputs": [
    {
     "data": {
      "text/plain": [
       "1"
      ]
     },
     "execution_count": 240,
     "metadata": {},
     "output_type": "execute_result"
    }
   ],
   "source": [
    "#Leaflet copy of the website\n",
    "searched_product_ogyi=[]\n",
    "\n",
    "\n",
    "for i in range(len(soup_list_details)):\n",
    "    product_ogyi_v1=soup_list_details[i].find('div', {'class': 'WordSection1'})\n",
    "    product_ogyi_v2=soup_list_details[i].find('div', {'class': 'Section1'})\n",
    "    if product_ogyi_v1!= None:\n",
    "        searched_product_ogyi.append(soup_list_details[i].find('div', {'class': 'WordSection1'}))\n",
    "    elif product_ogyi_v2!= None:\n",
    "        searched_product_ogyi.append(soup_list_details[i].find('div', {'class': 'Section1'}))\n",
    "    else:searched_product_ogyi.append(\"üres\")\n",
    "\n",
    "#original code but accidently I found that on some urls the class name is 'Section 1'\n",
    "# for i in range(len(soup_list_details)):\n",
    "#     product_ogyi=soup_list_details[i].find('div', {'class': 'WordSection1'})\n",
    "#     if product_ogyi != None:\n",
    "#         searched_product_ogyi.append(product_ogyi.find_all('p', {'class': 'MsoNormal'}))\n",
    "#     else:searched_product_ogyi.append(\"üres\")\n",
    "\n",
    "len(searched_product_ogyi)"
   ]
  },
  {
   "cell_type": "code",
   "execution_count": 241,
   "metadata": {},
   "outputs": [
    {
     "data": {
      "text/plain": [
       "0"
      ]
     },
     "execution_count": 241,
     "metadata": {},
     "output_type": "execute_result"
    }
   ],
   "source": [
    "#number of products where no leaflet copy is placed\n",
    "no_available_leaflet_section=[]\n",
    "counter=0\n",
    "for i in range(len(searched_product_ogyi)):\n",
    "    if searched_product_ogyi[i]=='üres':\n",
    "        no_available_leaflet_section.append(url_list_details)\n",
    "        counter=counter+1\n",
    "no_available_leaflet_section\n",
    "counter       \n",
    "        "
   ]
  },
  {
   "cell_type": "code",
   "execution_count": 242,
   "metadata": {},
   "outputs": [
    {
     "data": {
      "text/plain": [
       "1"
      ]
     },
     "execution_count": 242,
     "metadata": {},
     "output_type": "execute_result"
    }
   ],
   "source": [
    "#Get Vendor, Manufactrer, Vendor&Manufacturer name and address, OGYI numbers, Leaflet release date\n",
    "vendor_list=[]\n",
    "manufacturer_list=[]\n",
    "ogyi_list=[]\n",
    "ad_list=[]\n",
    "\n",
    "for i in range(len(searched_product_ogyi)):\n",
    "    mystring = str(searched_product_ogyi[i]).replace('\\n', ' ').replace('\\\\r', ' ').replace(u'\\xa0',' ').replace(\"  \",\" \").replace(\", ,\",\",\").replace(\"</span></p>\",\",\").replace(\"</p>\",\",\")\n",
    "    vendor=re.compile(r'(A forgalomba.*)(?![^<>]*>)') \n",
    "    vendor=vendor.findall(mystring)\n",
    "    if 'Gyártó' in str(vendor):\n",
    "        vendor_list.append(str(vendor).split('Gyártó')[0])\n",
    "    elif 'A gyártó' in str(vendor):\n",
    "        vendor_list.append(str(vendor).split('A gyártó')[0])\n",
    "    else: vendor_list.append(str(vendor).split('OGYI')[0])\n",
    "    manufacturer=re.compile(r'(Gyártó.*)(?![^<>]*>)') \n",
    "    manufacturer=manufacturer.findall(mystring)\n",
    "    manufacturer_list.append(str(manufacturer).split('OGYI')[0])\n",
    "    ogyi=re.compile(r'(OGYI.*)(?![^<>]*>)') \n",
    "    ogyi=ogyi.findall(mystring)\n",
    "    ogyi_list.append(str(ogyi).split('A betegtájékoztató')[0])\n",
    "    ad=re.compile(r'(A betegtájékoztató\\r engedélyezésének dátuma.*)(?![^<>]*>)') \n",
    "    ad=ad.findall(mystring)\n",
    "    ad_list.append(ad)\n",
    "    \n",
    "len(vendor_list)\n",
    "len(manufacturer_list)\n",
    "len(ogyi_list)\n",
    "len(ad_list)"
   ]
  },
  {
   "cell_type": "code",
   "execution_count": 243,
   "metadata": {},
   "outputs": [
    {
     "data": {
      "text/plain": [
       "['[\\'A forgalomba hozatali\\\\r engedély jogosultja és a gyártó</span></b>, <p class=\"MsoNormal\"><span style=\"font-size:11.0pt\"> , <p class=\"MsoNormal\" style=\"line-height:13.0pt\"><span style=\"font-size:11.0pt\">UCB\\\\r Magyarország Kft., <p class=\"MsoNormal\" style=\"line-height:13.0pt\"><span style=\"font-size:11.0pt\">H-1023\\\\r Budapest, <p class=\"MsoNormal\" style=\"line-height:13.0pt\"><span style=\"font-size:11.0pt\">Árpád\\\\r fejedelem útja 26-28., <p class=\"MsoNormal\" style=\"line-height:13.0pt\"><span style=\"font-size:11.0pt\">Magyarország, <p class=\"MsoNormal\"><span style=\"font-size:11.0pt\"> , <p class=\"MsoNormal\"><span style=\"font-size:11.0pt\">']"
      ]
     },
     "execution_count": 243,
     "metadata": {},
     "output_type": "execute_result"
    }
   ],
   "source": [
    "vendor_list"
   ]
  },
  {
   "cell_type": "code",
   "execution_count": 244,
   "metadata": {},
   "outputs": [],
   "source": [
    "# for i in range(len(vendor_list)):\n",
    "#     vendor_list[i]=vendor_list[i].replace(\"</span></p>\",\",\").replace(\"</p>\",\",\")\n",
    "# vendor_list"
   ]
  },
  {
   "cell_type": "code",
   "execution_count": 245,
   "metadata": {},
   "outputs": [
    {
     "data": {
      "text/plain": [
       "['UCB Magyarország Kft., H-1023 Budapest, Árpád fejedelem útja 26-28., Magyarország']"
      ]
     },
     "execution_count": 245,
     "metadata": {},
     "output_type": "execute_result"
    }
   ],
   "source": [
    "#Remove html tags of vendor list\n",
    "vendor_list_string=[]\n",
    "for i in range(len(vendor_list)):\n",
    "    if vendor_list[i]!='[]' or vendor_list[i]!='' or vendor_list[i]!=None:\n",
    "        if cleanstring(removeunwantedparts(cleanstring(striphtml(str(vendor_list[i])))))!='':\n",
    "            vendor_list_string.append(cleanstring(removeunwantedparts(cleanstring(striphtml(str(vendor_list[i]))))))\n",
    "        else: vendor_list_string.append(\"üres\")\n",
    "    else: vendor_list_string.append(\"üres\")  \n",
    "\n",
    "vendor_list_string"
   ]
  },
  {
   "cell_type": "code",
   "execution_count": 246,
   "metadata": {
    "scrolled": false
   },
   "outputs": [
    {
     "data": {
      "text/plain": [
       "['UCB Magyarország Kft.']"
      ]
     },
     "execution_count": 246,
     "metadata": {},
     "output_type": "execute_result"
    }
   ],
   "source": [
    "#vendor's name\n",
    "vendor_list_name=[]\n",
    "\n",
    "for i in range(len(vendor_list_string)):\n",
    "    if vendor_list_string[i]!=\"[]\":\n",
    "        vendor_list_name.append(vendor_list_string[i].split(\",\")[0])\n",
    "    else: vendor_list_name.append(\"üres\")\n",
    "vendor_list_name"
   ]
  },
  {
   "cell_type": "code",
   "execution_count": 247,
   "metadata": {},
   "outputs": [
    {
     "data": {
      "text/plain": [
       "['H-1023 Budapest, Árpád fejedelem útja 26-28., Magyarország']"
      ]
     },
     "execution_count": 247,
     "metadata": {},
     "output_type": "execute_result"
    }
   ],
   "source": [
    "#vendor's address\n",
    "vendor_list_address=[]\n",
    "for i in range(len(vendor_list_string)):\n",
    "    if vendor_list_string[i]!=\"[]\":\n",
    "        if vendor_list_name[i] in vendor_list_string[i]:\n",
    "            if cleanstring(vendor_list_string[i].replace(vendor_list_name[i],\"\"))!='':\n",
    "                vendor_list_address.append(cleanstring(vendor_list_string[i].replace(vendor_list_name[i],\"\")))\n",
    "            else: vendor_list_address.append(\"üres\")\n",
    "    else: vendor_list_address.append(\"üres\")\n",
    "vendor_list_address\n",
    "#len(vendor_list_address)"
   ]
  },
  {
   "cell_type": "code",
   "execution_count": 248,
   "metadata": {},
   "outputs": [
    {
     "data": {
      "text/plain": [
       "list"
      ]
     },
     "execution_count": 248,
     "metadata": {},
     "output_type": "execute_result"
    }
   ],
   "source": [
    "#Vendor and Manufacturer\n",
    "vendor_and_manufacturer_1=[]\n",
    "for i in range(len(searched_product_ogyi)):\n",
    "    mystring = str(searched_product_ogyi[i]).replace('\\n', ' ').replace('\\\\r', ' ').replace(u'\\xa0',' ').replace(\"  \",\" \").replace(\", ,\",\",\").replace(\"</span></p>\",\",\").replace(\"</p>\",\",\")\n",
    "    vm=re.compile(r'(A forgalomba hozatali engedély jogosultja és.+gyártó.*)(?![^<>]*>)') #ez megtalálja pontosan 2x az OGYI-t, de nem a teljes összetételt\n",
    "    vm=vm.findall(mystring)\n",
    "    vendor_and_manufacturer_1.append(vm)\n",
    "len(vendor_and_manufacturer_1)\n",
    "type(vendor_and_manufacturer_1)"
   ]
  },
  {
   "cell_type": "code",
   "execution_count": 249,
   "metadata": {
    "scrolled": false
   },
   "outputs": [
    {
     "data": {
      "text/plain": [
       "['üres']"
      ]
     },
     "execution_count": 249,
     "metadata": {},
     "output_type": "execute_result"
    }
   ],
   "source": [
    "#Remove html tags of vendor_and_manufacturer list and clean string\n",
    "vendor_and_manufacturer_1_string=[]\n",
    "for i in range(len(vendor_and_manufacturer_1)):\n",
    "    if vendor_and_manufacturer_1[i]!=[]:\n",
    "        vendor_and_manufacturer_1_string.append(cleanstring(removeunwantedparts(cleanstring(striphtml(str(vendor_and_manufacturer_1[i]))))))\n",
    "    else: vendor_and_manufacturer_1_string.append(\"üres\")\n",
    "#vendor_and_manufacturer_1_string\n",
    "vendor_and_manufacturer_1_string"
   ]
  },
  {
   "cell_type": "code",
   "execution_count": 250,
   "metadata": {},
   "outputs": [
    {
     "data": {
      "text/plain": [
       "['üres']"
      ]
     },
     "execution_count": 250,
     "metadata": {},
     "output_type": "execute_result"
    }
   ],
   "source": [
    "#vendor_and_manufacturer_name\n",
    "vendor_and_manufacturer_name=[]\n",
    "for i in range(len(vendor_and_manufacturer_1_string)):\n",
    "    if vendor_and_manufacturer_1_string[i]!=\"üres\":\n",
    "        vendor_and_manufacturer_name.append(vendor_and_manufacturer_1_string[i].split(\",\")[0])\n",
    "    else: vendor_and_manufacturer_name.append(\"üres\")\n",
    "#vendor_and_manufacturer_name\n",
    "vendor_and_manufacturer_name"
   ]
  },
  {
   "cell_type": "code",
   "execution_count": 251,
   "metadata": {},
   "outputs": [
    {
     "data": {
      "text/plain": [
       "['üres']"
      ]
     },
     "execution_count": 251,
     "metadata": {},
     "output_type": "execute_result"
    }
   ],
   "source": [
    "#vendor_and_manufacturer_address\n",
    "vendor_and_manufacturer_address=[]\n",
    "for i in range(len(vendor_and_manufacturer_1_string)):\n",
    "    if vendor_and_manufacturer_1_string[i]!=\"üres\":\n",
    "        if vendor_and_manufacturer_name[i] in vendor_and_manufacturer_1_string[i]:\n",
    "            vendor_and_manufacturer_address.append(cleanstring(vendor_and_manufacturer_1_string[i].replace(vendor_and_manufacturer_name[i],'').split(\"OGYI\")[0]))\n",
    "        else: vendor_and_manufacturer_address.append(\"üres\")\n",
    "    else: vendor_and_manufacturer_address.append(\"üres\")\n",
    "vendor_and_manufacturer_address\n",
    "#len(vendor_and_manufacturer_address)"
   ]
  },
  {
   "cell_type": "code",
   "execution_count": 252,
   "metadata": {},
   "outputs": [
    {
     "data": {
      "text/plain": [
       "['UCB Pharma SpA, 15 Via Praglia, 10044 Pianezza, Olaszország']"
      ]
     },
     "execution_count": 252,
     "metadata": {},
     "output_type": "execute_result"
    }
   ],
   "source": [
    "#Manufacturers\n",
    "#Remove html tags of manufacturer_list items\n",
    "manufacturer_list_string=[]\n",
    "for i in range(len(manufacturer_list)):\n",
    "    if manufacturer_list[i]!=\"[]\":\n",
    "        manufacturer_list_string.append(cleanstring(removeunwantedparts(cleanstring(striphtml(str(manufacturer_list[i]))))))\n",
    "    else: manufacturer_list_string.append(\"üres\")\n",
    "manufacturer_list_string"
   ]
  },
  {
   "cell_type": "code",
   "execution_count": 253,
   "metadata": {},
   "outputs": [
    {
     "data": {
      "text/plain": [
       "['UCB Pharma SpA']"
      ]
     },
     "execution_count": 253,
     "metadata": {},
     "output_type": "execute_result"
    }
   ],
   "source": [
    "#split the manufacturer name and list it\n",
    "#fixing Sanofi\n",
    "for i in range(len(manufacturer_list_string)):\n",
    "    manufacturer_list_string[i]=manufacturer_list_string[i].replace(\"SANOFI-AVENTIS Zrt.\",\"Sanofi Aventis Zrt.\")\n",
    "manufacturer_list_string                                                                        \n",
    "\n",
    "manufacturer_name=[]\n",
    "for i in range(len(manufacturer_list_string)):\n",
    "    if str(manufacturer_list_string[i]) != \"üres\":\n",
    "        manufacturer_name.append(cleanstring(manufacturer_list_string[i].split(\",\")[0]))\n",
    "    else: manufacturer_name.append(\"üres\")\n",
    "manufacturer_name"
   ]
  },
  {
   "cell_type": "code",
   "execution_count": 254,
   "metadata": {},
   "outputs": [
    {
     "data": {
      "text/plain": [
       "['15 Via Praglia, 10044 Pianezza, Olaszország']"
      ]
     },
     "execution_count": 254,
     "metadata": {},
     "output_type": "execute_result"
    }
   ],
   "source": [
    "#remove manufacturer name and only keep address section\n",
    "manufacturer_address=[]\n",
    "for i in range(len(manufacturer_list_string)):\n",
    "    if manufacturer_list_string[i]!= \"üres\":\n",
    "        if cleanstring(removeunwantedparts(cleanstring(manufacturer_list_string[i].replace(manufacturer_name[i],\"\"))))!='':\n",
    "            manufacturer_address.append(cleanstring(removeunwantedparts(cleanstring(manufacturer_list_string[i].replace(manufacturer_name[i],\"\")))))\n",
    "        else: manufacturer_address.append(\"üres\")\n",
    "    else: manufacturer_address.append(\"üres\")\n",
    "manufacturer_address"
   ]
  },
  {
   "cell_type": "code",
   "execution_count": 255,
   "metadata": {},
   "outputs": [],
   "source": [
    "#OGYI number  - previous code, but my assumption that some OGYI IDs were missing as I used only the last 50 items\n",
    "# #work with the last50 <p> in order to target the right OGYI section.Otherwise there are couple of mentioning of OGYI accross the whole text..\n",
    "# searched_product_ogyi_last50=[]\n",
    "# for i in range(len(searched_product_ogyi)):\n",
    "#     if searched_product_ogyi[i]!=None:\n",
    "#         searched_product_ogyi_last50.append(searched_product_ogyi[i][-50:])\n",
    "#     else:searched_product_ogyi_last50.append(\"üres\")\n",
    "# len(searched_product_ogyi_last50)"
   ]
  },
  {
   "cell_type": "code",
   "execution_count": 256,
   "metadata": {},
   "outputs": [],
   "source": [
    "# #Filter to OGYI - previous code, but my assumption that some OGYI IDs were missing as I used only the last 50 items\n",
    "# ogyi_list=[]\n",
    "\n",
    "# for i in range(len(searched_product)):\n",
    "#     mystring = str(searched_product_ogyi[i]).replace('\\n', ' ').replace(u'\\xa0',' ').replace(\"\\\\r\",\"\").replace(\"  \",\" \").replace(\"\\t\",\" \") \n",
    "#     ogyi=re.compile(r'(OGYI.*)(?![^<>]*>)') \n",
    "#     ogyi=ogyi.findall(mystring)\n",
    "#     ogyi_list.append(str(ogyi))\n",
    "    \n",
    "# ogyi_list"
   ]
  },
  {
   "cell_type": "code",
   "execution_count": 257,
   "metadata": {},
   "outputs": [
    {
     "data": {
      "text/plain": [
       "1"
      ]
     },
     "execution_count": 257,
     "metadata": {},
     "output_type": "execute_result"
    }
   ],
   "source": [
    "#Remove html tags of ogyi_list items and clean the string\n",
    "ogyi_list_string=[]\n",
    "for i in range(len(ogyi_list)):\n",
    "    if ogyi_list[i]!= \"[]\":\n",
    "        ogyi_list_string.append(cleanstring(removeunwantedparts(striphtml(str(ogyi_list[i])))))\n",
    "    else: ogyi_list_string.append(\"üres\")    \n",
    "len(ogyi_list_string)"
   ]
  },
  {
   "cell_type": "code",
   "execution_count": 258,
   "metadata": {},
   "outputs": [
    {
     "data": {
      "text/plain": [
       "1"
      ]
     },
     "execution_count": 258,
     "metadata": {},
     "output_type": "execute_result"
    }
   ],
   "source": [
    "#Remove unnecessary copy parts\n",
    "for i in range(len(ogyi_list_string)):\n",
    "    if ogyi_list_string[i]!='üres':\n",
    "        if \",\" in ogyi_list_string[i]:\n",
    "            ogyi_list_string[i]=cleanstring(re.sub(\"A betegtájékoztató.*|Betegtájékoztató.*|A készítményhez kapcsolódó további kérdéseivel forduljon a forgalomba hozatali engedély jogosultjához.*|Ezt a gyógyszert az Európai Gazdasági Térség tagállamaiban az alábbi neveken engedélyezték.*\", \" \", str(ogyi_list_string[i])))\n",
    "len(ogyi_list_string)\n",
    "#url_list_details[3]"
   ]
  },
  {
   "cell_type": "code",
   "execution_count": 259,
   "metadata": {},
   "outputs": [
    {
     "data": {
      "text/plain": [
       "1"
      ]
     },
     "execution_count": 259,
     "metadata": {},
     "output_type": "execute_result"
    }
   ],
   "source": [
    "#number of products that have no OGYI ID placed\n",
    "counter=0\n",
    "for i in range(len(ogyi_list_string)):\n",
    "    if ogyi_list_string[i]!='üres':\n",
    "        counter=counter+1\n",
    "counter      "
   ]
  },
  {
   "cell_type": "code",
   "execution_count": 260,
   "metadata": {},
   "outputs": [],
   "source": [
    "# I am trying to identify which OGYI number belongs to the actual product, based on the package info that I obtain from the decieve the benu prodct name with the originally searched product name\n",
    "#souped_product_names[4].replace(\" \",\"\").lower().replace(\"mg\",\"\")"
   ]
  },
  {
   "cell_type": "code",
   "execution_count": 261,
   "metadata": {},
   "outputs": [],
   "source": [
    "#searched_product_all[4].h2.a.get_text('title').strip().replace(\" \",\"\").lower()"
   ]
  },
  {
   "cell_type": "code",
   "execution_count": 262,
   "metadata": {},
   "outputs": [],
   "source": [
    "#searched_product_all[4].h2.a.get_text('title').strip().replace(\" \",\"\").lower().replace(souped_product_names[4].replace(\" \",\"\").lower(),\"\")"
   ]
  },
  {
   "cell_type": "code",
   "execution_count": 263,
   "metadata": {},
   "outputs": [
    {
     "data": {
      "text/plain": [
       "['zyrtec10mg/mlbelsőlegesoldatoscseppek20ml']"
      ]
     },
     "execution_count": 263,
     "metadata": {},
     "output_type": "execute_result"
    }
   ],
   "source": [
    "#removing the original product name string\n",
    "product_package=[]\n",
    "for i in range(len(ogyi_list_string)):\n",
    "    product_package.append(searched_product_all[i].h2.a.get_text('title').strip().replace(\" \",\"\").lower().replace(souped_product_names[i].replace(\" \",\"\").lower(),\"\"))\n",
    "product_package"
   ]
  },
  {
   "cell_type": "code",
   "execution_count": 264,
   "metadata": {},
   "outputs": [
    {
     "data": {
      "text/plain": [
       "['zyrtec10mg/mlbelsőlegesoldatoscseppek20ml']"
      ]
     },
     "execution_count": 264,
     "metadata": {},
     "output_type": "execute_result"
    }
   ],
   "source": [
    "#removing manually each not necessary strings and just keep the package info\n",
    "for i in range(len(product_package)):\n",
    "    product_package[i]=product_package[i].replace(\"acc200granulátum\",\"\").replace(\"acchot600mgporbelsőlegesoldathoz\",\"\").replace(\"+szájfecskendő\",\"\").replace(\"daedalonettavégbélkúpgyermeknek\",\"\").replace(\"dorithricinszopogatótablettaerdeigyümölcsízű\",\"\").replace(\"béresimmunherbalfilmtablettagyógyszer\",\"\").replace(\"loligripporbelsőlegesoldathoz\",\"\").replace(\"lolimarinehakid0,5mg/mloldatosorrspray\",\"\").replace(\"mucoplantdr.theisseukaliptuszkenőcs\",\"\").replace(\"neo-anginszopogatótablettacseresznyeízű\",\"\").replace(\"neo-angindoloszopogatótabletta\",\"\").replace(\"otrivinrapidmenthol1mg/mladagolóoldatosorrspray\",\"\").replace(\"rhinosprayplusorrspray\",\"\").replace(\"septoleteextra3mg/1mgszopogatótablettacitrom-bodzaízű\",\"\").replace(\"sinupretfortebevonttabletta\",\"\").replace(\"strepsilscitromízűcukormentesszopogatótabletta\",\"\").replace(\"(tantumlemon)\",\"\").replace(\"wicktriactincitromízűporbelsőlegesoldathoz\",\"\").replace(\"xilomarekid0,5mg/mloldatosorrspray\",\"\").replace(\"strepfencukormentes8,75mgszopogatótabletta\",\"\").replace(\"strepsilseperízűcukormentesszopogatótabletta\",\"\")\n",
    "product_package"
   ]
  },
  {
   "cell_type": "code",
   "execution_count": 265,
   "metadata": {},
   "outputs": [
    {
     "data": {
      "text/plain": [
       "0"
      ]
     },
     "execution_count": 265,
     "metadata": {},
     "output_type": "execute_result"
    }
   ],
   "source": [
    "#how many OGYI-s can be identified? Only 147 which is poor result..This idea is dropped for now\n",
    "ogyi_filtered_to_product=[]\n",
    "ogyi_of_package_variations=[]\n",
    "for i in range(len(ogyi_list_string)):\n",
    "    for j in range(len(ogyi_list_string[i].split(\",\"))):\n",
    "        if str(searched_product_all[i].h2.a.get_text('title').strip().replace(\" \",\"\")).lower() in ogyi_list_string[i].split(\",\")[j].replace(\" \",\"\").lower():\n",
    "            ogyi_filtered_to_product.append(ogyi_list_string[i].split(\",\")[j].replace(\" \",\"\").lower().replace(str(searched_product_all[i].h2.a.get_text('title').strip().replace(\" \",\"\")).lower(),\"\"))\n",
    "        elif product_package[i] in ogyi_list_string[i].split(\",\")[j].replace(\" \",\"\").lower():\n",
    "            ogyi_filtered_to_product.append(ogyi_list_string[i].split(\",\")[j])\n",
    "        else: ogyi_of_package_variations.append(ogyi_list_string[i].split(\",\")[j])\n",
    "len(ogyi_filtered_to_product)\n",
    "#ogyi_of_package_variations"
   ]
  },
  {
   "cell_type": "code",
   "execution_count": 266,
   "metadata": {},
   "outputs": [
    {
     "data": {
      "text/plain": [
       "1"
      ]
     },
     "execution_count": 266,
     "metadata": {},
     "output_type": "execute_result"
    }
   ],
   "source": [
    "len(ogyi_list_string[0].split(\",\"))\n",
    "# for i in range(len(ogyi_list_string)):\n",
    "#     if str(ogyi_list_string[i])!='üres':\n",
    "#         ogyi_list_string[i]=str(ogyi_list_string[i].split(\",\"))\n",
    "# ogyi_list_string[0]"
   ]
  },
  {
   "cell_type": "code",
   "execution_count": 267,
   "metadata": {},
   "outputs": [
    {
     "data": {
      "text/plain": [
       "['OGYI-T-4491/01']"
      ]
     },
     "execution_count": 267,
     "metadata": {},
     "output_type": "execute_result"
    }
   ],
   "source": [
    "ogyi_list_string"
   ]
  },
  {
   "cell_type": "code",
   "execution_count": 268,
   "metadata": {},
   "outputs": [
    {
     "data": {
      "text/plain": [
       "0"
      ]
     },
     "execution_count": 268,
     "metadata": {},
     "output_type": "execute_result"
    }
   ],
   "source": [
    "#how many OGYI-s can be identified? Only 147 which is poor result..This idea is dropped for now\n",
    "counter=0\n",
    "counter_list=0\n",
    "counter_identified_package=0\n",
    "counter_identified_package_l2=0\n",
    "ogyi_filtered=[]\n",
    "for i in range(len(ogyi_list_string)):\n",
    "    if ogyi_list_string[i]!=\"üres\":\n",
    "        #print(\"nem üres\")\n",
    "        if \",\" in str(ogyi_list_string[i]).replace(\" \",\"\"):\n",
    "            counter_list=counter_list+1\n",
    "            if str(product_package[i]).replace(\" \",\"\").split(\"x\")[0] in str(ogyi_list_string[i]).replace(\" \",\"\"):\n",
    "                for j in range(len(ogyi_list_string[i].split(\",\"))):\n",
    "                    if str(product_package[i]).replace(\" \",\"\").split(\"x\")[0] in str(ogyi_list_string[i].split(\",\")[j]).replace(\" \",\"\"):\n",
    "                        counter_identified_package_l2=counter_identified_package_l2+1\n",
    "                        ogyi_filtered.append(str(ogyi_list_string[i].split(\",\")[j]))\n",
    "            else:ogyi_filtered.append(ogyi_list_string[i])\n",
    "    else:ogyi_filtered.append(\"üres\")\n",
    "                        \n",
    "counter_list    \n",
    "# counter_identified_package\n",
    "# counter_identified_package_l2\n",
    "len(ogyi_filtered)\n",
    "#ogyi_filtered"
   ]
  },
  {
   "cell_type": "code",
   "execution_count": 269,
   "metadata": {},
   "outputs": [
    {
     "data": {
      "text/html": [
       "<div>\n",
       "<style scoped>\n",
       "    .dataframe tbody tr th:only-of-type {\n",
       "        vertical-align: middle;\n",
       "    }\n",
       "\n",
       "    .dataframe tbody tr th {\n",
       "        vertical-align: top;\n",
       "    }\n",
       "\n",
       "    .dataframe thead th {\n",
       "        text-align: right;\n",
       "    }\n",
       "</style>\n",
       "<table border=\"1\" class=\"dataframe\">\n",
       "  <thead>\n",
       "    <tr style=\"text-align: right;\">\n",
       "      <th></th>\n",
       "      <th>0</th>\n",
       "      <th>1</th>\n",
       "    </tr>\n",
       "  </thead>\n",
       "  <tbody>\n",
       "    <tr>\n",
       "      <th>0</th>\n",
       "      <td>OGYI-T-4491/01</td>\n",
       "      <td>None</td>\n",
       "    </tr>\n",
       "  </tbody>\n",
       "</table>\n",
       "</div>"
      ],
      "text/plain": [
       "                0     1\n",
       "0  OGYI-T-4491/01  None"
      ]
     },
     "execution_count": 269,
     "metadata": {},
     "output_type": "execute_result"
    }
   ],
   "source": [
    "merged=pd.DataFrame([ogyi_list_string,ogyi_filtered])\n",
    "merged=merged.transpose(copy=False)\n",
    "merged"
   ]
  },
  {
   "cell_type": "code",
   "execution_count": 270,
   "metadata": {},
   "outputs": [],
   "source": [
    "# create excel writer object\n",
    "writer = pd.ExcelWriter('benu_ogyi_teszt_v2.xlsx')\n",
    "# write dataframe to excel\n",
    "merged.to_excel(writer)\n",
    "# save the excel\n",
    "writer.save()"
   ]
  },
  {
   "cell_type": "code",
   "execution_count": 271,
   "metadata": {
    "scrolled": false
   },
   "outputs": [
    {
     "data": {
      "text/plain": [
       "1"
      ]
     },
     "execution_count": 271,
     "metadata": {},
     "output_type": "execute_result"
    }
   ],
   "source": [
    "#Leaflet release date\n",
    "#the original compiling had to be revised based on OGYI's splitting words. I took the common part of those words.\n",
    "ad_list_e1=[]\n",
    "\n",
    "for i in range(len(searched_product_ogyi)):\n",
    "    mystring = str(searched_product_ogyi[i]).replace('\\n', ' ').replace(u'\\xa0',' ').replace(\"\\\\r\",\"\").replace(\"  \",\" \").replace(\"\\t\",\" \") \n",
    "    ad=re.compile(r'(.etegtájékoztató engedélyezés.*)(?![^<>]*>)') \n",
    "    ad=ad.findall(mystring)\n",
    "    ad_list_e1.append(str(ad))\n",
    "#ad_list_e1\n",
    "len(ad_list_e1)"
   ]
  },
  {
   "cell_type": "code",
   "execution_count": 272,
   "metadata": {},
   "outputs": [
    {
     "data": {
      "text/plain": [
       "['betegtájékoztató engedélyezésének dátuma 2009. április 28.']"
      ]
     },
     "execution_count": 272,
     "metadata": {},
     "output_type": "execute_result"
    }
   ],
   "source": [
    "#Remove html tags of ad_list items\n",
    "ad_list_string=[]\n",
    "for i in range(len(ad_list_e1)):\n",
    "    if ad_list_e1[i]!= \"[]\":\n",
    "        ad_list_string.append(cleanstring(striphtml(str(ad_list_e1[i]))).replace(\"']\",\"\").strip())\n",
    "    else: ad_list_string.append(\"üres\")\n",
    "        \n",
    "ad_list_string"
   ]
  },
  {
   "cell_type": "code",
   "execution_count": 273,
   "metadata": {},
   "outputs": [
    {
     "data": {
      "text/plain": [
       "['2009. április 28.']"
      ]
     },
     "execution_count": 273,
     "metadata": {},
     "output_type": "execute_result"
    }
   ],
   "source": [
    "#Split out only the 'dates'\n",
    "ad_list_date=[]\n",
    "for i in range(len(ad_list_string)):\n",
    "    if ad_list_string[i]!=\"üres\":\n",
    "        #ad_list_string[i]=ad_list_string[i].replace(\",\",\":\")\n",
    "        ad_list_date.append(cleanstring(str(ad_list_string[i].split(\"dátuma\")[1].strip())))\n",
    "    else: ad_list_date.append(\"üres\")\n",
    "ad_list_date"
   ]
  },
  {
   "cell_type": "code",
   "execution_count": 274,
   "metadata": {},
   "outputs": [
    {
     "name": "stdout",
     "output_type": "stream",
     "text": [
      "now = 2021-02-12 12:28:51.589210\n",
      "date and time = 12/02/2021\n"
     ]
    }
   ],
   "source": [
    "from datetime import datetime\n",
    "\n",
    "# datetime object containing current date and time\n",
    "now = datetime.now()\n",
    " \n",
    "print(\"now =\", now)\n",
    "\n",
    "# dd/mm/YY H:M:S\n",
    "dt_string = now.strftime(\"%d/%m/%Y\")\n",
    "print(\"date and time =\", dt_string)\t"
   ]
  },
  {
   "cell_type": "code",
   "execution_count": 275,
   "metadata": {
    "scrolled": true
   },
   "outputs": [
    {
     "data": {
      "text/html": [
       "<div>\n",
       "<style scoped>\n",
       "    .dataframe tbody tr th:only-of-type {\n",
       "        vertical-align: middle;\n",
       "    }\n",
       "\n",
       "    .dataframe tbody tr th {\n",
       "        vertical-align: top;\n",
       "    }\n",
       "\n",
       "    .dataframe thead th {\n",
       "        text-align: right;\n",
       "    }\n",
       "</style>\n",
       "<table border=\"1\" class=\"dataframe\">\n",
       "  <thead>\n",
       "    <tr style=\"text-align: right;\">\n",
       "      <th></th>\n",
       "      <th>ogyi_product_name</th>\n",
       "      <th>product_name</th>\n",
       "      <th>package</th>\n",
       "      <th>price</th>\n",
       "      <th>promo_price</th>\n",
       "      <th>original_price</th>\n",
       "      <th>unit_price</th>\n",
       "      <th>ep</th>\n",
       "      <th>availability</th>\n",
       "      <th>product_category</th>\n",
       "      <th>...</th>\n",
       "      <th>short_description</th>\n",
       "      <th>ogyi</th>\n",
       "      <th>ogyi_date</th>\n",
       "      <th>vendor_name</th>\n",
       "      <th>vendor_address</th>\n",
       "      <th>manufacturer_name</th>\n",
       "      <th>manufacturer_address</th>\n",
       "      <th>vendor_and_manufacturer_name</th>\n",
       "      <th>vendor_and_manufacturer_address</th>\n",
       "      <th>date</th>\n",
       "    </tr>\n",
       "  </thead>\n",
       "  <tbody>\n",
       "    <tr>\n",
       "      <th>0</th>\n",
       "      <td>ACC 100 mg granulátum gyermekeknek</td>\n",
       "      <td>Zyrtec 10 mg/ml belsőleges oldatos cseppek 20ml</td>\n",
       "      <td>zyrtec10mg/mlbelsőlegesoldatoscseppek20ml</td>\n",
       "      <td>1549</td>\n",
       "      <td>üres</td>\n",
       "      <td>üres</td>\n",
       "      <td>77,50 Ft/ml</td>\n",
       "      <td>Egészségpénztári kártyára vásárolható</td>\n",
       "      <td>Készleten</td>\n",
       "      <td>Allergia</td>\n",
       "      <td>...</td>\n",
       "      <td>A Zyrtec egy allergia elleni gyógyszer. A Zyrt...</td>\n",
       "      <td>OGYI-T-4491/01</td>\n",
       "      <td>2009. április 28.</td>\n",
       "      <td>UCB Magyarország Kft.</td>\n",
       "      <td>H-1023 Budapest, Árpád fejedelem útja 26-28., ...</td>\n",
       "      <td>UCB Pharma SpA</td>\n",
       "      <td>15 Via Praglia, 10044 Pianezza, Olaszország</td>\n",
       "      <td>üres</td>\n",
       "      <td>üres</td>\n",
       "      <td>12/02/2021</td>\n",
       "    </tr>\n",
       "  </tbody>\n",
       "</table>\n",
       "<p>1 rows × 21 columns</p>\n",
       "</div>"
      ],
      "text/plain": [
       "                    ogyi_product_name  \\\n",
       "0  ACC 100 mg granulátum gyermekeknek   \n",
       "\n",
       "                                      product_name  \\\n",
       "0  Zyrtec 10 mg/ml belsőleges oldatos cseppek 20ml   \n",
       "\n",
       "                                     package price promo_price original_price  \\\n",
       "0  zyrtec10mg/mlbelsőlegesoldatoscseppek20ml  1549        üres           üres   \n",
       "\n",
       "    unit_price                                     ep availability  \\\n",
       "0  77,50 Ft/ml  Egészségpénztári kártyára vásárolható    Készleten   \n",
       "\n",
       "  product_category  ...                                  short_description  \\\n",
       "0         Allergia  ...  A Zyrtec egy allergia elleni gyógyszer. A Zyrt...   \n",
       "\n",
       "             ogyi          ogyi_date            vendor_name  \\\n",
       "0  OGYI-T-4491/01  2009. április 28.  UCB Magyarország Kft.   \n",
       "\n",
       "                                      vendor_address manufacturer_name  \\\n",
       "0  H-1023 Budapest, Árpád fejedelem útja 26-28., ...    UCB Pharma SpA   \n",
       "\n",
       "                          manufacturer_address vendor_and_manufacturer_name  \\\n",
       "0  15 Via Praglia, 10044 Pianezza, Olaszország                         üres   \n",
       "\n",
       "  vendor_and_manufacturer_address        date  \n",
       "0                            üres  12/02/2021  \n",
       "\n",
       "[1 rows x 21 columns]"
      ]
     },
     "execution_count": 275,
     "metadata": {},
     "output_type": "execute_result"
    }
   ],
   "source": [
    "benu_search_result_all=pd.DataFrame(columns=['ogyi_product_name',\n",
    "                                'product_name',\n",
    "                                'package',\n",
    "                                'price',\n",
    "                                'promo_price',\n",
    "                                'original_price',\n",
    "                                'unit_price',\n",
    "                                'ep',\n",
    "                                'availability',\n",
    "                                'product_category',\n",
    "                                'active_agent',\n",
    "                                'short_description',\n",
    "                                'ogyi',\n",
    "                                'ogyi_date',\n",
    "                                'vendor_name',\n",
    "                                'vendor_address',\n",
    "                                'manufacturer_name',\n",
    "                                'manufacturer_address',\n",
    "                                'vendor_and_manufacturer_name',\n",
    "                                'vendor_and_manufacturer_address',\n",
    "                                'date'])\n",
    "\n",
    "benu_search_result_all['ogyi_product_name']=souped_product_names\n",
    "benu_search_result_all['product_name']=benu_product_name\n",
    "benu_search_result_all['product_name']\n",
    "benu_search_result_all['package']=product_package\n",
    "benu_search_result_all['price']=price\n",
    "benu_search_result_all['promo_price']=promo_price\n",
    "benu_search_result_all['original_price']=original_price\n",
    "benu_search_result_all['unit_price']=searched_product_unit_price_all\n",
    "benu_search_result_all['ep']=searched_product_ep_all\n",
    "benu_search_result_all['availability']=searched_product_availability_all\n",
    "benu_search_result_all['product_category']=searched_product_breadcrumbs_all\n",
    "benu_search_result_all['active_agent']=searched_product_active_agent_all\n",
    "benu_search_result_all['short_description']=searched_product_short_description_all\n",
    "benu_search_result_all['ogyi']=ogyi_list_string\n",
    "benu_search_result_all['ogyi_date']=ad_list_date\n",
    "benu_search_result_all['vendor_name']=vendor_list_name\n",
    "benu_search_result_all['vendor_address']=vendor_list_address\n",
    "benu_search_result_all['manufacturer_name']=manufacturer_name\n",
    "benu_search_result_all['manufacturer_address']=manufacturer_address\n",
    "benu_search_result_all['vendor_and_manufacturer_name']=vendor_and_manufacturer_name\n",
    "benu_search_result_all['vendor_and_manufacturer_address']=vendor_and_manufacturer_address\n",
    "benu_search_result_all['date']=dt_string\n",
    "\n",
    "benu_search_result_all"
   ]
  },
  {
   "cell_type": "code",
   "execution_count": 276,
   "metadata": {},
   "outputs": [],
   "source": [
    "# create excel writer object\n",
    "writer = pd.ExcelWriter('benu_ogyi_teszt.xlsx')\n",
    "# write dataframe to excel\n",
    "benu_search_result_all.to_excel(writer)\n",
    "# save the excel\n",
    "writer.save()"
   ]
  },
  {
   "cell_type": "code",
   "execution_count": 277,
   "metadata": {},
   "outputs": [
    {
     "data": {
      "text/plain": [
       "1"
      ]
     },
     "execution_count": 277,
     "metadata": {},
     "output_type": "execute_result"
    }
   ],
   "source": [
    "#drop duplicated lines\n",
    "benu_search_result_all.drop_duplicates(subset=\"product_name\", keep=\"first\", inplace=True)\n",
    "len(benu_search_result_all)"
   ]
  },
  {
   "cell_type": "code",
   "execution_count": 278,
   "metadata": {},
   "outputs": [
    {
     "name": "stdout",
     "output_type": "stream",
     "text": [
      "[['ACC 100 mg granulátum gyermekeknek', 'Zyrtec 10 mg/ml belsőleges oldatos cseppek 20ml', 'zyrtec10mg/mlbelsőlegesoldatoscseppek20ml', '1549', 'üres', 'üres', '77,50 Ft/ml', 'Egészségpénztári kártyára vásárolható', 'Készleten', 'Allergia', 'cetirizinium chloratum', 'A Zyrtec egy allergia elleni gyógyszer. A Zyrtec felnőttek, valamint 2 éves és afeletti gyermekek alábbi tüneteinek kezelésére javasolt: szezonális és egész éven át tartó allergiás nátha orr- és szemtüneteinek enyhítésére, krónikus csalánkiütés (krónikus idiopátiás urtikária) enyhítésére.', 'OGYI-T-4491/01', '2009. április 28.', 'UCB Magyarország Kft.', 'H-1023 Budapest, Árpád fejedelem útja 26-28., Magyarország', 'UCB Pharma SpA', '15 Via Praglia, 10044 Pianezza, Olaszország', 'üres', 'üres', '12/02/2021']]\n"
     ]
    }
   ],
   "source": [
    "# Create an empty list \n",
    "row_list =[] \n",
    "  \n",
    "# Iterate over each row \n",
    "for index, rows in benu_search_result_all.iterrows(): \n",
    "    # Create list for the current row \n",
    "    my_list =[rows.ogyi_product_name,rows.product_name,rows.package, rows.price, rows.promo_price, rows.original_price, rows.unit_price, rows.ep, rows.availability, rows.product_category,rows.active_agent, rows.short_description, rows.ogyi, rows.ogyi_date, rows.vendor_name, rows.vendor_address, rows.manufacturer_name, rows.manufacturer_address, rows.vendor_and_manufacturer_name, rows.vendor_and_manufacturer_address, rows.date] \n",
    "      \n",
    "    # append the list to the final list \n",
    "    row_list.append(my_list) \n",
    "print(row_list)"
   ]
  },
  {
   "cell_type": "code",
   "execution_count": 279,
   "metadata": {},
   "outputs": [],
   "source": [
    "#insert my data into the database\n",
    "sql='INSERT INTO dbo.benu_raw_data(ogyi_product_name,product_name, package,price,promo_price,original_price,unit_price,ep,availability,product_category,active_agent,short_description,ogyi,ogyi_date,vendor_name,vendor_address,manufacturer_name,manufacturer_address,vendor_and_manufacturer_name,vendor_and_manufacturer_address,date) VALUES (?,?,?,?,?,?,?,?,?,?,?,?,?,?,?,?,?,?,?,?,?);'\n",
    "\n",
    "for row in row_list:\n",
    "    #print(row)\n",
    "    values=(row[0],row[1],row[2],row[3],row[4],row[5],row[6],row[7],row[8],row[9],row[10],row[11],row[12],row[13],row[14],row[15],row[16],row[17],row[18],row[19],row[20])\n",
    "    #print(values)\n",
    "    cursor.execute(sql, values)\n",
    "    \n",
    "#cursor.execute(sql, values)   \n",
    "conn.commit()   "
   ]
  },
  {
   "cell_type": "code",
   "execution_count": 280,
   "metadata": {},
   "outputs": [
    {
     "data": {
      "text/plain": [
       "<pyodbc.Cursor at 0x20090321d30>"
      ]
     },
     "execution_count": 280,
     "metadata": {},
     "output_type": "execute_result"
    }
   ],
   "source": [
    "#read back the content of the database\n",
    "cursor.execute('SELECT * from dbo.benu_raw_data')"
   ]
  },
  {
   "cell_type": "code",
   "execution_count": 281,
   "metadata": {},
   "outputs": [
    {
     "name": "stdout",
     "output_type": "stream",
     "text": [
      "('ACC 100 mg granulátum gyermekeknek                                                                                                                                                                                                                             ', 'ACC 100 mg granulátum gyermekeknek 30x3g', '30x3g', '1549', 'üres', 'üres', '51,60 Ft/db', 'Egészségpénztári kártyára vásárolható', 'Készleten', 'Köhögéscsillapító', 'acetylcysteinum', 'Az ACC 100 mg granulátum gyermekeknek, amelynek hatóanyaga az acetilcisztein, a légutakban levő sűrű viszkózus váladék oldására alkalmas. Fokozott viszkozitású nyákelválasztással, köhögéssel járó légúti betegségek váladékoldást elősegítő terápiájában javallt.', 'OGYI-T-2021/01 ACC 100 mg granulátum gyermekeknek 20x3g, OGYI-T-2021/02 ACC 100 mg granulátum gyermekeknek 30x 3g', 'üres', 'Sandoz Hungária Kft.', 'Bartók Béla út 43-47., 1114 Budapest, Magyarország', 'Salutas Pharma Gmbh', 'Otto-von-Guericke Allee 1, D-39179 Barleben, Németország, Hexal AG, Industriestrasse 25, 83607 Holzkirchen, Németország', 'üres', 'üres', '24/07/2020')\n",
      "('ACC 20 mg/ml belsőleges oldat                                                                                                                                                                                                                                  ', 'ACC 20 mg/ml belsőleges oldat 100ml', '100ml', '1549', 'üres', 'üres', '15,50 Ft/ml', 'Egészségpénztári kártyára vásárolható', 'Készleten', 'Köhögéscsillapító', 'acetylcysteinum', 'Az ACC 20 mg/ml belsőleges oldat gyermekeknek nevű készítmény hatóanyaga az acetilcisztein, amely a légutakban levő sűrű viszkózus váladék oldására alkalmas 2 éves kor felett. Fokozott viszkozitású nyákelválasztással, köhögéssel járó légúti betegségek váladékoldását elősegítő terápiájában javallt.', 'OGYI-T-2021/14 1x100 ml barna, III-as típusú üveg, OGYI-T-2021/15 1x200 ml barna, III-as típusú üveg', 'üres', 'Sandoz Hungária Kft.', '1114 Budapest, Bartók Béla út 43-47.,Magyarország', 'üres', 'üres', 'üres', 'üres', '24/07/2020')\n",
      "('ACC 200 mg granulátum                                                                                                                                                                                                                                          ', 'ACC 200 granulátum 30x3g', '30x3g', '2499', 'üres', 'üres', '82,60 Ft/db', 'Egészségpénztári kártyára vásárolható', 'Készleten', 'Köhögéscsillapító', 'acetylcysteinum', 'Az ACC 200 mg granulátum, amelynek hatóanyaga az acetilcisztein, a légutakban levő sűrű viszkózus váladék oldására alkalmas. Fokozott viszkozitású nyákelválasztással, köhögéssel járó léguti betegségek váladékoldást elősegítő terápiájában javallt.p\\np\\xa0p\\np\\np\\np\\np\\npKiszállítás futárszolgálattal: 695 Ftp\\np\\np\\np\\npSzemélyes átvétel több, mint 100 gyógyszertárban: ingyenesp\\np\\np\\n', 'OGYI-T-2021/03 ACC 200 mg granulátum 20x3g, OGYI-T-2021/04 ACC 200 mg granulátum 30x3g', 'üres', 'Sandoz Hungária Kft.', 'Bartók Béla út 43-47., 1114 Budapest, Magyarország', 'Salutas Pharma Gmbh', 'Otto-von-Guericke Allee 1, D-39179 Barleben, Németország, Hexal AG, Industriestrasse 25, 83607 Holzkirchen, Németország', 'üres', 'üres', '24/07/2020')\n",
      "('ALLENASAL 1 mg/ml oldatos orrspray                                                                                                                                                                                                                             ', 'Allenasal 1mg/ml oldatos orrspray 10ml', '10ml', '2349', 'üres', 'üres', '249,90 Ft/ml', 'Egészségpénztári kártyára vásárolható', 'Készleten', 'Allergia', 'xylomethazolinium chloratum', 'Gyors, tartós és kíméletes enyhülés az allergiás orrdugulásra, már 6 éves kortól.', 'OGYI-T-22348/01 1x10 ml III-as típusú üvegben', '2016. március', 'Sanofi-Aventis Zrt.', '1045 Budapest, Tó u. 1-5., Információs szolgálat: 06-1-505-0050', 'Unither Liquid Manufacturing', '1-3 Allée de la Neste Z.I.d’en Sigal, 31770 Colomiers, Franciaország', 'üres', 'üres', '24/07/2020')\n",
      "('ACC HOT 600 mg por belsõleges oldathoz                                                                                                                                                                                                                         ', 'ACC Hot 600 mg por belsőleges oldathoz 10x', '10x', '2599', 'üres', 'üres', '259,90 Ft/db', 'Egészségpénztári kártyára vásárolható', 'üres', 'Köhögéscsillapító', 'acetylcysteinum', 'Az ACC Hot hatóanyaga az acetilcisztein, ami a légutakban levő sűrű viszkózus váladék oldására alkalmas. Fokozott viszkozitású nyákelválasztással, köhögéssel járó légúti betegségek váladékoldását elősegítő terápiában javallt.', 'OGYI-T-2021/16 ACC Hot 200 mg por belsőleges oldathoz 20x, OGYI-T-2021/17 ACC Hot 600 mg por belsőleges oldathoz 6x, OGYI-T-2021/18 ACC Hot 600 mg por belsőleges oldathoz 10x', 'üres', 'Sandoz Hungária Kft.', '1114 Budapest, Bartók Béla út 43-47., Magyarország', 'üres', 'üres', 'üres', 'üres', '24/07/2020')\n",
      "('ACC INSTANT 600 mg belsőleges por                                                                                                                                                                                                                              ', 'ACC Instant 600 mg belsőleges por 10x', '10x', '2899', 'üres', 'üres', '289,90 Ft/db', 'Egészségpénztári kártyára vásárolható', 'üres', 'Köhögéscsillapító', 'üres', 'Víz nélkül bevehető, így mindig kéznél van hurutos köhögés esetén. ACC Instant - Kézenfekvő megoldás hurutos köhögésre!', 'OGYI-T-2021/19 10x, OGYI-T-2021/20 20x, OGYI-T-2021/21 30x', 'üres', 'Sandoz Hungária Kft.', '1114 Budapest, Bartók Béla út 43-47., Magyarország', 'Hermes Arzneimittel Gmbh', 'Division: Hermes Pharma Ges.m.b.H, Allgäu 36., 9400 Wolfsberg, Ausztria, Salutas Pharma GmbH, Otto-von-Guericke-Allee 1, Sachsen-Anhalt, 39179 Barleben, Németország', 'üres', 'üres', '24/07/2020')\n",
      "('ACC LONG 600 mg pezsgőtabletta                                                                                                                                                                                                                                 ', 'ACC long 600 mg pezsgőtabletta 10x', '10x', '2599', 'üres', 'üres', '259,90 Ft/db', 'Egészségpénztári kártyára vásárolható', 'Készleten', 'Köhögéscsillapító', 'üres', 'Az ACC long 600 mg pezsgőtabletta, aminek hatóanyaga az acetilcisztein, a légutakban levő sűrű viszkózus váladék oldására alkalmas. Fokozott viszkozitású nyák termelődésével, hurutos köhögéssel járó légúti betegségek váladékoldást elősegítő terápiájában javallt.', 'OGYI-T-2021/10 ACC long 600 mg pezsgőtabletta 10x tartályban, OGYI-T-2021/11 ACC long 600 mg pezsgőtabletta 20x tartályban, OGYI-T-2021/12 ACC long 600 mg pezsgőtabletta 10x szalagcsomagolásban, OGYI-T-2021/13 ACC long 600 mg pezsgőtabletta 20x szalagcsomagolásban', 'üres', 'Sandoz Hungária Kft.', 'Bartók Béla út 43-47., 1114 Budapest, Magyarország', 'Salutas Pharma Gmbh', 'Otto-von-Guericke Allee 1, D-39179 Barleben, Németország', 'üres', 'üres', '24/07/2020')\n",
      "('ALLERGODIL oldatos orrspray                                                                                                                                                                                                                                    ', 'Allergodil oldatos orrspray 10ml', '10ml', '2249', 'üres', 'üres', '224,90 Ft/ml', 'Egészségpénztári kártyára vásárolható', 'Készleten', 'Allergia', 'azelastinium chloratum', 'Az Allergodil orrspray meggátolja többek között az orrnyálkahártya megduzzadását, a fokozott orrváladékozást és a kínzó tüsszögés ingert. Mivel az Allergodil közvetlenül az orrnyálkahártyára hat, az alacsony hatóanyag tartalom ellenére az allergiás tüneteket gyorsan és hatékonyan szünteti meg.', 'üres', 'üres', 'üres', 'üres', 'üres', 'üres', 'üres', 'üres', '24/07/2020')\n",
      "('ALLEGRA 120 mg filmtabletta                                                                                                                                                                                                                                    ', 'Allegra 120 mg filmtabletta 10x', '10x', '1349', 'üres', 'üres', '134,90 Ft/db', 'Egészségpénztári kártyára vásárolható', 'Készleten', 'Allergia', 'fexofenadin', 'Az Allegra az antihisztaminok csoportjába tartozó allergiaellenes hatású gyógyszer, amely azonban nem rendelkezik nyugtató hatással. Enyhíti a szezonális allergiás rinitisz (szénanátha) tüneteit, így a tüsszögést, az orrviszketést, az orrváladékozást és az orrdugulást, továbbá a szem viszketését, könnyezését és égő érzését.', 'OGYI-T-10513/03 (7x), OGYI-T-10513/04 (10x), OGYI-T-10513/05 (30x),PVC/PVDC//Al buborékcsomagolásban:, OGYI-T-10513/09 (10x), OGYI-T-10513/10 (30x)', 'üres', 'Sanofi-Aventis Zrt.', '1045 Budapest, Tó u. 1-5., 3615050050', 'Sanofi Winthrop Industrie', '30-36 avenue Gustav Eiffel, 37100 Tours, Franciaország, vagy, 56, Route de Choisy-au-Bac, 60205 Compiegne, Franciaország, Sanofi Aventis Zrt., 1045 Budapest, Tó u. 1-5., Tel.: 3615050050,:', 'üres', 'üres', '24/07/2020')\n",
      "('ALLEGRA FORTE 180 mg filmtabletta                                                                                                                                                                                                                              ', 'Allegra Forte 180 mg filmtabletta 10x', '10x', '1849', 'üres', 'üres', '184,90 Ft/db', 'Egészségpénztári kártyára vásárolható', 'Készleten', 'Allergia', 'fexofenadin', 'Krónikus csalánkiütés tüneteinek enyhítésére szolgáló gyógyszer – felnőttek, valamint 12 éves kor feletti gyermekek részére.', 'OGYI-T-10513/06 10x, OGYI-T-10513/07 30x,PVC/PVDC//Al buborékcsomagolásban:, OGYI-T-10513/11 10x, OGYI-T-10513/12 30x', 'üres', 'Sanofi-Aventis Zrt.', '1045 Budapest, Tó u. 1-5.', 'Sanofi Winthrop Industrie', '30-36 avenue Gustav Eiffel, 37100 Tours, Franciaország, vagy, 56, Route de Choisy-au-Bac, 60205 Compiegne, Franciaország, Sanofi Aventis Zrt., Cím: 1045 Budapest, Tó utca 1-5., Telefon: 36 1 505-0050,:', 'üres', 'üres', '24/07/2020')\n",
      "('BRONCHOSTOP köhögés elleni belsőleges gumipasztilla                                                                                                                                                                                                            ', 'Bronchostop köhögés elleni belsőleges gumipasztilla 20x', '20x', '2499', 'üres', 'üres', '125,00 Ft/db', 'Egészségpénztári kártyára vásárolható', 'Készleten', 'Köhögéscsillapító', 'üres', 'A termék hagyományos növényi gyógyszer, kizárólag a régóta fennálló használaton alapuló, meghatározott javallatokban alkalmazandó. Megfázáshoz társuló köhögés esetén a viszkózus nyák felköhögését elősegítő köptetőszerként ajánlott.', 'OGYI-TN-46/01 20 db, OGYI-TN-46/02 40 db', 'üres', 'üres', 'üres', 'üres', 'üres', 'üres', 'üres', '24/07/2020')\n",
      "('DAEDALON végbélkúp                                                                                                                                                                                                                                             ', 'Daedalonetta végbélkúp gyermeknek 10x', '10x', 'üres', 'üres', 'üres', 'üres', 'üres', 'üres', 'üres', 'üres', 'üres', 'OGYI-T-3235/01', 'üres', 'Pharmamagist Kft.', '1028 Budapest, Patakhegyi út 83-85., Tel.: 06-1/397-5174, Fax: 06-1/397-5175, E-mail: info@pharmamagist.hu', 'üres', 'üres', 'üres', 'üres', '24/07/2020')\n",
      "('AMBROXOL-TEVA 3 mg/ml szirup                                                                                                                                                                                                                                   ', 'Ambroxol-Teva 3 mg/ml szirup + szájfecskendő 100ml', '100ml', '2159', 'üres', 'üres', '21,50 Ft/ml', 'Egészségpénztári kártyára vásárolható', 'Készleten', 'Köhögéscsillapító', 'üres', 'A készítmény ambroxol (brómhexin-származék) tartalmú, nyákoldó köptető hatású gyógyszer. A nyák besűrűsödésével járó heveny és krónikus légúti megbetegedések: kezelésére, valamint a nyákoldás elősegítésére alkalmazható.p\\np\\xa0p\\np\\np\\np\\np\\npKiszállítás futárszolgálattal: 695 Ftp\\np\\np\\np\\npSzemélyes átvétel több, mint 100 gyógyszertárban: ingyenesp\\np\\np\\n', 'OGYI-T-4466/02 100 ml oldat 105 ml-es, III-as típusú barna üvegben, átlátszó PE betéttel ellátott, garanciazáras, fehér PP csavaros kupakkal lezárva. Egy üveg és egy 10 ml-es osztással ellátott adagolópohár dobozban., OGYI-T-4466/05 75 ml oldat 80 ml-es, III-as típusú barna üvegben, átlátszó PE betéttel ellátott, garanciazáras, fehér PP csavaros kupakkal lezárva. Egy üveg és egy 0,25 ml-enkénti beosztással ellátott, 5 ml-es szájfecskendő (LDPE/Polisztirén) dobozban., OGYI-T-4466/06 100 ml oldat 105 ml-es, III-as típusú barna üvegben, átlátszó PE betéttel ellátott, garanciazáras, fehér PP csavaros kupakkal lezárva. . Egy üveg és egy 0,25 ml-enkénti beosztással ellátott, 5 ml-es szájfecskendő (LDPE/Polisztirén) dobozban., OGYI-T-4466/07 75 ml oldat 80 ml-es, III-as típusú barna üvegben, átlátszó PE betéttel ellátott, garanciazáras, fehér PP csavaros kupakkal lezárva. Egy üveg és egy 10 ml-es, osztással ellátott adagolópohár dobozban.', 'üres', 'üres', 'üres', 'Teva Czech Industries S.R.O.', 'Ostravská 29, č.p. 305, 747 70 Opava – Komárov, Csehország', 'üres', 'üres', '24/07/2020')\n",
      "('AMBROXOL-TEVA 30 mg tabletta                                                                                                                                                                                                                                   ', 'Ambroxol-TEVA 30 mg tabletta 30x', '30x', '2079', 'üres', 'üres', '66,60 Ft/db', 'Egészségpénztári kártyára vásárolható', 'Készleten', 'Köhögéscsillapító', 'üres', 'A készítmény ambroxol (brómhexin-származék) tartalmú, nyákoldó, köptető hatású gyógyszer. A nyák besűrűsödésével járó heveny és krónikus légúti megbetegedések kezelésére, valamint a nyákoldás elősegítésére alkalmazható.p\\np\\xa0p\\np\\np\\np\\np\\npKiszállítás futárszolgálattal: 695 Ftp\\np\\np\\np\\npSzemélyes átvétel több, mint 100 gyógyszertárban: ingyenesp\\np\\np\\n', 'OGYI-T-4466/01 20x, OGYI-T-4466/04 30x', 'üres', 'üres', 'üres', 'üres', 'üres', 'üres', 'üres', '24/07/2020')\n",
      "('BRONCHIPRET filmtabletta                                                                                                                                                                                                                                       ', 'Bronchipret filmtabletta 20x', '20x', '2499', 'üres', 'üres', '125,00 Ft/db', 'Egészségpénztári kártyára vásárolható', 'Készleten', 'Köhögéscsillapító', 'üres', 'A Bronchipret® hatékony gyógyszerkészítmény fokozott váladékképződéssel és\\xa0pköhögéssel járó hörghurutban.', 'OGYI-T-9642/05-07', 'üres', 'üres', 'üres', 'üres', 'üres', 'üres', 'üres', '24/07/2020')\n",
      "('AMBROXOL-TEVA 75 mg retard kemény kapszula                                                                                                                                                                                                                     ', 'Ambroxol-TEVA 75 mg retard kemény kapszula 20x', '20x', '2199', 'üres', 'üres', '110,00 Ft/Ft/db', 'Egészségpénztári kártyára vásárolható', 'üres', 'Köhögéscsillapító', 'ambroxolium', 'A hörgők és a tüdő sűrű váladékképződéssel járó heveny és idült betegségeinek kezelésére, nyákoldásra.p\\np\\xa0p\\np\\np\\np\\np\\npKiszállítás futárszolgálattal: 695 Ftp\\np\\np\\np\\npSzemélyes átvétel több, mint 100 gyógyszertárban: ingyenesp\\np\\np\\n', 'OGYI-T-2095/03 (10 db), OGYI-T-2095/04 (20 db),Teva Gyógyszergyár Zrt., 4042 Debrecen, Pallagi út 13.,Merckle GmbH.,D-89079 Ulm, Graf-Arco-Straβe 3., Németország', 'üres', 'Teva Gyógyszergyár Zrt.', '4042 Debrecen, Pallagi út 13.', 'Merckle Gmbh.', 'D-89079 Ulm, Graf-Arco-Straβe 3., Németország', 'üres', 'üres', '24/07/2020')\n",
      "('ANGISED MENTOL szopogató tabletta                                                                                                                                                                                                                              ', 'Angised Mentol szopogató tabletta 24x', '24x', '1999', 'üres', 'üres', '83,30 Ft/Ft/db', 'Egészségpénztári kártyára vásárolható', 'üres', 'Torokfertőtlenítők', 'üres', 'Cukormentes,\\xa0kettős hatású szopogató tabletta:\\xa0csillapítja a fájdalmat\\xa0és fertőtleníti a torkot!p\\np\\xa0p\\np\\np\\np\\np\\npKiszállítás futárszolgálattal: 695 Ftp\\np\\np\\np\\npSzemélyes átvétel több, mint 100 gyógyszertárban: ingyenesp\\np\\np\\n', 'OGYI-T-22994/01 12x PVC/PCTFE/Al buborékcsomagolásban, OGYI-T-22994/02 24x PVC/PCTFE/Al buborékcsomagolásban, OGYI-T-22994/03 36x PVC/PCTFE/Al buborékcsomagolásban', 'üres', 'Sandoz Hungária Kft.', '1114 Budapest, Bartók Béla út 43-47., Magyarország', 'Laboratoria Qualiphar N.V./S.A. - Rijksweg 9 - 2880 Bornem – Belgium', 'üres', 'üres', 'üres', '24/07/2020')\n",
      "('BABY LUUF illóolajos kenőcs                                                                                                                                                                                                                                    ', 'Baby Luuf illóolajos kenőcs 30g', '30g', '2149', 'üres', 'üres', '69,00 Ft/g', 'Egészségpénztári kártyára vásárolható', 'Készleten', 'Köhögéscsillapító', 'aetherol. terebenthinae', 'A termék hagyományos növényi gyógyszer, kizárólag a régóta fennálló használaton alapuló, meghatározott javallatokra alkalmazandó, úgymint meghűléses betegségekben, köhögés, nátha, torokgyulladás külsőleges kezelésére.p\\np\\xa0p\\np\\np\\np\\np\\npKiszállítás futárszolgálattal: 695 Ftp\\np\\np\\np\\npSzemélyes átvétel több, mint 100 gyógyszertárban: ingyenesp\\np\\np\\n', 'OGYI/38071-12/2010sz. határozat 2/2. sz. melléklete, Baby Luuf illóolajos kenőcs,Terpentinolaj, eukaliptuszolaj, kakukkfűolaj, Olvassa el figyelmesen az alábbi betegtájékoztatót, mely az Ön számára fontos információkat tartalmaz., Ez a gyógyszer orvosi rendelvény nélkül kapható. Mindemellett az optimális hatás érdekében elengedhetetlen e gyógyszer körültekintő alkalmazása., - Tartsa meg a betegtájékoztatót, mert a benne szereplő információkra a későbbiekben is szüksége lehet., - További információkért vagy tanácsért forduljon gyógyszerészéhez., - Sürgősen forduljon orvosához, ha a gyermek tünetei 5 napon belül nem enyhülnek, vagy éppen súlyosbodnak., - Ha bármely mellékhatás súlyossá válik, vagy ha a betegtájékoztatóban felsorolt mellékhatásokon kívül egyéb tünetet észlel, kérjük, értesítse orvosát vagy gyógyszerészét.', '2011. február', 'Apomedica Pharmazeutische Produkte Gmbh', 'Roseggerkai 3, 8011 Graz, Ausztria,:, Volmix kft., 1146 Budapest, Thököly út 76.,Tel.: (1) 383 3252, Fax: (1) 799 9907, 30 g', 'üres', 'üres', 'Apomedica Pharmazeutische Produkte Gmbh', 'Roseggerkai 3, 8011 Graz, Ausztria,:, Volmix kft., 1146 Budapest, Thököly út 76.,Tel.: (1) 383 3252, Fax: (1) 799 9907, 30 g', '24/07/2020')\n",
      "('BRONCHIPRET szirup                                                                                                                                                                                                                                             ', 'Bronchipret szirup 50ml', '50ml', '1949', 'üres', 'üres', '39,00 Ft/ml', 'Egészségpénztári kártyára vásárolható', 'Készleten', 'Köhögéscsillapító', 'Extr. thymi herbae (kakukkfű) siccum', 'Növényi eredetű hatóanyagokat tartalmazó, hörghurut kezelésére szolgáló készítmény, köptető. Heveny és idült hörghurut fellángolása esetén alkalmazható, amikor fokozott váladékképződés és köhögés áll előtérben.', 'OGYI-T-9642/01 50 ml, OGYI-T-9642/02 100 ml', '2015. január', 'Bionorica Se', 'Kerschensteinerstr. 11-15., 92318 Neumarkt, Németország, A gyógyszer csepp és filmtabletta formájában is forgalomban van 12 éven felüli gyermekek és felnőttek részére.,:,ASI Budapest Kft., 1105 Budapest, Bolgár u. 4. Tel. / Fax: 433-2086 Fax: 431 8953', 'üres', 'üres', 'Bionorica Se', 'Kerschensteinerstr. 11-15., 92318 Neumarkt, Németország, A gyógyszer csepp és filmtabletta formájában is forgalomban van 12 éven felüli gyermekek és felnőttek részére.,:,ASI Budapest Kft., 1105 Budapest, Bolgár u. 4. Tel. / Fax: 433-2086 Fax: 431 8953', '24/07/2020')\n",
      "('BRONCHOSTOP köhögés elleni belsőleges oldat                                                                                                                                                                                                                    ', 'Bronchostop köhögés elleni belsőleges oldat 150ml', '150ml', '2599', 'üres', 'üres', '17,30 Ft/ml', 'Egészségpénztári kártyára vásárolható', 'Készleten', 'Köhögéscsillapító', 'üres', 'A termék hagyományos növényi gyógyszer, kizárólag a régóta fennálló használaton alapuló, meghatározott javallatokra alkalmazandó. A torokban lévő irritáció enyhítésére és megfázáshoz társuló köhögés esetén köptetőszerként, 4 éves kor feletti gyermekeknek és felnőtteknek ajánlott.', 'OGYI-TN-45/01', 'üres', 'Kwizda Pharma Gmbh', 'Effingergasse 21, 1160 Bécs, Ausztria', 'üres', 'üres', 'üres', 'üres', '24/07/2020')\n",
      "('ERDOMED 300 mg kemény kapszula                                                                                                                                                                                                                                 ', 'Erdomed 300 mg kemény kapszula 10x', '10x', '1699', 'üres', 'üres', '169,90 Ft/db', 'Egészségpénztári kártyára vásárolható', 'Készleten', 'Köhögéscsillapító', 'erdosteinum', 'Az Erdomed a légutak sűrű váladékának elfolyósítására, kiköhögésének elősegítésére szolgáló készítmény.', 'OGYI-T-8777/01 (10x),OGYI-T-8777/02 (20x)', 'üres', 'Angelini Pharma Österreich Gmbh', 'Brigittenauer Lände 50-54, A-1200 Bécs Ausztria', 'Angelini Pharma Česká Republika S.R.O.', 'Páteřní 7, 63 500 Brno, Csehország', 'üres', 'üres', '24/07/2020')\n",
      "('GRIPPOSTAD C kemény kapszula                                                                                                                                                                                                                                   ', 'Grippostad C kemény kapszula 20x', '20x', '2149', 'üres', 'üres', '107,50 Ft/db', 'Egészségpénztári kártyára vásárolható', 'Készleten', 'Komplex készítmények, forró italporok', 'paracetamolum', 'Meghűléses betegségek tüneteinek (pl. fejfájás, végtagfájdalom, orrdugulás és száraz köhögés) kezelésére. A Grippostad C kapszula a lázat is csillapítja. Magas vérnyomás esetén is szedhető.', 'OGYI-T-7522/01', '2011. március 15.', 'üres', 'üres', 'üres', 'üres', 'üres', 'üres', '24/07/2020')\n",
      "('CETIMAX 10 mg filmtabletta                                                                                                                                                                                                                                     ', 'Cetimax 10 mg filmtabletta 10x', '10x', '599', 'üres', 'üres', '59,90 Ft/db', 'Egészségpénztári kártyára vásárolható', 'Készleten', 'Allergia', 'üres', 'A Cetimax hatóanyaga a cetirizin-dihidroklorid. A Cetimax az antihisztaminoknak nevezett gyógy\\xadszerek cso\\xadportjába tar\\xadtozik szisz\\xadté\\xadmás (az egész szervezetre érintő) hasz\\xadnálatra, amelyeket allergia (túlérzékenység) ellen hasz\\xadnálnak. A Cetimax felnőttek, valamint 6 éves és afeletti gyermekek alábbi tüneteinek kezelésére javasolt: szezonális és egész éven át tartó allergiás nátha orr- és szemtüneteinek enyhítésére. krónikus csalánkiütés (krónikus idiopátiás urtikária) enyhítésére.', 'OGYI-T-21651/01 7x, OGYI-T-21651/02 10x, OGYI-T-21651/03 14x, OGYI-T-21651/04 15x, OGYI-T-21651/05 20x, OGYI-T-21651/06 30x, OGYI-T-21651/07 50x, OGYI-T-21651/08 100x', 'üres', 'Vitabalans Oy', 'Varastokatu 8, FI-13500 Hämeenlinna, FINNORSZÁG, Tel: +358 (3) 615600, Fax: +358 (3) 6183130', 'üres', 'üres', 'üres', 'üres', '24/07/2020')\n",
      "('CETIRIZIN 1 A PHARMA 10 mg filmtabletta                                                                                                                                                                                                                        ', 'Cetirizin 1a Pharma 10 mg filmtabletta 10x', '10x', 'üres', 'üres', 'üres', '0,00 Ft/', 'Egészségpénztári kártyára vásárolható', 'Készleten', 'Allergia', 'cetirizinium chloratum', 'A Cetirizin 1a Pharma allergia ellenes gyógyszer. Segíti az allergiás reakciók és tünetek megszüntetését. Alkalmas a viszketés és a csalánkiütés enyhítésére is.', 'OGYI-T-10390/01 (7x), OGYI-T-10390/02 (10x), OGYI-T-10390/03 (30x), OGYI-T-10390/04 (60x)', 'üres', '1 A Pharma Gmbh', 'Keltenring 1+3, 82041 Oberhaching, Németország', 'Salutas Pharma Gmbh', 'Otto-von-Guericke-Allee 1, 39179 Barleben, Németország', 'üres', 'üres', '24/07/2020')\n",
      "('HALIXOL 3 mg/ml szirup                                                                                                                                                                                                                                         ', 'Halixol 3 mg/ml szirup 100ml', '100ml', '1149', 'üres', 'üres', '11,50 Ft/ml', 'Egészségpénztári kártyára vásárolható', 'Készleten', 'Köhögéscsillapító', 'ambroxolium', 'A Halixol szirup köptető hatású készítmény, hatóanyaga az ambroxol. Kórosan sűrű nyáktermeléssel járó heveny és idült légúti megbetegedések, mint például tüdőasztma, hörghurut, hörgőtágulat kezelésére szolgál.', 'OGYI-T-4126/02', 'üres', 'Egis Gyógyszergyár Zrt.', 'H-1106 Budapest, Keresztúri út 30-38.', 'üres', 'üres', 'üres', 'üres', '24/07/2020')\n",
      "('HALIXOL 30 mg tabletta                                                                                                                                                                                                                                         ', 'Halixol 30 mg tabletta 20x', '20x', '1099', 'üres', 'üres', '55,00 Ft/db', 'Egészségpénztári kártyára vásárolható', 'Készleten', 'Köhögéscsillapító', 'ambroxolium', 'A Halixol tabletta köptető hatású készítmény, hatóanyaga az ambroxol. Kórosan sűrű nyáktermeléssel járó heveny és idült légúti megbetegedések, mint például tüdőasztma, hörghurut, hörgőtágulat kezelésére szolgál.', 'OGYI-T-4126/03', 'üres', 'üres', 'üres', 'Egis Gyógyszergyár Zrt.', 'H-1165 Budapest, Bökényföldi út 118-120.', 'üres', 'üres', '24/07/2020')\n",
      "('CEZERA 5 mg filmtabletta                                                                                                                                                                                                                                       ', 'Cezera 5 mg filmtabletta 30x', '30x', '2199', 'üres', 'üres', '73,30 Ft/db', 'Egészségpénztári kártyára vásárolható', 'Készleten', 'Allergia', 'levocetirizinum', 'Allergia elleni gyógyszer (szisztémás hatású antihisztamin). A Cezera tabletta az alábbi allergiás betegségek tüneteinek kezelésére szolgál: allergiás nátha (az orr és a szem nyálkahártyájának allergiás gyulladása). gyakran megjelenő csalánkiütés (hosszan tartó, ismeretlen eredetű csalánkiütés).', 'OGYI-T-20 530/01 (30x), OGYI-T-20 530/02 (60x), OGYI-T-20 530/03 (90x)', '2009. június 2.', 'üres', 'üres', 'üres', 'üres', 'üres', 'üres', '24/07/2020')\n",
      "('CLARITINE 10 mg tabletta                                                                                                                                                                                                                                       ', 'Claritine 10 mg tabletta 10x', '10x', '1299', 'üres', 'üres', '129,90 Ft/db', 'Egészségpénztári kártyára vásárolható', 'Készleten', 'Allergia', 'üres', 'üres', 'OGYI-T-1650/01 (Claritine 10 mg tabletta) 20 db, OGYI-T-1650/03 (Claritine 10 mg tabletta) 30 db, OGYI-T-1650/07 (Claritine 10 mg tabletta) 10 db, OGYI-T-1650/08 (Claritine 10 mg tabletta) 60 db', 'üres', 'Bayer Hungária Kft.', '1123 Budapest, Alkotás u. 50.', 'Schering-Plough Labo N.V.', 'Industriepark 30,B-2220 Heist-op-den-Berg,Belgium, és,European Pharma Hub Kft, 2360 Gyál, 7000/9 hrsz. 15. Raktár, Magyarország', 'üres', 'üres', '24/07/2020')\n",
      "('DAEDALON 50 mg tabletta                                                                                                                                                                                                                                        ', 'Daedalon 50 mg tabletta 10x', '10x', '1899', 'üres', 'üres', '189,90 Ft/db', 'Egészségpénztári kártyára vásárolható', 'Készleten', 'Hányinger ellen', 'dimenhydrinatum', 'A Daedalon tabletta különböző eredetű hányinger és hányás megelőzésére és kezelésére szolgál. Alkalmazható többek között bármely jármű kiváltotta utazási betegségben, különféle hányingert kiváltó eszközös vizsgálatok előtt, vagy szédüléssel is járó középfül eredetű émelygéskor (például Ménière szindróma).', 'OGYI-T-3120/01', 'üres', 'Richter Gedeon Nyrt.', 'H-1103 Budapest, Gyömrői út 19-21., Magyarország', 'üres', 'üres', 'üres', 'üres', '24/07/2020')\n",
      "('HALSET 1,5 mg préselt szopogató tabletta                                                                                                                                                                                                                       ', 'Halset 1,5 mg préselt szopogató tabletta 24x', '24x', '1949', 'üres', 'üres', '81,20 Ft/db', 'Egészségpénztári kártyára vásárolható', 'Készleten', 'Torokfertőtlenítők', 'cetylpiridinium bromatum', 'A száj- és garatüreg enyhe és középsúlyos fertőzéses megbetegedései esetén, mint torokgyulladás, fogínygyulladás, szájnyálkahártya‑gyulladás, rekedtség.', 'OGYI-T-4106/01 24 db tabletta buborékcsomagolásban és dobozban, OGYI-T-4106/02 18 db tabletta buborékcsomagolásban és dobozban', 'üres', 'üres', 'üres', 'üres', 'üres', 'üres', 'üres', '24/07/2020')\n",
      "('DORITHRICIN erdei gyümölcs szopogató tabletta                                                                                                                                                                                                                  ', 'Dorithricin szopogató tabletta erdei gyümölcs ízű 20x', '20x', '2359', 'üres', 'üres', '115,00 Ft/db', 'Egészségpénztári kártyára vásárolható', 'Készleten', 'Torokfertőtlenítők', 'üres', 'Fájdalommal járó száj- és garatüregi gyulladásos megbetegedések helyi kezelésére szolgáló szopogató tabletta – felnőttek és 6 éves kor feletti gyerekek részére. Baktériumellenes, fertőtlenítő és fájdalomcsillapító hatású gyógyszer.', 'OGYI-T-7266/04 20×, OGYI-T-7266/05 40×', 'üres', 'Medice Pharma Gmbh& Co. Kg', 'Kuhloweg 37, D-58638, Iserlohn, Németország, Telefon: + 49 2371 152 790, Fax: + 49 2371 937 329', 'Medice Arzneimittel Pütter Gmbh & Co. Kg.', 'Kuhloweg 37, D-58638 Iserlohn, Németország, Forgalmazó:,Teva Gyógyszergyár Zrt., 4042 Debrecen, Pallagi út 13.', 'üres', 'üres', '24/07/2020')\n",
      "('FLUIMUCIL 200 mg granulátum                                                                                                                                                                                                                                    ', 'Fluimucil 200 mg granulátum 30x1g', '30x1g', '2149', 'üres', 'üres', '66,60 Ft/db', 'Egészségpénztári kártyára vásárolható', 'Készleten', 'Köhögéscsillapító', 'acetylcysteinum', 'A Fluimucil acetilcisztein hatóanyagot tartalmazó nyákoldó, köptető hatású készítmény. Az acetilcisztein oldja a légúti megbetegedések esetén képződő sűrű nyákot, elősegíti a légcsőben és légutakban lerakódott nyák kiürítését, így könnyíti a légzést. A készítmény olyan légúti megbetegedések kiegészítő kezelésére szolgál, amelyekben sűrű viszkózus nyák képződik, mint pl. a megfázásos megbetegedések, a hörgők akut vagy krónikus gyulladása, az influenza.', 'OGYI-T-5351/04 20 db, OGYI-T-5351/05 30 db, OGYI-T-5351/06 50 db', 'üres', 'Zambon S.P.A.', 'Via Lillo del Duca 10, 20091 Bresso, Olaszország', 'Zambon S.P.A', 'Via della Chimica 9, 36100 Vicenza, Olaszország, Aramis Pharma Kft., 6640 Csongrád,Kenderföldek u. 3.,Magyarország', 'üres', 'üres', '24/07/2020')\n",
      "('HEDELIX belsőleges oldatos cseppek                                                                                                                                                                                                                             ', 'Hedelix belsőleges oldatos cseppek 20ml', '20ml', '1799', 'üres', 'üres', '90,00 Ft/ml', 'Egészségpénztári kártyára vásárolható', 'Készleten', 'Köhögéscsillapító', 'üres', 'üres', 'OGYI-T-22707/01 20 ml, OGYI-T-22707/02 50 ml, OGYI-T-22707/03 100 ml', '2014. november', 'Krewel Meuselbach Gmbh', 'Krewelstr. 253783 Eitorf, Németország', 'üres', 'üres', 'üres', 'üres', '24/07/2020')\n",
      "('HEDELIX szirup                                                                                                                                                                                                                                                 ', 'Hedelix szirup 100ml', '100ml', '1799', 'üres', 'üres', '18,00 Ft/ml', 'Egészségpénztári kártyára vásárolható', 'Készleten', 'Köhögéscsillapító', 'üres', 'üres', 'OGYI-T-22707/04 100 ml polietilén kiöntőfeltéttel, OGYI-T-22707/05 200 ml polietilén kiöntőfeltéttel, OGYI-T-22707/06 100 ml polietilén betéttel, OGYI-T-22707/07 200 ml polietilén betéttel', 'üres', 'üres', 'üres', 'üres', 'üres', 'üres', 'üres', '24/07/2020')\n",
      "('FLUIMUCIL FORTE 600 mg pezsgőtabletta                                                                                                                                                                                                                          ', 'Fluimucil Forte 600 mg pezsgőtabletta 10x', '10x', '2449', 'üres', 'üres', '244,90 Ft/db', 'Egészségpénztári kártyára vásárolható', 'Készleten', 'Köhögéscsillapító', 'acetylcysteinum', 'A Fluimucil acetilcisztein hatóanyagot tartalmazó nyákoldó, köptető hatású készítmény. Az acetilcisztein oldja a légúti megbetegedések esetén képződő sűrű nyákot, elősegíti a légcsőben és légutakban lerakódott nyák kiürítését, így könnyíti a légzést. A készítmény olyan légúti megbetegedések kiegészítő kezelésére szolgál, amelyekben sűrű viszkózus nyák képződik, mint pl. a megfázásos megbetegedések, a hörgők akut vagy krónikus gyulladása, az influenza.', 'OGYI-T-5351/07-08', '2010. december 8.', 'üres', 'üres', 'Zambon S.P.A', 'Via della Chimica 9, 36100 Vicenza, Olaszország', 'üres', 'üres', '24/07/2020')\n",
      "('FLUIMUCIL szirup                                                                                                                                                                                                                                               ', 'Fluimucil szirup 100ml', '100ml', '1299', 'üres', 'üres', '13,00 Ft/ml', 'Egészségpénztári kártyára vásárolható', 'Készleten', 'Köhögéscsillapító', 'acetylcysteinum', 'A Fluimucil szirup hatóanyaga, az acetilcisztein megkönnyíti a légzést azáltal, hogy intenzív nyákoldó és elfolyósító hatást fejt ki a légúti váladékra és a köpetre. Sűrű és viszkózus váladéktermeléssel járó légúti elváltozások, krónikus és akut hörghurut és annak fellángolásai, tüdőtágulás, a légzőrendszer kiválasztó mirigyeit érintő örökletes betegség, és hörgőtágulat kiegészítő kezelésére javasolt.', 'OGYI-T-5351/09', 'üres', 'Zambon S.P.A', 'Via Lillo del Duca 10, 20091 Bresso, Olaszország', 'Zambon S.P.A.', 'Via della Chimica 9, 36100 Vicenza, Olaszország', 'üres', 'üres', '24/07/2020')\n",
      "('GLYCOSEPT szájnyálkahártyán alkalmazott oldat                                                                                                                                                                                                                  ', 'Glycosept szájnyálkahártyán alkalmazott oldat 30ml', '30ml', '1999', 'üres', 'üres', '66,60 Ft/Ft/ml', 'Egészségpénztári kártyára vásárolható', 'üres', 'Torokfertőtlenítők', 'mentholum', 'A Glycosept oldat baktériumellenes hatású gyógyszer. Az alkalmazás helyén enyhe fájdalom- és viszketéscsillapító hatással is rendelkezik. Használata javasolt torokgyulladás, gége- és légcsőgyulladás és gennyes, fekélyes szájbetegségek esetén öblögetésre illetve ecsetelésre.', 'OGYI-T-3214/01', 'üres', 'Wagner-Pharma Gyógyszerfejlesztő', 'üres', 'És Forgalmazó Kft.', '3242 Parádsasvár, Kossuth L. u. 44., Magyarország, WAGNER-PHARMA Gyógyszerfejlesztő, 6413 Kunfehértó, IV. Körzet 5., Magyarország', 'üres', 'üres', '24/07/2020')\n",
      "('HERBION borostyán 7 mg/ml szirup                                                                                                                                                                                                                               ', 'Herbion borostyán 7 mg/ml szirup 150ml', '150ml', '2149', 'üres', 'üres', '14,30 Ft/ml', 'Egészségpénztári kártyára vásárolható', 'Készleten', 'Köhögéscsillapító', 'üres', 'A készítmény borostyánlevél száraz kivonatot tartalmaz. A Herbion borostyán szirup növényi gyógyszer, hurutos köhögésnél köptetőként a nyák felszakadását és kiürítését segíti elő.', 'OGYI-T-22048/01', 'üres', 'Krka', 'd.d., Novo mesto, Šmarješka cesta 6, 8501 Novo mesto, Szlovénia', 'üres', 'üres', 'üres', 'üres', '24/07/2020')\n",
      "('HERBION izlandi zuzmó 6 mg/ml szirup                                                                                                                                                                                                                           ', 'Herbion izlandi zuzmó 6 mg/ml szirup 150ml', '150ml', '2099', 'üres', 'üres', '14,00 Ft/ml', 'Egészségpénztári kártyára vásárolható', 'Készleten', 'Köhögéscsillapító', 'üres', 'Hagyományos növényi gyógyszer, kizárólag a régóta fennálló használaton alapuló, meghatározott javallatokra alkalmazandó, úgymint száraz (irritáló) köhögés, enyhe felsőlégúti gyulladás, valamint a száj- és toroknyálkahártya irritáció, beleértve a torokfájást.', 'OGYI/51613-12/2011 sz. határozat 2/2. sz. melléklete', '2013. február', 'üres', 'üres', 'üres', 'üres', 'üres', 'üres', '24/07/2020')\n",
      "('OTRIVIN RAPID 1 mg/ml adagoló oldatos orrspray                                                                                                                                                                                                                 ', 'Otrivin Rapid 1 mg/ml adagoló oldatos orrspray (0,1%) 10ml', '(0,1%)10ml', '2349', 'üres', 'üres', '234,90 Ft/ml', 'Egészségpénztári kártyára vásárolható', 'Készleten', 'Orrdugulás ellen', 'xylomethazolinium chloratum', 'Különböző eredetű náthák (pl. meghűlés, szénanátha stb.) tüneteinek enyhítésére alkalmas orrpermet (orrspray). Az Otrivin Rapid készítmények hatóanyaga, a xilometazol, kifejezetten az orrnyálkahártya kezelésére alkalmas: érszűkítő hatást fejt ki, és csökkenti az orrban és melléküregeiben a nyálkahártya duzzanatot, megkönnyíti a váladék eltávozását. Ezáltal könnyíti az orrlégzést meghűlés és nátha esetén. Hatása néhány percen belül kialakul, és kb. 12 órán keresztül fennáll.', 'OGYI-T-5544/03', 'üres', 'Novartis Hungária Kft.', '(Consumer Health részlege), 1114, Budapest, Bartók Béla út 43-47.', 'Novartis Hungária Kft.', '1114, Budapest, Bartók Béla út 43-47.', 'üres', 'üres', '24/07/2020')\n",
      "('OTRIVIN RAPID 1 mg/ml oldatos orrcsepp                                                                                                                                                                                                                         ', 'Otrivin Rapid 1 mg/ml oldatos orrcsepp (0,1%) 10ml', '(0,1%)10ml', '1549', 'üres', 'üres', '154,90 Ft/ml', 'Egészségpénztári kártyára vásárolható', 'Készleten', 'Orrdugulás ellen', 'xylomethazolinium chloratum', 'Az Otrivin Rapid oldatos orrcsepp az orrnyálkahártya kezelésére alkalmas érszűkítő hatású készítmény, amely gyorsan csökkenti az orrban és melléküregeiben az orrnyálkahártya duzzanatát. Az Otrivin Rapid oldatos orrcsepp gyorsan megszünteti az orrdugulást, ezáltal könnyíti az orrlégzést. Különböző eredetű náthák (pl. meghűlés, szénanátha, egyéb allergiás eredetű nátha vagy orrmelléküreg-gyulladás) okozta orrdugulás enyhítésére alkalmas.', 'OGYI-T-5544/02', 'üres', 'Glaxosmithkline-Consumer Kft.', '1124 Budapest, Csörsz u. 43., Magyarország', 'Gsk Consumer Healthcare Gmbh & Co. Kg', 'Barthstraβe 4,80339 München,Németország', 'üres', 'üres', '24/07/2020')\n",
      "('ALLERGODIL oldatos orrspray                                                                                                                                                                                                                                    ', 'Allergodil oldatos orrspray 10ml', '10ml', '2249', 'üres', 'üres', '224,90 Ft/ml', 'Egészségpénztári kártyára vásárolható', 'Készleten', 'Allergia', 'azelastinium chloratum', 'Az Allergodil orrspray meggátolja többek között az orrnyálkahártya megduzzadását, a fokozott orrváladékozást és a kínzó tüsszögés ingert. Mivel az Allergodil közvetlenül az orrnyálkahártyára hat, az alacsony hatóanyag tartalom ellenére az allergiás tüneteket gyorsan és hatékonyan szünteti meg.', 'üres', 'üres', 'üres', 'üres', 'üres', 'üres', 'üres', 'üres', '25/07/2020')\n",
      "('IMMUN HERBAL BÉRES filmtabletta                                                                                                                                                                                                                                ', 'Béres Immun Herbal filmtabletta gyógyszer 30x', '30x', '2699', 'üres', 'üres', '90,00 Ft/Ft/db', 'Egészségpénztári kártyára vásárolható', 'üres', 'Multivitaminok', 'magnesium', 'A termék hagyományos növényi gyógyszer, kizárólag a régóta fennálló használaton alapuló, meghatározott javallatokra alkalmazandó, úgymint: a meghűléses eredetű betegségek (megfázás, nátha) megelőzésére és kiegészítő kezelésére.', 'OGYI/38742-2/2012 sz. határozat 2/2 sz. melléklete, BETEGTÁJÉKOZTATÓ: INFORMÁCIÓK A FELHASZNÁLÓ SZÁMÁRA, Immun Herbal Béres filmtabletta, Ginzenggyökér-, halvány kasvirág gyökér kivonat, vitaminok, ásványi anyagok és nyomelemek, Olvassa el figyelmesen az alábbi betegtájékoztatót, mely az Ön számára fontos információkat tartalmaz., Ez a gyógyszer orvosi rendelvény nélkül kapható. Mindemellett az optimális hatás érdekében elengedhetetlen e gyógyszer körültekintő bevétele., - Tartsa meg a betegtájékoztatót, mert a benne szereplő információkra a későbbiekben is, szüksége lehet., - További információkért vagy tanácsért forduljon gyógyszerészéhez., - Sürgősen forduljon orvosához, ha tünetei nem enyhülnek, vagy éppen súlyosbodnak., - Ha bármely mellékhatás súlyossá válik, vagy ha a betegtájékoztatóban felsorolt mellékhatásokon kívül egyéb tünetet észlel, kérjük, értesítse orvosát vagy gyógyszerészét.', '2012. szeptember', 'üres', 'üres', 'üres', 'üres', 'üres', 'üres', '24/07/2020')\n",
      "('OTRIVIN RAPID MENTOL 1 mg/ml adagoló oldatos orrspray                                                                                                                                                                                                          ', 'Otrivin Rapid Menthol 1 mg/ml adagoló oldatos orrspray 10ml', '10ml', '2449', 'üres', 'üres', '244,90 Ft/ml', 'Egészségpénztári kártyára vásárolható', 'Készleten', 'Orrdugulás ellen', 'xylomethazolinium chloratum', 'Az Otrivin Menthol az orrnyálkahártya kezelésére alkalmas érszűkítő hatású készítmény, amely gyorsan megszünteti az orrdugulást. Az orrnyálkahártya-duzzanatot csökkentő hatóanyaga mellett hűsítő mentol és eukaliptusz aromapárát is tartalmaz.', 'OGYI-T-5544/04 10 ml HDPE kupakkal lezárt, PP szórófejjel és adagoló pumpával ellátott HDPE tartályban, dobozban', 'üres', 'Novartis Hungária Kft.', '(Consumer Health részlege), 1114 Budapest, Bartók Béla út 43-47.', 'Novartis Hungária Kft.', '1114 Budapest, Bartók Béla út 43-47.', 'üres', 'üres', '24/07/2020')\n",
      "('BRONCHOSTOP köhögés elleni belsőleges gumipasztilla                                                                                                                                                                                                            ', 'Bronchostop köhögés elleni belsőleges gumipasztilla 20x', '20x', '2499', 'üres', 'üres', '125,00 Ft/db', 'Egészségpénztári kártyára vásárolható', 'Készleten', 'Köhögéscsillapító', 'üres', 'A termék hagyományos növényi gyógyszer, kizárólag a régóta fennálló használaton alapuló, meghatározott javallatokban alkalmazandó. Megfázáshoz társuló köhögés esetén a viszkózus nyák felköhögését elősegítő köptetőszerként ajánlott.', 'OGYI-TN-46/01 20 db, OGYI-TN-46/02 40 db', 'üres', 'üres', 'üres', 'üres', 'üres', 'üres', 'üres', '25/07/2020')\n",
      "('BRONCHIPRET filmtabletta', 'Bronchipret filmtabletta 20x', '20x', '2499', 'üres', 'üres', '125,00 Ft/db', 'Egészségpénztári kártyára vásárolható', 'Készleten', 'Köhögéscsillapító', 'üres', 'A Bronchipret® hatékony gyógyszerkészítmény fokozott váladékképződéssel és\\xa0pköhögéssel járó hörghurutban.', 'OGYI-T-9642/05-07', 'üres', 'üres', 'üres', 'üres', 'üres', 'üres', 'üres', '27/07/2020')\n",
      "('INALLER 5 mg filmtabletta                                                                                                                                                                                                                                      ', 'Inaller 5 mg filmtabletta 30x', '30x', '2099', 'üres', 'üres', '70,00 Ft/db', 'Egészségpénztári kártyára vásárolható', 'Készleten', 'Allergia', 'dezloratadin', 'Az Inaller filmtabletta csillapítja az allergiás nátha (az orrjáratok allergia, pl. szénanátha vagy poratka-allergia által okozott gyulladásának) tüneteit felnőtteknél és 12 éves vagy ennél idősebb serdülőknél. Ezek közé a tünetek közé tartozik a tüsszögés, az orrfolyás és orrviszketés, a szájpad és a szem viszketése, a kötőhártya vérbősége és a könnyezés.', 'OGYI-T-22149/15 30x PVC/PE/PVDC – Alumínium buborékcsomagolásban, OGYI-T-22149/16 30x PVC/PCTFE (Aclar) - Alumínium buborékcsomagolásban', 'üres', 'Goodwill Pharma Kft.', '6724 Szeged, Cserzy Mihály u. 32.', 'Genepharm S.A.', '18 Km Marathon Avenue, 15351 Pallini, Görögország', 'üres', 'üres', '24/07/2020')\n",
      "('PROSPAN szirup                                                                                                                                                                                                                                                 ', 'Prospan szirup 100ml', '100ml', '2799', 'üres', 'üres', '25,00 Ft/ml', 'Egészségpénztári kártyára vásárolható', 'Készleten', 'Köhögéscsillapító', 'Extr. hederae helicis (borostyán) folii', 'A cukormentes Prospan® szirup a borostyánlevél erejével elősegíti a letapadt nyák felszakadását és kiürülését, csökkenti a köhögés gyakoriságát. Gyulladáscsökkentő és hörgőtágító hatása hozzájárul, hogy újra szabadon lélegezzen. Már 2 éves kortól adható (4 évesnél fiatalabb gyermekeknek orvosi felügyelet mellett adható).', 'OGYI-T-21292/01 1 x 100 ml', '2010. 05. 14.', 'üres', 'üres', 'üres', 'üres', 'üres', 'üres', '24/07/2020')\n",
      "('REVICET 10 mg préselt szopogató tabletta                                                                                                                                                                                                                       ', 'Revicet 10 mg préselt szopogató tabletta 28x', '28x', '2699', 'üres', 'üres', '96,40 Ft/db', 'Egészségpénztári kártyára vásárolható', 'Készleten', 'Allergia', 'cetirizinium chloratum', 'A Revicet 10 mg szopogató tabletta allergia ellenes gyógyszer, az antihisztaminok csoportjába tartozik.', 'OGYI-T-20392/01 20 db tabletta buborékfóliában, dobozban, OGYI-T-20392/02 30 db tabletta buborékfóliában, dobozban, OGYI-T-20392/03 60 db tabletta buborékfóliában, dobozban, OGYI-T-20392/04 90 db tabletta buborékfóliában, dobozban', '2009. május 6.', 'üres', 'üres', 'Losan Pharma Gmbh.', 'Otto Hahn Strasse 13, D-79395 Neuenburg, Németország.', 'üres', 'üres', '24/07/2020')\n",
      "('HALIXOL 3 mg/ml szirup                                                                                                                                                                                                                                         ', 'Halixol 3 mg/ml szirup 100ml', '100ml', '1149', 'üres', 'üres', '11,50 Ft/ml', 'Egészségpénztári kártyára vásárolható', 'Készleten', 'Köhögéscsillapító', 'ambroxolium', 'A Halixol szirup köptető hatású készítmény, hatóanyaga az ambroxol. Kórosan sűrű nyáktermeléssel járó heveny és idült légúti megbetegedések, mint például tüdőasztma, hörghurut, hörgőtágulat kezelésére szolgál.', 'OGYI-T-4126/02', 'üres', 'Egis Gyógyszergyár Zrt.', 'H-1106 Budapest, Keresztúri út 30-38.', 'üres', 'üres', 'üres', 'üres', '25/07/2020')\n",
      "('KALOBA 20 mg filmtabletta                                                                                                                                                                                                                                      ', 'Kaloba 20 mg filmtabletta 21x', '21x', '3899', 'üres', 'üres', '185,70 Ft/db', 'Egészségpénztári kártyára vásárolható', 'Készleten', 'Komplex készítmények, forró italporok', 'üres', 'A termék hagyományos növényi gyógyszer, amelyet kizárólag a régóta fennálló használat alapján alkalmaznak felső légúti fertőzések, többek között a közönséges megfázás olyan tüneteinek enyhítésére, mint a torokfájás, köhögés és az orrdugulás, orrfolyás.', 'üres', 'üres', 'üres', 'üres', 'üres', 'üres', 'üres', 'üres', '24/07/2020')\n",
      "('RHINATHIOL 1 mg/ml köhögéscsillapító szirup gyermekeknek                                                                                                                                                                                                       ', 'Rhinathiol 1 mg/ml köhögéscsillapító szirup gyermekeknek 125ml', '125ml', '1799', 'üres', 'üres', '14,40 Ft/ml', 'Egészségpénztári kártyára vásárolható', 'Készleten', 'Köhögéscsillapító', 'dextrometorphanium bromatum', 'A Rhinathiol köhögéscsillapító szirup gyermekeknek hatóanyaga a dextrometorfán egy mesterségesen előállított morfin-származék. Köhögéscsillapító hatású vegyület, mely a központi idegrendszerre hatva fejti ki hatását.', 'OGYI-T-9257/01', 'üres', 'Sanofi-Aventis Zrt. 1045 Budapest', 'Tó utca 1-5.', 'Unither Liquid Manufacturing', '1-3, allée de la Nesté, Z.I. d’en Signal, 31770 Colomiers, Franciaország', 'üres', 'üres', '24/07/2020')\n",
      "('RHINATHIOL 1 mg/ml oldatos orrspray                                                                                                                                                                                                                            ', 'Rhinathiol 1 mg/ml oldatos orrspray 10ml', '10ml', '2249', 'üres', 'üres', '239,90 Ft/ml', 'Egészségpénztári kártyára vásárolható', 'Készleten', 'Orrdugulás ellen', 'xylomethazolinium chloratum', 'A Rhinathiol oldatos orrspray az orrba fújva az orrdugulás kezelésére szolgál, különösen fertőzéses, allergiás vagy egyéb eredetű orrnyálkahártya-gyulladás (nátha, szénanátha) és az orrmelléküregek gyulladásai során.', 'OGYI-T-20077/01', '2012. január', 'Sanofi-Aventis Zrt.', '1045 Budapest, Tó u. 1-5., Információs szolgálat: 06-1-505-0050', 'Unither Liquid Manufacturing', '1-3 Allée de la Neste Z.I.d’en Sigal, 31770 Colomiers, Franciaország', 'üres', 'üres', '24/07/2020')\n",
      "('HEDELIX belsőleges oldatos cseppek                                                                                                                                                                                                                             ', 'Hedelix belsőleges oldatos cseppek 20ml', '20ml', '1799', 'üres', 'üres', '90,00 Ft/ml', 'Egészségpénztári kártyára vásárolható', 'Készleten', 'Köhögéscsillapító', 'üres', 'üres', 'OGYI-T-22707/01 20 ml, OGYI-T-22707/02 50 ml, OGYI-T-22707/03 100 ml', '2014. november', 'Krewel Meuselbach Gmbh', 'Krewelstr. 253783 Eitorf, Németország', 'üres', 'üres', 'üres', 'üres', '25/07/2020')\n",
      "('HERBION borostyán 7 mg/ml szirup                                                                                                                                                                                                                               ', 'Herbion borostyán 7 mg/ml szirup 150ml', '150ml', '2149', 'üres', 'üres', '14,30 Ft/ml', 'Egészségpénztári kártyára vásárolható', 'Készleten', 'Köhögéscsillapító', 'üres', 'A készítmény borostyánlevél száraz kivonatot tartalmaz. A Herbion borostyán szirup növényi gyógyszer, hurutos köhögésnél köptetőként a nyák felszakadását és kiürítését segíti elő.', 'OGYI-T-22048/01', 'üres', 'Krka', 'd.d., Novo mesto, Šmarješka cesta 6, 8501 Novo mesto, Szlovénia', 'üres', 'üres', 'üres', 'üres', '25/07/2020')\n",
      "('KALOBA belsőleges oldatos cseppek                                                                                                                                                                                                                              ', 'Kaloba belsőleges oldatos cseppek 20ml', '20ml', '2449', 'üres', 'üres', '130,00 Ft/ml', 'Egészségpénztári kártyára vásárolható', 'Készleten', 'Komplex készítmények, forró italporok', 'pelargonium sidiodes radix', 'A termék hagyományos növényi gyógyszer, amelyet kizárólag a régóta fennálló használat alapján alkalmaznak felső légúti fertőzések, többek között a közönséges megfázás olyan tüneteinek enyhítésére, mint a torokfájás, köhögés és az orrdugulás, orrfolyás.', 'OGYI-TN-1/01, 50 ml OGYI-TN-1/02', 'üres', 'üres', 'üres', 'üres', 'üres', 'üres', 'üres', '24/07/2020')\n",
      "('RHINATHIOL 1,33 mg/ml köhögéscsillapító szirup felnőtteknek                                                                                                                                                                                                    ', 'Rhinathiol 1,33 mg/ml köhögéscsillapító szirup felnőtteknek 200ml', '200ml', '2599', 'üres', 'üres', '13,00 Ft/ml', 'Egészségpénztári kártyára vásárolható', 'Készleten', 'Köhögéscsillapító', 'dextrometorphanium bromatum', 'A Rhinathiol köhögéscsillapító szirup felnőtteknek hatóanyaga a dextrometorfán-hidrobromid egy mesterségesen előállított morfin-származék. Köhögéscsillapító hatású vegyület, mely a központi idegrendszerre hatva fejti ki hatását.', 'OGYI-T-9257/02', 'üres', 'Sanofi-Aventis Zrt. 1045 Budapest', 'Tó utca 1-5.', 'Unither Liquid Manufacturing', '1-3, allée de la Nesté, Z.I. d’en Signal, 31770 Colomiers, Franciaország', 'üres', 'üres', '24/07/2020')\n",
      "('RHINATHIOL COLD 200 mg/30 mg filmtabletta                                                                                                                                                                                                                      ', 'Rhinathiol Cold 200 mg/30 mg filmtabletta 20x', '20x', '2249', 'üres', 'üres', '112,50 Ft/db', 'Egészségpénztári kártyára vásárolható', 'Készleten', 'Komplex készítmények, forró italporok', 'ibuprofenum', 'Ibuprofent és pszeudoefedrint tartalmazó kombinált fájdalomcsillapító, gyulladáscsökkentő, lázcsillapító és az orrdugulást megszüntető készítmény. Az orr és az orrmelléküregek dugulásával járó megfázás és influenza tüneteinek, mint például fájdalom, fejfájás, láz, torokfájás enyhítésére szolgáló készítmény.', 'OGYI-T-9161/01 (12 db), OGYI-T-9161/02 (20 db), OGYI-T-9161/03 (24 db)', '2010. szeptenber 29.', 'Sanofi-Aventis Zrt', '1045 Budapest, Tó u. 1-5', 'Sanofi-Synthelabo Ltd.', 'Engefield Avenue, Fawdon, Newcastle upon Tyne, Tyne & Wear NE3 3TT, Egyesült Királyság', 'üres', 'üres', '24/07/2020')\n",
      "('KALOBA belsőleges oldatos cseppek                                                                                                                                                                                                                              ', 'Kaloba belsőleges oldatos cseppek 20ml', '20ml', '2449', 'üres', 'üres', '130,00 Ft/ml', 'Egészségpénztári kártyára vásárolható', 'Készleten', 'Komplex készítmények, forró italporok', 'pelargonium sidiodes radix', 'A termék hagyományos növényi gyógyszer, amelyet kizárólag a régóta fennálló használat alapján alkalmaznak felső légúti fertőzések, többek között a közönséges megfázás olyan tüneteinek enyhítésére, mint a torokfájás, köhögés és az orrdugulás, orrfolyás.', 'OGYI-TN-1/01, 50 ml OGYI-TN-1/02', 'üres', 'üres', 'üres', 'üres', 'üres', 'üres', 'üres', '25/07/2020')\n",
      "('ERDOMED 300 mg kemény kapszula', 'Erdomed 300 mg kemény kapszula 10x', '10x', '1699', 'üres', 'üres', '169,90 Ft/db', 'Egészségpénztári kártyára vásárolható', 'Készleten', 'Köhögéscsillapító', 'erdosteinum', 'Az Erdomed a légutak sűrű váladékának elfolyósítására, kiköhögésének elősegítésére szolgáló készítmény.', 'OGYI-T-8777/01 (10x),OGYI-T-8777/02 (20x)', 'üres', 'Angelini Pharma Österreich GmbH', 'Brigittenauer Lände 50-54, A-1200 Bécs Ausztria', 'ANGELINI PHARMA Česká republika s.r.o.', 'Páteřní 7, 63 500 Brno, Csehország', 'üres', 'üres', '27/07/2020')\n",
      "('KALOBA szirup                                                                                                                                                                                                                                                  ', 'Kaloba szirup 100ml', '100ml', '3399', 'üres', 'üres', '34,00 Ft/ml', 'Egészségpénztári kártyára vásárolható', 'Készleten', 'Kezdőlap', 'üres', 'A készítmény hagyományos növényi gyógyszer, amelyet kizárólag a régóta fennálló használat alapján alkalmaznak felső légúti fertőzések, többek között a megfázás tüneteinek enyhítésére, mint pl. torokfájás, köhögés, orrdugulás, orrfolyás.', 'üres', 'üres', 'üres', 'üres', 'üres', 'üres', 'üres', 'üres', '24/07/2020')\n",
      "('RHINATHIOL köptető 20 mg/ml szirup gyermekeknek                                                                                                                                                                                                                ', 'Rhinathiol köptető 20 mg/ml szirup gyermekeknek 125ml', '125ml', '1849', 'üres', 'üres', '14,80 Ft/ml', 'Egészségpénztári kártyára vásárolható', 'Készleten', 'Köhögéscsillapító', 'carbocysteinum', 'A Rhinathiol köptető 20 mg/ml szirup gyermekeknek készítmény a légutakban felhalmozódott kóros nyák sűrűségét csökkenti, ezáltal elősegíti a köpetürítést és a légutak öntisztulását. 15 év alatti gyermekek nehezített köpetürítéssel, a hörgőváladék kiürítésének nehézségével járó légúti megbetegedéseinek (pl. heveny, félheveny, idült hörghurut, légcsőhurut, vagy krónikus hörghurut akut fellángolásának) kezelésére szolgál.', 'OGYI-T-6607/01', 'üres', 'Sanofi-Aventis Zrt.', '1045 Budapest, Tó u. 1-5.', 'K', 'Unither Liquid Manufacturing, 1-3, allée de la Nesté Z.I. d’en Sigal, 31770 Colomiers, Franciaország,Nattermann & Cie. GmbH, Nattermannallee 1, 50829 Cologne, Németország', 'üres', 'üres', '24/07/2020')\n",
      "('RHINATHIOL köptető 50 mg/ml szirup felnőtteknek                                                                                                                                                                                                                ', 'Rhinathiol köptető 50 mg/ml szirup felnőtteknek 200ml', '200ml', '2499', 'üres', 'üres', '12,50 Ft/ml', 'Egészségpénztári kártyára vásárolható', 'Készleten', 'Köhögéscsillapító', 'carbocysteinum', 'A Rhinathiol köptető 50 mg/ml szirup felnőtteknek készítmény a légutakban felhalmozódott kóros nyák sűrűségét csökkenti, ezáltal elősegíti a köpetürítést és a légutak öntisztulását. Felnőttek és 15 éven felüli gyermekek nehezített köpetürítéssel, a hörgőváladék kiürítésének nehézségével járó légúti megbetegedéseinek (pl. heveny, félheveny, idült hörghurut, légcsőhurut) kezelésére javallt.', 'OGYI-T- 6607/02 125 ml, OGYI-T- 6607/03 200 ml, OGYI-T- 6607/04 300 ml', 'üres', 'Sanofi-Aventis Zrt.', '1045 Budapest, Tó u. 1-5.', 'K', '1.) Unither Liquid Manufacturing, 1-3, allée de la Nesté Z.I. d’en Sigal, 31770 Colomiers, Franciaország, 2.) A. Nattermann & Cie. GmbH, Nattermannallee 1, 50829 Cologne, Németország', 'üres', 'üres', '24/07/2020')\n",
      "('MUCOFREE 15 mg/5 ml szirup                                                                                                                                                                                                                                     ', 'Mucofree 15 mg/5 ml szirup 100ml', '100ml', '1799', 'üres', 'üres', '18,30 Ft/ml', 'Egészségpénztári kártyára vásárolható', 'Készleten', 'Köhögéscsillapító', 'üres', 'Hurutos köhögésre. A Mucofree szirup hármas hatásával fellazítja a váladékot, felszabadítja a légzést és könnyíti a köhögést. A gyógyszer egyénileg adagolható.', 'üres', 'üres', 'üres', 'üres', 'üres', 'üres', 'üres', 'üres', '25/07/2020')\n",
      "('HALIXOL 30 mg tabletta', 'Halixol 30 mg tabletta 20x', '20x', '1099', 'üres', 'üres', '55,00 Ft/db', 'Egészségpénztári kártyára vásárolható', 'Készleten', 'Köhögéscsillapító', 'ambroxolium', 'A Halixol tabletta köptető hatású készítmény, hatóanyaga az ambroxol. Kórosan sűrű nyáktermeléssel járó heveny és idült légúti megbetegedések, mint például tüdőasztma, hörghurut, hörgőtágulat kezelésére szolgál.', 'OGYI-T-4126/03', 'üres', 'üres', 'üres', 'Egis Gyógyszergyár Zrt.', 'H-1165 Budapest, Bökényföldi út 118-120.', 'üres', 'üres', '27/07/2020')\n",
      "('LERTAZIN 5 mg filmtabletta                                                                                                                                                                                                                                     ', 'Lertazin 5 mg filmtabletta 7x', '7x', '649', 'üres', 'üres', '92,70 Ft/db', 'Egészségpénztári kártyára vásárolható', 'Készleten', 'Allergia', 'levocetirizinum', 'A Lertazin egy allergia elleni készítmény. A Lertazin az alábbi allergiás betegségek tüneteinek kezelésére szolgál: allergiás nátha (beleértve az egész éven át tartó allergiás náthát); csalánkiütés (urtikária).', 'OGYI-T-20511/01 - 30x (PVC/PVDC//Al buborékcsomagolásban), OGYI-T-20511/02 - 60x (PVC/PVDC//Al buborékcsomagolásban), OGYI-T-20511/03 - 90x (), OGYI-T-20511/04 7x (), OGYI-T-20511/05 10x ()', 'üres', 'Krka', 'd.d., Novo mesto,Šmarješka cesta 6, 8501 Novo mesto, Szlovénia', 'üres', 'üres', 'Krka', 'd.d., Novo mesto,Šmarješka cesta 6, 8501 Novo mesto, Szlovénia', '24/07/2020')\n",
      "('RHINOSPRAY PLUS 1,265 mg/ml oldatos orrspray                                                                                                                                                                                                                   ', 'Rhinospray Plus orrspray 10ml', '10ml', '2099', '2 099 Ft', '2 479 Ft helyett:', '209,90 Ft/ml', 'Egészségpénztári kártyára vásárolható', 'Készleten', 'Orrdugulás ellen', 'tramazolinium chloratum', 'A Rhinospray plus oldatos orrspray az orrnyálkahártya duzzanatának mérséklésére szolgál meghűlés vagy szénanátha esetén. Ezen kívül orrmelléküreg- és középfül-gyulladásban az izzadmány kiürülésének elősegítésére is alkalmazható.', 'OGYI-T-7335/01', 'üres', 'Boehringer Ingelheim International Gmbh', 'Binger Strasse 173, D-55216 Ingelheim am Rhein, Németország', 'Istituto De Angeli', 'Localita i Prulli No. 103/c, I-50066 Regello, Firenze, Olaszország', 'üres', 'üres', '24/07/2020')\n",
      "('RINOFLUIMUCIL oldatos orrspray                                                                                                                                                                                                                                 ', 'Rinofluimucil oldatos orrspray 10ml', '10ml', '2199', 'üres', 'üres', '219,90 Ft/ml', 'Egészségpénztári kártyára vásárolható', 'Készleten', 'Orrdugulás ellen', 'acetylcysteinum', 'A Rinofluimucil oldatos orrspray hatóanyagai az acetilcisztein és a tuaminoheptán-szulfát. Az acetilcisztein erős nyákoldó hatású vegyület, orrnyálkahártyán alkalmazva hígítja a sűrű légúti váladékot. A tuaminoheptán-szulfát egy érösszehúzó hatású, ún. szimpatikomimetikus amin, orrnyálkahártyán alkalmazva csökkenti a nyálkahártya-duzzanatot.', 'OGYI-T-9685/01 (10 ml)', 'üres', 'Zambon S.P.A.', 'Via Lillo del Duca 10, 20091 Bresso, Olaszország', 'Zambon S.P.A.', 'Via della Chimica 9, 36100 Vicenza, Olaszország', 'üres', 'üres', '24/07/2020')\n",
      "('MUCOPLANT DR. THEISS Eukaliptusz és fenyőolaj kenőcs                                                                                                                                                                                                           ', 'Mucoplant Dr.Theiss Eukaliptusz kenőcs 50g', '50g', '1549', 'üres', 'üres', '31,00 Ft/g', 'Egészségpénztári kártyára vásárolható', 'Készleten', 'Köhögéscsillapító', 'camphora', 'A Mucoplant Dr. Theiss Eukaliptusz és fenyőolaj kenőcs külsőleges használatra és inhalációs gőz képzéséhez alkalmazható, a megfázásos tünetek (pl. szövődményekkel nem járó nátha, rekedtség, hörghurut) enyhítésére.', 'OGYI-T-22433/01', 'üres', 'Dr. Theiss Naturwaren Gmbh', 'Michelinstraße 10, 66424 Homburg, Németország', 'üres', 'üres', 'üres', 'üres', '25/07/2020')\n",
      "('LEVOPRONT szirup                                                                                                                                                                                                                                               ', 'Levopront szirup 120ml', '120ml', '1399', 'üres', 'üres', '11,70 Ft/Ft/ml', 'Egészségpénztári kártyára vásárolható', 'üres', 'Köhögéscsillapító', 'levodropropizinum', 'Nem produktív (fokozott nyákképződéssel nem járó), kínzó, száraz köhögés rövid távú, tüneti kezelésére. A 60 ml-es szirup 4 éven felüli, a 120 ml-es szirup 10 éven felüli gyermekek és felnőttek számára javallt.', 'OGYI-T-7607/01 (60 ml), OGYI-T-7607/02 (120 ml)', '2015. május', 'Dompé Farmaceutici S.P.A.', 'Via San Martino 12, 20122 Milano, Olaszország', 'Dompé Farmaceutici S.P.A.', 'Via Campo di Pile, 67100 L’Aquila, Olaszország', 'üres', 'üres', '24/07/2020')\n",
      "('ROBITUSSIN EXPECTORANS szirup                                                                                                                                                                                                                                  ', 'Robitussin Expectorans szirup 100ml', '100ml', '2149', 'üres', 'üres', '20,00 Ft/ml', 'Egészségpénztári kártyára vásárolható', 'Készleten', 'Köhögéscsillapító', 'guaiphensinum', 'A Robitussin Expectorans szirup köptető. A légutak heveny megbetegedéseiben jelentkező makacs, nyálkás, hurutos köhögés vagy hörghurut kiegészítő kezelésére alkalmas, feloldja a légúti váladékot, ezzel segíti annak felköhögését.', 'üres', '2010. február 26.', 'üres', 'üres', 'Ivax Pharmaceuticals S.R.O.', \"Ostravska 29, 747 70 Opava, 9, Czech Republic., (vagy), Doppel Farmaceutici S.r.l., Via Martiri delle Foibe 1, 29016 Cortemaggiore (Piacenza), Italy,A betegtájékoztató engedélyezésének dátuma: 2010. február 26., ']\", 'üres', 'üres', '24/07/2020')\n",
      "('ROBITUSSIN JUNIOR szirup                                                                                                                                                                                                                                       ', 'Robitussin Junior szirup 100ml', '100ml', '2149', 'üres', 'üres', '21,50 Ft/ml', 'Egészségpénztári kártyára vásárolható', 'Készleten', 'Köhögéscsillapító', 'dextrometorphanium bromatum', 'A készítmény köhögéscsillapító, enyhíti a makacs száraz köhögést. A gyógyszer csak gyermekgyógyászati felhasználásra javasolt.', 'üres', '2010. február 26.', 'üres', 'üres', 'Ivax Pharmaceuticals S.R.O.', \"Ostravska 29, 747 70 Opava, 9, Czech Republic, (vagy), Doppel Farmaceutici S.r.l., Via Martiri delle Foibe 1, 29016 Cortemaggiore (Piacenza), Italy,A betegtájékoztató engedélyezésének dátuma: 2010. február 26.,']\", 'üres', 'üres', '24/07/2020')\n",
      "('STREPFEN DIREKT 16,2 mg/ml szájnyálkahártyán alkalmazott oldatos spray                                                                                                                                                                                         ', 'Strepfen Direkt 16,2 mg/ml szájnyálkahártyán alkalmazott oldatos spray 15ml', '15ml', '2999', 'üres', 'üres', '199,90 Ft/ml', 'Egészségpénztári kártyára vásárolható', 'Készleten', 'Torokfertőtlenítők', 'üres', 'A készítmény hatóanyaga a flurbiprofén. A flurbiprofén az úgynevezett nem szteroid gyulladáscsökkentő készítmények (NSAID-ok) csoportjába tartozik. Ezek a gyógyszerek a szervezetnek a fájdalomra, a duzzanatokra és lázra adott reakciójának megváltoztatásával biztosítanak enyhülést.', 'üres', 'üres', 'üres', 'üres', 'üres', 'üres', 'üres', 'üres', '25/07/2020')\n",
      "('LOLIGRIP 500 mg/200 mg/25 mg por belsőleges oldathoz                                                                                                                                                                                                           ', 'Loligrip por belsőleges oldathoz 8x', '8x', '2449', 'üres', 'üres', '306,10 Ft/db', 'Egészségpénztári kártyára vásárolható', 'Készleten', 'Komplex készítmények, forró italporok', 'üres', 'A Loligrip lázzal és/vagy fájdalommal járó megfázás, rövid távú orrdugulás vagy orrfolyás (rinitisz) és garatgyulladás tüneti kezelésére és enyhítésére szolgál felnőtteknél és 15 éves vagy idősebb serdülőknél. Hatóanyag: paracetamol/aszkorbinsav/feniramin-maleát', 'üres', 'üres', 'üres', 'üres', 'üres', 'üres', 'üres', 'üres', '24/07/2020')\n",
      "('LOLIMARINE HA 1 mg/ml oldatos orrspray                                                                                                                                                                                                                         ', 'Lolimarine HA Kid 0,5mg/ml oldatos orrspray 10ml', '10ml', '2899', 'üres', 'üres', '289,90 Ft/ml', 'Egészségpénztári kártyára vásárolható', 'Készleten', 'Orrdugulás ellen', 'üres', 'üres', 'OGYI-T-23265/01 1×10 ml (3K – rendszerű adagoló pumpával ellátott HDPE tartály, OGYI-T-23265/02 1×10 ml (APFPLUS – rendszerű adagoló pumpával ellátott HDPE tartály, Lolimarine HA 1 mg/ml oldatos orrspray, OGYI-T-23265/03 1×10 ml (3K – rendszerű adagoló pumpával ellátott HDPE tartály), OGYI-T-23265/04 1×10 ml (APFPLUS – rendszerű adagoló pumpával ellátott HDPE tartály)', 'üres', 'Goodwill Pharma Kft.', '6724 Szeged, Cserzy Mihály utca 32., [logo]', 'Jadran - Galenski Laboratorij D.D.', '51000 Rijeka, Svilno 20,Horvátország, Lolimarine HA', 'üres', 'üres', '24/07/2020')\n",
      "('LOLIMUCIN 375 mg kemény kapszula                                                                                                                                                                                                                               ', 'Lolimucin 375 mg kemény kapszula 20x', '20x', '2449', 'üres', 'üres', '122,50 Ft/db', 'Egészségpénztári kártyára vásárolható', 'Készleten', 'Köhögéscsillapító', 'üres', 'A légutakban hígítja a nyákot (váladékot), így az kevésbé tapad le és könnyebben felköhöghető. A Lolimucin olyan légúti betegségek kezelésére való, amelyek túl sok, vagy túl sűrű nyáktermelődéssel járnak.', 'OGYI-T-23161/01 20x, OGYI-T-23161/02 30x, OGYI-T-23161/03 50x, OGYI-T-23161/04 120x', 'üres', 'Goodwill Pharma Kft.', '6724 Szeged, Cserzy Mihály u. 32., Magyarország', 'Alkaloid-Int D.O.O.', 'Šlandrova ulica 4, 1231 Ljubljana – Črnuče, Szlovénia, Tel.: +386 1 300 42 90, Fax: +386 1 300 42 91, E-mail: info@alkaloid.si', 'üres', 'üres', '24/07/2020')\n",
      "('LORATADIN HEXAL 10 mg tabletta                                                                                                                                                                                                                                 ', 'Loratadin HEXAL 10 mg tabletta 30x', '30x', 'üres', 'üres', 'üres', '0,00 Ft/', 'Egészségpénztári kártyára vásárolható', 'Készleten', 'Kezdőlap', 'loratadinum', 'üres', 'OGYI-T-9539/01', 'üres', 'Sandoz Hungária Kft.', '1114 Budapest, Bartók Béla út 43-47., Magyarország', 'Salutas Pharma Gmbh', 'Otto-von-Guericke-Allee 1, 39179 Barleben, Németország, Lek S.A., Iroda:,Podlipie 16, 95-010 Stryków, Lengyelország, Gyártás helye:,Domaniewska 50C, 02-672 Warsaw, Lengyelország', 'üres', 'üres', '24/07/2020')\n",
      "('HEDELIX belsőleges oldatos cseppek', 'Hedelix belsőleges oldatos cseppek 20ml', '20ml', '1799', 'üres', 'üres', '90,00 Ft/ml', 'Egészségpénztári kártyára vásárolható', 'Készleten', 'Köhögéscsillapító', 'üres', 'üres', 'OGYI-T-22707/01 20 ml, OGYI-T-22707/02 50 ml, OGYI-T-22707/03 100 ml', '2014. november', 'Krewel Meuselbach GmbH', 'Krewelstr. 253783 Eitorf, Németország', 'üres', 'üres', 'üres', 'üres', '27/07/2020')\n",
      "('LYXIO 200 mg por belsőleges oldathoz                                                                                                                                                                                                                           ', 'Lyxio 200 mg por belsőleges oldathoz 30x', '30x', '1599', 'üres', 'üres', '53,30 Ft/db', 'Egészségpénztári kártyára vásárolható', 'üres', 'Köhögéscsillapító', 'üres', 'A Lyxio acetilcisztein hatóanyagot tartalmazó nyákoldó, köptető hatású készítmény. Az acetilcisztein oldja a légúti megbetegedések esetén képződő sűrű nyákot, elősegíti a légcsőben és légutakban lerakódott nyák oldását, így könnyíti a légzést. A készítmény olyan légúti megbetegedések kiegészítő kezelésére szolgál, amelyekben sűrű viszkózus nyák képződik, mint pl. a megfázásos megbetegedések, a hörgők akut vagy krónikus gyulladása, az influenza', 'OGYI-T-22630/01 20x papír/Al/PE tasakban és dobozban, OGYI-T-22630/02 30x papír/Al/PE tasakban és dobozban, Lyxio 600 mg por belsőleges oldathoz:, OGYI-T-22630/03 10x papír/Al/PE tasakban és dobozban', 'üres', 'Lyxio 200 Mg Por Belsőleges Oldathoz:', 'üres', 'Lamp San Prospero Spa - Via Della Pace 25/A', '41030 San Prospero (Modena),Olaszország,:, Lyxio 200 mg por belsőleges oldathoz:', 'üres', 'üres', '24/07/2020')\n",
      "('LYXIO 600 mg por belsőleges oldathoz                                                                                                                                                                                                                           ', 'Lyxio 600 mg por belsőleges oldathoz 10x', '10x', '1799', 'üres', 'üres', '179,90 Ft/db', 'Egészségpénztári kártyára vásárolható', 'Készleten', 'Köhögéscsillapító', 'üres', 'A Lyxio acetilcisztein hatóanyagot tartalmazó nyákoldó, köptető hatású készítmény. Az acetilcisztein oldja a légúti megbetegedések esetén képződő sűrű nyákot, elősegíti a légcsőben és légutakban lerakódott nyák oldását, így könnyíti a légzést. A készítmény olyan légúti megbetegedések kiegészítő kezelésére szolgál, amelyekben sűrű viszkózus nyák képződik, mint pl. a megfázásos megbetegedések, a hörgők akut vagy krónikus gyulladása, az influenza.', 'OGYI-T-22630/01 20x papír/Al/PE tasakban és dobozban, OGYI-T-22630/02 30x papír/Al/PE tasakban és dobozban, Lyxio 600 mg por belsőleges oldathoz:, OGYI-T-22630/03 10x papír/Al/PE tasakban és dobozban', 'üres', 'Lyxio 200 Mg Por Belsőleges Oldathoz:', 'üres', 'Lamp San Prospero Spa - Via Della Pace 25/A', '41030 San Prospero (Modena),Olaszország,:, Lyxio 200 mg por belsőleges oldathoz:', 'üres', 'üres', '24/07/2020')\n",
      "('MUCOFREE 15 mg pasztilla                                                                                                                                                                                                                                       ', 'Mucofree 15 mg pasztilla 20x', '20x', '1599', 'üres', 'üres', '82,50 Ft/db', 'Egészségpénztári kártyára vásárolható', 'Készleten', 'Kezdőlap', 'üres', 'üres', 'üres', 'üres', 'üres', 'üres', 'üres', 'üres', 'üres', 'üres', '24/07/2020')\n",
      "('MUCOFREE 15 mg/5 ml szirup                                                                                                                                                                                                                                     ', 'Mucofree 15 mg/5 ml szirup 100ml', '100ml', '1799', 'üres', 'üres', '18,30 Ft/ml', 'Egészségpénztári kártyára vásárolható', 'Készleten', 'Köhögéscsillapító', 'üres', 'Hurutos köhögésre. A Mucofree szirup hármas hatásával fellazítja a váladékot, felszabadítja a légzést és könnyíti a köhögést. A gyógyszer egyénileg adagolható.', 'üres', 'üres', 'üres', 'üres', 'üres', 'üres', 'üres', 'üres', '24/07/2020')\n",
      "('HERBION borostyán 7 mg/ml szirup', 'Herbion borostyán 7 mg/ml szirup 150ml', '150ml', '2149', 'üres', 'üres', '14,30 Ft/ml', 'Egészségpénztári kártyára vásárolható', 'Készleten', 'Köhögéscsillapító', 'üres', 'A készítmény borostyánlevél száraz kivonatot tartalmaz. A Herbion borostyán szirup növényi gyógyszer, hurutos köhögésnél köptetőként a nyák felszakadását és kiürítését segíti elő.', 'OGYI-T-22048/01', 'üres', 'KRKA', 'd.d., Novo mesto, Šmarješka cesta 6, 8501 Novo mesto, Szlovénia', 'üres', 'üres', 'üres', 'üres', '27/07/2020')\n",
      "('MEBUCAIN MINT 2 mg/1 mg szopogató tabletta                                                                                                                                                                                                                     ', 'Mebucain Mint 2mg/1mg szopogató tabletta 20x', '20x', '1949', 'üres', 'üres', '95,00 Ft/db', 'Egészségpénztári kártyára vásárolható', 'Készleten', 'Torokfertőtlenítők', 'cetylpiridinium bromatum', 'A Mebucain Mint szopogató tabletta enyhíti a torokfájást, vagy az enyhe szájüregi fertőzések okozta fájdalmat. Emellett csökkenti a fertőzést okozó kórokozók számát is.p\\np\\xa0p\\np\\np\\np\\np\\npKiszállítás futárszolgálattal: 695 Ftp\\np\\np\\np\\npSzemélyes átvétel több, mint 100 gyógyszertárban: ingyenesp\\np\\np\\n', 'OGYI-T-9879/02 (20 db), OGYI-T-9879/03 (30 db)', 'üres', 'Novartis Hungária Kft. (Consumer Health Részlege)', '1114 Budapest, Bartók Béla út 43-47., Magyarország', 'üres', 'üres', 'üres', 'üres', '24/07/2020')\n",
      "('MEBUCAIN ORANGE szopogató tabletta                                                                                                                                                                                                                             ', 'Mebucain Orange szopogató tabletta 16x', '16x', '1349', 'üres', 'üres', '84,30 Ft/Ft/db', 'Egészségpénztári kártyára vásárolható', 'üres', 'Torokfertőtlenítők', 'üres', 'A Mebucain szopogató tabletta a szájüreg és torok fertőzéseinek kezelésére használható. Alkalmazható pl. megfázás okozta torokfájás, a torokgyulladás, a gégehurut, kis szájüregi fekélyek (ún. afták) és a fogínygyulladás kezelésére. Mandulagyulladás kiegészítő kezelésére is használható.', 'OGYI-T–8450/01-02.', '2007. július 2.', 'Novartis Hungária Kft. (Consumer Health Részlege)', '1114. Budapest, Bartók Béla út 43-47.', 'Novartis Pharmaceutica S.A.', 'Barbera del Valles, Spanyolország,1. MILYEN BETEGSÉGEK ESETÉN ALKALMAZHATÓ ÉS HOGYAN FEJTI KI HATÁSÁT A MEBUCAIN ORANGE SZOPOGATÓ TABLETTA?, A Mebucain szopogató tabletta a szájüreg és torok fertőzéseinek kezelésére használható. Alkalmazható pl. megfázás okozta torokfájás, a torokgyulladás, a gégehurut (melyek az esetek egy részében nyelési fájdalommal is járhatnak), kis szájüregi fekélyek (ún. afták) és a fogínygyulladás kezelésére. Mandulagyulladás kiegészítő kezelésére is használható.,Fertőtlenítő (baktériumok, vírusok és gombák okozta gyulladások) hatású és fájdalomcsillapító hatóanyagokat tartalmaz.,A helyi érzéstelenítő hatással rendelkező lidokain csillapítja a torokfájást és a gyulladás okozta nyelési fájdalmat.,Az Mebucain nem izgatja a száj és torok nyálkahártyáját.,2. TUDNIVALÓK A MEBUCAIN ORANGE SZOPOGATÓ TABLETTA SZEDÉSE ELŐTT, Mielőtt a Mebucain Orange szopogató tablettát alkalmazná, vegye figyelembe a következőket.,Mikor nem szabad használni ezt a gyógyszert? · Ha kvaterner ammónium-tartalmú gyógyszerekre, lidokainra vagy a készítmény egyéb összetevőjére túlérzékeny.,· Kifejezett bradikardia (a szívösszehúzódások száma alacsony) esetén nem alkalmazható., · 4 év alatti életkorban., Ha Ön terhes vagy szoptat:, Terhesség és szoptatás időszakában a tabletta alkalmazása nem javallt., Ha Ön cukorbeteg:, A gyógyszer alkalmazása során kérjük vegye figyelembe, hogy 1 tabletta 1 g szorbitot tartalmaz., Alkalmazható-e más gyógyszerekkel együtt a Mebucain Orange szopogató tabletta? Klinikailag jelentős gyógyszerkölcsönhatások nem ismeretesek., Mivel a lidokain a szisztémás keringésbe bejuthat – különösen túladagolás esetén – gyógyszerkölcsönhatások előfordulása (pl. ß-blockolókkal, cimetidinnel, fenitoinnal) nem zárható ki teljesen., A benzoxonium antibakteriális hatásfokát az egyidejűleg alkalmazott anionos felületaktív anyagok (pl. fogkrém) csökkentik., Figyelmeztetés:, Ha a torokfájást magas láz kíséri vagy a kezelés ellenére egy hétnél tovább tart, keresse fel kezelő\\\\xadorvosát.,3. HOGYAN KELL ALKALMAZNI A MEBUCAIN ORANGE SZOPOGATÓ TABLETTÁT?, Hogyan használja a Mebucain Orange szopogató tablettát? Ha az orvos másképp nem rendeli, szokásos adagja:, Felnőtteknek: naponta 2-3 óránként kell 1 tablettát elszopogatni. Súlyosabb esetben az adag növelhető 1-2 óránként 1 tablettára., A napi maximális adag: 10 tabletta., Gyermekeknek 4 éves kor felett adható, csökkentett adagban.,Naponta 2-3 óránként ½ tablettát kell elszopogatni., A napi maximális adag: 6 tabletta., A tablettát nem szabad egészben lenyelni, alkalmazását követően 1 órán át nem cél\\\\xadszerű enni és inni.,Mit tegyen, ha túl sok Mebucain Orange szopogató tablettát alkalmazott? Ha véletlenül túl sok tablettát nyel le, azonnal forduljon orvoshoz., Kisgyermekekben a lidokain esetleges túldagolása görcsöket válthat ki.,4. LEHETSÉGES MELLÉKHATÁSOK, Milyen mellékhatásai lehetnek a Mebucain Orange szopogató tablettának?, Bizonyos esetekben az alkalmazás helyén előfordulhat enyhe, átmeneti kellemetlen érzés. Nagyon ritkán allergiás reakció jelentkezhet, mely bőrkiütéssel, esetleg száj- és torok-duzzanattal jár. Ilyen esetben azonnal hagyja abba a gyógyszer alkalmazását és értesítse kezelőorvosát.,Lidokain tartalma miatt éhgyomorra nagyobb mennyiségben alkalmazva hányingert válthat ki., Tájékoztassa kezelőorvosát vagy a gyógyszerészt, ha a szopogató tabletta használatával kapcsolatba hozható nem kívánt hatást tapasztalna., 5. TÁROLÁS, 30 °C alatti hőmérsékleten, nedvességtől és hőtől védve tárolandó., A gyógyszert csak a csomagoláson feltüntetett lejárati időn belül szabad felhasználni., A gyógyszer gyermekektől elzárva tartandó!', 'üres', 'üres', '24/07/2020')\n",
      "('MUCOANGIN 20 mg szopogató tabletta                                                                                                                                                                                                                             ', 'Mucoangin 20 mg szopogató tabletta 18x', '18x', '1549', 'üres', 'üres', '86,10 Ft/db', 'Egészségpénztári kártyára vásárolható', 'üres', 'Torokfertőtlenítők', 'üres', 'üres', 'OGYI-T-9384/01 20x - PP//Al (PP réteggel bevonva) buborékcsomagolásban és dobozban, OGYI-T-9384/04 20x - Al fólia (LDPE réteggel bevonva) szalagcsomagolásban és dobozban, OGYI-T-9384/05 18x - PP//Al (PP réteggel bevonva) buborékcsomagolásban és dobozban', '2017. február', 'Sanofi-Aventis Zrt.', '1045 Budapest, Tó utca 1-5., Magyarország', 'Delpharm Reims', '10 Rue Colonel Charbonneaux, 51100 Reims, Franciaország', 'üres', 'üres', '24/07/2020')\n",
      "('MUCOFREE 30 mg/5 ml szirup                                                                                                                                                                                                                                     ', 'Mucofree 30 mg/5 ml szirup 100ml', '100ml', '1999', 'üres', 'üres', '20,00 Ft/ml', 'Egészségpénztári kártyára vásárolható', 'Készleten', 'Köhögéscsillapító', 'üres', 'Hurutos köhögésre. A Mucofree szirup hármas hatásával fellazítja a váladékot, felszabadítja a légzést és könnyíti a köhögést. A gyógyszer egyénileg adagolható.', 'üres', 'üres', 'üres', 'üres', 'üres', 'üres', 'üres', 'üres', '24/07/2020')\n",
      "('MUCOFREE MAX 75 mg retard kemény kapszula                                                                                                                                                                                                                      ', 'Mucofree MAX 75 mg retard kemény kapszula 20x', '20x', '1949', 'üres', 'üres', '91,50 Ft/db', 'Egészségpénztári kártyára vásárolható', 'Készleten', 'Köhögéscsillapító', 'üres', 'A Mucofree Max kapszula HÁRMAS HATÁSÁVAL segít a hurutos köhögésben NAPI 1 KAPSZULÁVAL:p\\np\\npFellazítja a váladékot,p\\npKönnyíti a köhögést,p\\npFelszabadítja a légzéstp\\n', 'üres', 'üres', 'üres', 'üres', 'üres', 'üres', 'üres', 'üres', '24/07/2020')\n",
      "('MUCOPLANT DR. THEISS Eukaliptusz és fenyőolaj kenőcs                                                                                                                                                                                                           ', 'Mucoplant Dr.Theiss Eukaliptusz kenőcs 50g', '50g', '1549', 'üres', 'üres', '31,00 Ft/g', 'Egészségpénztári kártyára vásárolható', 'Készleten', 'Köhögéscsillapító', 'camphora', 'A Mucoplant Dr. Theiss Eukaliptusz és fenyőolaj kenőcs külsőleges használatra és inhalációs gőz képzéséhez alkalmazható, a megfázásos tünetek (pl. szövődményekkel nem járó nátha, rekedtség, hörghurut) enyhítésére.', 'OGYI-T-22433/01', 'üres', 'Dr. Theiss Naturwaren Gmbh', 'Michelinstraße 10, 66424 Homburg, Németország', 'üres', 'üres', 'üres', 'üres', '24/07/2020')\n",
      "('MUCOPRONT 375 mg kemény kapszula                                                                                                                                                                                                                               ', 'Mucopront 375 mg kemény kapszula 20x', '20x', '1749', 'üres', 'üres', '87,50 Ft/db', 'Egészségpénztári kártyára vásárolható', 'Készleten', 'Köhögéscsillapító', 'carbocysteinum', 'Mucopront 375 mg kemény kapszula nagy mennyiségű köpet termelődésével, elégtelen ürülésével járó légúti megbetegedé\\xadsekben a nyák oldá\\xadsára, a köpetürítés elősegítésére szolgál.', 'OGYI-T-1380/01 (20 db), OGYI-T-1380/02 (50 db)', 'üres', 'Pharmaswiss Česká Republika S.R.O.', 'Jankovcova 1569/2c, 17000 Praha 7, Cseh Köztársaság', 'Meditop Gyógyszeripari Kft.', '2097 Pilisborosjenő, Ady Endre u.1.,:, Valeant Pharma Magyarország Kft., 1025 Budapest, Csatárka u. 82-84., Magyarország, Tel: 06-1-345-5900', 'üres', 'üres', '24/07/2020')\n",
      "('NEO-ANGIN szopogató tabletta                                                                                                                                                                                                                                   ', 'Neo-Angin Dolo szopogató tabletta 12x', '12x', '1249', 'üres', 'üres', '104,10 Ft/db', 'üres', 'Készleten', 'Torokfertőtlenítők', 'üres', 'Neo-angin dolo szopogató tabletta orvosi ziliz kivonattal, gyors segítség heveny torokfájás esetén.\\xa0', 'üres', 'üres', 'üres', 'üres', 'üres', 'üres', 'üres', 'üres', '24/07/2020')\n",
      "('PAXIRASOL 8 mg tabletta                                                                                                                                                                                                                                        ', 'Paxirasol 8 mg tabletta 20x', '20x', '1399', 'üres', 'üres', '69,00 Ft/db', 'Egészségpénztári kártyára vásárolható', 'Készleten', 'Köhögéscsillapító', 'bromhexidinium chloratum', 'A Paxirasol 8 mg tabletta a kórosan sűrű nyák- és köpettermeléssel járó heveny és idült légúti megbetegedések kezelésére szolgáló, köptető hatású készítmény.', 'OGYI-T-3612/01', 'üres', 'üres', 'üres', 'Egis Gyógyszergyár Zrt.', 'H-9900 Körmend, Mátyás király út 65.', 'üres', 'üres', '24/07/2020')\n",
      "('NASIC 0,5 mg/ml+50 mg/ml oldatos orrspray kisgyermekeknek                                                                                                                                                                                                      ', 'Nasic 0,5 mg/ml+50 mg/ml oldatos orrspray kisgyermekeknek 10ml', '10ml', '2249', 'üres', 'üres', '224,90 Ft/ml', 'Egészségpénztári kártyára vásárolható', 'üres', 'Orrdugulás ellen', 'dexpanthenolum', 'A nasic oldatos orrspray. Két hatóanyaga van, a xilometazolin érszűkítő hatása révén csökkenti a nyálkahártya vérbőségét, a dexpantenol egy vitamin (pantoténsav‑származék), amely elősegíti a sebgyógyulást és védi a nyálkahártyát.', 'OGYI-T-20508/01 (10 ml), OGYI-T-20508/03 (10 ml)', 'üres', 'Cassella-Med Gmbh & Co. Kg', 'Gereonsmühlengasse 1, 50670 Köln, Németország', 'Klosterfrau Berlin Gmbh', 'Motzener Str. 41, 12277 Berlin, Németország', 'üres', 'üres', '24/07/2020')\n",
      "('NASIC PUR 0,5 mg/ml + 50 mg/ml oldatos orrspray kisgyermekeknek                                                                                                                                                                                                ', 'Nasic Pur 0,5 mg/ml+50 mg/ml oldatos orrspray kisgyermekeknek 10ml', '10ml', '2349', 'üres', 'üres', '234,90 Ft/ml', 'Egészségpénztári kártyára vásárolható', 'Készleten', 'Orrdugulás ellen', 'üres', 'A naic pur oldatos orrspray. Két hatóanyaga van, a xilometazolin érszűkítő hatása ré\\xadvén csökkenti a nyálkahártya vérbőségét, a dexpantenol egy vitamin (pantoténsav‑származék), amely elősegíti a sebgyógyulást és védi a nyálkahártyát.', 'OGYI-T-22471/02 1x10 ml HDPE tartályban és dobozban', 'üres', 'Cassella-Med Gmbh & Co. Kg', 'Gereonsmühlengasse 1, 50670 Köln, Németország', 'Klosterfrau Berlin Gmbh', 'Motzener Str. 41, 12277 Berlin, Németország,:', 'üres', 'üres', '24/07/2020')\n",
      "('NASIVIN CLASSIC 0,5 mg/ml oldatos orrspray                                                                                                                                                                                                                     ', 'Nasivin Classic 0,5mg/ml oldatos orrspray 10ml', '10ml', '2479', 'üres', 'üres', '247,90 Ft/ml', 'Egészségpénztári kártyára vásárolható', 'Készleten', 'Orrdugulás ellen', 'oxymethazolinium chloratum', 'A Nasivin 0,5 mg/ml oldatos orrspray a következő betegségekre alkalmazható: nátha (rinitisz akuta), allergiás nátha (rinitisz allergika), rohamokban fellépő szénanátha (rinitisz vazomotorika), a váladékürülés megkönnyítésére az orr- és/vagy melléküregek gyulladása esetén, náthával együttjáró fülkürt és középfül-gyulladás, nyálkahártya‑duzzanat diagnosztikus csökkentésére orvosi vizsgálatok során.', 'OGYI-T-7882/01', 'üres', 'üres', 'üres', 'Merck Kgaa', '64293 Darmstadt, Frankfurter Str. 250, Németország, Sofarimex – Indústria Química e Farmacêutica, S.A., Av. das Indústrias - Alto do Colaride, Cacém, 2735–213, Portugália, Famar Nederland B.V., Industrieweg 1, 5531 AD Bladel, Hollandia', 'üres', 'üres', '24/07/2020')\n",
      "('REVICET AKUT 10 mg préselt szopogató tabletta                                                                                                                                                                                                                  ', 'Revicet Akut 10 mg préselt szopogató tabletta 7x', '7x', '1049', 'üres', 'üres', '149,90 Ft/db', 'Egészségpénztári kártyára vásárolható', 'Készleten', 'Allergia', 'üres', 'A Revicet Akut 10 mg préselt szopogató tabletta allergia ellenes gyógyszer, az antihisztaminok csoportjába tartozik.', 'OGYI-T-20392/05', '2009. május 11.', 'üres', 'üres', 'Losan Pharma Gmbh.', 'Otto Hahn Strasse 13, D-79395 Neuenburg, Németország.', 'üres', 'üres', '24/07/2020')\n",
      "('NASIVIN KIDS 0,25 mg/ml oldatos orrcsepp                                                                                                                                                                                                                       ', 'Nasivin Kids 0,25 mg/ml oldatos orrcsepp 10ml', '10ml', '1699', 'üres', 'üres', '169,90 Ft/ml', 'Egészségpénztári kártyára vásárolható', 'Készleten', 'Orrdugulás ellen', 'oxymethazolinium chloratum', 'A Nasivin oldatos oximetazolin tartalmú orrcseppek 1-6 éves korig a következő betegségekre alkalmazhatók: nátha (rinitisz akuta), allergiás nátha (rinitisz allergika), rohamokban fellépő szénanátha (rinitisz vazomotorika), a váladékürülés megkönnyítésére az orr- és/vagy melléküregek gyulladása esetén, náthával együttjáró fülkürt és középfül-gyulladás, nyálkahártya‑duzzanat diagnosztikus csökkentésére orvosi vizsgálatok során.', 'OGYI-T-7882/02 (Nasivin Baby 0,1 mg/ml oldatos orrcsepp), OGYI-T-7882/03 (Nasivin Kids 0,25 mg/ml oldatos orrcsepp), OGYI-T-7882/04 (Nasivin Classic 0,5 mg/ml oldatos orrcsepp)', 'üres', 'üres', 'üres', 'Merck Kgaa', '64293 Darmstadt, Frankfurter Str. 250, Németország, Sofarimex – Indústria Química e Farmacêutica, S.A., Av. das Indústrias - Alto do Colaride, Cacém, 2735–213, Portugália, Famar Nederland B.V., Industrieweg 1, 5531 AD Bladel, Hollandia', 'üres', 'üres', '24/07/2020')\n",
      "('NASOPAX orrspray felnőtteknek                                                                                                                                                                                                                                  ', 'Nasopax orrspray felnőtteknek 10ml', '10ml', '2379', 'üres', 'üres', '237,90 Ft/ml', 'Egészségpénztári kártyára vásárolható', 'Készleten', 'Orrdugulás ellen', 'bromhexidinium chloratum', 'Olyan állapotokban, amikor az orr nyálkahártyája gyulladt és duzzadt, az orrlégzés nehezített, a duzzadt nyálkahártya miatt az arcüregek belső kivezető járatai zártak, valamint a belső füljá\\xadrat is zárt.p\\np\\xa0p\\np\\np\\np\\np\\npKiszállítás futárszolgálattal: 695 Ftp\\np\\np\\np\\npSzemélyes átvétel több, mint 100 gyógyszertárban: ingyenesp\\np\\np\\n', 'OGYI-T- 8269/01', '2009. március 3.', 'Meditop Gyógyszeripari Kft.', '2097 Pilisborosjenő, Ady Endre u.1, Tel.: 06 26 336 400, Fax.: 06 26 336 041, E-mail: info@meditop.hu', 'üres', 'üres', 'Meditop Gyógyszeripari Kft.', '2097 Pilisborosjenő, Ady Endre u.1, Tel.: 06 26 336 400, Fax.: 06 26 336 041, E-mail: info@meditop.hu', '24/07/2020')\n",
      "('RHINATHIOL TUSSO 100 mg tabletta                                                                                                                                                                                                                               ', 'Rhinathiol Tusso 100 mg tabletta 20x', '20x', '1899', 'üres', 'üres', '97,50 Ft/db', 'Egészségpénztári kártyára vásárolható', 'Készleten', 'Köhögéscsillapító', 'prenoxdiazinium', 'A Rhinathiol Tusso tabletta száraz köhögés csillapítására szolgáló készítmény, amely megkönnyíti a légzést és a köpet mennyiségét is befolyásolja. Köhögéscsillapító hatása 3-4 órán át tart.', 'OGYI-T-9200/01 (20 db)', 'üres', 'Sanofi-Aventis Zrt.', '1045 Budapest, Tó u. 1-5.', 'Chinoin Zrt', '2112, Veresegyház, Lévai u.5., Magyarország', 'üres', 'üres', '24/07/2020')\n",
      "('ROBITUSSIN ANTITUSSICUM szirup                                                                                                                                                                                                                                 ', 'Robitussin Antitussicum szirup 100ml', '100ml', '1999', 'üres', 'üres', '20,00 Ft/ml', 'Egészségpénztári kártyára vásárolható', 'Készleten', 'Köhögéscsillapító', 'dextrometorphanium bromatum', 'A készítmény köhögéscsillapító, enyhíti a makacs, száraz köhögést.', 'üres', 'üres', 'üres', 'üres', 'Ivax Pharmaceuticals S.R.O.', \"Ostravska 29, 747 70 Opava, 9, Czech Republic., (vagy), Doppel Farmaceutici S.r.l., Via Martiri delle Foibe 1, 29016 Cortemaggiore (Piacenza), Italy,A betegtájékoztató engedélyezésének dátuma: 2010. február 26., ']\", 'üres', 'üres', '24/07/2020')\n",
      "('NASOPAX orrspray gyermekeknek                                                                                                                                                                                                                                  ', 'Nasopax orrspray gyermekeknek 10ml', '10ml', '2339', 'üres', 'üres', '229,90 Ft/ml', 'Egészségpénztári kártyára vásárolható', 'Készleten', 'Orrdugulás ellen', 'bromhexidinium chloratum', 'Olyan állapotokban, amikor az orr nyálkahártyája gyulladt és duzzadt, az orrlégzés nehezített, a duzzadt nyálkahártya miatt az arcüregek belső kivezető járatai zártak, valamint a belső fül\\xadjá\\xadrat is zárt. Ilyen állapotok az egyszerű nátha, az allergiás és az ún. vazomotoros orrnyálkahártya gyulla\\xaddás, a felső légúti gyulladások (melynek kellemetlen tünetei az orrdugulás, tüsszögés, orrfo\\xadlyás, orrviszketés, könnyezés), valamint a heveny arcüreggyulladás.p\\np\\xa0p\\np\\np\\np\\np\\npKiszállítás futárszolgálattal: 695 Ftp\\np\\np\\np\\npSzemélyes átvétel több, mint 100 gyógyszertárban: ingyenesp\\np\\np\\n', 'OGYI-T- 8270/01', '2009. március 3.', 'Meditop Gyógyszeripari Kft.', '2097 Pilisborosjenő, Ady Endre u. 1, Tel.: 06 26 336 400, Fax.: 06 26 336 041, E-mail: info@meditop.hu', 'üres', 'üres', 'Meditop Gyógyszeripari Kft.', '2097 Pilisborosjenő, Ady Endre u. 1, Tel.: 06 26 336 400, Fax.: 06 26 336 041, E-mail: info@meditop.hu', '24/07/2020')\n",
      "('NEO-ANGIN cseresznye szopogató tabletta                                                                                                                                                                                                                        ', 'Neo-Angin szopogató tabletta cseresznye ízű 24x', '24x', '1849', 'üres', 'üres', '77,00 Ft/Ft/db', 'Egészségpénztári kártyára vásárolható', 'Készleten', 'Torokfertőtlenítők', 'mentholum', 'A neo-angin cseresznye szopogató tabletta a száj és a torok fertőtőtlenítésére használt gyógyszer. A nyálkahártya gyulladása a garatmandula területén, aminek tipikus tüneteia torokfájás, piros, duzzadt torok.', 'OGYI-T-10365/03 (12x buborékcsomagolásban) OGYI-T-10365/04 (16x buborékcsomagolásban) OGYI-T-10365/05 (24x buborékcsomagolásban) OGYI-T-10365/06 (48x buborékcsomagolásban)', '2010. december 6.', 'Divapharma Gmbh', 'Motzener Str. 41, D-12277 Berlin, Németország', 'üres', 'üres', 'üres', 'üres', '24/07/2020')\n",
      "('SEPTOFORT tabletta                                                                                                                                                                                                                                             ', 'Septofort tabletta 24x', '24x', '1749', 'üres', 'üres', '58,30 Ft/db', 'Egészségpénztári kártyára vásárolható', 'Készleten', 'Torokfertőtlenítők', 'chlorhexidinium gluconicum', 'A klórhexidin tartalmú Septofortnak nem számít, miért fáj a torkod! Szájüregi fertőzések, gyulladások és szájnyálkahártya betegségek kezelésére is\\xa0 alkalmas', 'OGYI-T 3843/02 12 db, OGYI-T 3843/03 24 db', 'üres', 'Walmark', 'a.s., Oldřichovice 44, 739 61 Třinec, Csehország', 'üres', 'üres', 'üres', 'üres', '24/07/2020')\n",
      "('KALOBA szirup', 'Kaloba szirup 100ml', '100ml', '3399', 'üres', 'üres', '34,00 Ft/ml', 'Egészségpénztári kártyára vásárolható', 'üres', 'Kezdőlap', 'üres', 'A készítmény hagyományos növényi gyógyszer, amelyet kizárólag a régóta fennálló használat alapján alkalmaznak felső légúti fertőzések, többek között a megfázás tüneteinek enyhítésére, mint pl. torokfájás, köhögés, orrdugulás, orrfolyás.', 'üres', 'üres', 'üres', 'üres', 'üres', 'üres', 'üres', 'üres', '27/07/2020')\n",
      "('NOVORIN 0,05% oldatos orrcsepp                                                                                                                                                                                                                                 ', 'Novorin 0,05% oldatos orrcsepp 10ml', '10ml', '1099', 'üres', 'üres', '109,90 Ft/Ft/ml', 'Egészségpénztári kártyára vásárolható', 'Készleten', 'Orrdugulás ellen', 'xylomethazolinium chloratum', 'A készítmény az orrnyálkahártyára cseppentve érösszehúzódást idéz elő, csökkenti a nyálkahártya duzzanatot, és az orr-garatüreg nyálkahártyájának vérbőségét, továbbá ugyancsak csökkenti a váladékképződést. A készítmény az alábbi állapotok tüneti kezelésére alkalmas: akut vírusos, vagy bakteriális eredetű orrnyálkahártya-gyulladás; akut, vagy krónikus arcüreggyulladás fellángolása; allergiás orrnyálkahártya-gyulladás;', 'OGYI-T-1202/01 NOVORIN 0,05%,OGYI-T-753/01 NOVORIN 0,1%', '2009. január 14.', 'Warsaw Pharmaceutical Works Polfa S.A.', '22/24 Karolkowa Str.; 01-207 Varsó, Lengyelország, További részletes információért kérjük, lépjen kapcsolatba a forgalomba hozatali engedély jogosultjával.', 'üres', 'üres', 'üres', 'üres', '24/07/2020')\n",
      "('NOVORIN 0,1% oldatos orrcsepp                                                                                                                                                                                                                                  ', 'Novorin 0,1% oldatos orrcsepp 10ml', '10ml', '1349', 'üres', 'üres', '134,90 Ft/ml', 'Egészségpénztári kártyára vásárolható', 'Készleten', 'Orrdugulás ellen', 'xylomethazolinium chloratum', 'A készítmény az orrnyálkahártyára cseppentve érösszehúzódást idéz elő, csökkenti a nyálkahártya duzzanatot, és az orr-garatüreg nyálkahártyájának vérbőségét, továbbá ugyancsak csökkenti a váladékképződést. A készítmény az alábbi állapotok tüneti kezelésére alkalmas: akut vírusos, vagy bakteriális eredetű orrnyálkahártya-gyulladás; akut, vagy krónikus arcüreggyulladás fellángolása; allergiás orrnyálkahártya-gyulladás;', 'OGYI-T-1202/01 NOVORIN 0,05%,OGYI-T-753/01 NOVORIN 0,1%', '2009. január 14.', 'Warsaw Pharmaceutical Works Polfa S.A.', '22/24 Karolkowa Str.; 01-207 Varsó, Lengyelország, További részletes információért kérjük, lépjen kapcsolatba a forgalomba hozatali engedély jogosultjával.', 'üres', 'üres', 'üres', 'üres', '24/07/2020')\n",
      "('SEPTOLETE EXTRA 1,5 mg/ml + 5 mg/ml szájnyálkahártyán alkalmazott oldatos spray                                                                                                                                                                                ', 'Septolete Extra 1,5 mg/ml+5 mg/ml szájnyálkahártyán alkalmazott oldatos spray 30ml', '30ml', '2099', 'üres', 'üres', '70,00 Ft/ml', 'Egészségpénztári kártyára vásárolható', 'Készleten', 'Torokfertőtlenítők', 'üres', 'A Septolete extra szájnyálkahártyán alkalmazott spray gyulladáscsökkentő, fájdalomcsillapító és antiszeptikum helyi, szájüregi használatra. Fertőtleníti a szájüreget és a garatot, enyhíti a torokgyulladás tüneteit, például a fájdalmat, a vérbőséget, a duzzanatot, a melegséget és a nyelési nehézséget.', 'OGYI-T-22871/06 1x30 ml műanyag (HDPE) permetező tartály', 'üres', 'Krka', 'd.d., Novo mesto, Šmarješka cesta 6, 8501 Novo mesto, Szlovénia', 'üres', 'üres', 'üres', 'üres', '24/07/2020')\n",
      "('SEPTOLETE EXTRA citrom-bodza 3 mg/1 mg szopogató tabletta                                                                                                                                                                                                      ', 'Septolete extra 3mg/1mg szopogató tabletta citrom-bodza ízű 16x', '16x', '1999', 'üres', 'üres', '124,90 Ft/db', 'Egészségpénztári kártyára vásárolható', 'Készleten', 'Torokfertőtlenítők', 'üres', 'A Septolete extra szopogató tabletta felnőttek és 6 év feletti gyermekek számára javallott gyulladáscsökkentőként, fájdalomcsillapítóként és fertőtlenítőként torok-, szájüregi és fogíny-irritáció kezelésére.', 'OGYI-T-22871/12 8×, OGYI-T-22871/13 16×, OGYI-T-22871/14 24×, OGYI-T-22871/15 32×, OGYI-T-22871/16 40×', 'üres', 'Krka', 'd.d., Novo mesto, Šmarješka cesta 6, 8501 Novo mesto, Szlovénia', 'K:', 'KRKA, d.d., Novo mesto, Šmarješka cesta 6, 8501 Novo mesto, Szlovénia, TAD Pharma GmbH, Heinz-Lohmann-Straße 5, 27472 Cuxhaven, Németország', 'üres', 'üres', '24/07/2020')\n",
      "('SINUPRET belsőleges oldatos cseppek                                                                                                                                                                                                                            ', 'Sinupret belsőleges oldatos cseppek 50ml', '50ml', '2599', 'üres', 'üres', '56,00 Ft/ml', 'Egészségpénztári kártyára vásárolható', 'Készleten', 'Orrdugulás ellen', 'gentianae radix', 'Alkalmazható az orrmelléküregek és a légutak heveny és idült gyulladásainak kezelésére. A hatóanyagok gyulladáscsökkentő, nyálkaoldó hatásúak, megkönnyítik a letapadt váladék felköhögését és kiürítését.', 'OGYI-T-5509/01-02. 50 ml, 100 ml', '2017.január.', 'Bionorica Se', 'Kerschensteiner Str. 11-15, 92318 Neumarkt, Németország,:, Schwabe Hungary Kft., Tel.: +36 1 431-8954, Fax: +36 1 431-8953, Email: info@schwabe.hu', 'üres', 'üres', 'üres', 'üres', '24/07/2020')\n",
      "('BRONCHIPRET filmtabletta                                                                                                                                                                                                                                       ', 'Bronchipret filmtabletta 20x', '20x', '2499', 'üres', 'üres', '125,00 Ft/db', 'Egészségpénztári kártyára vásárolható', 'Készleten', 'Köhögéscsillapító', 'üres', 'A Bronchipret® hatékony gyógyszerkészítmény fokozott váladékképződéssel és\\xa0pköhögéssel járó hörghurutban.', 'OGYI-T-9642/05-07', 'üres', 'üres', 'üres', 'üres', 'üres', 'üres', 'üres', '25/07/2020')\n",
      "('SINUPRET bevont tabletta                                                                                                                                                                                                                                       ', 'Sinupret forte bevont tabletta 20x', '20x', '2899', 'üres', 'üres', '145,00 Ft/db', 'Egészségpénztári kártyára vásárolható', 'Készleten', 'Orrdugulás ellen', 'gentianae radix', 'A Sinupret forte bevont tabletta az orrmelléküregek és a légutak heveny és idült gyulladásainak kezelésére alkalmazható. Antibakteriális kezelés kiegészítéseként is felhasználható.', 'OGYI-T-5509/05 20 db, OGYI-T-5509/06 50 db, OGYI-T-5509/07 100 db, OGYI-T-5509/08 500 db', 'üres', 'Bionorica Se', 'Kerschensteiner str. 11-15., 92318-Neumarkt, Németország, Tel.: +49 9181 231 90, Fax: +49 9181 231 265, Website: www.bionorica.de, Email: info@bionorica.de,:, Schwabe Hungary Kft., Tel.: +36 1 431-8934, Fax: +36 1 431-8953', 'üres', 'üres', 'üres', 'üres', '24/07/2020')\n",
      "('SNUP 1 mg/ml oldatos orrspray                                                                                                                                                                                                                                  ', 'Snup 1 mg/ml oldatos orrspray 10ml', '10ml', '1699', 'üres', 'üres', '169,90 Ft/ml', 'Egészségpénztári kártyára vásárolható', 'Készleten', 'Orrdugulás ellen', 'üres', 'A tartósítószermentes SNUP orrspray az aktív hatóanyag és a tengervíz erejével segít csökkenteni az orrdugulást.', 'OGYI-T-23172/05 1×10 ml „3K-system” adagolópumpával lezárt polietilén tartály, OGYI-T-23172/06 1×10 ml „PFP N-system” adagolópumpával lezárt polietilén tartály, OGYI-T-23172/07 1×15 ml „3K-system” adagolópumpával lezárt polietilén tartály, OGYI-T-23172/08 1×15 ml „PFP N-system” adagolópumpával lezárt polietilén tartály', 'üres', 'Stada Arzneimittel Ag', 'Stadastrasse 2-18, D-61118 Bad Vilbel, Németország', 'üres', 'üres', 'üres', 'üres', '24/07/2020')\n",
      "('SOLEDUM FORTE 200 mg gyomornedv-ellenálló lágy kapszula                                                                                                                                                                                                        ', 'Soledum Forte 200 mg gyomornedv-ellenálló lágy kapszula 25x', '25x', '2499', 'üres', 'üres', '100,00 Ft/Ft/db', 'Egészségpénztári kártyára vásárolható', 'üres', 'Köhögéscsillapító', 'üres', 'üres', 'OGYI-T-22947/04 20x PVC/PVdC//Al buborékcsomagolásban, OGYI-T-22947/05 50x PVC/PVdC//Al buborékcsomagolásban, OGYI-T-22947/06 100x PVC/PVdC//Al buborékcsomagolásban, OGYI-T-22947/08 25x PVC/PVdC//Al buborékcsomagolásban', 'üres', 'Cassella-Med Gmbh & Co. Kg', 'Gereonsmühlengasse 1 50670 Köln, Németország', 'Klosterfrau Berlin Gmbh', 'Motzenerstr. 41, 12277 Berlin, Németország', 'üres', 'üres', '24/07/2020')\n",
      "('SOLMUCOL 200 mg szopogató tabletta                                                                                                                                                                                                                             ', 'Solmucol 200 mg szopogató tabletta 20x', '20x', '1649', 'üres', 'üres', '85,00 Ft/db', 'Egészségpénztári kártyára vásárolható', 'Készleten', 'Torokfertőtlenítők', 'acetylcysteinum', 'A Solmucol® acetilcisztein hatóanyagot tartalmazó, köptető hatású készítmény. Az acetilcisztein oldja a légúti megbetegedések esetén képződő sűrű nyákot. Elősegíti a légcsőben és légutakban lerakódott nyák kiürítését, így könnyíti a légzést.', 'OGYI-T-04060/02', 'üres', 'üres', 'üres', 'Ibsa Farmaceutici Italia Srl.', 'Via Martiri de Cefalonia, 2, 26900 Lodi, Olaszország', 'üres', 'üres', '24/07/2020')\n",
      "('STREPFEN 8,75 mg szopogató tabletta                                                                                                                                                                                                                            ', 'Strepfen cukormentes 8,75 mg szopogató tabletta 24x', '24x', '2799', 'üres', 'üres', '117,90 Ft/db', 'Egészségpénztári kártyára vásárolható', 'Készleten', 'Torokfertőtlenítők', 'flurbiprofenum', 'Hatékonyan alkalmazható a baktériumok vagy vírusok által kiváltott torokgyulladás tüneteinek (fájdalom és nyálkahártya duzzanat) csökkentésére.', 'OGYI-T-8900/01', '2009. szeptember 27.', 'Reckitt Benckiser Healthcare International Ltd.', '103-105 Bath Road, Slough, Berkshire SL1 3UH, Egyesült Királyság', 'Reckitt Benckiser Healthcare International Ltd.', 'Nottingham Site, Thane Road, Nottingham, NG90 2DB, Egyesült Királyság,:, Reckitt Benckiser Kft., 1036 Budapest, Lajos u. 48-66, Tel.: 06 1 880-1870 Fax: 06 1 250-8398', 'üres', 'üres', '24/07/2020')\n",
      "('STREPFEN DIREKT 16,2 mg/ml szájnyálkahártyán alkalmazott oldatos spray                                                                                                                                                                                         ', 'Strepfen Direkt 16,2 mg/ml szájnyálkahártyán alkalmazott oldatos spray 15ml', '15ml', '2999', 'üres', 'üres', '199,90 Ft/ml', 'Egészségpénztári kártyára vásárolható', 'Készleten', 'Torokfertőtlenítők', 'üres', 'A készítmény hatóanyaga a flurbiprofén. A flurbiprofén az úgynevezett nem szteroid gyulladáscsökkentő készítmények (NSAID-ok) csoportjába tartozik. Ezek a gyógyszerek a szervezetnek a fájdalomra, a duzzanatokra és lázra adott reakciójának megváltoztatásával biztosítanak enyhülést.', 'üres', 'üres', 'üres', 'üres', 'üres', 'üres', 'üres', 'üres', '24/07/2020')\n"
     ]
    },
    {
     "name": "stdout",
     "output_type": "stream",
     "text": [
      "('STREPSILS citromízû cukormentes szopogató tabletta                                                                                                                                                                                                             ', 'Strepsils citromízű cukormentes szopogató tabletta 24x', '24x', '2299', 'üres', 'üres', '95,80 Ft/db', 'Egészségpénztári kártyára vásárolható', 'Készleten', 'Torokfertőtlenítők', 'alcoholum dichlorobenzylicum', 'Antibakteriális, gomba és vírusellenes hatású. csillapítja a fájdalmat már 5 perc elteltével.', 'OGYI-T-4519/02 (24×)', 'üres', 'Reckitt Benckiser Healthcare International Ltd.', '103-105 Bath Road, Slough, Berkshire SL1 3UH, Egyesült Királyság', 'Reckitt Benckiser Healthcare International Limited', 'Nottingham Site, Thane Road Nottingham, NG90 2DB, Egyesült Királyság,:, Reckitt Benckiser Kft., 1113 Budapest, Bocskai út 134-146.,Tel: 06 1 880-1870, Fax: 06 1 250-8398, E-mail: gyogyszer@reckittbenckiser.com', 'üres', 'üres', '24/07/2020')\n",
      "('TALEUM 22 mg/g oldatos orrspray                                                                                                                                                                                                                                ', 'Taleum 22 mg/g oldatos orrspray 15g', '15g', '2349', 'üres', 'üres', '156,60 Ft/g', 'Egészségpénztári kártyára vásárolható', 'Készleten', 'Allergia', 'natrium cromoglycicum', 'A Taleum orrspray az allergiás nátha (szénanátha) megelőző kezelésére szolgál. A készítmény helyi hatást fejt ki az orrnyálkahártyán és ezáltal alkalmas a szezonális és krónikus allergiás nátha tüneteinek tartós megelőzésére.', 'OGYI-T-3798/01', 'üres', 'Pannonpharma Kft.', '7720 Pécsvárad, Pannonpharma út 1.', 'üres', 'üres', 'üres', 'üres', '24/07/2020')\n",
      "('STREPSILS eperízû cukormentes szopogató tabletta                                                                                                                                                                                                               ', 'Strepsils eperízű cukormentes szopogató tabletta 24x', '24x', '2299', 'üres', 'üres', '95,80 Ft/db', 'Egészségpénztári kártyára vásárolható', 'Készleten', 'Torokfertőtlenítők', 'alcoholum dichlorobenzylicum', 'Torokfájás esetén megküzd a kórokozókkal, továbbá fájdalomcsillapító hatású is már 5 perc elteltével.', 'OGYI-T-4519/03 (12×), OGYI-T-4519/04 (24×)', '2016. március', 'üres', 'üres', 'Reckitt Benckiser Healthcare International Limited', 'Nottingham Site, Thane Road Nottingham, NG90 2DB, Egyesült Királyság,:, Reckitt Benckiser Kft., 1113 Budapest, Bocskai út 134-146.,Tel: 06 1 880-1870, Fax: 06 1 250-8398, E-mail: gyogyszer@reckittbenckiser.com', 'üres', 'üres', '24/07/2020')\n",
      "('STREPSILS HONEY AND LEMON szopogató tabletta                                                                                                                                                                                                                   ', 'Strepsils Honey and Lemon szopogató tabletta 24x', '24x', '2299', 'üres', 'üres', '88,70 Ft/db', 'Egészségpénztári kártyára vásárolható', 'Készleten', 'Torokfertőtlenítők', 'alcoholum dichlorobenzylicum', 'Szopogatásra szánt méz- és citromízű torokfertőtlenítő gyógyszerkészítmény. Alkalmazható a torok-, garat-, mandulagyulladás, fogínygyulladás, szájnyálkahártyagyulladás kezelésére, valamint a szájüregben végzett műtétek (mandula, fog, stb.) után a kellemetlen szájszag mérséklésére, ill. a másodlagos fertőzések megakadályozására.', 'OGYI-T-4519/05 12× buborékcsomagolásban, dobozban, OGYI-T-4519/06 12× buborékcsomagolásban, fémdobozban, OGYI-T-4519/07 24× buborékcsomagolásban, dobozban, OGYI-T-4519/08 36× buborékcsomagolásban, dobozban, OGYI-T-4519/09 10× tartályban.', 'üres', 'Reckitt Benckiser Healthcare International Ltd.', '103-105 Bath Road, Slough, Berkshire SL1 3UH, Egyesült Királyság', 'Reckitt Benckiser Healthcare International', 'Limited, Nottingham Site, Thane Road Nottingham, NG90 2DB,Egyesült Királyság,:, Reckitt Benckiser Kft., 1113 Budapest, Bocskai út 134-146.,Tel: 06 1 880-1870, Fax: 06 1 250-8398, E-mail: gyogyszer@reckittbenckiser.com', 'üres', 'üres', '24/07/2020')\n",
      "('DAEDALON végbélkúp                                                                                                                                                                                                                                             ', 'Daedalonetta végbélkúp gyermeknek 10x', '10x', 'üres', 'üres', 'üres', 'üres', 'üres', 'üres', 'üres', 'üres', 'üres', 'OGYI-T-3235/01', 'üres', 'Pharmamagist Kft.', '1028 Budapest, Patakhegyi út 83-85., Tel.: 06-1/397-5174, Fax: 06-1/397-5175, E-mail: info@pharmamagist.hu', 'üres', 'üres', 'üres', 'üres', '25/07/2020')\n",
      "('STREPSILS MENTHOL AND EUCALYPTUS szopogató tabletta                                                                                                                                                                                                            ', 'Strepsils Menthol and eucalyptus szopogató tabletta  24x', '24x', '2299', 'üres', 'üres', '95,80 Ft/db', 'Egészségpénztári kártyára vásárolható', 'Készleten', 'Torokfertőtlenítők', 'mentholum', 'Szopogatásra szánt mentol- és eukaliptuszízű torokfertőtlenítő gyógyszerkészítmény. Alkalmazható a torok-, garat-, mandulagyulladás, fogínygyulladás, szájnyálkahártya-gyulladás kezelésére, valamint a szájüregben végzett műtétek (mandula, fog, stb.) után a kellemetlen szájszag mérséklésére, ill. a másodlagos fertőzések megakadályozására, valamint megfázással járó száraz, irritáló köhögés és orrdugulás kezelésére.', 'OGYI-T-4521/01 (24 db), OGYI-T-4521/02 (12 db), OGYI-T-4521/03 (36 db)', 'üres', 'Reckitt Benckiser Healthcare International Ltd.', '103-105 Bath Road, Slough, Berkshire SL1 3UH, Egyesült Királyság', 'Reckitt Benckiser Healthcare International Ltd.', 'Nottingham Site, Thane Road, Nottingham NG90 2DB, Egyesült Királyság,:, Reckitt Benckiser Kft., 1113 Budapest, Bocskai út 134-146.,Tel: 06 1 880-1870, Fax: 06 1 250-8398, E-mail: gyogyszer@reckittbenckiser.com', 'üres', 'üres', '24/07/2020')\n",
      "('STREPSILS PLUS tabletta                                                                                                                                                                                                                                        ', 'Strepsils Plus tabletta 24x', '24x', '2499', 'üres', 'üres', '104,10 Ft/db', 'Egészségpénztári kártyára vásárolható', 'Készleten', 'Torokfertőtlenítők', 'lidocainum', 'A Strepsils Plus tabletta erős torokfájás, valamint garat-, mandula-, és fogínygyulladás kezelésére javallott. Kettős hatású; fertőtleníti a gyulladt területet valamint lidokain tartalmának köszönhetően gyorsan csillapítja a száj- és garatüregben fellépő fájdalmat.', 'OGYI-T-5716/01', 'üres', 'Reckitt Benckiser Healthcare International Ltd.', '103-105 Bath Road, Slough, Berkshire SL1 3UH, Egyesült Királyság', 'Reckitt Benckiser Healthcare International Ltd.', 'Nottingham Site, Thane Road Nottingham, NG90 2DB,Egyesült Királyság,:, Reckitt Benckiser Kft., 1113 Budapest, Bocskai út 134-146., Tel: 06 1 880-1870, Fax: 06 1 250-8398, E-mail: gyogyszer@reckittbenckiser.com', 'üres', 'üres', '24/07/2020')\n",
      "('LORATADIN HEXAL 10 mg tabletta', 'Loratadin HEXAL 10 mg tabletta 30x', '30x', 'üres', 'üres', 'üres', '0,00 Ft/', 'Egészségpénztári kártyára vásárolható', 'Készleten', 'Kezdőlap', 'loratadinum', 'üres', 'OGYI-T-9539/01', 'üres', 'Sandoz Hungária Kft.', '1114 Budapest, Bartók Béla út 43-47., Magyarország', 'Salutas Pharma GmbH', 'Otto-von-Guericke-Allee 1, 39179 Barleben, Németország, Lek S.A., Iroda:,Podlipie 16, 95-010 Stryków, Lengyelország, Gyártás helye:,Domaniewska 50C, 02-672 Warsaw, Lengyelország', 'üres', 'üres', '27/07/2020')\n",
      "('STREPSILS VITAMIN C 100 mg szopogató tabletta                                                                                                                                                                                                                  ', 'Strepsils Vitamin C 100 mg szopogató tabletta 24x', '24x', '2299', 'üres', 'üres', '95,80 Ft/db', 'Egészségpénztári kártyára vásárolható', 'Készleten', 'Torokfertőtlenítők', 'natrium ascorbicum', 'Szopogatásra szánt, C vitamint is tartalmazó torokfertőtlenítő gyógyszerkészítmény. Hatékonyan alkalmazható a torok-, garat-, mandulagyulladás, fogínygyulladás, szájnyálkahártya‑gyulladás kezelésére, valamint a szájüregben végzett műtétek (mandula, fog, stb.) után a kellemetlen szájszag mérséklésére, ill. a másodlagos fertőzések megakadályozására.', 'OGYI-T-7206/01 (24 db), OGYI-T-7206/02 (12 db), OGYI-T-7206/03 (10 db)', 'üres', 'Reckitt Benckiser Healthcare International Ltd.', '103-105 Bath Road, Slough, Berkshire SL1 3UH, Egyesült Királyság', 'Reckitt Benckiser Healthcare International Ltd.', 'Nottingham Site, Thane Road, Nottingham, NG90 2DB, Egyesült Királyság,:, Reckitt Benckiser Kft., 1113 Budapest, Bocskai út 134-146.,Tel: 06 1 880-1870, Fax: 06 1 250-8398, E-mail: gyogyszer@reckittbenckiser.com', 'üres', 'üres', '24/07/2020')\n",
      "('TANTUM VERDE CITROM 3 mg szopogató tabletta                                                                                                                                                                                                                    ', 'Tantum Verde citrom 3mg szopogató tabletta (Tantum Lemon) 20x', '20x', '2199', 'üres', 'üres', '110,00 Ft/db', 'Egészségpénztári kártyára vásárolható', 'Készleten', 'Torokfertőtlenítők', 'benzydaminium', 'A gyógyszer gyulladásgátló és fájdalomcsillapító hatású. Alkalmazható a torok, a száj és a fogíny gyulladásos tüneteinek kezelésére és szájfertőtlenítésre. Kiegészítő kezelésként használható például foghúzás, szájsebészeti beavatkozás előtt és után. Kemoterápiát vagy sugárterápiát követően, másodlagosan kialakuló szájnyálkahártya-panaszok esetén is alkalmazható.', 'üres', 'üres', 'üres', 'üres', 'üres', 'üres', 'üres', 'üres', '24/07/2020')\n",
      "('HALIXOL 30 mg tabletta                                                                                                                                                                                                                                         ', 'Halixol 30 mg tabletta 20x', '20x', '1099', 'üres', 'üres', '55,00 Ft/db', 'Egészségpénztári kártyára vásárolható', 'Készleten', 'Köhögéscsillapító', 'ambroxolium', 'A Halixol tabletta köptető hatású készítmény, hatóanyaga az ambroxol. Kórosan sűrű nyáktermeléssel járó heveny és idült légúti megbetegedések, mint például tüdőasztma, hörghurut, hörgőtágulat kezelésére szolgál.', 'OGYI-T-4126/03', 'üres', 'üres', 'üres', 'Egis Gyógyszergyár Zrt.', 'H-1165 Budapest, Bökényföldi út 118-120.', 'üres', 'üres', '25/07/2020')\n",
      "('HALSET 1,5 mg préselt szopogató tabletta                                                                                                                                                                                                                       ', 'Halset 1,5 mg préselt szopogató tabletta 24x', '24x', '1949', 'üres', 'üres', '81,20 Ft/db', 'Egészségpénztári kártyára vásárolható', 'Készleten', 'Torokfertőtlenítők', 'cetylpiridinium bromatum', 'A száj- és garatüreg enyhe és középsúlyos fertőzéses megbetegedései esetén, mint torokgyulladás, fogínygyulladás, szájnyálkahártya‑gyulladás, rekedtség.', 'OGYI-T-4106/01 24 db tabletta buborékcsomagolásban és dobozban, OGYI-T-4106/02 18 db tabletta buborékcsomagolásban és dobozban', 'üres', 'üres', 'üres', 'üres', 'üres', 'üres', 'üres', '25/07/2020')\n",
      "('TANTUM VERDE MENTA 3 mg szopogató tabletta                                                                                                                                                                                                                     ', 'Tantum Verde menta 3mg szopogató tabletta 20x', '20x', '2349', 'üres', 'üres', '117,50 Ft/db', 'Egészségpénztári kártyára vásárolható', 'Készleten', 'Torokfertőtlenítők', 'benzydaminium', 'A gyógyszer gyulladásgátló és fájdalomcsillapító hatású. Alkalmazható a torok, a száj és a fogíny gyulladásos tüneteinek kezelésére és szájfertőtlenítésre. Kiegészítő kezelésként használható például foghúzás, szájsebészeti beavatkozás előtt és után. Kemoterápiát vagy sugárterápiát követően, másodlagosan kialakuló szájnyálkahártya-panaszok esetén is alkalmazható.', 'üres', 'üres', 'üres', 'üres', 'üres', 'üres', 'üres', 'üres', '24/07/2020')\n",
      "('TANTUM VERDE NARANCS-MÉZ 3 mg szopogató tabletta                                                                                                                                                                                                               ', 'Tantum Verde narancs-méz 3 mg szopogató tabletta 20x', '20x', '2349', 'üres', 'üres', '117,50 Ft/db', 'Egészségpénztári kártyára vásárolható', 'Készleten', 'Torokfertőtlenítők', 'benzydaminium', 'A gyógyszer gyulladásgátló és fájdalomcsillapító hatású. Alkalmazható a torok, a száj és a fogíny gyulladásos tüneteinek kezelésére és szájfertőtlenítésre. Kiegészítő kezelésként használható például foghúzás, szájsebészeti beavatkozás előtt és után. Kemoterápiát vagy sugárterápiát követően, másodlagosan kialakuló szájnyálkahártya-panaszok esetén is alkalmazható.', 'üres', 'üres', 'üres', 'üres', 'üres', 'üres', 'üres', 'üres', '24/07/2020')\n",
      "('VIBROCIL oldatos orrcsepp                                                                                                                                                                                                                                      ', 'Vibrocil oldatos orrcsepp 15ml', '15ml', '1399', 'üres', 'üres', '93,30 Ft/ml', 'Egészségpénztári kártyára vásárolható', 'Készleten', 'Orrdugulás ellen', 'phenylephrinum', 'A Vibrocil oldatos orrcsepp gyorsan és tartósan enyhíti a különböző fertőzéses vagy allergiás eredetű felsőlégúti megbetegedések okozta orrdugulást és orrfolyást. Elősegíti az orrjáratok kitisztulását, mérsékli az orrdugulást.', 'OGYI-T-2040/01', 'üres', 'Glaxosmithkline-Consumer Kft.', '1124 Budapest, Csörsz u. 43., Magyarország', 'Gsk Consumer Healthcare Gmbh & Co. Kg', 'Barthstraβe 4,80339 München,Németország', 'üres', 'üres', '24/07/2020')\n",
      "('WICK TRIACTIN citrom ízû por belsőleges oldathoz                                                                                                                                                                                                               ', 'Wick TriActin citrom ízű por belsőleges oldathoz 10x', '10x', '2599', 'üres', 'üres', '259,90 Ft/db', 'Egészségpénztári kártyára vásárolható', 'Készleten', 'Komplex készítmények, forró italporok', 'paracetamolum', 'A TriActin Wick citrom ízű por belsőleges oldathoz a megfázás és az influenza tüneteinek enyhítésére szolgál. Három hatóanyagot tartalmaz: A paracetamol jól ismert fájdalomcsillapító. A különböző fájdalmak, így a fejfájás és a torokfájás megszüntetésére és a láz csillapítására alkalmazható. A gvajfenezin (köhögéscsillapító) fellazítja a váladékot és enyhíti a hurutos köhögést. A fenilefrin-hidroklorid (orrdugulás elleni szer) csökkenti az orrjárat duzzanatát, így enyhíti az orrdugulást.', 'OGYI-T-21591/01-02', 'üres', 'Wick Pharma', 'Zweigniederlassung der Procter & Gamble GmbH, Sulzbacher Str. 40-50, D-65824 Schwalbach am Taunus, Németország', 'Wrafton Laboratories Limited', 'Braunton, Devon, EX33 2DL,Nagy-Britannia', 'üres', 'üres', '24/07/2020')\n",
      "('WICK VAPORUB kenőcs                                                                                                                                                                                                                                            ', 'Wick Vaporub kenőcs 50g', '50g', '2499', 'üres', 'üres', '50,00 Ft/g', 'Egészségpénztári kártyára vásárolható', 'Készleten', 'Orrdugulás ellen', 'camphora', 'A Wick VapoRub kenőcs alkalmazása náthával, köhögéssel, torok- és hörghuruttal járó meghüléses panaszok esetén ajánlott.p\\np\\xa0p\\np\\np\\np\\np\\npKiszállítás futárszolgálattal: 695 Ftp\\np\\np\\np\\npSzemélyes átvétel több, mint 100 gyógyszertárban: ingyenesp\\np\\np\\n', 'OGYI-T-22058/01-03', 'üres', 'Wick Pharma', 'Zweigniederlassung der Procter & Gamble GmbH, Sulzbacher Strasse 40-50, D-65824 Schwalbach am Taunus, Németország', 'Procter & Gamble Manufacturing Gmbh', 'Procter & Gamble Strasse 1, 64521 Gross Gerau, Németország', 'üres', 'üres', '24/07/2020')\n",
      "('XILOMARE 1 mg/ml oldatos orrspray                                                                                                                                                                                                                              ', 'Xilomare Kid 0,5mg/ml oldatos orrspray 10ml', '10ml', '2099', 'üres', 'üres', '209,90 Ft/ml', 'Egészségpénztári kártyára vásárolható', 'Készleten', 'Orrdugulás ellen', 'üres', 'A Xilomare Kid hatóanyaga a xilometazolin, amely összehúzza az orrnyálkahártya ereit, ezáltal csökkenti a különböző okok miatt fennálló duzzanatot, és megkönnyíti a légzést az orron keresztül. A Xilomare Kid 0,5 mg/ml oldatos orrspray 2-12 éves gyermekek orrdugulásának rövid távú kezelésére használatos.', 'üres', 'üres', 'üres', 'üres', 'üres', 'üres', 'üres', 'üres', '24/07/2020')\n",
      "('ALLENASAL 1 mg/ml oldatos orrspray                                                                                                                                                                                                                             ', 'Allenasal 1mg/ml oldatos orrspray 10ml', '10ml', '2349', 'üres', 'üres', '249,90 Ft/ml', 'Egészségpénztári kártyára vásárolható', 'Készleten', 'Allergia', 'xylomethazolinium chloratum', 'Gyors, tartós és kíméletes enyhülés az allergiás orrdugulásra, már 6 éves kortól.', 'OGYI-T-22348/01 1x10 ml III-as típusú üvegben', '2016. március', 'Sanofi-Aventis Zrt.', '1045 Budapest, Tó u. 1-5., Információs szolgálat: 06-1-505-0050', 'Unither Liquid Manufacturing', '1-3 Allée de la Neste Z.I.d’en Sigal, 31770 Colomiers, Franciaország', 'üres', 'üres', '25/07/2020')\n",
      "('XYZAL 0,5 mg/ml belsőleges oldat                                                                                                                                                                                                                               ', 'Xyzal 0,5 mg/ml belsőleges oldat 200ml', '200ml', '2599', 'üres', 'üres', '13,00 Ft/ml', 'Egészségpénztári kártyára vásárolható', 'Készleten', 'Allergia', 'levocetirizinum', 'A Xyzal allergia kezelésére szolgáló szer, hatóanyaga a hisztamin-receptorokat gátló gyógyszerek csoportjába tartozik. Az alábbi allergiás betegségek tüneteinek (tüsszentés, orrfolyás, orrdugulás, szem- és bőrtünetek) kezelésére használható felnőttekben és 2 éves kor feletti gyermekekben: · allergiás nátha (beleértve az egész éven át tartó allergiás náthát); · csalánkiütés (krónikus idiopátiás urtikária)', 'OGYI-T-8514/02.', 'üres', 'Ucb Magyarország Kft.', '1023 Budapest, Árpád fejedelem útja 26-28.', 'Ucb Pharma S.P.A.', 'Via Praglia 15, 10044 Pianezza, Olaszország', 'üres', 'üres', '24/07/2020')\n",
      "('XYZAL 5 mg filmtabletta                                                                                                                                                                                                                                        ', 'Xyzal 5 mg filmtabletta 10x', '10x', '1249', 'üres', 'üres', '124,90 Ft/Ft/db', 'Egészségpénztári kártyára vásárolható', 'Készleten', 'Allergia', 'levocetirizinum', 'Az alábbi tünetek (tüsszentés, orrfolyás, orrdugulás, szem- és bőrtünetek) kezelésére használható felnőttekben és 6 éves kor feletti gyermekekben: allergiás nátha (beleértve az egész éven át tartó allergiás náthát); csalánkiütés (urtikária).', 'OGYI-T-8514/01 (28 db),OGYI-T-8514/03 (10 db), OGYI-T-8514/04 (60 db)', 'üres', 'Ucb Magyarország Kft.', '1023 Budapest, Árpád fejedelem útja 26-28.', 'Ucb Pharma S.P.A.', 'Via Praglia 15, 10044 Pianezza, Olaszország', 'üres', 'üres', '24/07/2020')\n",
      "('ZILOLA 5 mg filmtabletta                                                                                                                                                                                                                                       ', 'Zilola 5 mg filmtabletta 28x', '28x', '2299', 'üres', 'üres', '82,10 Ft/db', 'Egészségpénztári kártyára vásárolható', 'Készleten', 'Allergia', 'levocetirizinum', 'Szisztémás hatású antihisztamin. Az alábbi betegségekkel összefüggő tünetek kezelésére szolgál: allergiás nátha (beleértve az év bizonyos szakában rendszeresen visszatérő allergiás náthát is) és rendszeresen jelentkező (idült), ismeretlen eredetű csalánkiütés (krónikus idiopátiás csalánkiütés).', 'OGYI-T-21995/01-10', '2012. január', 'Richter Gedeon Nyrt.', 'H-1103 Budapest, Gyömrői út 19-21., Magyarország', 'Gedeon Richter Polska Sp. Z O.O.', 'ul. ks. J. Poniatowskiego 5, 05-825 Grodzisk Mazowiecki,Lengyelország', 'üres', 'üres', '24/07/2020')\n",
      "('HEDELIX szirup                                                                                                                                                                                                                                                 ', 'Hedelix szirup 100ml', '100ml', '1799', 'üres', 'üres', '18,00 Ft/ml', 'Egészségpénztári kártyára vásárolható', 'Készleten', 'Köhögéscsillapító', 'üres', 'üres', 'OGYI-T-22707/04 100 ml polietilén kiöntőfeltéttel, OGYI-T-22707/05 200 ml polietilén kiöntőfeltéttel, OGYI-T-22707/06 100 ml polietilén betéttel, OGYI-T-22707/07 200 ml polietilén betéttel', 'üres', 'üres', 'üres', 'üres', 'üres', 'üres', 'üres', '25/07/2020')\n",
      "('ZYRTEC 10 mg/ml belsőleges oldatos cseppek                                                                                                                                                                                                                     ', 'Zyrtec 10 mg/ml belsőleges oldatos cseppek 20ml', '20ml', '1549', 'üres', 'üres', '77,50 Ft/ml', 'Egészségpénztári kártyára vásárolható', 'Készleten', 'Allergia', 'cetirizinium chloratum', 'A Zyrtec egy allergia elleni gyógyszer. A Zyrtec felnőttek, valamint 2 éves és afeletti gyermekek alábbi tüneteinek kezelésére javasolt: szezonális és egész éven át tartó allergiás nátha orr- és szemtüneteinek enyhítésére, krónikus csalánkiütés (krónikus idiopátiás urtikária) enyhítésére.', 'OGYI-T-4491/01', '2009. április 28.', 'Ucb Magyarország Kft.', 'H-1023 Budapest, Árpád fejedelem útja 26-28., Magyarország', 'Ucb Pharma Spa', '15 Via Praglia, 10044 Pianezza, Olaszország', 'üres', 'üres', '24/07/2020')\n",
      "('ACC 100 mg granulátum gyermekeknek                                                                                                                                                                                                                             ', 'ACC 100 mg granulátum gyermekeknek 30x3g', '30x3g', '1549', 'üres', 'üres', '51,60 Ft/db', 'Egészségpénztári kártyára vásárolható', 'Készleten', 'Köhögéscsillapító', 'acetylcysteinum', 'Az ACC 100 mg granulátum gyermekeknek, amelynek hatóanyaga az acetilcisztein, a légutakban levő sűrű viszkózus váladék oldására alkalmas. Fokozott viszkozitású nyákelválasztással, köhögéssel járó légúti betegségek váladékoldást elősegítő terápiájában javallt.', 'OGYI-T-2021/01 ACC 100 mg granulátum gyermekeknek 20x3g, OGYI-T-2021/02 ACC 100 mg granulátum gyermekeknek 30x 3g', 'üres', 'Sandoz Hungária Kft.', 'Bartók Béla út 43-47., 1114 Budapest, Magyarország', 'Salutas Pharma Gmbh', 'Otto-von-Guericke Allee 1, D-39179 Barleben, Németország, Hexal AG, Industriestrasse 25, 83607 Holzkirchen, Németország', 'üres', 'üres', '25/07/2020')\n",
      "('ACC 20 mg/ml belsőleges oldat                                                                                                                                                                                                                                  ', 'ACC 20 mg/ml belsőleges oldat 100ml', '100ml', '1549', 'üres', 'üres', '15,50 Ft/ml', 'Egészségpénztári kártyára vásárolható', 'Készleten', 'Köhögéscsillapító', 'acetylcysteinum', 'Az ACC 20 mg/ml belsőleges oldat gyermekeknek nevű készítmény hatóanyaga az acetilcisztein, amely a légutakban levő sűrű viszkózus váladék oldására alkalmas 2 éves kor felett. Fokozott viszkozitású nyákelválasztással, köhögéssel járó légúti betegségek váladékoldását elősegítő terápiájában javallt.', 'OGYI-T-2021/14 1x100 ml barna, III-as típusú üveg, OGYI-T-2021/15 1x200 ml barna, III-as típusú üveg', 'üres', 'Sandoz Hungária Kft.', '1114 Budapest, Bartók Béla út 43-47.,Magyarország', 'üres', 'üres', 'üres', 'üres', '25/07/2020')\n",
      "('HERBION izlandi zuzmó 6 mg/ml szirup                                                                                                                                                                                                                           ', 'Herbion izlandi zuzmó 6 mg/ml szirup 150ml', '150ml', '2099', 'üres', 'üres', '14,00 Ft/ml', 'Egészségpénztári kártyára vásárolható', 'Készleten', 'Köhögéscsillapító', 'üres', 'Hagyományos növényi gyógyszer, kizárólag a régóta fennálló használaton alapuló, meghatározott javallatokra alkalmazandó, úgymint száraz (irritáló) köhögés, enyhe felsőlégúti gyulladás, valamint a száj- és toroknyálkahártya irritáció, beleértve a torokfájást.', 'OGYI/51613-12/2011 sz. határozat 2/2. sz. melléklete', '2013. február', 'üres', 'üres', 'üres', 'üres', 'üres', 'üres', '25/07/2020')\n",
      "('ACC 200 mg granulátum                                                                                                                                                                                                                                          ', 'ACC 200 granulátum 30x3g', '30x3g', '2499', 'üres', 'üres', '82,60 Ft/db', 'Egészségpénztári kártyára vásárolható', 'Készleten', 'Köhögéscsillapító', 'acetylcysteinum', 'Az ACC 200 mg granulátum, amelynek hatóanyaga az acetilcisztein, a légutakban levő sűrű viszkózus váladék oldására alkalmas. Fokozott viszkozitású nyákelválasztással, köhögéssel járó léguti betegségek váladékoldást elősegítő terápiájában javallt.p\\np\\xa0p\\np\\np\\np\\np\\npKiszállítás futárszolgálattal: 695 Ftp\\np\\np\\np\\npSzemélyes átvétel több, mint 100 gyógyszertárban: ingyenesp\\np\\np\\n', 'OGYI-T-2021/03 ACC 200 mg granulátum 20x3g, OGYI-T-2021/04 ACC 200 mg granulátum 30x3g', 'üres', 'Sandoz Hungária Kft.', 'Bartók Béla út 43-47., 1114 Budapest, Magyarország', 'Salutas Pharma Gmbh', 'Otto-von-Guericke Allee 1, D-39179 Barleben, Németország, Hexal AG, Industriestrasse 25, 83607 Holzkirchen, Németország', 'üres', 'üres', '25/07/2020')\n",
      "('ACC HOT 600 mg por belsõleges oldathoz                                                                                                                                                                                                                         ', 'ACC Hot 600 mg por belsőleges oldathoz 10x', '10x', '2599', 'üres', 'üres', '259,90 Ft/db', 'Egészségpénztári kártyára vásárolható', 'üres', 'Köhögéscsillapító', 'acetylcysteinum', 'Az ACC Hot hatóanyaga az acetilcisztein, ami a légutakban levő sűrű viszkózus váladék oldására alkalmas. Fokozott viszkozitású nyákelválasztással, köhögéssel járó légúti betegségek váladékoldását elősegítő terápiában javallt.', 'OGYI-T-2021/16 ACC Hot 200 mg por belsőleges oldathoz 20x, OGYI-T-2021/17 ACC Hot 600 mg por belsőleges oldathoz 6x, OGYI-T-2021/18 ACC Hot 600 mg por belsőleges oldathoz 10x', 'üres', 'Sandoz Hungária Kft.', '1114 Budapest, Bartók Béla út 43-47., Magyarország', 'üres', 'üres', 'üres', 'üres', '25/07/2020')\n",
      "('MUCOFREE 15 mg/5 ml szirup', 'Mucofree 15 mg/5 ml szirup 100ml', '100ml', '1799', 'üres', 'üres', '18,30 Ft/ml', 'Egészségpénztári kártyára vásárolható', 'Készleten', 'Köhögéscsillapító', 'üres', 'Hurutos köhögésre. A Mucofree szirup hármas hatásával fellazítja a váladékot, felszabadítja a légzést és könnyíti a köhögést. A gyógyszer egyénileg adagolható.', 'üres', 'üres', 'üres', 'üres', 'üres', 'üres', 'üres', 'üres', '27/07/2020')\n",
      "('MUCOFREE MAX 75 mg retard kemény kapszula', 'Mucofree MAX 75 mg retard kemény kapszula 20x', '20x', '1949', 'üres', 'üres', '91,50 Ft/db', 'Egészségpénztári kártyára vásárolható', 'Készleten', 'Köhögéscsillapító', 'üres', 'A Mucofree Max kapszula HÁRMAS HATÁSÁVAL segít a hurutos köhögésben NAPI 1 KAPSZULÁVAL:p\\np\\npFellazítja a váladékot,p\\npKönnyíti a köhögést,p\\npFelszabadítja a légzéstp\\n', 'üres', 'üres', 'üres', 'üres', 'üres', 'üres', 'üres', 'üres', '27/07/2020')\n",
      "('ACC INSTANT 600 mg belsőleges por                                                                                                                                                                                                                              ', 'ACC Instant 600 mg belsőleges por 10x', '10x', '2899', 'üres', 'üres', '289,90 Ft/db', 'Egészségpénztári kártyára vásárolható', 'üres', 'Köhögéscsillapító', 'üres', 'Víz nélkül bevehető, így mindig kéznél van hurutos köhögés esetén. ACC Instant - Kézenfekvő megoldás hurutos köhögésre!', 'OGYI-T-2021/19 10x, OGYI-T-2021/20 20x, OGYI-T-2021/21 30x', 'üres', 'Sandoz Hungária Kft.', '1114 Budapest, Bartók Béla út 43-47., Magyarország', 'Hermes Arzneimittel Gmbh', 'Division: Hermes Pharma Ges.m.b.H, Allgäu 36., 9400 Wolfsberg, Ausztria, Salutas Pharma GmbH, Otto-von-Guericke-Allee 1, Sachsen-Anhalt, 39179 Barleben, Németország', 'üres', 'üres', '25/07/2020')\n",
      "('ACC LONG 600 mg pezsgőtabletta                                                                                                                                                                                                                                 ', 'ACC long 600 mg pezsgőtabletta 10x', '10x', '2599', 'üres', 'üres', '259,90 Ft/db', 'Egészségpénztári kártyára vásárolható', 'Készleten', 'Köhögéscsillapító', 'üres', 'Az ACC long 600 mg pezsgőtabletta, aminek hatóanyaga az acetilcisztein, a légutakban levő sűrű viszkózus váladék oldására alkalmas. Fokozott viszkozitású nyák termelődésével, hurutos köhögéssel járó légúti betegségek váladékoldást elősegítő terápiájában javallt.', 'OGYI-T-2021/10 ACC long 600 mg pezsgőtabletta 10x tartályban, OGYI-T-2021/11 ACC long 600 mg pezsgőtabletta 20x tartályban, OGYI-T-2021/12 ACC long 600 mg pezsgőtabletta 10x szalagcsomagolásban, OGYI-T-2021/13 ACC long 600 mg pezsgőtabletta 20x szalagcsomagolásban', 'üres', 'Sandoz Hungária Kft.', 'Bartók Béla út 43-47., 1114 Budapest, Magyarország', 'Salutas Pharma Gmbh', 'Otto-von-Guericke Allee 1, D-39179 Barleben, Németország', 'üres', 'üres', '25/07/2020')\n",
      "('ALLEGRA 120 mg filmtabletta                                                                                                                                                                                                                                    ', 'Allegra 120 mg filmtabletta 10x', '10x', '1349', 'üres', 'üres', '134,90 Ft/db', 'Egészségpénztári kártyára vásárolható', 'Készleten', 'Allergia', 'fexofenadin', 'Az Allegra az antihisztaminok csoportjába tartozó allergiaellenes hatású gyógyszer, amely azonban nem rendelkezik nyugtató hatással. Enyhíti a szezonális allergiás rinitisz (szénanátha) tüneteit, így a tüsszögést, az orrviszketést, az orrváladékozást és az orrdugulást, továbbá a szem viszketését, könnyezését és égő érzését.', 'OGYI-T-10513/03 (7x), OGYI-T-10513/04 (10x), OGYI-T-10513/05 (30x),PVC/PVDC//Al buborékcsomagolásban:, OGYI-T-10513/09 (10x), OGYI-T-10513/10 (30x)', 'üres', 'Sanofi-Aventis Zrt.', '1045 Budapest, Tó u. 1-5., 3615050050', 'Sanofi Winthrop Industrie', '30-36 avenue Gustav Eiffel, 37100 Tours, Franciaország, vagy, 56, Route de Choisy-au-Bac, 60205 Compiegne, Franciaország, Sanofi Aventis Zrt., 1045 Budapest, Tó u. 1-5., Tel.: 3615050050,:', 'üres', 'üres', '25/07/2020')\n",
      "('ALLEGRA FORTE 180 mg filmtabletta                                                                                                                                                                                                                              ', 'Allegra Forte 180 mg filmtabletta 10x', '10x', '1849', 'üres', 'üres', '184,90 Ft/db', 'Egészségpénztári kártyára vásárolható', 'Készleten', 'Allergia', 'fexofenadin', 'Krónikus csalánkiütés tüneteinek enyhítésére szolgáló gyógyszer – felnőttek, valamint 12 éves kor feletti gyermekek részére.', 'OGYI-T-10513/06 10x, OGYI-T-10513/07 30x,PVC/PVDC//Al buborékcsomagolásban:, OGYI-T-10513/11 10x, OGYI-T-10513/12 30x', 'üres', 'Sanofi-Aventis Zrt.', '1045 Budapest, Tó u. 1-5.', 'Sanofi Winthrop Industrie', '30-36 avenue Gustav Eiffel, 37100 Tours, Franciaország, vagy, 56, Route de Choisy-au-Bac, 60205 Compiegne, Franciaország, Sanofi Aventis Zrt., Cím: 1045 Budapest, Tó utca 1-5., Telefon: 36 1 505-0050,:', 'üres', 'üres', '25/07/2020')\n",
      "('AMBROXOL-TEVA 3 mg/ml szirup                                                                                                                                                                                                                                   ', 'Ambroxol-Teva 3 mg/ml szirup + szájfecskendő 100ml', '100ml', '2159', 'üres', 'üres', '21,50 Ft/ml', 'Egészségpénztári kártyára vásárolható', 'Készleten', 'Köhögéscsillapító', 'üres', 'A készítmény ambroxol (brómhexin-származék) tartalmú, nyákoldó köptető hatású gyógyszer. A nyák besűrűsödésével járó heveny és krónikus légúti megbetegedések: kezelésére, valamint a nyákoldás elősegítésére alkalmazható.p\\np\\xa0p\\np\\np\\np\\np\\npKiszállítás futárszolgálattal: 695 Ftp\\np\\np\\np\\npSzemélyes átvétel több, mint 100 gyógyszertárban: ingyenesp\\np\\np\\n', 'OGYI-T-4466/02 100 ml oldat 105 ml-es, III-as típusú barna üvegben, átlátszó PE betéttel ellátott, garanciazáras, fehér PP csavaros kupakkal lezárva. Egy üveg és egy 10 ml-es osztással ellátott adagolópohár dobozban., OGYI-T-4466/05 75 ml oldat 80 ml-es, III-as típusú barna üvegben, átlátszó PE betéttel ellátott, garanciazáras, fehér PP csavaros kupakkal lezárva. Egy üveg és egy 0,25 ml-enkénti beosztással ellátott, 5 ml-es szájfecskendő (LDPE/Polisztirén) dobozban., OGYI-T-4466/06 100 ml oldat 105 ml-es, III-as típusú barna üvegben, átlátszó PE betéttel ellátott, garanciazáras, fehér PP csavaros kupakkal lezárva. . Egy üveg és egy 0,25 ml-enkénti beosztással ellátott, 5 ml-es szájfecskendő (LDPE/Polisztirén) dobozban., OGYI-T-4466/07 75 ml oldat 80 ml-es, III-as típusú barna üvegben, átlátszó PE betéttel ellátott, garanciazáras, fehér PP csavaros kupakkal lezárva. Egy üveg és egy 10 ml-es, osztással ellátott adagolópohár dobozban.', 'üres', 'üres', 'üres', 'Teva Czech Industries S.R.O.', 'Ostravská 29, č.p. 305, 747 70 Opava – Komárov, Csehország', 'üres', 'üres', '25/07/2020')\n",
      "('AMBROXOL-TEVA 30 mg tabletta                                                                                                                                                                                                                                   ', 'Ambroxol-TEVA 30 mg tabletta 30x', '30x', '2079', 'üres', 'üres', '66,60 Ft/db', 'Egészségpénztári kártyára vásárolható', 'Készleten', 'Köhögéscsillapító', 'üres', 'A készítmény ambroxol (brómhexin-származék) tartalmú, nyákoldó, köptető hatású gyógyszer. A nyák besűrűsödésével járó heveny és krónikus légúti megbetegedések kezelésére, valamint a nyákoldás elősegítésére alkalmazható.p\\np\\xa0p\\np\\np\\np\\np\\npKiszállítás futárszolgálattal: 695 Ftp\\np\\np\\np\\npSzemélyes átvétel több, mint 100 gyógyszertárban: ingyenesp\\np\\np\\n', 'OGYI-T-4466/01 20x, OGYI-T-4466/04 30x', 'üres', 'üres', 'üres', 'üres', 'üres', 'üres', 'üres', '25/07/2020')\n",
      "('AMBROXOL-TEVA 75 mg retard kemény kapszula                                                                                                                                                                                                                     ', 'Ambroxol-TEVA 75 mg retard kemény kapszula 20x', '20x', '2199', 'üres', 'üres', '110,00 Ft/Ft/db', 'Egészségpénztári kártyára vásárolható', 'üres', 'Köhögéscsillapító', 'ambroxolium', 'A hörgők és a tüdő sűrű váladékképződéssel járó heveny és idült betegségeinek kezelésére, nyákoldásra.p\\np\\xa0p\\np\\np\\np\\np\\npKiszállítás futárszolgálattal: 695 Ftp\\np\\np\\np\\npSzemélyes átvétel több, mint 100 gyógyszertárban: ingyenesp\\np\\np\\n', 'OGYI-T-2095/03 (10 db), OGYI-T-2095/04 (20 db),Teva Gyógyszergyár Zrt., 4042 Debrecen, Pallagi út 13.,Merckle GmbH.,D-89079 Ulm, Graf-Arco-Straβe 3., Németország', 'üres', 'Teva Gyógyszergyár Zrt.', '4042 Debrecen, Pallagi út 13.', 'Merckle Gmbh.', 'D-89079 Ulm, Graf-Arco-Straβe 3., Németország', 'üres', 'üres', '25/07/2020')\n",
      "('ANGISED MENTOL szopogató tabletta                                                                                                                                                                                                                              ', 'Angised Mentol szopogató tabletta 24x', '24x', '1999', 'üres', 'üres', '83,30 Ft/Ft/db', 'Egészségpénztári kártyára vásárolható', 'üres', 'Torokfertőtlenítők', 'üres', 'Cukormentes,\\xa0kettős hatású szopogató tabletta:\\xa0csillapítja a fájdalmat\\xa0és fertőtleníti a torkot!p\\np\\xa0p\\np\\np\\np\\np\\npKiszállítás futárszolgálattal: 695 Ftp\\np\\np\\np\\npSzemélyes átvétel több, mint 100 gyógyszertárban: ingyenesp\\np\\np\\n', 'OGYI-T-22994/01 12x PVC/PCTFE/Al buborékcsomagolásban, OGYI-T-22994/02 24x PVC/PCTFE/Al buborékcsomagolásban, OGYI-T-22994/03 36x PVC/PCTFE/Al buborékcsomagolásban', 'üres', 'Sandoz Hungária Kft.', '1114 Budapest, Bartók Béla út 43-47., Magyarország', 'Laboratoria Qualiphar N.V./S.A. - Rijksweg 9 - 2880 Bornem – Belgium', 'üres', 'üres', 'üres', '25/07/2020')\n",
      "('BABY LUUF illóolajos kenőcs                                                                                                                                                                                                                                    ', 'Baby Luuf illóolajos kenőcs 30g', '30g', '2149', 'üres', 'üres', '69,00 Ft/g', 'Egészségpénztári kártyára vásárolható', 'Készleten', 'Köhögéscsillapító', 'aetherol. terebenthinae', 'A termék hagyományos növényi gyógyszer, kizárólag a régóta fennálló használaton alapuló, meghatározott javallatokra alkalmazandó, úgymint meghűléses betegségekben, köhögés, nátha, torokgyulladás külsőleges kezelésére.p\\np\\xa0p\\np\\np\\np\\np\\npKiszállítás futárszolgálattal: 695 Ftp\\np\\np\\np\\npSzemélyes átvétel több, mint 100 gyógyszertárban: ingyenesp\\np\\np\\n', 'OGYI/38071-12/2010sz. határozat 2/2. sz. melléklete, Baby Luuf illóolajos kenőcs,Terpentinolaj, eukaliptuszolaj, kakukkfűolaj, Olvassa el figyelmesen az alábbi betegtájékoztatót, mely az Ön számára fontos információkat tartalmaz., Ez a gyógyszer orvosi rendelvény nélkül kapható. Mindemellett az optimális hatás érdekében elengedhetetlen e gyógyszer körültekintő alkalmazása., - Tartsa meg a betegtájékoztatót, mert a benne szereplő információkra a későbbiekben is szüksége lehet., - További információkért vagy tanácsért forduljon gyógyszerészéhez., - Sürgősen forduljon orvosához, ha a gyermek tünetei 5 napon belül nem enyhülnek, vagy éppen súlyosbodnak., - Ha bármely mellékhatás súlyossá válik, vagy ha a betegtájékoztatóban felsorolt mellékhatásokon kívül egyéb tünetet észlel, kérjük, értesítse orvosát vagy gyógyszerészét.', '2011. február', 'Apomedica Pharmazeutische Produkte Gmbh', 'Roseggerkai 3, 8011 Graz, Ausztria,:, Volmix kft., 1146 Budapest, Thököly út 76.,Tel.: (1) 383 3252, Fax: (1) 799 9907, 30 g', 'üres', 'üres', 'Apomedica Pharmazeutische Produkte Gmbh', 'Roseggerkai 3, 8011 Graz, Ausztria,:, Volmix kft., 1146 Budapest, Thököly út 76.,Tel.: (1) 383 3252, Fax: (1) 799 9907, 30 g', '25/07/2020')\n",
      "('BRONCHIPRET szirup                                                                                                                                                                                                                                             ', 'Bronchipret szirup 50ml', '50ml', '1949', 'üres', 'üres', '39,00 Ft/ml', 'Egészségpénztári kártyára vásárolható', 'Készleten', 'Köhögéscsillapító', 'Extr. thymi herbae (kakukkfű) siccum', 'Növényi eredetű hatóanyagokat tartalmazó, hörghurut kezelésére szolgáló készítmény, köptető. Heveny és idült hörghurut fellángolása esetén alkalmazható, amikor fokozott váladékképződés és köhögés áll előtérben.', 'OGYI-T-9642/01 50 ml, OGYI-T-9642/02 100 ml', '2015. január', 'Bionorica Se', 'Kerschensteinerstr. 11-15., 92318 Neumarkt, Németország, A gyógyszer csepp és filmtabletta formájában is forgalomban van 12 éven felüli gyermekek és felnőttek részére.,:,ASI Budapest Kft., 1105 Budapest, Bolgár u. 4. Tel. / Fax: 433-2086 Fax: 431 8953', 'üres', 'üres', 'Bionorica Se', 'Kerschensteinerstr. 11-15., 92318 Neumarkt, Németország, A gyógyszer csepp és filmtabletta formájában is forgalomban van 12 éven felüli gyermekek és felnőttek részére.,:,ASI Budapest Kft., 1105 Budapest, Bolgár u. 4. Tel. / Fax: 433-2086 Fax: 431 8953', '25/07/2020')\n",
      "('BRONCHOSTOP köhögés elleni belsőleges oldat                                                                                                                                                                                                                    ', 'Bronchostop köhögés elleni belsőleges oldat 150ml', '150ml', '2599', 'üres', 'üres', '17,30 Ft/ml', 'Egészségpénztári kártyára vásárolható', 'Készleten', 'Köhögéscsillapító', 'üres', 'A termék hagyományos növényi gyógyszer, kizárólag a régóta fennálló használaton alapuló, meghatározott javallatokra alkalmazandó. A torokban lévő irritáció enyhítésére és megfázáshoz társuló köhögés esetén köptetőszerként, 4 éves kor feletti gyermekeknek és felnőtteknek ajánlott.', 'OGYI-TN-45/01', 'üres', 'Kwizda Pharma Gmbh', 'Effingergasse 21, 1160 Bécs, Ausztria', 'üres', 'üres', 'üres', 'üres', '25/07/2020')\n",
      "('KALOBA szirup                                                                                                                                                                                                                                                  ', 'Kaloba szirup 100ml', '100ml', '3399', 'üres', 'üres', '34,00 Ft/ml', 'Egészségpénztári kártyára vásárolható', 'üres', 'Kezdőlap', 'üres', 'A készítmény hagyományos növényi gyógyszer, amelyet kizárólag a régóta fennálló használat alapján alkalmaznak felső légúti fertőzések, többek között a megfázás tüneteinek enyhítésére, mint pl. torokfájás, köhögés, orrdugulás, orrfolyás.', 'üres', 'üres', 'üres', 'üres', 'üres', 'üres', 'üres', 'üres', '25/07/2020')\n",
      "('LOLIGRIP 500 mg/200 mg/25 mg por belsőleges oldathoz                                                                                                                                                                                                           ', 'Loligrip por belsőleges oldathoz 8x', '8x', '2449', 'üres', 'üres', '306,10 Ft/db', 'Egészségpénztári kártyára vásárolható', 'Készleten', 'Komplex készítmények, forró italporok', 'üres', 'A Loligrip lázzal és/vagy fájdalommal járó megfázás, rövid távú orrdugulás vagy orrfolyás (rinitisz) és garatgyulladás tüneti kezelésére és enyhítésére szolgál felnőtteknél és 15 éves vagy idősebb serdülőknél. Hatóanyag: paracetamol/aszkorbinsav/feniramin-maleát', 'üres', 'üres', 'üres', 'üres', 'üres', 'üres', 'üres', 'üres', '25/07/2020')\n",
      "('CETIMAX 10 mg filmtabletta                                                                                                                                                                                                                                     ', 'Cetimax 10 mg filmtabletta 10x', '10x', '599', 'üres', 'üres', '59,90 Ft/db', 'Egészségpénztári kártyára vásárolható', 'Készleten', 'Allergia', 'üres', 'A Cetimax hatóanyaga a cetirizin-dihidroklorid. A Cetimax az antihisztaminoknak nevezett gyógy\\xadszerek cso\\xadportjába tar\\xadtozik szisz\\xadté\\xadmás (az egész szervezetre érintő) hasz\\xadnálatra, amelyeket allergia (túlérzékenység) ellen hasz\\xadnálnak. A Cetimax felnőttek, valamint 6 éves és afeletti gyermekek alábbi tüneteinek kezelésére javasolt: szezonális és egész éven át tartó allergiás nátha orr- és szemtüneteinek enyhítésére. krónikus csalánkiütés (krónikus idiopátiás urtikária) enyhítésére.', 'OGYI-T-21651/01 7x, OGYI-T-21651/02 10x, OGYI-T-21651/03 14x, OGYI-T-21651/04 15x, OGYI-T-21651/05 20x, OGYI-T-21651/06 30x, OGYI-T-21651/07 50x, OGYI-T-21651/08 100x', 'üres', 'Vitabalans Oy', 'Varastokatu 8, FI-13500 Hämeenlinna, FINNORSZÁG, Tel: +358 (3) 615600, Fax: +358 (3) 6183130', 'üres', 'üres', 'üres', 'üres', '25/07/2020')\n"
     ]
    },
    {
     "name": "stdout",
     "output_type": "stream",
     "text": [
      "('CETIRIZIN 1 A PHARMA 10 mg filmtabletta                                                                                                                                                                                                                        ', 'Cetirizin 1a Pharma 10 mg filmtabletta 10x', '10x', 'üres', 'üres', 'üres', '0,00 Ft/', 'Egészségpénztári kártyára vásárolható', 'Készleten', 'Allergia', 'cetirizinium chloratum', 'A Cetirizin 1a Pharma allergia ellenes gyógyszer. Segíti az allergiás reakciók és tünetek megszüntetését. Alkalmas a viszketés és a csalánkiütés enyhítésére is.', 'OGYI-T-10390/01 (7x), OGYI-T-10390/02 (10x), OGYI-T-10390/03 (30x), OGYI-T-10390/04 (60x)', 'üres', '1 A Pharma Gmbh', 'Keltenring 1+3, 82041 Oberhaching, Németország', 'Salutas Pharma Gmbh', 'Otto-von-Guericke-Allee 1, 39179 Barleben, Németország', 'üres', 'üres', '25/07/2020')\n",
      "('MUCOFREE 30 mg/5 ml szirup                                                                                                                                                                                                                                     ', 'Mucofree 30 mg/5 ml szirup 100ml', '100ml', '1999', 'üres', 'üres', '20,00 Ft/ml', 'Egészségpénztári kártyára vásárolható', 'Készleten', 'Köhögéscsillapító', 'üres', 'Hurutos köhögésre. A Mucofree szirup hármas hatásával fellazítja a váladékot, felszabadítja a légzést és könnyíti a köhögést. A gyógyszer egyénileg adagolható.', 'üres', 'üres', 'üres', 'üres', 'üres', 'üres', 'üres', 'üres', '25/07/2020')\n",
      "('MUCOFREE MAX 75 mg retard kemény kapszula                                                                                                                                                                                                                      ', 'Mucofree MAX 75 mg retard kemény kapszula 20x', '20x', '1949', 'üres', 'üres', '91,50 Ft/db', 'Egészségpénztári kártyára vásárolható', 'Készleten', 'Köhögéscsillapító', 'üres', 'A Mucofree Max kapszula HÁRMAS HATÁSÁVAL segít a hurutos köhögésben NAPI 1 KAPSZULÁVAL:p\\np\\npFellazítja a váladékot,p\\npKönnyíti a köhögést,p\\npFelszabadítja a légzéstp\\n', 'üres', 'üres', 'üres', 'üres', 'üres', 'üres', 'üres', 'üres', '25/07/2020')\n",
      "('CEZERA 5 mg filmtabletta                                                                                                                                                                                                                                       ', 'Cezera 5 mg filmtabletta 30x', '30x', '2199', 'üres', 'üres', '73,30 Ft/db', 'Egészségpénztári kártyára vásárolható', 'Készleten', 'Allergia', 'levocetirizinum', 'Allergia elleni gyógyszer (szisztémás hatású antihisztamin). A Cezera tabletta az alábbi allergiás betegségek tüneteinek kezelésére szolgál: allergiás nátha (az orr és a szem nyálkahártyájának allergiás gyulladása). gyakran megjelenő csalánkiütés (hosszan tartó, ismeretlen eredetű csalánkiütés).', 'OGYI-T-20 530/01 (30x), OGYI-T-20 530/02 (60x), OGYI-T-20 530/03 (90x)', '2009. június 2.', 'üres', 'üres', 'üres', 'üres', 'üres', 'üres', '25/07/2020')\n",
      "('CLARITINE 10 mg tabletta                                                                                                                                                                                                                                       ', 'Claritine 10 mg tabletta 10x', '10x', '1299', 'üres', 'üres', '129,90 Ft/db', 'Egészségpénztári kártyára vásárolható', 'Készleten', 'Allergia', 'üres', 'üres', 'OGYI-T-1650/01 (Claritine 10 mg tabletta) 20 db, OGYI-T-1650/03 (Claritine 10 mg tabletta) 30 db, OGYI-T-1650/07 (Claritine 10 mg tabletta) 10 db, OGYI-T-1650/08 (Claritine 10 mg tabletta) 60 db', 'üres', 'Bayer Hungária Kft.', '1123 Budapest, Alkotás u. 50.', 'Schering-Plough Labo N.V.', 'Industriepark 30,B-2220 Heist-op-den-Berg,Belgium, és,European Pharma Hub Kft, 2360 Gyál, 7000/9 hrsz. 15. Raktár, Magyarország', 'üres', 'üres', '25/07/2020')\n",
      "('DAEDALON 50 mg tabletta                                                                                                                                                                                                                                        ', 'Daedalon 50 mg tabletta 10x', '10x', '1899', 'üres', 'üres', '189,90 Ft/db', 'Egészségpénztári kártyára vásárolható', 'Készleten', 'Hányinger ellen', 'dimenhydrinatum', 'A Daedalon tabletta különböző eredetű hányinger és hányás megelőzésére és kezelésére szolgál. Alkalmazható többek között bármely jármű kiváltotta utazási betegségben, különféle hányingert kiváltó eszközös vizsgálatok előtt, vagy szédüléssel is járó középfül eredetű émelygéskor (például Ménière szindróma).', 'OGYI-T-3120/01', 'üres', 'Richter Gedeon Nyrt.', 'H-1103 Budapest, Gyömrői út 19-21., Magyarország', 'üres', 'üres', 'üres', 'üres', '25/07/2020')\n",
      "('DORITHRICIN erdei gyümölcs szopogató tabletta                                                                                                                                                                                                                  ', 'Dorithricin szopogató tabletta erdei gyümölcs ízű 20x', '20x', '2359', 'üres', 'üres', '115,00 Ft/db', 'Egészségpénztári kártyára vásárolható', 'Készleten', 'Torokfertőtlenítők', 'üres', 'Fájdalommal járó száj- és garatüregi gyulladásos megbetegedések helyi kezelésére szolgáló szopogató tabletta – felnőttek és 6 éves kor feletti gyerekek részére. Baktériumellenes, fertőtlenítő és fájdalomcsillapító hatású gyógyszer.', 'OGYI-T-7266/04 20×, OGYI-T-7266/05 40×', 'üres', 'Medice Pharma Gmbh& Co. Kg', 'Kuhloweg 37, D-58638, Iserlohn, Németország, Telefon: + 49 2371 152 790, Fax: + 49 2371 937 329', 'Medice Arzneimittel Pütter Gmbh & Co. Kg.', 'Kuhloweg 37, D-58638 Iserlohn, Németország, Forgalmazó:,Teva Gyógyszergyár Zrt., 4042 Debrecen, Pallagi út 13.', 'üres', 'üres', '25/07/2020')\n",
      "('ERDOMED 300 mg kemény kapszula                                                                                                                                                                                                                                 ', 'Erdomed 300 mg kemény kapszula 10x', '10x', '1699', 'üres', 'üres', '169,90 Ft/db', 'Egészségpénztári kártyára vásárolható', 'Készleten', 'Köhögéscsillapító', 'erdosteinum', 'Az Erdomed a légutak sűrű váladékának elfolyósítására, kiköhögésének elősegítésére szolgáló készítmény.', 'OGYI-T-8777/01 (10x),OGYI-T-8777/02 (20x)', 'üres', 'Angelini Pharma Österreich Gmbh', 'Brigittenauer Lände 50-54, A-1200 Bécs Ausztria', 'Angelini Pharma Česká Republika S.R.O.', 'Páteřní 7, 63 500 Brno, Csehország', 'üres', 'üres', '25/07/2020')\n",
      "('FLUIMUCIL 200 mg granulátum                                                                                                                                                                                                                                    ', 'Fluimucil 200 mg granulátum 30x1g', '30x1g', '2149', 'üres', 'üres', '66,60 Ft/db', 'Egészségpénztári kártyára vásárolható', 'Készleten', 'Köhögéscsillapító', 'acetylcysteinum', 'A Fluimucil acetilcisztein hatóanyagot tartalmazó nyákoldó, köptető hatású készítmény. Az acetilcisztein oldja a légúti megbetegedések esetén képződő sűrű nyákot, elősegíti a légcsőben és légutakban lerakódott nyák kiürítését, így könnyíti a légzést. A készítmény olyan légúti megbetegedések kiegészítő kezelésére szolgál, amelyekben sűrű viszkózus nyák képződik, mint pl. a megfázásos megbetegedések, a hörgők akut vagy krónikus gyulladása, az influenza.', 'OGYI-T-5351/04 20 db, OGYI-T-5351/05 30 db, OGYI-T-5351/06 50 db', 'üres', 'Zambon S.P.A.', 'Via Lillo del Duca 10, 20091 Bresso, Olaszország', 'Zambon S.P.A', 'Via della Chimica 9, 36100 Vicenza, Olaszország, Aramis Pharma Kft., 6640 Csongrád,Kenderföldek u. 3.,Magyarország', 'üres', 'üres', '25/07/2020')\n",
      "('GRIPPOSTAD C kemény kapszula                                                                                                                                                                                                                                   ', 'Grippostad C kemény kapszula 20x', '20x', '2149', 'üres', 'üres', '107,50 Ft/db', 'Egészségpénztári kártyára vásárolható', 'Készleten', 'Komplex készítmények, forró italporok', 'paracetamolum', 'Meghűléses betegségek tüneteinek (pl. fejfájás, végtagfájdalom, orrdugulás és száraz köhögés) kezelésére. A Grippostad C kapszula a lázat is csillapítja. Magas vérnyomás esetén is szedhető.', 'OGYI-T-7522/01', '2011. március 15.', 'üres', 'üres', 'üres', 'üres', 'üres', 'üres', '25/07/2020')\n",
      "('FLUIMUCIL FORTE 600 mg pezsgőtabletta                                                                                                                                                                                                                          ', 'Fluimucil Forte 600 mg pezsgőtabletta 10x', '10x', '2449', 'üres', 'üres', '244,90 Ft/db', 'Egészségpénztári kártyára vásárolható', 'Készleten', 'Köhögéscsillapító', 'acetylcysteinum', 'A Fluimucil acetilcisztein hatóanyagot tartalmazó nyákoldó, köptető hatású készítmény. Az acetilcisztein oldja a légúti megbetegedések esetén képződő sűrű nyákot, elősegíti a légcsőben és légutakban lerakódott nyák kiürítését, így könnyíti a légzést. A készítmény olyan légúti megbetegedések kiegészítő kezelésére szolgál, amelyekben sűrű viszkózus nyák képződik, mint pl. a megfázásos megbetegedések, a hörgők akut vagy krónikus gyulladása, az influenza.', 'OGYI-T-5351/07-08', '2010. december 8.', 'üres', 'üres', 'Zambon S.P.A', 'Via della Chimica 9, 36100 Vicenza, Olaszország', 'üres', 'üres', '25/07/2020')\n",
      "('FLUIMUCIL szirup                                                                                                                                                                                                                                               ', 'Fluimucil szirup 100ml', '100ml', '1299', 'üres', 'üres', '13,00 Ft/ml', 'Egészségpénztári kártyára vásárolható', 'Készleten', 'Köhögéscsillapító', 'acetylcysteinum', 'A Fluimucil szirup hatóanyaga, az acetilcisztein megkönnyíti a légzést azáltal, hogy intenzív nyákoldó és elfolyósító hatást fejt ki a légúti váladékra és a köpetre. Sűrű és viszkózus váladéktermeléssel járó légúti elváltozások, krónikus és akut hörghurut és annak fellángolásai, tüdőtágulás, a légzőrendszer kiválasztó mirigyeit érintő örökletes betegség, és hörgőtágulat kiegészítő kezelésére javasolt.', 'OGYI-T-5351/09', 'üres', 'Zambon S.P.A', 'Via Lillo del Duca 10, 20091 Bresso, Olaszország', 'Zambon S.P.A.', 'Via della Chimica 9, 36100 Vicenza, Olaszország', 'üres', 'üres', '25/07/2020')\n",
      "('GLYCOSEPT szájnyálkahártyán alkalmazott oldat                                                                                                                                                                                                                  ', 'Glycosept szájnyálkahártyán alkalmazott oldat 30ml', '30ml', '1999', 'üres', 'üres', '66,60 Ft/Ft/ml', 'Egészségpénztári kártyára vásárolható', 'üres', 'Torokfertőtlenítők', 'mentholum', 'A Glycosept oldat baktériumellenes hatású gyógyszer. Az alkalmazás helyén enyhe fájdalom- és viszketéscsillapító hatással is rendelkezik. Használata javasolt torokgyulladás, gége- és légcsőgyulladás és gennyes, fekélyes szájbetegségek esetén öblögetésre illetve ecsetelésre.', 'OGYI-T-3214/01', 'üres', 'Wagner-Pharma Gyógyszerfejlesztő', 'üres', 'És Forgalmazó Kft.', '3242 Parádsasvár, Kossuth L. u. 44., Magyarország, WAGNER-PHARMA Gyógyszerfejlesztő, 6413 Kunfehértó, IV. Körzet 5., Magyarország', 'üres', 'üres', '25/07/2020')\n",
      "('NEO-ANGIN szopogató tabletta                                                                                                                                                                                                                                   ', 'Neo-Angin Dolo szopogató tabletta 12x', '12x', '1249', 'üres', 'üres', '104,10 Ft/db', 'üres', 'Készleten', 'Torokfertőtlenítők', 'üres', 'Neo-angin dolo szopogató tabletta orvosi ziliz kivonattal, gyors segítség heveny torokfájás esetén.\\xa0', 'üres', 'üres', 'üres', 'üres', 'üres', 'üres', 'üres', 'üres', '25/07/2020')\n",
      "('IMMUN HERBAL BÉRES filmtabletta                                                                                                                                                                                                                                ', 'Béres Immun Herbal filmtabletta gyógyszer 30x', '30x', '2699', 'üres', 'üres', '90,00 Ft/Ft/db', 'Egészségpénztári kártyára vásárolható', 'üres', 'Multivitaminok', 'magnesium', 'A termék hagyományos növényi gyógyszer, kizárólag a régóta fennálló használaton alapuló, meghatározott javallatokra alkalmazandó, úgymint: a meghűléses eredetű betegségek (megfázás, nátha) megelőzésére és kiegészítő kezelésére.', 'OGYI/38742-2/2012 sz. határozat 2/2 sz. melléklete, BETEGTÁJÉKOZTATÓ: INFORMÁCIÓK A FELHASZNÁLÓ SZÁMÁRA, Immun Herbal Béres filmtabletta, Ginzenggyökér-, halvány kasvirág gyökér kivonat, vitaminok, ásványi anyagok és nyomelemek, Olvassa el figyelmesen az alábbi betegtájékoztatót, mely az Ön számára fontos információkat tartalmaz., Ez a gyógyszer orvosi rendelvény nélkül kapható. Mindemellett az optimális hatás érdekében elengedhetetlen e gyógyszer körültekintő bevétele., - Tartsa meg a betegtájékoztatót, mert a benne szereplő információkra a későbbiekben is, szüksége lehet., - További információkért vagy tanácsért forduljon gyógyszerészéhez., - Sürgősen forduljon orvosához, ha tünetei nem enyhülnek, vagy éppen súlyosbodnak., - Ha bármely mellékhatás súlyossá válik, vagy ha a betegtájékoztatóban felsorolt mellékhatásokon kívül egyéb tünetet észlel, kérjük, értesítse orvosát vagy gyógyszerészét.', '2012. szeptember', 'üres', 'üres', 'üres', 'üres', 'üres', 'üres', '25/07/2020')\n",
      "('INALLER 5 mg filmtabletta                                                                                                                                                                                                                                      ', 'Inaller 5 mg filmtabletta 30x', '30x', '2099', 'üres', 'üres', '70,00 Ft/db', 'Egészségpénztári kártyára vásárolható', 'Készleten', 'Allergia', 'dezloratadin', 'Az Inaller filmtabletta csillapítja az allergiás nátha (az orrjáratok allergia, pl. szénanátha vagy poratka-allergia által okozott gyulladásának) tüneteit felnőtteknél és 12 éves vagy ennél idősebb serdülőknél. Ezek közé a tünetek közé tartozik a tüsszögés, az orrfolyás és orrviszketés, a szájpad és a szem viszketése, a kötőhártya vérbősége és a könnyezés.', 'OGYI-T-22149/15 30x PVC/PE/PVDC – Alumínium buborékcsomagolásban, OGYI-T-22149/16 30x PVC/PCTFE (Aclar) - Alumínium buborékcsomagolásban', 'üres', 'Goodwill Pharma Kft.', '6724 Szeged, Cserzy Mihály u. 32.', 'Genepharm S.A.', '18 Km Marathon Avenue, 15351 Pallini, Görögország', 'üres', 'üres', '25/07/2020')\n",
      "('KALOBA 20 mg filmtabletta                                                                                                                                                                                                                                      ', 'Kaloba 20 mg filmtabletta 21x', '21x', '3899', 'üres', 'üres', '185,70 Ft/db', 'Egészségpénztári kártyára vásárolható', 'Készleten', 'Komplex készítmények, forró italporok', 'üres', 'A termék hagyományos növényi gyógyszer, amelyet kizárólag a régóta fennálló használat alapján alkalmaznak felső légúti fertőzések, többek között a közönséges megfázás olyan tüneteinek enyhítésére, mint a torokfájás, köhögés és az orrdugulás, orrfolyás.', 'üres', 'üres', 'üres', 'üres', 'üres', 'üres', 'üres', 'üres', '25/07/2020')\n",
      "('LERTAZIN 5 mg filmtabletta                                                                                                                                                                                                                                     ', 'Lertazin 5 mg filmtabletta 7x', '7x', '649', 'üres', 'üres', '92,70 Ft/db', 'Egészségpénztári kártyára vásárolható', 'Készleten', 'Allergia', 'levocetirizinum', 'A Lertazin egy allergia elleni készítmény. A Lertazin az alábbi allergiás betegségek tüneteinek kezelésére szolgál: allergiás nátha (beleértve az egész éven át tartó allergiás náthát); csalánkiütés (urtikária).', 'OGYI-T-20511/01 - 30x (PVC/PVDC//Al buborékcsomagolásban), OGYI-T-20511/02 - 60x (PVC/PVDC//Al buborékcsomagolásban), OGYI-T-20511/03 - 90x (), OGYI-T-20511/04 7x (), OGYI-T-20511/05 10x ()', 'üres', 'Krka', 'd.d., Novo mesto,Šmarješka cesta 6, 8501 Novo mesto, Szlovénia', 'üres', 'üres', 'Krka', 'd.d., Novo mesto,Šmarješka cesta 6, 8501 Novo mesto, Szlovénia', '25/07/2020')\n",
      "('LEVOPRONT szirup                                                                                                                                                                                                                                               ', 'Levopront szirup 120ml', '120ml', '1399', 'üres', 'üres', '11,70 Ft/Ft/ml', 'Egészségpénztári kártyára vásárolható', 'üres', 'Köhögéscsillapító', 'levodropropizinum', 'Nem produktív (fokozott nyákképződéssel nem járó), kínzó, száraz köhögés rövid távú, tüneti kezelésére. A 60 ml-es szirup 4 éven felüli, a 120 ml-es szirup 10 éven felüli gyermekek és felnőttek számára javallt.', 'OGYI-T-7607/01 (60 ml), OGYI-T-7607/02 (120 ml)', '2015. május', 'Dompé Farmaceutici S.P.A.', 'Via San Martino 12, 20122 Milano, Olaszország', 'Dompé Farmaceutici S.P.A.', 'Via Campo di Pile, 67100 L’Aquila, Olaszország', 'üres', 'üres', '25/07/2020')\n",
      "('LOLIMARINE HA 1 mg/ml oldatos orrspray                                                                                                                                                                                                                         ', 'Lolimarine HA Kid 0,5mg/ml oldatos orrspray 10ml', '10ml', '2899', 'üres', 'üres', '289,90 Ft/ml', 'Egészségpénztári kártyára vásárolható', 'Készleten', 'Orrdugulás ellen', 'üres', 'üres', 'OGYI-T-23265/01 1×10 ml (3K – rendszerű adagoló pumpával ellátott HDPE tartály, OGYI-T-23265/02 1×10 ml (APFPLUS – rendszerű adagoló pumpával ellátott HDPE tartály, Lolimarine HA 1 mg/ml oldatos orrspray, OGYI-T-23265/03 1×10 ml (3K – rendszerű adagoló pumpával ellátott HDPE tartály), OGYI-T-23265/04 1×10 ml (APFPLUS – rendszerű adagoló pumpával ellátott HDPE tartály)', 'üres', 'Goodwill Pharma Kft.', '6724 Szeged, Cserzy Mihály utca 32., [logo]', 'Jadran - Galenski Laboratorij D.D.', '51000 Rijeka, Svilno 20,Horvátország, Lolimarine HA', 'üres', 'üres', '25/07/2020')\n",
      "('LOLIMUCIN 375 mg kemény kapszula                                                                                                                                                                                                                               ', 'Lolimucin 375 mg kemény kapszula 20x', '20x', '2449', 'üres', 'üres', '122,50 Ft/db', 'Egészségpénztári kártyára vásárolható', 'Készleten', 'Köhögéscsillapító', 'üres', 'A légutakban hígítja a nyákot (váladékot), így az kevésbé tapad le és könnyebben felköhöghető. A Lolimucin olyan légúti betegségek kezelésére való, amelyek túl sok, vagy túl sűrű nyáktermelődéssel járnak.', 'OGYI-T-23161/01 20x, OGYI-T-23161/02 30x, OGYI-T-23161/03 50x, OGYI-T-23161/04 120x', 'üres', 'Goodwill Pharma Kft.', '6724 Szeged, Cserzy Mihály u. 32., Magyarország', 'Alkaloid-Int D.O.O.', 'Šlandrova ulica 4, 1231 Ljubljana – Črnuče, Szlovénia, Tel.: +386 1 300 42 90, Fax: +386 1 300 42 91, E-mail: info@alkaloid.si', 'üres', 'üres', '25/07/2020')\n",
      "('LORATADIN HEXAL 10 mg tabletta                                                                                                                                                                                                                                 ', 'Loratadin HEXAL 10 mg tabletta 30x', '30x', 'üres', 'üres', 'üres', '0,00 Ft/', 'Egészségpénztári kártyára vásárolható', 'Készleten', 'Kezdőlap', 'loratadinum', 'üres', 'OGYI-T-9539/01', 'üres', 'Sandoz Hungária Kft.', '1114 Budapest, Bartók Béla út 43-47., Magyarország', 'Salutas Pharma Gmbh', 'Otto-von-Guericke-Allee 1, 39179 Barleben, Németország, Lek S.A., Iroda:,Podlipie 16, 95-010 Stryków, Lengyelország, Gyártás helye:,Domaniewska 50C, 02-672 Warsaw, Lengyelország', 'üres', 'üres', '25/07/2020')\n",
      "('LYXIO 200 mg por belsőleges oldathoz                                                                                                                                                                                                                           ', 'Lyxio 200 mg por belsőleges oldathoz 30x', '30x', '1599', 'üres', 'üres', '53,30 Ft/db', 'Egészségpénztári kártyára vásárolható', 'üres', 'Köhögéscsillapító', 'üres', 'A Lyxio acetilcisztein hatóanyagot tartalmazó nyákoldó, köptető hatású készítmény. Az acetilcisztein oldja a légúti megbetegedések esetén képződő sűrű nyákot, elősegíti a légcsőben és légutakban lerakódott nyák oldását, így könnyíti a légzést. A készítmény olyan légúti megbetegedések kiegészítő kezelésére szolgál, amelyekben sűrű viszkózus nyák képződik, mint pl. a megfázásos megbetegedések, a hörgők akut vagy krónikus gyulladása, az influenza', 'OGYI-T-22630/01 20x papír/Al/PE tasakban és dobozban, OGYI-T-22630/02 30x papír/Al/PE tasakban és dobozban, Lyxio 600 mg por belsőleges oldathoz:, OGYI-T-22630/03 10x papír/Al/PE tasakban és dobozban', 'üres', 'Lyxio 200 Mg Por Belsőleges Oldathoz:', 'üres', 'Lamp San Prospero Spa - Via Della Pace 25/A', '41030 San Prospero (Modena),Olaszország,:, Lyxio 200 mg por belsőleges oldathoz:', 'üres', 'üres', '25/07/2020')\n",
      "('MUCOFREE 15 mg pasztilla                                                                                                                                                                                                                                       ', 'Mucofree 15 mg pasztilla 20x', '20x', '1599', 'üres', 'üres', '82,50 Ft/db', 'Egészségpénztári kártyára vásárolható', 'Készleten', 'Kezdőlap', 'üres', 'üres', 'üres', 'üres', 'üres', 'üres', 'üres', 'üres', 'üres', 'üres', '25/07/2020')\n",
      "('LYXIO 600 mg por belsőleges oldathoz                                                                                                                                                                                                                           ', 'Lyxio 600 mg por belsőleges oldathoz 10x', '10x', '1799', 'üres', 'üres', '179,90 Ft/db', 'Egészségpénztári kártyára vásárolható', 'Készleten', 'Köhögéscsillapító', 'üres', 'A Lyxio acetilcisztein hatóanyagot tartalmazó nyákoldó, köptető hatású készítmény. Az acetilcisztein oldja a légúti megbetegedések esetén képződő sűrű nyákot, elősegíti a légcsőben és légutakban lerakódott nyák oldását, így könnyíti a légzést. A készítmény olyan légúti megbetegedések kiegészítő kezelésére szolgál, amelyekben sűrű viszkózus nyák képződik, mint pl. a megfázásos megbetegedések, a hörgők akut vagy krónikus gyulladása, az influenza.', 'OGYI-T-22630/01 20x papír/Al/PE tasakban és dobozban, OGYI-T-22630/02 30x papír/Al/PE tasakban és dobozban, Lyxio 600 mg por belsőleges oldathoz:, OGYI-T-22630/03 10x papír/Al/PE tasakban és dobozban', 'üres', 'Lyxio 200 Mg Por Belsőleges Oldathoz:', 'üres', 'Lamp San Prospero Spa - Via Della Pace 25/A', '41030 San Prospero (Modena),Olaszország,:, Lyxio 200 mg por belsőleges oldathoz:', 'üres', 'üres', '25/07/2020')\n",
      "('MEBUCAIN MINT 2 mg/1 mg szopogató tabletta                                                                                                                                                                                                                     ', 'Mebucain Mint 2mg/1mg szopogató tabletta 20x', '20x', '1949', 'üres', 'üres', '95,00 Ft/db', 'Egészségpénztári kártyára vásárolható', 'Készleten', 'Torokfertőtlenítők', 'cetylpiridinium bromatum', 'A Mebucain Mint szopogató tabletta enyhíti a torokfájást, vagy az enyhe szájüregi fertőzések okozta fájdalmat. Emellett csökkenti a fertőzést okozó kórokozók számát is.p\\np\\xa0p\\np\\np\\np\\np\\npKiszállítás futárszolgálattal: 695 Ftp\\np\\np\\np\\npSzemélyes átvétel több, mint 100 gyógyszertárban: ingyenesp\\np\\np\\n', 'OGYI-T-9879/02 (20 db), OGYI-T-9879/03 (30 db)', 'üres', 'Novartis Hungária Kft. (Consumer Health Részlege)', '1114 Budapest, Bartók Béla út 43-47., Magyarország', 'üres', 'üres', 'üres', 'üres', '25/07/2020')\n",
      "('MEBUCAIN ORANGE szopogató tabletta                                                                                                                                                                                                                             ', 'Mebucain Orange szopogató tabletta 16x', '16x', '1349', 'üres', 'üres', '84,30 Ft/Ft/db', 'Egészségpénztári kártyára vásárolható', 'üres', 'Torokfertőtlenítők', 'üres', 'A Mebucain szopogató tabletta a szájüreg és torok fertőzéseinek kezelésére használható. Alkalmazható pl. megfázás okozta torokfájás, a torokgyulladás, a gégehurut, kis szájüregi fekélyek (ún. afták) és a fogínygyulladás kezelésére. Mandulagyulladás kiegészítő kezelésére is használható.', 'OGYI-T–8450/01-02.', '2007. július 2.', 'Novartis Hungária Kft. (Consumer Health Részlege)', '1114. Budapest, Bartók Béla út 43-47.', 'Novartis Pharmaceutica S.A.', 'Barbera del Valles, Spanyolország,1. MILYEN BETEGSÉGEK ESETÉN ALKALMAZHATÓ ÉS HOGYAN FEJTI KI HATÁSÁT A MEBUCAIN ORANGE SZOPOGATÓ TABLETTA?, A Mebucain szopogató tabletta a szájüreg és torok fertőzéseinek kezelésére használható. Alkalmazható pl. megfázás okozta torokfájás, a torokgyulladás, a gégehurut (melyek az esetek egy részében nyelési fájdalommal is járhatnak), kis szájüregi fekélyek (ún. afták) és a fogínygyulladás kezelésére. Mandulagyulladás kiegészítő kezelésére is használható.,Fertőtlenítő (baktériumok, vírusok és gombák okozta gyulladások) hatású és fájdalomcsillapító hatóanyagokat tartalmaz.,A helyi érzéstelenítő hatással rendelkező lidokain csillapítja a torokfájást és a gyulladás okozta nyelési fájdalmat.,Az Mebucain nem izgatja a száj és torok nyálkahártyáját.,2. TUDNIVALÓK A MEBUCAIN ORANGE SZOPOGATÓ TABLETTA SZEDÉSE ELŐTT, Mielőtt a Mebucain Orange szopogató tablettát alkalmazná, vegye figyelembe a következőket.,Mikor nem szabad használni ezt a gyógyszert? · Ha kvaterner ammónium-tartalmú gyógyszerekre, lidokainra vagy a készítmény egyéb összetevőjére túlérzékeny.,· Kifejezett bradikardia (a szívösszehúzódások száma alacsony) esetén nem alkalmazható., · 4 év alatti életkorban., Ha Ön terhes vagy szoptat:, Terhesség és szoptatás időszakában a tabletta alkalmazása nem javallt., Ha Ön cukorbeteg:, A gyógyszer alkalmazása során kérjük vegye figyelembe, hogy 1 tabletta 1 g szorbitot tartalmaz., Alkalmazható-e más gyógyszerekkel együtt a Mebucain Orange szopogató tabletta? Klinikailag jelentős gyógyszerkölcsönhatások nem ismeretesek., Mivel a lidokain a szisztémás keringésbe bejuthat – különösen túladagolás esetén – gyógyszerkölcsönhatások előfordulása (pl. ß-blockolókkal, cimetidinnel, fenitoinnal) nem zárható ki teljesen., A benzoxonium antibakteriális hatásfokát az egyidejűleg alkalmazott anionos felületaktív anyagok (pl. fogkrém) csökkentik., Figyelmeztetés:, Ha a torokfájást magas láz kíséri vagy a kezelés ellenére egy hétnél tovább tart, keresse fel kezelő\\\\xadorvosát.,3. HOGYAN KELL ALKALMAZNI A MEBUCAIN ORANGE SZOPOGATÓ TABLETTÁT?, Hogyan használja a Mebucain Orange szopogató tablettát? Ha az orvos másképp nem rendeli, szokásos adagja:, Felnőtteknek: naponta 2-3 óránként kell 1 tablettát elszopogatni. Súlyosabb esetben az adag növelhető 1-2 óránként 1 tablettára., A napi maximális adag: 10 tabletta., Gyermekeknek 4 éves kor felett adható, csökkentett adagban.,Naponta 2-3 óránként ½ tablettát kell elszopogatni., A napi maximális adag: 6 tabletta., A tablettát nem szabad egészben lenyelni, alkalmazását követően 1 órán át nem cél\\\\xadszerű enni és inni.,Mit tegyen, ha túl sok Mebucain Orange szopogató tablettát alkalmazott? Ha véletlenül túl sok tablettát nyel le, azonnal forduljon orvoshoz., Kisgyermekekben a lidokain esetleges túldagolása görcsöket válthat ki.,4. LEHETSÉGES MELLÉKHATÁSOK, Milyen mellékhatásai lehetnek a Mebucain Orange szopogató tablettának?, Bizonyos esetekben az alkalmazás helyén előfordulhat enyhe, átmeneti kellemetlen érzés. Nagyon ritkán allergiás reakció jelentkezhet, mely bőrkiütéssel, esetleg száj- és torok-duzzanattal jár. Ilyen esetben azonnal hagyja abba a gyógyszer alkalmazását és értesítse kezelőorvosát.,Lidokain tartalma miatt éhgyomorra nagyobb mennyiségben alkalmazva hányingert válthat ki., Tájékoztassa kezelőorvosát vagy a gyógyszerészt, ha a szopogató tabletta használatával kapcsolatba hozható nem kívánt hatást tapasztalna., 5. TÁROLÁS, 30 °C alatti hőmérsékleten, nedvességtől és hőtől védve tárolandó., A gyógyszert csak a csomagoláson feltüntetett lejárati időn belül szabad felhasználni., A gyógyszer gyermekektől elzárva tartandó!', 'üres', 'üres', '25/07/2020')\n",
      "('MUCOANGIN 20 mg szopogató tabletta                                                                                                                                                                                                                             ', 'Mucoangin 20 mg szopogató tabletta 18x', '18x', '1549', 'üres', 'üres', '86,10 Ft/db', 'Egészségpénztári kártyára vásárolható', 'üres', 'Torokfertőtlenítők', 'üres', 'üres', 'OGYI-T-9384/01 20x - PP//Al (PP réteggel bevonva) buborékcsomagolásban és dobozban, OGYI-T-9384/04 20x - Al fólia (LDPE réteggel bevonva) szalagcsomagolásban és dobozban, OGYI-T-9384/05 18x - PP//Al (PP réteggel bevonva) buborékcsomagolásban és dobozban', '2017. február', 'Sanofi-Aventis Zrt.', '1045 Budapest, Tó utca 1-5., Magyarország', 'Delpharm Reims', '10 Rue Colonel Charbonneaux, 51100 Reims, Franciaország', 'üres', 'üres', '25/07/2020')\n",
      "('MUCOPRONT 375 mg kemény kapszula                                                                                                                                                                                                                               ', 'Mucopront 375 mg kemény kapszula 20x', '20x', '1749', 'üres', 'üres', '87,50 Ft/db', 'Egészségpénztári kártyára vásárolható', 'Készleten', 'Köhögéscsillapító', 'carbocysteinum', 'Mucopront 375 mg kemény kapszula nagy mennyiségű köpet termelődésével, elégtelen ürülésével járó légúti megbetegedé\\xadsekben a nyák oldá\\xadsára, a köpetürítés elősegítésére szolgál.', 'OGYI-T-1380/01 (20 db), OGYI-T-1380/02 (50 db)', 'üres', 'Pharmaswiss Česká Republika S.R.O.', 'Jankovcova 1569/2c, 17000 Praha 7, Cseh Köztársaság', 'Meditop Gyógyszeripari Kft.', '2097 Pilisborosjenő, Ady Endre u.1.,:, Valeant Pharma Magyarország Kft., 1025 Budapest, Csatárka u. 82-84., Magyarország, Tel: 06-1-345-5900', 'üres', 'üres', '25/07/2020')\n",
      "('NASIC 0,5 mg/ml+50 mg/ml oldatos orrspray kisgyermekeknek                                                                                                                                                                                                      ', 'Nasic 0,5 mg/ml+50 mg/ml oldatos orrspray kisgyermekeknek 10ml', '10ml', '2249', 'üres', 'üres', '224,90 Ft/ml', 'Egészségpénztári kártyára vásárolható', 'üres', 'Orrdugulás ellen', 'dexpanthenolum', 'A nasic oldatos orrspray. Két hatóanyaga van, a xilometazolin érszűkítő hatása révén csökkenti a nyálkahártya vérbőségét, a dexpantenol egy vitamin (pantoténsav‑származék), amely elősegíti a sebgyógyulást és védi a nyálkahártyát.', 'OGYI-T-20508/01 (10 ml), OGYI-T-20508/03 (10 ml)', 'üres', 'Cassella-Med Gmbh & Co. Kg', 'Gereonsmühlengasse 1, 50670 Köln, Németország', 'Klosterfrau Berlin Gmbh', 'Motzener Str. 41, 12277 Berlin, Németország', 'üres', 'üres', '25/07/2020')\n",
      "('NASIC PUR 0,5 mg/ml + 50 mg/ml oldatos orrspray kisgyermekeknek                                                                                                                                                                                                ', 'Nasic Pur 0,5 mg/ml+50 mg/ml oldatos orrspray kisgyermekeknek 10ml', '10ml', '2349', 'üres', 'üres', '234,90 Ft/ml', 'Egészségpénztári kártyára vásárolható', 'Készleten', 'Orrdugulás ellen', 'üres', 'A naic pur oldatos orrspray. Két hatóanyaga van, a xilometazolin érszűkítő hatása ré\\xadvén csökkenti a nyálkahártya vérbőségét, a dexpantenol egy vitamin (pantoténsav‑származék), amely elősegíti a sebgyógyulást és védi a nyálkahártyát.', 'OGYI-T-22471/02 1x10 ml HDPE tartályban és dobozban', 'üres', 'Cassella-Med Gmbh & Co. Kg', 'Gereonsmühlengasse 1, 50670 Köln, Németország', 'Klosterfrau Berlin Gmbh', 'Motzener Str. 41, 12277 Berlin, Németország,:', 'üres', 'üres', '25/07/2020')\n",
      "('NASIVIN CLASSIC 0,5 mg/ml oldatos orrspray                                                                                                                                                                                                                     ', 'Nasivin Classic 0,5mg/ml oldatos orrspray 10ml', '10ml', '2479', 'üres', 'üres', '247,90 Ft/ml', 'Egészségpénztári kártyára vásárolható', 'Készleten', 'Orrdugulás ellen', 'oxymethazolinium chloratum', 'A Nasivin 0,5 mg/ml oldatos orrspray a következő betegségekre alkalmazható: nátha (rinitisz akuta), allergiás nátha (rinitisz allergika), rohamokban fellépő szénanátha (rinitisz vazomotorika), a váladékürülés megkönnyítésére az orr- és/vagy melléküregek gyulladása esetén, náthával együttjáró fülkürt és középfül-gyulladás, nyálkahártya‑duzzanat diagnosztikus csökkentésére orvosi vizsgálatok során.', 'OGYI-T-7882/01', 'üres', 'üres', 'üres', 'Merck Kgaa', '64293 Darmstadt, Frankfurter Str. 250, Németország, Sofarimex – Indústria Química e Farmacêutica, S.A., Av. das Indústrias - Alto do Colaride, Cacém, 2735–213, Portugália, Famar Nederland B.V., Industrieweg 1, 5531 AD Bladel, Hollandia', 'üres', 'üres', '25/07/2020')\n",
      "('NASIVIN KIDS 0,25 mg/ml oldatos orrcsepp                                                                                                                                                                                                                       ', 'Nasivin Kids 0,25 mg/ml oldatos orrcsepp 10ml', '10ml', '1699', 'üres', 'üres', '169,90 Ft/ml', 'Egészségpénztári kártyára vásárolható', 'Készleten', 'Orrdugulás ellen', 'oxymethazolinium chloratum', 'A Nasivin oldatos oximetazolin tartalmú orrcseppek 1-6 éves korig a következő betegségekre alkalmazhatók: nátha (rinitisz akuta), allergiás nátha (rinitisz allergika), rohamokban fellépő szénanátha (rinitisz vazomotorika), a váladékürülés megkönnyítésére az orr- és/vagy melléküregek gyulladása esetén, náthával együttjáró fülkürt és középfül-gyulladás, nyálkahártya‑duzzanat diagnosztikus csökkentésére orvosi vizsgálatok során.', 'OGYI-T-7882/02 (Nasivin Baby 0,1 mg/ml oldatos orrcsepp), OGYI-T-7882/03 (Nasivin Kids 0,25 mg/ml oldatos orrcsepp), OGYI-T-7882/04 (Nasivin Classic 0,5 mg/ml oldatos orrcsepp)', 'üres', 'üres', 'üres', 'Merck Kgaa', '64293 Darmstadt, Frankfurter Str. 250, Németország, Sofarimex – Indústria Química e Farmacêutica, S.A., Av. das Indústrias - Alto do Colaride, Cacém, 2735–213, Portugália, Famar Nederland B.V., Industrieweg 1, 5531 AD Bladel, Hollandia', 'üres', 'üres', '25/07/2020')\n",
      "('NASOPAX orrspray felnőtteknek                                                                                                                                                                                                                                  ', 'Nasopax orrspray felnőtteknek 10ml', '10ml', '2379', 'üres', 'üres', '237,90 Ft/ml', 'Egészségpénztári kártyára vásárolható', 'Készleten', 'Orrdugulás ellen', 'bromhexidinium chloratum', 'Olyan állapotokban, amikor az orr nyálkahártyája gyulladt és duzzadt, az orrlégzés nehezített, a duzzadt nyálkahártya miatt az arcüregek belső kivezető járatai zártak, valamint a belső füljá\\xadrat is zárt.p\\np\\xa0p\\np\\np\\np\\np\\npKiszállítás futárszolgálattal: 695 Ftp\\np\\np\\np\\npSzemélyes átvétel több, mint 100 gyógyszertárban: ingyenesp\\np\\np\\n', 'OGYI-T- 8269/01', '2009. március 3.', 'Meditop Gyógyszeripari Kft.', '2097 Pilisborosjenő, Ady Endre u.1, Tel.: 06 26 336 400, Fax.: 06 26 336 041, E-mail: info@meditop.hu', 'üres', 'üres', 'Meditop Gyógyszeripari Kft.', '2097 Pilisborosjenő, Ady Endre u.1, Tel.: 06 26 336 400, Fax.: 06 26 336 041, E-mail: info@meditop.hu', '25/07/2020')\n",
      "('NASOPAX orrspray gyermekeknek                                                                                                                                                                                                                                  ', 'Nasopax orrspray gyermekeknek 10ml', '10ml', '2339', 'üres', 'üres', '229,90 Ft/ml', 'Egészségpénztári kártyára vásárolható', 'Készleten', 'Orrdugulás ellen', 'bromhexidinium chloratum', 'Olyan állapotokban, amikor az orr nyálkahártyája gyulladt és duzzadt, az orrlégzés nehezített, a duzzadt nyálkahártya miatt az arcüregek belső kivezető járatai zártak, valamint a belső fül\\xadjá\\xadrat is zárt. Ilyen állapotok az egyszerű nátha, az allergiás és az ún. vazomotoros orrnyálkahártya gyulla\\xaddás, a felső légúti gyulladások (melynek kellemetlen tünetei az orrdugulás, tüsszögés, orrfo\\xadlyás, orrviszketés, könnyezés), valamint a heveny arcüreggyulladás.p\\np\\xa0p\\np\\np\\np\\np\\npKiszállítás futárszolgálattal: 695 Ftp\\np\\np\\np\\npSzemélyes átvétel több, mint 100 gyógyszertárban: ingyenesp\\np\\np\\n', 'OGYI-T- 8270/01', '2009. március 3.', 'Meditop Gyógyszeripari Kft.', '2097 Pilisborosjenő, Ady Endre u. 1, Tel.: 06 26 336 400, Fax.: 06 26 336 041, E-mail: info@meditop.hu', 'üres', 'üres', 'Meditop Gyógyszeripari Kft.', '2097 Pilisborosjenő, Ady Endre u. 1, Tel.: 06 26 336 400, Fax.: 06 26 336 041, E-mail: info@meditop.hu', '25/07/2020')\n",
      "('NEO-ANGIN cseresznye szopogató tabletta                                                                                                                                                                                                                        ', 'Neo-Angin szopogató tabletta cseresznye ízű 24x', '24x', '1849', 'üres', 'üres', '77,00 Ft/Ft/db', 'Egészségpénztári kártyára vásárolható', 'Készleten', 'Torokfertőtlenítők', 'mentholum', 'A neo-angin cseresznye szopogató tabletta a száj és a torok fertőtőtlenítésére használt gyógyszer. A nyálkahártya gyulladása a garatmandula területén, aminek tipikus tüneteia torokfájás, piros, duzzadt torok.', 'OGYI-T-10365/03 (12x buborékcsomagolásban) OGYI-T-10365/04 (16x buborékcsomagolásban) OGYI-T-10365/05 (24x buborékcsomagolásban) OGYI-T-10365/06 (48x buborékcsomagolásban)', '2010. december 6.', 'Divapharma Gmbh', 'Motzener Str. 41, D-12277 Berlin, Németország', 'üres', 'üres', 'üres', 'üres', '25/07/2020')\n",
      "('NOVORIN 0,05% oldatos orrcsepp                                                                                                                                                                                                                                 ', 'Novorin 0,05% oldatos orrcsepp 10ml', '10ml', '1099', 'üres', 'üres', '109,90 Ft/Ft/ml', 'Egészségpénztári kártyára vásárolható', 'Készleten', 'Orrdugulás ellen', 'xylomethazolinium chloratum', 'A készítmény az orrnyálkahártyára cseppentve érösszehúzódást idéz elő, csökkenti a nyálkahártya duzzanatot, és az orr-garatüreg nyálkahártyájának vérbőségét, továbbá ugyancsak csökkenti a váladékképződést. A készítmény az alábbi állapotok tüneti kezelésére alkalmas: akut vírusos, vagy bakteriális eredetű orrnyálkahártya-gyulladás; akut, vagy krónikus arcüreggyulladás fellángolása; allergiás orrnyálkahártya-gyulladás;', 'OGYI-T-1202/01 NOVORIN 0,05%,OGYI-T-753/01 NOVORIN 0,1%', '2009. január 14.', 'Warsaw Pharmaceutical Works Polfa S.A.', '22/24 Karolkowa Str.; 01-207 Varsó, Lengyelország, További részletes információért kérjük, lépjen kapcsolatba a forgalomba hozatali engedély jogosultjával.', 'üres', 'üres', 'üres', 'üres', '25/07/2020')\n",
      "('NOVORIN 0,1% oldatos orrcsepp                                                                                                                                                                                                                                  ', 'Novorin 0,1% oldatos orrcsepp 10ml', '10ml', '1349', 'üres', 'üres', '134,90 Ft/ml', 'Egészségpénztári kártyára vásárolható', 'Készleten', 'Orrdugulás ellen', 'xylomethazolinium chloratum', 'A készítmény az orrnyálkahártyára cseppentve érösszehúzódást idéz elő, csökkenti a nyálkahártya duzzanatot, és az orr-garatüreg nyálkahártyájának vérbőségét, továbbá ugyancsak csökkenti a váladékképződést. A készítmény az alábbi állapotok tüneti kezelésére alkalmas: akut vírusos, vagy bakteriális eredetű orrnyálkahártya-gyulladás; akut, vagy krónikus arcüreggyulladás fellángolása; allergiás orrnyálkahártya-gyulladás;', 'OGYI-T-1202/01 NOVORIN 0,05%,OGYI-T-753/01 NOVORIN 0,1%', '2009. január 14.', 'Warsaw Pharmaceutical Works Polfa S.A.', '22/24 Karolkowa Str.; 01-207 Varsó, Lengyelország, További részletes információért kérjük, lépjen kapcsolatba a forgalomba hozatali engedély jogosultjával.', 'üres', 'üres', 'üres', 'üres', '25/07/2020')\n",
      "('PAXIRASOL 8 mg tabletta                                                                                                                                                                                                                                        ', 'Paxirasol 8 mg tabletta 20x', '20x', '1399', 'üres', 'üres', '69,00 Ft/db', 'Egészségpénztári kártyára vásárolható', 'Készleten', 'Köhögéscsillapító', 'bromhexidinium chloratum', 'A Paxirasol 8 mg tabletta a kórosan sűrű nyák- és köpettermeléssel járó heveny és idült légúti megbetegedések kezelésére szolgáló, köptető hatású készítmény.', 'OGYI-T-3612/01', 'üres', 'üres', 'üres', 'Egis Gyógyszergyár Zrt.', 'H-9900 Körmend, Mátyás király út 65.', 'üres', 'üres', '25/07/2020')\n",
      "('REVICET AKUT 10 mg préselt szopogató tabletta                                                                                                                                                                                                                  ', 'Revicet Akut 10 mg préselt szopogató tabletta 7x', '7x', '1049', 'üres', 'üres', '149,90 Ft/db', 'Egészségpénztári kártyára vásárolható', 'Készleten', 'Allergia', 'üres', 'A Revicet Akut 10 mg préselt szopogató tabletta allergia ellenes gyógyszer, az antihisztaminok csoportjába tartozik.', 'OGYI-T-20392/05', '2009. május 11.', 'üres', 'üres', 'Losan Pharma Gmbh.', 'Otto Hahn Strasse 13, D-79395 Neuenburg, Németország.', 'üres', 'üres', '25/07/2020')\n",
      "('OTRIVIN RAPID 1 mg/ml adagoló oldatos orrspray                                                                                                                                                                                                                 ', 'Otrivin Rapid 1 mg/ml adagoló oldatos orrspray (0,1%) 10ml', '(0,1%)10ml', '2349', 'üres', 'üres', '234,90 Ft/ml', 'Egészségpénztári kártyára vásárolható', 'Készleten', 'Orrdugulás ellen', 'xylomethazolinium chloratum', 'Különböző eredetű náthák (pl. meghűlés, szénanátha stb.) tüneteinek enyhítésére alkalmas orrpermet (orrspray). Az Otrivin Rapid készítmények hatóanyaga, a xilometazol, kifejezetten az orrnyálkahártya kezelésére alkalmas: érszűkítő hatást fejt ki, és csökkenti az orrban és melléküregeiben a nyálkahártya duzzanatot, megkönnyíti a váladék eltávozását. Ezáltal könnyíti az orrlégzést meghűlés és nátha esetén. Hatása néhány percen belül kialakul, és kb. 12 órán keresztül fennáll.', 'OGYI-T-5544/03', 'üres', 'Novartis Hungária Kft.', '(Consumer Health részlege), 1114, Budapest, Bartók Béla út 43-47.', 'Novartis Hungária Kft.', '1114, Budapest, Bartók Béla út 43-47.', 'üres', 'üres', '25/07/2020')\n",
      "('OTRIVIN RAPID 1 mg/ml oldatos orrcsepp                                                                                                                                                                                                                         ', 'Otrivin Rapid 1 mg/ml oldatos orrcsepp (0,1%) 10ml', '(0,1%)10ml', '1549', 'üres', 'üres', '154,90 Ft/ml', 'Egészségpénztári kártyára vásárolható', 'Készleten', 'Orrdugulás ellen', 'xylomethazolinium chloratum', 'Az Otrivin Rapid oldatos orrcsepp az orrnyálkahártya kezelésére alkalmas érszűkítő hatású készítmény, amely gyorsan csökkenti az orrban és melléküregeiben az orrnyálkahártya duzzanatát. Az Otrivin Rapid oldatos orrcsepp gyorsan megszünteti az orrdugulást, ezáltal könnyíti az orrlégzést. Különböző eredetű náthák (pl. meghűlés, szénanátha, egyéb allergiás eredetű nátha vagy orrmelléküreg-gyulladás) okozta orrdugulás enyhítésére alkalmas.', 'OGYI-T-5544/02', 'üres', 'Glaxosmithkline-Consumer Kft.', '1124 Budapest, Csörsz u. 43., Magyarország', 'Gsk Consumer Healthcare Gmbh & Co. Kg', 'Barthstraβe 4,80339 München,Németország', 'üres', 'üres', '25/07/2020')\n",
      "('TALEUM 22 mg/g oldatos orrspray                                                                                                                                                                                                                                ', 'Taleum 22 mg/g oldatos orrspray 15g', '15g', '2349', 'üres', 'üres', '156,60 Ft/g', 'Egészségpénztári kártyára vásárolható', 'Készleten', 'Allergia', 'natrium cromoglycicum', 'A Taleum orrspray az allergiás nátha (szénanátha) megelőző kezelésére szolgál. A készítmény helyi hatást fejt ki az orrnyálkahártyán és ezáltal alkalmas a szezonális és krónikus allergiás nátha tüneteinek tartós megelőzésére.', 'OGYI-T-3798/01', 'üres', 'Pannonpharma Kft.', '7720 Pécsvárad, Pannonpharma út 1.', 'üres', 'üres', 'üres', 'üres', '25/07/2020')\n",
      "('OTRIVIN RAPID MENTOL 1 mg/ml adagoló oldatos orrspray                                                                                                                                                                                                          ', 'Otrivin Rapid Menthol 1 mg/ml adagoló oldatos orrspray 10ml', '10ml', '2449', 'üres', 'üres', '244,90 Ft/ml', 'Egészségpénztári kártyára vásárolható', 'Készleten', 'Orrdugulás ellen', 'xylomethazolinium chloratum', 'Az Otrivin Menthol az orrnyálkahártya kezelésére alkalmas érszűkítő hatású készítmény, amely gyorsan megszünteti az orrdugulást. Az orrnyálkahártya-duzzanatot csökkentő hatóanyaga mellett hűsítő mentol és eukaliptusz aromapárát is tartalmaz.', 'OGYI-T-5544/04 10 ml HDPE kupakkal lezárt, PP szórófejjel és adagoló pumpával ellátott HDPE tartályban, dobozban', 'üres', 'Novartis Hungária Kft.', '(Consumer Health részlege), 1114 Budapest, Bartók Béla út 43-47.', 'Novartis Hungária Kft.', '1114 Budapest, Bartók Béla út 43-47.', 'üres', 'üres', '25/07/2020')\n",
      "('PROSPAN szirup                                                                                                                                                                                                                                                 ', 'Prospan szirup 100ml', '100ml', '2799', 'üres', 'üres', '25,00 Ft/ml', 'Egészségpénztári kártyára vásárolható', 'Készleten', 'Köhögéscsillapító', 'Extr. hederae helicis (borostyán) folii', 'A cukormentes Prospan® szirup a borostyánlevél erejével elősegíti a letapadt nyák felszakadását és kiürülését, csökkenti a köhögés gyakoriságát. Gyulladáscsökkentő és hörgőtágító hatása hozzájárul, hogy újra szabadon lélegezzen. Már 2 éves kortól adható (4 évesnél fiatalabb gyermekeknek orvosi felügyelet mellett adható).', 'OGYI-T-21292/01 1 x 100 ml', '2010. 05. 14.', 'üres', 'üres', 'üres', 'üres', 'üres', 'üres', '25/07/2020')\n",
      "('REVICET 10 mg préselt szopogató tabletta                                                                                                                                                                                                                       ', 'Revicet 10 mg préselt szopogató tabletta 28x', '28x', '2699', 'üres', 'üres', '96,40 Ft/db', 'Egészségpénztári kártyára vásárolható', 'Készleten', 'Allergia', 'cetirizinium chloratum', 'A Revicet 10 mg szopogató tabletta allergia ellenes gyógyszer, az antihisztaminok csoportjába tartozik.', 'OGYI-T-20392/01 20 db tabletta buborékfóliában, dobozban, OGYI-T-20392/02 30 db tabletta buborékfóliában, dobozban, OGYI-T-20392/03 60 db tabletta buborékfóliában, dobozban, OGYI-T-20392/04 90 db tabletta buborékfóliában, dobozban', '2009. május 6.', 'üres', 'üres', 'Losan Pharma Gmbh.', 'Otto Hahn Strasse 13, D-79395 Neuenburg, Németország.', 'üres', 'üres', '25/07/2020')\n",
      "('RHINATHIOL 1 mg/ml köhögéscsillapító szirup gyermekeknek                                                                                                                                                                                                       ', 'Rhinathiol 1 mg/ml köhögéscsillapító szirup gyermekeknek 125ml', '125ml', '1799', 'üres', 'üres', '14,40 Ft/ml', 'Egészségpénztári kártyára vásárolható', 'Készleten', 'Köhögéscsillapító', 'dextrometorphanium bromatum', 'A Rhinathiol köhögéscsillapító szirup gyermekeknek hatóanyaga a dextrometorfán egy mesterségesen előállított morfin-származék. Köhögéscsillapító hatású vegyület, mely a központi idegrendszerre hatva fejti ki hatását.', 'OGYI-T-9257/01', 'üres', 'Sanofi-Aventis Zrt. 1045 Budapest', 'Tó utca 1-5.', 'Unither Liquid Manufacturing', '1-3, allée de la Nesté, Z.I. d’en Signal, 31770 Colomiers, Franciaország', 'üres', 'üres', '25/07/2020')\n",
      "('RHINATHIOL 1 mg/ml oldatos orrspray                                                                                                                                                                                                                            ', 'Rhinathiol 1 mg/ml oldatos orrspray 10ml', '10ml', '2249', 'üres', 'üres', '239,90 Ft/ml', 'Egészségpénztári kártyára vásárolható', 'Készleten', 'Orrdugulás ellen', 'xylomethazolinium chloratum', 'A Rhinathiol oldatos orrspray az orrba fújva az orrdugulás kezelésére szolgál, különösen fertőzéses, allergiás vagy egyéb eredetű orrnyálkahártya-gyulladás (nátha, szénanátha) és az orrmelléküregek gyulladásai során.', 'OGYI-T-20077/01', '2012. január', 'Sanofi-Aventis Zrt.', '1045 Budapest, Tó u. 1-5., Információs szolgálat: 06-1-505-0050', 'Unither Liquid Manufacturing', '1-3 Allée de la Neste Z.I.d’en Sigal, 31770 Colomiers, Franciaország', 'üres', 'üres', '25/07/2020')\n",
      "('RHINATHIOL 1,33 mg/ml köhögéscsillapító szirup felnőtteknek                                                                                                                                                                                                    ', 'Rhinathiol 1,33 mg/ml köhögéscsillapító szirup felnőtteknek 200ml', '200ml', '2599', 'üres', 'üres', '13,00 Ft/ml', 'Egészségpénztári kártyára vásárolható', 'Készleten', 'Köhögéscsillapító', 'dextrometorphanium bromatum', 'A Rhinathiol köhögéscsillapító szirup felnőtteknek hatóanyaga a dextrometorfán-hidrobromid egy mesterségesen előállított morfin-származék. Köhögéscsillapító hatású vegyület, mely a központi idegrendszerre hatva fejti ki hatását.', 'OGYI-T-9257/02', 'üres', 'Sanofi-Aventis Zrt. 1045 Budapest', 'Tó utca 1-5.', 'Unither Liquid Manufacturing', '1-3, allée de la Nesté, Z.I. d’en Signal, 31770 Colomiers, Franciaország', 'üres', 'üres', '25/07/2020')\n",
      "('RHINATHIOL COLD 200 mg/30 mg filmtabletta                                                                                                                                                                                                                      ', 'Rhinathiol Cold 200 mg/30 mg filmtabletta 20x', '20x', '2249', 'üres', 'üres', '112,50 Ft/db', 'Egészségpénztári kártyára vásárolható', 'Készleten', 'Komplex készítmények, forró italporok', 'ibuprofenum', 'Ibuprofent és pszeudoefedrint tartalmazó kombinált fájdalomcsillapító, gyulladáscsökkentő, lázcsillapító és az orrdugulást megszüntető készítmény. Az orr és az orrmelléküregek dugulásával járó megfázás és influenza tüneteinek, mint például fájdalom, fejfájás, láz, torokfájás enyhítésére szolgáló készítmény.', 'OGYI-T-9161/01 (12 db), OGYI-T-9161/02 (20 db), OGYI-T-9161/03 (24 db)', '2010. szeptenber 29.', 'Sanofi-Aventis Zrt', '1045 Budapest, Tó u. 1-5', 'Sanofi-Synthelabo Ltd.', 'Engefield Avenue, Fawdon, Newcastle upon Tyne, Tyne & Wear NE3 3TT, Egyesült Királyság', 'üres', 'üres', '25/07/2020')\n",
      "('RHINATHIOL köptető 20 mg/ml szirup gyermekeknek                                                                                                                                                                                                                ', 'Rhinathiol köptető 20 mg/ml szirup gyermekeknek 125ml', '125ml', '1849', 'üres', 'üres', '14,80 Ft/ml', 'Egészségpénztári kártyára vásárolható', 'Készleten', 'Köhögéscsillapító', 'carbocysteinum', 'A Rhinathiol köptető 20 mg/ml szirup gyermekeknek készítmény a légutakban felhalmozódott kóros nyák sűrűségét csökkenti, ezáltal elősegíti a köpetürítést és a légutak öntisztulását. 15 év alatti gyermekek nehezített köpetürítéssel, a hörgőváladék kiürítésének nehézségével járó légúti megbetegedéseinek (pl. heveny, félheveny, idült hörghurut, légcsőhurut, vagy krónikus hörghurut akut fellángolásának) kezelésére szolgál.', 'OGYI-T-6607/01', 'üres', 'Sanofi-Aventis Zrt.', '1045 Budapest, Tó u. 1-5.', 'K', 'Unither Liquid Manufacturing, 1-3, allée de la Nesté Z.I. d’en Sigal, 31770 Colomiers, Franciaország,Nattermann & Cie. GmbH, Nattermannallee 1, 50829 Cologne, Németország', 'üres', 'üres', '25/07/2020')\n",
      "('RHINATHIOL TUSSO 100 mg tabletta                                                                                                                                                                                                                               ', 'Rhinathiol Tusso 100 mg tabletta 20x', '20x', '1899', 'üres', 'üres', '97,50 Ft/db', 'Egészségpénztári kártyára vásárolható', 'Készleten', 'Köhögéscsillapító', 'prenoxdiazinium', 'A Rhinathiol Tusso tabletta száraz köhögés csillapítására szolgáló készítmény, amely megkönnyíti a légzést és a köpet mennyiségét is befolyásolja. Köhögéscsillapító hatása 3-4 órán át tart.', 'OGYI-T-9200/01 (20 db)', 'üres', 'Sanofi-Aventis Zrt.', '1045 Budapest, Tó u. 1-5.', 'Chinoin Zrt', '2112, Veresegyház, Lévai u.5., Magyarország', 'üres', 'üres', '25/07/2020')\n",
      "('RHINATHIOL köptető 50 mg/ml szirup felnőtteknek                                                                                                                                                                                                                ', 'Rhinathiol köptető 50 mg/ml szirup felnőtteknek 200ml', '200ml', '2499', 'üres', 'üres', '12,50 Ft/ml', 'Egészségpénztári kártyára vásárolható', 'Készleten', 'Köhögéscsillapító', 'carbocysteinum', 'A Rhinathiol köptető 50 mg/ml szirup felnőtteknek készítmény a légutakban felhalmozódott kóros nyák sűrűségét csökkenti, ezáltal elősegíti a köpetürítést és a légutak öntisztulását. Felnőttek és 15 éven felüli gyermekek nehezített köpetürítéssel, a hörgőváladék kiürítésének nehézségével járó légúti megbetegedéseinek (pl. heveny, félheveny, idült hörghurut, légcsőhurut) kezelésére javallt.', 'OGYI-T- 6607/02 125 ml, OGYI-T- 6607/03 200 ml, OGYI-T- 6607/04 300 ml', 'üres', 'Sanofi-Aventis Zrt.', '1045 Budapest, Tó u. 1-5.', 'K', '1.) Unither Liquid Manufacturing, 1-3, allée de la Nesté Z.I. d’en Sigal, 31770 Colomiers, Franciaország, 2.) A. Nattermann & Cie. GmbH, Nattermannallee 1, 50829 Cologne, Németország', 'üres', 'üres', '25/07/2020')\n",
      "('RHINOSPRAY PLUS 1,265 mg/ml oldatos orrspray                                                                                                                                                                                                                   ', 'Rhinospray Plus orrspray 10ml', '10ml', '2099', '2 099 Ft', '2 479 Ft helyett:', '209,90 Ft/ml', 'Egészségpénztári kártyára vásárolható', 'Készleten', 'Orrdugulás ellen', 'tramazolinium chloratum', 'A Rhinospray plus oldatos orrspray az orrnyálkahártya duzzanatának mérséklésére szolgál meghűlés vagy szénanátha esetén. Ezen kívül orrmelléküreg- és középfül-gyulladásban az izzadmány kiürülésének elősegítésére is alkalmazható.', 'OGYI-T-7335/01', 'üres', 'Boehringer Ingelheim International Gmbh', 'Binger Strasse 173, D-55216 Ingelheim am Rhein, Németország', 'Istituto De Angeli', 'Localita i Prulli No. 103/c, I-50066 Regello, Firenze, Olaszország', 'üres', 'üres', '25/07/2020')\n",
      "('RINOFLUIMUCIL oldatos orrspray                                                                                                                                                                                                                                 ', 'Rinofluimucil oldatos orrspray 10ml', '10ml', '2199', 'üres', 'üres', '219,90 Ft/ml', 'Egészségpénztári kártyára vásárolható', 'Készleten', 'Orrdugulás ellen', 'acetylcysteinum', 'A Rinofluimucil oldatos orrspray hatóanyagai az acetilcisztein és a tuaminoheptán-szulfát. Az acetilcisztein erős nyákoldó hatású vegyület, orrnyálkahártyán alkalmazva hígítja a sűrű légúti váladékot. A tuaminoheptán-szulfát egy érösszehúzó hatású, ún. szimpatikomimetikus amin, orrnyálkahártyán alkalmazva csökkenti a nyálkahártya-duzzanatot.', 'OGYI-T-9685/01 (10 ml)', 'üres', 'Zambon S.P.A.', 'Via Lillo del Duca 10, 20091 Bresso, Olaszország', 'Zambon S.P.A.', 'Via della Chimica 9, 36100 Vicenza, Olaszország', 'üres', 'üres', '25/07/2020')\n",
      "('ROBITUSSIN ANTITUSSICUM szirup                                                                                                                                                                                                                                 ', 'Robitussin Antitussicum szirup 100ml', '100ml', '1999', 'üres', 'üres', '20,00 Ft/ml', 'Egészségpénztári kártyára vásárolható', 'Készleten', 'Köhögéscsillapító', 'dextrometorphanium bromatum', 'A készítmény köhögéscsillapító, enyhíti a makacs, száraz köhögést.', 'üres', 'üres', 'üres', 'üres', 'Ivax Pharmaceuticals S.R.O.', \"Ostravska 29, 747 70 Opava, 9, Czech Republic., (vagy), Doppel Farmaceutici S.r.l., Via Martiri delle Foibe 1, 29016 Cortemaggiore (Piacenza), Italy,A betegtájékoztató engedélyezésének dátuma: 2010. február 26., ']\", 'üres', 'üres', '25/07/2020')\n",
      "('ROBITUSSIN EXPECTORANS szirup                                                                                                                                                                                                                                  ', 'Robitussin Expectorans szirup 100ml', '100ml', '2149', 'üres', 'üres', '20,00 Ft/ml', 'Egészségpénztári kártyára vásárolható', 'Készleten', 'Köhögéscsillapító', 'guaiphensinum', 'A Robitussin Expectorans szirup köptető. A légutak heveny megbetegedéseiben jelentkező makacs, nyálkás, hurutos köhögés vagy hörghurut kiegészítő kezelésére alkalmas, feloldja a légúti váladékot, ezzel segíti annak felköhögését.', 'üres', '2010. február 26.', 'üres', 'üres', 'Ivax Pharmaceuticals S.R.O.', \"Ostravska 29, 747 70 Opava, 9, Czech Republic., (vagy), Doppel Farmaceutici S.r.l., Via Martiri delle Foibe 1, 29016 Cortemaggiore (Piacenza), Italy,A betegtájékoztató engedélyezésének dátuma: 2010. február 26., ']\", 'üres', 'üres', '25/07/2020')\n",
      "('SEPTOFORT tabletta                                                                                                                                                                                                                                             ', 'Septofort tabletta 24x', '24x', '1749', 'üres', 'üres', '58,30 Ft/db', 'Egészségpénztári kártyára vásárolható', 'Készleten', 'Torokfertőtlenítők', 'chlorhexidinium gluconicum', 'A klórhexidin tartalmú Septofortnak nem számít, miért fáj a torkod! Szájüregi fertőzések, gyulladások és szájnyálkahártya betegségek kezelésére is\\xa0 alkalmas', 'OGYI-T 3843/02 12 db, OGYI-T 3843/03 24 db', 'üres', 'Walmark', 'a.s., Oldřichovice 44, 739 61 Třinec, Csehország', 'üres', 'üres', 'üres', 'üres', '25/07/2020')\n",
      "('ROBITUSSIN JUNIOR szirup                                                                                                                                                                                                                                       ', 'Robitussin Junior szirup 100ml', '100ml', '2149', 'üres', 'üres', '21,50 Ft/ml', 'Egészségpénztári kártyára vásárolható', 'Készleten', 'Köhögéscsillapító', 'dextrometorphanium bromatum', 'A készítmény köhögéscsillapító, enyhíti a makacs száraz köhögést. A gyógyszer csak gyermekgyógyászati felhasználásra javasolt.', 'üres', '2010. február 26.', 'üres', 'üres', 'Ivax Pharmaceuticals S.R.O.', \"Ostravska 29, 747 70 Opava, 9, Czech Republic, (vagy), Doppel Farmaceutici S.r.l., Via Martiri delle Foibe 1, 29016 Cortemaggiore (Piacenza), Italy,A betegtájékoztató engedélyezésének dátuma: 2010. február 26.,']\", 'üres', 'üres', '25/07/2020')\n",
      "('SEPTOLETE EXTRA 1,5 mg/ml + 5 mg/ml szájnyálkahártyán alkalmazott oldatos spray                                                                                                                                                                                ', 'Septolete Extra 1,5 mg/ml+5 mg/ml szájnyálkahártyán alkalmazott oldatos spray 30ml', '30ml', '2099', 'üres', 'üres', '70,00 Ft/ml', 'Egészségpénztári kártyára vásárolható', 'Készleten', 'Torokfertőtlenítők', 'üres', 'A Septolete extra szájnyálkahártyán alkalmazott spray gyulladáscsökkentő, fájdalomcsillapító és antiszeptikum helyi, szájüregi használatra. Fertőtleníti a szájüreget és a garatot, enyhíti a torokgyulladás tüneteit, például a fájdalmat, a vérbőséget, a duzzanatot, a melegséget és a nyelési nehézséget.', 'OGYI-T-22871/06 1x30 ml műanyag (HDPE) permetező tartály', 'üres', 'Krka', 'd.d., Novo mesto, Šmarješka cesta 6, 8501 Novo mesto, Szlovénia', 'üres', 'üres', 'üres', 'üres', '25/07/2020')\n",
      "('SEPTOLETE EXTRA citrom-bodza 3 mg/1 mg szopogató tabletta                                                                                                                                                                                                      ', 'Septolete extra 3mg/1mg szopogató tabletta citrom-bodza ízű 16x', '16x', '1999', 'üres', 'üres', '124,90 Ft/db', 'Egészségpénztári kártyára vásárolható', 'Készleten', 'Torokfertőtlenítők', 'üres', 'A Septolete extra szopogató tabletta felnőttek és 6 év feletti gyermekek számára javallott gyulladáscsökkentőként, fájdalomcsillapítóként és fertőtlenítőként torok-, szájüregi és fogíny-irritáció kezelésére.', 'OGYI-T-22871/12 8×, OGYI-T-22871/13 16×, OGYI-T-22871/14 24×, OGYI-T-22871/15 32×, OGYI-T-22871/16 40×', 'üres', 'Krka', 'd.d., Novo mesto, Šmarješka cesta 6, 8501 Novo mesto, Szlovénia', 'K:', 'KRKA, d.d., Novo mesto, Šmarješka cesta 6, 8501 Novo mesto, Szlovénia, TAD Pharma GmbH, Heinz-Lohmann-Straße 5, 27472 Cuxhaven, Németország', 'üres', 'üres', '25/07/2020')\n",
      "('SINUPRET belsőleges oldatos cseppek                                                                                                                                                                                                                            ', 'Sinupret belsőleges oldatos cseppek 50ml', '50ml', '2599', 'üres', 'üres', '56,00 Ft/ml', 'Egészségpénztári kártyára vásárolható', 'Készleten', 'Orrdugulás ellen', 'gentianae radix', 'Alkalmazható az orrmelléküregek és a légutak heveny és idült gyulladásainak kezelésére. A hatóanyagok gyulladáscsökkentő, nyálkaoldó hatásúak, megkönnyítik a letapadt váladék felköhögését és kiürítését.', 'OGYI-T-5509/01-02. 50 ml, 100 ml', '2017.január.', 'Bionorica Se', 'Kerschensteiner Str. 11-15, 92318 Neumarkt, Németország,:, Schwabe Hungary Kft., Tel.: +36 1 431-8954, Fax: +36 1 431-8953, Email: info@schwabe.hu', 'üres', 'üres', 'üres', 'üres', '25/07/2020')\n",
      "('SINUPRET bevont tabletta                                                                                                                                                                                                                                       ', 'Sinupret forte bevont tabletta 20x', '20x', '2899', 'üres', 'üres', '145,00 Ft/db', 'Egészségpénztári kártyára vásárolható', 'Készleten', 'Orrdugulás ellen', 'gentianae radix', 'A Sinupret forte bevont tabletta az orrmelléküregek és a légutak heveny és idült gyulladásainak kezelésére alkalmazható. Antibakteriális kezelés kiegészítéseként is felhasználható.', 'OGYI-T-5509/05 20 db, OGYI-T-5509/06 50 db, OGYI-T-5509/07 100 db, OGYI-T-5509/08 500 db', 'üres', 'Bionorica Se', 'Kerschensteiner str. 11-15., 92318-Neumarkt, Németország, Tel.: +49 9181 231 90, Fax: +49 9181 231 265, Website: www.bionorica.de, Email: info@bionorica.de,:, Schwabe Hungary Kft., Tel.: +36 1 431-8934, Fax: +36 1 431-8953', 'üres', 'üres', 'üres', 'üres', '25/07/2020')\n",
      "('SNUP 1 mg/ml oldatos orrspray                                                                                                                                                                                                                                  ', 'Snup 1 mg/ml oldatos orrspray 10ml', '10ml', '1699', 'üres', 'üres', '169,90 Ft/ml', 'Egészségpénztári kártyára vásárolható', 'Készleten', 'Orrdugulás ellen', 'üres', 'A tartósítószermentes SNUP orrspray az aktív hatóanyag és a tengervíz erejével segít csökkenteni az orrdugulást.', 'OGYI-T-23172/05 1×10 ml „3K-system” adagolópumpával lezárt polietilén tartály, OGYI-T-23172/06 1×10 ml „PFP N-system” adagolópumpával lezárt polietilén tartály, OGYI-T-23172/07 1×15 ml „3K-system” adagolópumpával lezárt polietilén tartály, OGYI-T-23172/08 1×15 ml „PFP N-system” adagolópumpával lezárt polietilén tartály', 'üres', 'Stada Arzneimittel Ag', 'Stadastrasse 2-18, D-61118 Bad Vilbel, Németország', 'üres', 'üres', 'üres', 'üres', '25/07/2020')\n",
      "('SOLMUCOL 200 mg szopogató tabletta                                                                                                                                                                                                                             ', 'Solmucol 200 mg szopogató tabletta 20x', '20x', '1649', 'üres', 'üres', '85,00 Ft/db', 'Egészségpénztári kártyára vásárolható', 'Készleten', 'Torokfertőtlenítők', 'acetylcysteinum', 'A Solmucol® acetilcisztein hatóanyagot tartalmazó, köptető hatású készítmény. Az acetilcisztein oldja a légúti megbetegedések esetén képződő sűrű nyákot. Elősegíti a légcsőben és légutakban lerakódott nyák kiürítését, így könnyíti a légzést.', 'OGYI-T-04060/02', 'üres', 'üres', 'üres', 'Ibsa Farmaceutici Italia Srl.', 'Via Martiri de Cefalonia, 2, 26900 Lodi, Olaszország', 'üres', 'üres', '25/07/2020')\n",
      "('SOLEDUM FORTE 200 mg gyomornedv-ellenálló lágy kapszula                                                                                                                                                                                                        ', 'Soledum Forte 200 mg gyomornedv-ellenálló lágy kapszula 25x', '25x', '2499', 'üres', 'üres', '100,00 Ft/Ft/db', 'Egészségpénztári kártyára vásárolható', 'üres', 'Köhögéscsillapító', 'üres', 'üres', 'OGYI-T-22947/04 20x PVC/PVdC//Al buborékcsomagolásban, OGYI-T-22947/05 50x PVC/PVdC//Al buborékcsomagolásban, OGYI-T-22947/06 100x PVC/PVdC//Al buborékcsomagolásban, OGYI-T-22947/08 25x PVC/PVdC//Al buborékcsomagolásban', 'üres', 'Cassella-Med Gmbh & Co. Kg', 'Gereonsmühlengasse 1 50670 Köln, Németország', 'Klosterfrau Berlin Gmbh', 'Motzenerstr. 41, 12277 Berlin, Németország', 'üres', 'üres', '25/07/2020')\n",
      "('STREPFEN 8,75 mg szopogató tabletta                                                                                                                                                                                                                            ', 'Strepfen cukormentes 8,75 mg szopogató tabletta 24x', '24x', '2799', 'üres', 'üres', '117,90 Ft/db', 'Egészségpénztári kártyára vásárolható', 'Készleten', 'Torokfertőtlenítők', 'flurbiprofenum', 'Hatékonyan alkalmazható a baktériumok vagy vírusok által kiváltott torokgyulladás tüneteinek (fájdalom és nyálkahártya duzzanat) csökkentésére.', 'OGYI-T-8900/01', '2009. szeptember 27.', 'Reckitt Benckiser Healthcare International Ltd.', '103-105 Bath Road, Slough, Berkshire SL1 3UH, Egyesült Királyság', 'Reckitt Benckiser Healthcare International Ltd.', 'Nottingham Site, Thane Road, Nottingham, NG90 2DB, Egyesült Királyság,:, Reckitt Benckiser Kft., 1036 Budapest, Lajos u. 48-66, Tel.: 06 1 880-1870 Fax: 06 1 250-8398', 'üres', 'üres', '25/07/2020')\n",
      "('STREPSILS citromízû cukormentes szopogató tabletta                                                                                                                                                                                                             ', 'Strepsils citromízű cukormentes szopogató tabletta 24x', '24x', '2299', 'üres', 'üres', '95,80 Ft/db', 'Egészségpénztári kártyára vásárolható', 'Készleten', 'Torokfertőtlenítők', 'alcoholum dichlorobenzylicum', 'Antibakteriális, gomba és vírusellenes hatású. csillapítja a fájdalmat már 5 perc elteltével.', 'OGYI-T-4519/02 (24×)', 'üres', 'Reckitt Benckiser Healthcare International Ltd.', '103-105 Bath Road, Slough, Berkshire SL1 3UH, Egyesült Királyság', 'Reckitt Benckiser Healthcare International Limited', 'Nottingham Site, Thane Road Nottingham, NG90 2DB, Egyesült Királyság,:, Reckitt Benckiser Kft., 1113 Budapest, Bocskai út 134-146.,Tel: 06 1 880-1870, Fax: 06 1 250-8398, E-mail: gyogyszer@reckittbenckiser.com', 'üres', 'üres', '25/07/2020')\n",
      "('STREPSILS eperízû cukormentes szopogató tabletta                                                                                                                                                                                                               ', 'Strepsils eperízű cukormentes szopogató tabletta 24x', '24x', '2299', 'üres', 'üres', '95,80 Ft/db', 'Egészségpénztári kártyára vásárolható', 'Készleten', 'Torokfertőtlenítők', 'alcoholum dichlorobenzylicum', 'Torokfájás esetén megküzd a kórokozókkal, továbbá fájdalomcsillapító hatású is már 5 perc elteltével.', 'OGYI-T-4519/03 (12×), OGYI-T-4519/04 (24×)', '2016. március', 'üres', 'üres', 'Reckitt Benckiser Healthcare International Limited', 'Nottingham Site, Thane Road Nottingham, NG90 2DB, Egyesült Királyság,:, Reckitt Benckiser Kft., 1113 Budapest, Bocskai út 134-146.,Tel: 06 1 880-1870, Fax: 06 1 250-8398, E-mail: gyogyszer@reckittbenckiser.com', 'üres', 'üres', '25/07/2020')\n",
      "('STREPSILS HONEY AND LEMON szopogató tabletta                                                                                                                                                                                                                   ', 'Strepsils Honey and Lemon szopogató tabletta 24x', '24x', '2299', 'üres', 'üres', '88,70 Ft/db', 'Egészségpénztári kártyára vásárolható', 'Készleten', 'Torokfertőtlenítők', 'alcoholum dichlorobenzylicum', 'Szopogatásra szánt méz- és citromízű torokfertőtlenítő gyógyszerkészítmény. Alkalmazható a torok-, garat-, mandulagyulladás, fogínygyulladás, szájnyálkahártyagyulladás kezelésére, valamint a szájüregben végzett műtétek (mandula, fog, stb.) után a kellemetlen szájszag mérséklésére, ill. a másodlagos fertőzések megakadályozására.', 'OGYI-T-4519/05 12× buborékcsomagolásban, dobozban, OGYI-T-4519/06 12× buborékcsomagolásban, fémdobozban, OGYI-T-4519/07 24× buborékcsomagolásban, dobozban, OGYI-T-4519/08 36× buborékcsomagolásban, dobozban, OGYI-T-4519/09 10× tartályban.', 'üres', 'Reckitt Benckiser Healthcare International Ltd.', '103-105 Bath Road, Slough, Berkshire SL1 3UH, Egyesült Királyság', 'Reckitt Benckiser Healthcare International', 'Limited, Nottingham Site, Thane Road Nottingham, NG90 2DB,Egyesült Királyság,:, Reckitt Benckiser Kft., 1113 Budapest, Bocskai út 134-146.,Tel: 06 1 880-1870, Fax: 06 1 250-8398, E-mail: gyogyszer@reckittbenckiser.com', 'üres', 'üres', '25/07/2020')\n",
      "('STREPSILS MENTHOL AND EUCALYPTUS szopogató tabletta                                                                                                                                                                                                            ', 'Strepsils Menthol and eucalyptus szopogató tabletta  24x', '24x', '2299', 'üres', 'üres', '95,80 Ft/db', 'Egészségpénztári kártyára vásárolható', 'Készleten', 'Torokfertőtlenítők', 'mentholum', 'Szopogatásra szánt mentol- és eukaliptuszízű torokfertőtlenítő gyógyszerkészítmény. Alkalmazható a torok-, garat-, mandulagyulladás, fogínygyulladás, szájnyálkahártya-gyulladás kezelésére, valamint a szájüregben végzett műtétek (mandula, fog, stb.) után a kellemetlen szájszag mérséklésére, ill. a másodlagos fertőzések megakadályozására, valamint megfázással járó száraz, irritáló köhögés és orrdugulás kezelésére.', 'OGYI-T-4521/01 (24 db), OGYI-T-4521/02 (12 db), OGYI-T-4521/03 (36 db)', 'üres', 'Reckitt Benckiser Healthcare International Ltd.', '103-105 Bath Road, Slough, Berkshire SL1 3UH, Egyesült Királyság', 'Reckitt Benckiser Healthcare International Ltd.', 'Nottingham Site, Thane Road, Nottingham NG90 2DB, Egyesült Királyság,:, Reckitt Benckiser Kft., 1113 Budapest, Bocskai út 134-146.,Tel: 06 1 880-1870, Fax: 06 1 250-8398, E-mail: gyogyszer@reckittbenckiser.com', 'üres', 'üres', '25/07/2020')\n",
      "('STREPSILS PLUS tabletta                                                                                                                                                                                                                                        ', 'Strepsils Plus tabletta 24x', '24x', '2499', 'üres', 'üres', '104,10 Ft/db', 'Egészségpénztári kártyára vásárolható', 'Készleten', 'Torokfertőtlenítők', 'lidocainum', 'A Strepsils Plus tabletta erős torokfájás, valamint garat-, mandula-, és fogínygyulladás kezelésére javallott. Kettős hatású; fertőtleníti a gyulladt területet valamint lidokain tartalmának köszönhetően gyorsan csillapítja a száj- és garatüregben fellépő fájdalmat.', 'OGYI-T-5716/01', 'üres', 'Reckitt Benckiser Healthcare International Ltd.', '103-105 Bath Road, Slough, Berkshire SL1 3UH, Egyesült Királyság', 'Reckitt Benckiser Healthcare International Ltd.', 'Nottingham Site, Thane Road Nottingham, NG90 2DB,Egyesült Királyság,:, Reckitt Benckiser Kft., 1113 Budapest, Bocskai út 134-146., Tel: 06 1 880-1870, Fax: 06 1 250-8398, E-mail: gyogyszer@reckittbenckiser.com', 'üres', 'üres', '25/07/2020')\n",
      "('STREPSILS VITAMIN C 100 mg szopogató tabletta                                                                                                                                                                                                                  ', 'Strepsils Vitamin C 100 mg szopogató tabletta 24x', '24x', '2299', 'üres', 'üres', '95,80 Ft/db', 'Egészségpénztári kártyára vásárolható', 'Készleten', 'Torokfertőtlenítők', 'natrium ascorbicum', 'Szopogatásra szánt, C vitamint is tartalmazó torokfertőtlenítő gyógyszerkészítmény. Hatékonyan alkalmazható a torok-, garat-, mandulagyulladás, fogínygyulladás, szájnyálkahártya‑gyulladás kezelésére, valamint a szájüregben végzett műtétek (mandula, fog, stb.) után a kellemetlen szájszag mérséklésére, ill. a másodlagos fertőzések megakadályozására.', 'OGYI-T-7206/01 (24 db), OGYI-T-7206/02 (12 db), OGYI-T-7206/03 (10 db)', 'üres', 'Reckitt Benckiser Healthcare International Ltd.', '103-105 Bath Road, Slough, Berkshire SL1 3UH, Egyesült Királyság', 'Reckitt Benckiser Healthcare International Ltd.', 'Nottingham Site, Thane Road, Nottingham, NG90 2DB, Egyesült Királyság,:, Reckitt Benckiser Kft., 1113 Budapest, Bocskai út 134-146.,Tel: 06 1 880-1870, Fax: 06 1 250-8398, E-mail: gyogyszer@reckittbenckiser.com', 'üres', 'üres', '25/07/2020')\n",
      "('TANTUM VERDE CITROM 3 mg szopogató tabletta                                                                                                                                                                                                                    ', 'Tantum Verde citrom 3mg szopogató tabletta (Tantum Lemon) 20x', '20x', '2199', 'üres', 'üres', '110,00 Ft/db', 'Egészségpénztári kártyára vásárolható', 'Készleten', 'Torokfertőtlenítők', 'benzydaminium', 'A gyógyszer gyulladásgátló és fájdalomcsillapító hatású. Alkalmazható a torok, a száj és a fogíny gyulladásos tüneteinek kezelésére és szájfertőtlenítésre. Kiegészítő kezelésként használható például foghúzás, szájsebészeti beavatkozás előtt és után. Kemoterápiát vagy sugárterápiát követően, másodlagosan kialakuló szájnyálkahártya-panaszok esetén is alkalmazható.', 'üres', 'üres', 'üres', 'üres', 'üres', 'üres', 'üres', 'üres', '25/07/2020')\n",
      "('TANTUM VERDE MENTA 3 mg szopogató tabletta                                                                                                                                                                                                                     ', 'Tantum Verde menta 3mg szopogató tabletta 20x', '20x', '2349', 'üres', 'üres', '117,50 Ft/db', 'Egészségpénztári kártyára vásárolható', 'Készleten', 'Torokfertőtlenítők', 'benzydaminium', 'A gyógyszer gyulladásgátló és fájdalomcsillapító hatású. Alkalmazható a torok, a száj és a fogíny gyulladásos tüneteinek kezelésére és szájfertőtlenítésre. Kiegészítő kezelésként használható például foghúzás, szájsebészeti beavatkozás előtt és után. Kemoterápiát vagy sugárterápiát követően, másodlagosan kialakuló szájnyálkahártya-panaszok esetén is alkalmazható.', 'üres', 'üres', 'üres', 'üres', 'üres', 'üres', 'üres', 'üres', '25/07/2020')\n",
      "('TANTUM VERDE NARANCS-MÉZ 3 mg szopogató tabletta                                                                                                                                                                                                               ', 'Tantum Verde narancs-méz 3 mg szopogató tabletta 20x', '20x', '2349', 'üres', 'üres', '117,50 Ft/db', 'Egészségpénztári kártyára vásárolható', 'Készleten', 'Torokfertőtlenítők', 'benzydaminium', 'A gyógyszer gyulladásgátló és fájdalomcsillapító hatású. Alkalmazható a torok, a száj és a fogíny gyulladásos tüneteinek kezelésére és szájfertőtlenítésre. Kiegészítő kezelésként használható például foghúzás, szájsebészeti beavatkozás előtt és után. Kemoterápiát vagy sugárterápiát követően, másodlagosan kialakuló szájnyálkahártya-panaszok esetén is alkalmazható.', 'üres', 'üres', 'üres', 'üres', 'üres', 'üres', 'üres', 'üres', '25/07/2020')\n",
      "('VIBROCIL oldatos orrcsepp                                                                                                                                                                                                                                      ', 'Vibrocil oldatos orrcsepp 15ml', '15ml', '1399', 'üres', 'üres', '93,30 Ft/ml', 'Egészségpénztári kártyára vásárolható', 'Készleten', 'Orrdugulás ellen', 'phenylephrinum', 'A Vibrocil oldatos orrcsepp gyorsan és tartósan enyhíti a különböző fertőzéses vagy allergiás eredetű felsőlégúti megbetegedések okozta orrdugulást és orrfolyást. Elősegíti az orrjáratok kitisztulását, mérsékli az orrdugulást.', 'OGYI-T-2040/01', 'üres', 'Glaxosmithkline-Consumer Kft.', '1124 Budapest, Csörsz u. 43., Magyarország', 'Gsk Consumer Healthcare Gmbh & Co. Kg', 'Barthstraβe 4,80339 München,Németország', 'üres', 'üres', '25/07/2020')\n",
      "('XILOMARE 1 mg/ml oldatos orrspray                                                                                                                                                                                                                              ', 'Xilomare Kid 0,5mg/ml oldatos orrspray 10ml', '10ml', '2099', 'üres', 'üres', '209,90 Ft/ml', 'Egészségpénztári kártyára vásárolható', 'Készleten', 'Orrdugulás ellen', 'üres', 'A Xilomare Kid hatóanyaga a xilometazolin, amely összehúzza az orrnyálkahártya ereit, ezáltal csökkenti a különböző okok miatt fennálló duzzanatot, és megkönnyíti a légzést az orron keresztül. A Xilomare Kid 0,5 mg/ml oldatos orrspray 2-12 éves gyermekek orrdugulásának rövid távú kezelésére használatos.', 'üres', 'üres', 'üres', 'üres', 'üres', 'üres', 'üres', 'üres', '25/07/2020')\n",
      "('WICK TRIACTIN citrom ízû por belsőleges oldathoz                                                                                                                                                                                                               ', 'Wick TriActin citrom ízű por belsőleges oldathoz 10x', '10x', '2599', 'üres', 'üres', '259,90 Ft/db', 'Egészségpénztári kártyára vásárolható', 'Készleten', 'Komplex készítmények, forró italporok', 'paracetamolum', 'A TriActin Wick citrom ízű por belsőleges oldathoz a megfázás és az influenza tüneteinek enyhítésére szolgál. Három hatóanyagot tartalmaz: A paracetamol jól ismert fájdalomcsillapító. A különböző fájdalmak, így a fejfájás és a torokfájás megszüntetésére és a láz csillapítására alkalmazható. A gvajfenezin (köhögéscsillapító) fellazítja a váladékot és enyhíti a hurutos köhögést. A fenilefrin-hidroklorid (orrdugulás elleni szer) csökkenti az orrjárat duzzanatát, így enyhíti az orrdugulást.', 'OGYI-T-21591/01-02', 'üres', 'Wick Pharma', 'Zweigniederlassung der Procter & Gamble GmbH, Sulzbacher Str. 40-50, D-65824 Schwalbach am Taunus, Németország', 'Wrafton Laboratories Limited', 'Braunton, Devon, EX33 2DL,Nagy-Britannia', 'üres', 'üres', '25/07/2020')\n",
      "('WICK VAPORUB kenőcs                                                                                                                                                                                                                                            ', 'Wick Vaporub kenőcs 50g', '50g', '2499', 'üres', 'üres', '50,00 Ft/g', 'Egészségpénztári kártyára vásárolható', 'Készleten', 'Orrdugulás ellen', 'camphora', 'A Wick VapoRub kenőcs alkalmazása náthával, köhögéssel, torok- és hörghuruttal járó meghüléses panaszok esetén ajánlott.p\\np\\xa0p\\np\\np\\np\\np\\npKiszállítás futárszolgálattal: 695 Ftp\\np\\np\\np\\npSzemélyes átvétel több, mint 100 gyógyszertárban: ingyenesp\\np\\np\\n', 'OGYI-T-22058/01-03', 'üres', 'Wick Pharma', 'Zweigniederlassung der Procter & Gamble GmbH, Sulzbacher Strasse 40-50, D-65824 Schwalbach am Taunus, Németország', 'Procter & Gamble Manufacturing Gmbh', 'Procter & Gamble Strasse 1, 64521 Gross Gerau, Németország', 'üres', 'üres', '25/07/2020')\n",
      "('XYZAL 0,5 mg/ml belsőleges oldat                                                                                                                                                                                                                               ', 'Xyzal 0,5 mg/ml belsőleges oldat 200ml', '200ml', '2599', 'üres', 'üres', '13,00 Ft/ml', 'Egészségpénztári kártyára vásárolható', 'Készleten', 'Allergia', 'levocetirizinum', 'A Xyzal allergia kezelésére szolgáló szer, hatóanyaga a hisztamin-receptorokat gátló gyógyszerek csoportjába tartozik. Az alábbi allergiás betegségek tüneteinek (tüsszentés, orrfolyás, orrdugulás, szem- és bőrtünetek) kezelésére használható felnőttekben és 2 éves kor feletti gyermekekben: · allergiás nátha (beleértve az egész éven át tartó allergiás náthát); · csalánkiütés (krónikus idiopátiás urtikária)', 'OGYI-T-8514/02.', 'üres', 'Ucb Magyarország Kft.', '1023 Budapest, Árpád fejedelem útja 26-28.', 'Ucb Pharma S.P.A.', 'Via Praglia 15, 10044 Pianezza, Olaszország', 'üres', 'üres', '25/07/2020')\n",
      "('XYZAL 5 mg filmtabletta                                                                                                                                                                                                                                        ', 'Xyzal 5 mg filmtabletta 10x', '10x', '1249', 'üres', 'üres', '124,90 Ft/Ft/db', 'Egészségpénztári kártyára vásárolható', 'Készleten', 'Allergia', 'levocetirizinum', 'Az alábbi tünetek (tüsszentés, orrfolyás, orrdugulás, szem- és bőrtünetek) kezelésére használható felnőttekben és 6 éves kor feletti gyermekekben: allergiás nátha (beleértve az egész éven át tartó allergiás náthát); csalánkiütés (urtikária).', 'OGYI-T-8514/01 (28 db),OGYI-T-8514/03 (10 db), OGYI-T-8514/04 (60 db)', 'üres', 'Ucb Magyarország Kft.', '1023 Budapest, Árpád fejedelem útja 26-28.', 'Ucb Pharma S.P.A.', 'Via Praglia 15, 10044 Pianezza, Olaszország', 'üres', 'üres', '25/07/2020')\n",
      "('ZILOLA 5 mg filmtabletta                                                                                                                                                                                                                                       ', 'Zilola 5 mg filmtabletta 28x', '28x', '2299', 'üres', 'üres', '82,10 Ft/db', 'Egészségpénztári kártyára vásárolható', 'Készleten', 'Allergia', 'levocetirizinum', 'Szisztémás hatású antihisztamin. Az alábbi betegségekkel összefüggő tünetek kezelésére szolgál: allergiás nátha (beleértve az év bizonyos szakában rendszeresen visszatérő allergiás náthát is) és rendszeresen jelentkező (idült), ismeretlen eredetű csalánkiütés (krónikus idiopátiás csalánkiütés).', 'OGYI-T-21995/01-10', '2012. január', 'Richter Gedeon Nyrt.', 'H-1103 Budapest, Gyömrői út 19-21., Magyarország', 'Gedeon Richter Polska Sp. Z O.O.', 'ul. ks. J. Poniatowskiego 5, 05-825 Grodzisk Mazowiecki,Lengyelország', 'üres', 'üres', '25/07/2020')\n",
      "('ZYRTEC 10 mg/ml belsőleges oldatos cseppek                                                                                                                                                                                                                     ', 'Zyrtec 10 mg/ml belsőleges oldatos cseppek 20ml', '20ml', '1549', 'üres', 'üres', '77,50 Ft/ml', 'Egészségpénztári kártyára vásárolható', 'Készleten', 'Allergia', 'cetirizinium chloratum', 'A Zyrtec egy allergia elleni gyógyszer. A Zyrtec felnőttek, valamint 2 éves és afeletti gyermekek alábbi tüneteinek kezelésére javasolt: szezonális és egész éven át tartó allergiás nátha orr- és szemtüneteinek enyhítésére, krónikus csalánkiütés (krónikus idiopátiás urtikária) enyhítésére.', 'OGYI-T-4491/01', '2009. április 28.', 'Ucb Magyarország Kft.', 'H-1023 Budapest, Árpád fejedelem útja 26-28., Magyarország', 'Ucb Pharma Spa', '15 Via Praglia, 10044 Pianezza, Olaszország', 'üres', 'üres', '25/07/2020')\n",
      "('ACC 100 mg granulátum gyermekeknek', 'ACC 100 mg granulátum gyermekeknek 30x3g', '30x3g', '1549', 'üres', 'üres', '51,60 Ft/db', 'Egészségpénztári kártyára vásárolható', 'Készleten', 'Köhögéscsillapító', 'acetylcysteinum', 'Az ACC 100 mg granulátum gyermekeknek, amelynek hatóanyaga az acetilcisztein, a légutakban levő sűrű viszkózus váladék oldására alkalmas. Fokozott viszkozitású nyákelválasztással, köhögéssel járó légúti betegségek váladékoldást elősegítő terápiájában javallt.', 'OGYI-T-2021/01 ACC 100 mg granulátum gyermekeknek 20x3g, OGYI-T-2021/02 ACC 100 mg granulátum gyermekeknek 30x 3g', 'üres', 'Sandoz Hungária Kft.', 'Bartók Béla út 43-47., 1114 Budapest, Magyarország', 'Salutas Pharma GmbH', 'Otto-von-Guericke Allee 1, D-39179 Barleben, Németország, Hexal AG, Industriestrasse 25, 83607 Holzkirchen, Németország', 'üres', 'üres', '27/07/2020')\n",
      "('ALLENASAL 1 mg/ml oldatos orrspray', 'Allenasal 1mg/ml oldatos orrspray 10ml', '10ml', '2349', 'üres', 'üres', '249,90 Ft/ml', 'Egészségpénztári kártyára vásárolható', 'Készleten', 'Allergia', 'xylomethazolinium chloratum', 'Gyors, tartós és kíméletes enyhülés az allergiás orrdugulásra, már 6 éves kortól.', 'OGYI-T-22348/01 1x10 ml III-as típusú üvegben', '2016. március', 'SANOFI-AVENTIS Zrt.', '1045 Budapest, Tó u. 1-5., Információs szolgálat: 06-1-505-0050', 'Unither Liquid Manufacturing', '1-3 Allée de la Neste Z.I.d’en Sigal, 31770 Colomiers, Franciaország', 'üres', 'üres', '27/07/2020')\n",
      "('ALLERGODIL oldatos orrspray', 'Allergodil oldatos orrspray 10ml', '10ml', '2249', 'üres', 'üres', '224,90 Ft/ml', 'Egészségpénztári kártyára vásárolható', 'Készleten', 'Allergia', 'azelastinium chloratum', 'Az Allergodil orrspray meggátolja többek között az orrnyálkahártya megduzzadását, a fokozott orrváladékozást és a kínzó tüsszögés ingert. Mivel az Allergodil közvetlenül az orrnyálkahártyára hat, az alacsony hatóanyag tartalom ellenére az allergiás tüneteket gyorsan és hatékonyan szünteti meg.', 'üres', 'üres', 'üres', 'üres', 'üres', 'üres', 'üres', 'üres', '27/07/2020')\n",
      "('ACC 20 mg/ml belsőleges oldat', 'ACC 20 mg/ml belsőleges oldat 100ml', '100ml', '1549', 'üres', 'üres', '15,50 Ft/ml', 'Egészségpénztári kártyára vásárolható', 'Készleten', 'Köhögéscsillapító', 'acetylcysteinum', 'Az ACC 20 mg/ml belsőleges oldat gyermekeknek nevű készítmény hatóanyaga az acetilcisztein, amely a légutakban levő sűrű viszkózus váladék oldására alkalmas 2 éves kor felett. Fokozott viszkozitású nyákelválasztással, köhögéssel járó légúti betegségek váladékoldását elősegítő terápiájában javallt.', 'OGYI-T-2021/14 1x100 ml barna, III-as típusú üveg, OGYI-T-2021/15 1x200 ml barna, III-as típusú üveg', 'üres', 'Sandoz Hungária Kft.', '1114 Budapest, Bartók Béla út 43-47.,Magyarország', 'üres', 'üres', 'üres', 'üres', '27/07/2020')\n",
      "('ACC 200 mg granulátum', 'ACC 200 granulátum 30x3g', '30x3g', '2499', 'üres', 'üres', '82,60 Ft/db', 'Egészségpénztári kártyára vásárolható', 'Készleten', 'Köhögéscsillapító', 'acetylcysteinum', 'Az ACC 200 mg granulátum, amelynek hatóanyaga az acetilcisztein, a légutakban levő sűrű viszkózus váladék oldására alkalmas. Fokozott viszkozitású nyákelválasztással, köhögéssel járó léguti betegségek váladékoldást elősegítő terápiájában javallt.p\\np\\xa0p\\np\\np\\np\\np\\npKiszállítás futárszolgálattal: 695 Ftp\\np\\np\\np\\npSzemélyes átvétel több, mint 100 gyógyszertárban: ingyenesp\\np\\np\\n', 'OGYI-T-2021/03 ACC 200 mg granulátum 20x3g, OGYI-T-2021/04 ACC 200 mg granulátum 30x3g', 'üres', 'Sandoz Hungária Kft.', 'Bartók Béla út 43-47., 1114 Budapest, Magyarország', 'Salutas Pharma GmbH', 'Otto-von-Guericke Allee 1, D-39179 Barleben, Németország, Hexal AG, Industriestrasse 25, 83607 Holzkirchen, Németország', 'üres', 'üres', '27/07/2020')\n",
      "('ACC HOT 600 mg por belsõleges oldathoz', 'ACC Hot 600 mg por belsőleges oldathoz 10x', '10x', '2599', 'üres', 'üres', '259,90 Ft/db', 'Egészségpénztári kártyára vásárolható', 'üres', 'Köhögéscsillapító', 'acetylcysteinum', 'Az ACC Hot hatóanyaga az acetilcisztein, ami a légutakban levő sűrű viszkózus váladék oldására alkalmas. Fokozott viszkozitású nyákelválasztással, köhögéssel járó légúti betegségek váladékoldását elősegítő terápiában javallt.', 'OGYI-T-2021/16 ACC Hot 200 mg por belsőleges oldathoz 20x, OGYI-T-2021/17 ACC Hot 600 mg por belsőleges oldathoz 6x, OGYI-T-2021/18 ACC Hot 600 mg por belsőleges oldathoz 10x', 'üres', 'Sandoz Hungária Kft.', '1114 Budapest, Bartók Béla út 43-47., Magyarország', 'üres', 'üres', 'üres', 'üres', '27/07/2020')\n",
      "('ACC INSTANT 600 mg belsőleges por', 'ACC Instant 600 mg belsőleges por 10x', '10x', '2899', 'üres', 'üres', '289,90 Ft/db', 'Egészségpénztári kártyára vásárolható', 'üres', 'Köhögéscsillapító', 'üres', 'Víz nélkül bevehető, így mindig kéznél van hurutos köhögés esetén. ACC Instant - Kézenfekvő megoldás hurutos köhögésre!', 'OGYI-T-2021/19 10x, OGYI-T-2021/20 20x, OGYI-T-2021/21 30x', 'üres', 'Sandoz Hungária Kft.', '1114 Budapest, Bartók Béla út 43-47., Magyarország', 'Hermes Arzneimittel GmbH', 'Division: Hermes Pharma Ges.m.b.H, Allgäu 36., 9400 Wolfsberg, Ausztria, Salutas Pharma GmbH, Otto-von-Guericke-Allee 1, Sachsen-Anhalt, 39179 Barleben, Németország', 'üres', 'üres', '27/07/2020')\n",
      "('HALSET 1,5 mg préselt szopogató tabletta', 'Halset 1,5 mg préselt szopogató tabletta 24x', '24x', '1949', 'üres', 'üres', '81,20 Ft/db', 'Egészségpénztári kártyára vásárolható', 'Készleten', 'Torokfertőtlenítők', 'cetylpiridinium bromatum', 'A száj- és garatüreg enyhe és középsúlyos fertőzéses megbetegedései esetén, mint torokgyulladás, fogínygyulladás, szájnyálkahártya‑gyulladás, rekedtség.', 'OGYI-T-4106/01 24 db tabletta buborékcsomagolásban és dobozban, OGYI-T-4106/02 18 db tabletta buborékcsomagolásban és dobozban', 'üres', 'üres', 'üres', 'üres', 'üres', 'üres', 'üres', '27/07/2020')\n",
      "('HEDELIX szirup', 'Hedelix szirup 100ml', '100ml', '1799', 'üres', 'üres', '18,00 Ft/ml', 'Egészségpénztári kártyára vásárolható', 'Készleten', 'Köhögéscsillapító', 'üres', 'üres', 'OGYI-T-22707/04 100 ml polietilén kiöntőfeltéttel, OGYI-T-22707/05 200 ml polietilén kiöntőfeltéttel, OGYI-T-22707/06 100 ml polietilén betéttel, OGYI-T-22707/07 200 ml polietilén betéttel', 'üres', 'üres', 'üres', 'üres', 'üres', 'üres', 'üres', '27/07/2020')\n",
      "('ACC LONG 600 mg pezsgőtabletta', 'ACC long 600 mg pezsgőtabletta 10x', '10x', '2599', 'üres', 'üres', '259,90 Ft/db', 'Egészségpénztári kártyára vásárolható', 'Készleten', 'Köhögéscsillapító', 'üres', 'Az ACC long 600 mg pezsgőtabletta, aminek hatóanyaga az acetilcisztein, a légutakban levő sűrű viszkózus váladék oldására alkalmas. Fokozott viszkozitású nyák termelődésével, hurutos köhögéssel járó légúti betegségek váladékoldást elősegítő terápiájában javallt.', 'OGYI-T-2021/10 ACC long 600 mg pezsgőtabletta 10x tartályban, OGYI-T-2021/11 ACC long 600 mg pezsgőtabletta 20x tartályban, OGYI-T-2021/12 ACC long 600 mg pezsgőtabletta 10x szalagcsomagolásban, OGYI-T-2021/13 ACC long 600 mg pezsgőtabletta 20x szalagcsomagolásban', 'üres', 'Sandoz Hungária Kft.', 'Bartók Béla út 43-47., 1114 Budapest, Magyarország', 'Salutas Pharma GmbH', 'Otto-von-Guericke Allee 1, D-39179 Barleben, Németország', 'üres', 'üres', '27/07/2020')\n",
      "('BRONCHOSTOP köhögés elleni belsőleges gumipasztilla', 'Bronchostop köhögés elleni belsőleges gumipasztilla 20x', '20x', '2499', 'üres', 'üres', '125,00 Ft/db', 'Egészségpénztári kártyára vásárolható', 'Készleten', 'Köhögéscsillapító', 'üres', 'A termék hagyományos növényi gyógyszer, kizárólag a régóta fennálló használaton alapuló, meghatározott javallatokban alkalmazandó. Megfázáshoz társuló köhögés esetén a viszkózus nyák felköhögését elősegítő köptetőszerként ajánlott.', 'OGYI-TN-46/01 20 db, OGYI-TN-46/02 40 db', 'üres', 'üres', 'üres', 'üres', 'üres', 'üres', 'üres', '27/07/2020')\n",
      "('DAEDALON végbélkúp', 'Daedalonetta végbélkúp gyermeknek 10x', '10x', 'üres', 'üres', 'üres', 'üres', 'üres', 'üres', 'üres', 'üres', 'üres', 'OGYI-T-3235/01', 'üres', 'Pharmamagist Kft.', '1028 Budapest, Patakhegyi út 83-85., Tel.: 06-1/397-5174, Fax: 06-1/397-5175, E-mail: info@pharmamagist.hu', 'üres', 'üres', 'üres', 'üres', '27/07/2020')\n",
      "('KALOBA 20 mg filmtabletta', 'Kaloba 20 mg filmtabletta 21x', '21x', '3899', 'üres', 'üres', '185,70 Ft/db', 'Egészségpénztári kártyára vásárolható', 'Készleten', 'Komplex készítmények, forró italporok', 'üres', 'A termék hagyományos növényi gyógyszer, amelyet kizárólag a régóta fennálló használat alapján alkalmaznak felső légúti fertőzések, többek között a közönséges megfázás olyan tüneteinek enyhítésére, mint a torokfájás, köhögés és az orrdugulás, orrfolyás.', 'üres', 'üres', 'üres', 'üres', 'üres', 'üres', 'üres', 'üres', '27/07/2020')\n",
      "('ALLEGRA 120 mg filmtabletta', 'Allegra 120 mg filmtabletta 10x', '10x', '1349', 'üres', 'üres', '134,90 Ft/db', 'Egészségpénztári kártyára vásárolható', 'Készleten', 'Allergia', 'fexofenadin', 'Az Allegra az antihisztaminok csoportjába tartozó allergiaellenes hatású gyógyszer, amely azonban nem rendelkezik nyugtató hatással. Enyhíti a szezonális allergiás rinitisz (szénanátha) tüneteit, így a tüsszögést, az orrviszketést, az orrváladékozást és az orrdugulást, továbbá a szem viszketését, könnyezését és égő érzését.', 'OGYI-T-10513/03 (7x), OGYI-T-10513/04 (10x), OGYI-T-10513/05 (30x),PVC/PVDC//Al buborékcsomagolásban:, OGYI-T-10513/09 (10x), OGYI-T-10513/10 (30x)', 'üres', 'SANOFI-AVENTIS Zrt.', '1045 Budapest, Tó u. 1-5., 3615050050', 'Sanofi Winthrop Industrie', '30-36 avenue Gustav Eiffel, 37100 Tours, Franciaország, vagy, 56, Route de Choisy-au-Bac, 60205 Compiegne, Franciaország, Sanofi Aventis Zrt., 1045 Budapest, Tó u. 1-5., Tel.: 3615050050,:', 'üres', 'üres', '27/07/2020')\n",
      "('ALLEGRA FORTE 180 mg filmtabletta', 'Allegra Forte 180 mg filmtabletta 10x', '10x', '1849', 'üres', 'üres', '184,90 Ft/db', 'Egészségpénztári kártyára vásárolható', 'Készleten', 'Allergia', 'fexofenadin', 'Krónikus csalánkiütés tüneteinek enyhítésére szolgáló gyógyszer – felnőttek, valamint 12 éves kor feletti gyermekek részére.', 'OGYI-T-10513/06 10x, OGYI-T-10513/07 30x,PVC/PVDC//Al buborékcsomagolásban:, OGYI-T-10513/11 10x, OGYI-T-10513/12 30x', 'üres', 'sanofi-aventis Zrt.', '1045 Budapest, Tó u. 1-5.', 'Sanofi Winthrop Industrie', '30-36 avenue Gustav Eiffel, 37100 Tours, Franciaország, vagy, 56, Route de Choisy-au-Bac, 60205 Compiegne, Franciaország, Sanofi Aventis Zrt., Cím: 1045 Budapest, Tó utca 1-5., Telefon: 36 1 505-0050,:', 'üres', 'üres', '27/07/2020')\n",
      "('AMBROXOL-TEVA 3 mg/ml szirup', 'Ambroxol-Teva 3 mg/ml szirup + szájfecskendő 100ml', '100ml', '2159', 'üres', 'üres', '21,50 Ft/ml', 'Egészségpénztári kártyára vásárolható', 'Készleten', 'Köhögéscsillapító', 'üres', 'A készítmény ambroxol (brómhexin-származék) tartalmú, nyákoldó köptető hatású gyógyszer. A nyák besűrűsödésével járó heveny és krónikus légúti megbetegedések: kezelésére, valamint a nyákoldás elősegítésére alkalmazható.p\\np\\xa0p\\np\\np\\np\\np\\npKiszállítás futárszolgálattal: 695 Ftp\\np\\np\\np\\npSzemélyes átvétel több, mint 100 gyógyszertárban: ingyenesp\\np\\np\\n', 'OGYI-T-4466/02 100 ml oldat 105 ml-es, III-as típusú barna üvegben, átlátszó PE betéttel ellátott, garanciazáras, fehér PP csavaros kupakkal lezárva. Egy üveg és egy 10 ml-es osztással ellátott adagolópohár dobozban., OGYI-T-4466/05 75 ml oldat 80 ml-es, III-as típusú barna üvegben, átlátszó PE betéttel ellátott, garanciazáras, fehér PP csavaros kupakkal lezárva. Egy üveg és egy 0,25 ml-enkénti beosztással ellátott, 5 ml-es szájfecskendő (LDPE/Polisztirén) dobozban., OGYI-T-4466/06 100 ml oldat 105 ml-es, III-as típusú barna üvegben, átlátszó PE betéttel ellátott, garanciazáras, fehér PP csavaros kupakkal lezárva. . Egy üveg és egy 0,25 ml-enkénti beosztással ellátott, 5 ml-es szájfecskendő (LDPE/Polisztirén) dobozban., OGYI-T-4466/07 75 ml oldat 80 ml-es, III-as típusú barna üvegben, átlátszó PE betéttel ellátott, garanciazáras, fehér PP csavaros kupakkal lezárva. Egy üveg és egy 10 ml-es, osztással ellátott adagolópohár dobozban.', 'üres', 'üres', 'üres', 'TEVA Czech Industries s.r.o.', 'Ostravská 29, č.p. 305, 747 70 Opava – Komárov, Csehország', 'üres', 'üres', '27/07/2020')\n",
      "('LOLIGRIP 500 mg/200 mg/25 mg por belsőleges oldathoz', 'Loligrip por belsőleges oldathoz 8x', '8x', '2449', 'üres', 'üres', '306,10 Ft/db', 'Egészségpénztári kártyára vásárolható', 'Készleten', 'Komplex készítmények, forró italporok', 'üres', 'A Loligrip lázzal és/vagy fájdalommal járó megfázás, rövid távú orrdugulás vagy orrfolyás (rinitisz) és garatgyulladás tüneti kezelésére és enyhítésére szolgál felnőtteknél és 15 éves vagy idősebb serdülőknél. Hatóanyag: paracetamol/aszkorbinsav/feniramin-maleát', 'üres', 'üres', 'üres', 'üres', 'üres', 'üres', 'üres', 'üres', '27/07/2020')\n",
      "('AMBROXOL-TEVA 30 mg tabletta', 'Ambroxol-TEVA 30 mg tabletta 30x', '30x', '2079', 'üres', 'üres', '66,60 Ft/db', 'Egészségpénztári kártyára vásárolható', 'Készleten', 'Köhögéscsillapító', 'üres', 'A készítmény ambroxol (brómhexin-származék) tartalmú, nyákoldó, köptető hatású gyógyszer. A nyák besűrűsödésével járó heveny és krónikus légúti megbetegedések kezelésére, valamint a nyákoldás elősegítésére alkalmazható.p\\np\\xa0p\\np\\np\\np\\np\\npKiszállítás futárszolgálattal: 695 Ftp\\np\\np\\np\\npSzemélyes átvétel több, mint 100 gyógyszertárban: ingyenesp\\np\\np\\n', 'OGYI-T-4466/01 20x, OGYI-T-4466/04 30x', 'üres', 'üres', 'üres', 'üres', 'üres', 'üres', 'üres', '27/07/2020')\n",
      "('ACC 100 mg granulátum gyermekeknek', 'Zyrtec 10 mg/ml belsőleges oldatos cseppek 20ml', 'zyrtec10mg/mlbelsőlegesoldatoscseppek20ml', '1549', 'üres', 'üres', '77,50 Ft/ml', 'Egészségpénztári kártyára vásárolható', 'Készleten', 'Allergia', 'cetirizinium chloratum', 'A Zyrtec egy allergia elleni gyógyszer. A Zyrtec felnőttek, valamint 2 éves és afeletti gyermekek alábbi tüneteinek kezelésére javasolt: szezonális és egész éven át tartó allergiás nátha orr- és szemtüneteinek enyhítésére, krónikus csalánkiütés (krónikus idiopátiás urtikária) enyhítésére.', 'OGYI-T-4491/01', '2009. április 28.', 'UCB Magyarország Kft.', 'H-1023 Budapest, Árpád fejedelem útja 26-28., Magyarország', 'UCB Pharma SpA', '15 Via Praglia, 10044 Pianezza, Olaszország', 'üres', 'üres', '24/10/2020')\n",
      "('ACC 100 mg granulátum gyermekeknek', 'Zyrtec 10 mg/ml belsőleges oldatos cseppek 20ml', 'zyrtec10mg/mlbelsőlegesoldatoscseppek20ml', '1549', 'üres', 'üres', '77,50 Ft/ml', 'Egészségpénztári kártyára vásárolható', 'Készleten', 'Allergia', 'cetirizinium chloratum', 'A Zyrtec egy allergia elleni gyógyszer. A Zyrtec felnőttek, valamint 2 éves és afeletti gyermekek alábbi tüneteinek kezelésére javasolt: szezonális és egész éven át tartó allergiás nátha orr- és szemtüneteinek enyhítésére, krónikus csalánkiütés (krónikus idiopátiás urtikária) enyhítésére.', 'OGYI-T-4491/01', '2009. április 28.', 'UCB Magyarország Kft.', 'H-1023 Budapest, Árpád fejedelem útja 26-28., Magyarország', 'UCB Pharma SpA', '15 Via Praglia, 10044 Pianezza, Olaszország', 'üres', 'üres', '12/02/2021')\n",
      "('AMBROXOL-TEVA 75 mg retard kemény kapszula', 'Ambroxol-TEVA 75 mg retard kemény kapszula 20x', '20x', '2199', 'üres', 'üres', '110,00 Ft/Ft/db', 'Egészségpénztári kártyára vásárolható', 'üres', 'Köhögéscsillapító', 'ambroxolium', 'A hörgők és a tüdő sűrű váladékképződéssel járó heveny és idült betegségeinek kezelésére, nyákoldásra.p\\np\\xa0p\\np\\np\\np\\np\\npKiszállítás futárszolgálattal: 695 Ftp\\np\\np\\np\\npSzemélyes átvétel több, mint 100 gyógyszertárban: ingyenesp\\np\\np\\n', 'OGYI-T-2095/03 (10 db), OGYI-T-2095/04 (20 db),Teva Gyógyszergyár Zrt., 4042 Debrecen, Pallagi út 13.,Merckle GmbH.,D-89079 Ulm, Graf-Arco-Straβe 3., Németország', 'üres', 'Teva Gyógyszergyár Zrt.', '4042 Debrecen, Pallagi út 13.', 'Merckle GmbH.', 'D-89079 Ulm, Graf-Arco-Straβe 3., Németország', 'üres', 'üres', '27/07/2020')\n",
      "('ANGISED MENTOL szopogató tabletta', 'Angised Mentol szopogató tabletta 24x', '24x', '1999', 'üres', 'üres', '83,30 Ft/Ft/db', 'Egészségpénztári kártyára vásárolható', 'üres', 'Torokfertőtlenítők', 'üres', 'Cukormentes,\\xa0kettős hatású szopogató tabletta:\\xa0csillapítja a fájdalmat\\xa0és fertőtleníti a torkot!p\\np\\xa0p\\np\\np\\np\\np\\npKiszállítás futárszolgálattal: 695 Ftp\\np\\np\\np\\npSzemélyes átvétel több, mint 100 gyógyszertárban: ingyenesp\\np\\np\\n', 'OGYI-T-22994/01 12x PVC/PCTFE/Al buborékcsomagolásban, OGYI-T-22994/02 24x PVC/PCTFE/Al buborékcsomagolásban, OGYI-T-22994/03 36x PVC/PCTFE/Al buborékcsomagolásban', 'üres', 'Sandoz Hungária Kft.', '1114 Budapest, Bartók Béla út 43-47., Magyarország', 'Laboratoria QUALIPHAR N.V./S.A. - Rijksweg 9 - 2880 Bornem – Belgium', 'üres', 'üres', 'üres', '27/07/2020')\n",
      "('BABY LUUF illóolajos kenőcs', 'Baby Luuf illóolajos kenőcs 30g', '30g', '2149', 'üres', 'üres', '69,00 Ft/g', 'Egészségpénztári kártyára vásárolható', 'Készleten', 'Köhögéscsillapító', 'aetherol. terebenthinae', 'A termék hagyományos növényi gyógyszer, kizárólag a régóta fennálló használaton alapuló, meghatározott javallatokra alkalmazandó, úgymint meghűléses betegségekben, köhögés, nátha, torokgyulladás külsőleges kezelésére.p\\np\\xa0p\\np\\np\\np\\np\\npKiszállítás futárszolgálattal: 695 Ftp\\np\\np\\np\\npSzemélyes átvétel több, mint 100 gyógyszertárban: ingyenesp\\np\\np\\n', 'OGYI/38071-12/2010sz. határozat 2/2. sz. melléklete, Baby Luuf illóolajos kenőcs,Terpentinolaj, eukaliptuszolaj, kakukkfűolaj, Olvassa el figyelmesen az alábbi betegtájékoztatót, mely az Ön számára fontos információkat tartalmaz., Ez a gyógyszer orvosi rendelvény nélkül kapható. Mindemellett az optimális hatás érdekében elengedhetetlen e gyógyszer körültekintő alkalmazása., - Tartsa meg a betegtájékoztatót, mert a benne szereplő információkra a későbbiekben is szüksége lehet., - További információkért vagy tanácsért forduljon gyógyszerészéhez., - Sürgősen forduljon orvosához, ha a gyermek tünetei 5 napon belül nem enyhülnek, vagy éppen súlyosbodnak., - Ha bármely mellékhatás súlyossá válik, vagy ha a betegtájékoztatóban felsorolt mellékhatásokon kívül egyéb tünetet észlel, kérjük, értesítse orvosát vagy gyógyszerészét.', '2011. február', 'Apomedica Pharmazeutische Produkte GmbH', 'Roseggerkai 3, 8011 Graz, Ausztria,:, Volmix kft., 1146 Budapest, Thököly út 76.,Tel.: (1) 383 3252, Fax: (1) 799 9907, 30 g', 'üres', 'üres', 'Apomedica Pharmazeutische Produkte GmbH', 'Roseggerkai 3, 8011 Graz, Ausztria,:, Volmix kft., 1146 Budapest, Thököly út 76.,Tel.: (1) 383 3252, Fax: (1) 799 9907, 30 g', '27/07/2020')\n",
      "('BRONCHIPRET szirup', 'Bronchipret szirup 50ml', '50ml', '1949', 'üres', 'üres', '39,00 Ft/ml', 'Egészségpénztári kártyára vásárolható', 'Készleten', 'Köhögéscsillapító', 'Extr. thymi herbae (kakukkfű) siccum', 'Növényi eredetű hatóanyagokat tartalmazó, hörghurut kezelésére szolgáló készítmény, köptető. Heveny és idült hörghurut fellángolása esetén alkalmazható, amikor fokozott váladékképződés és köhögés áll előtérben.', 'OGYI-T-9642/01 50 ml, OGYI-T-9642/02 100 ml', '2015. január', 'Bionorica SE', 'Kerschensteinerstr. 11-15., 92318 Neumarkt, Németország, A gyógyszer csepp és filmtabletta formájában is forgalomban van 12 éven felüli gyermekek és felnőttek részére.,:,ASI Budapest Kft., 1105 Budapest, Bolgár u. 4. Tel. / Fax: 433-2086 Fax: 431 8953', 'üres', 'üres', 'Bionorica SE', 'Kerschensteinerstr. 11-15., 92318 Neumarkt, Németország, A gyógyszer csepp és filmtabletta formájában is forgalomban van 12 éven felüli gyermekek és felnőttek részére.,:,ASI Budapest Kft., 1105 Budapest, Bolgár u. 4. Tel. / Fax: 433-2086 Fax: 431 8953', '27/07/2020')\n",
      "('BRONCHOSTOP köhögés elleni belsőleges oldat', 'Bronchostop köhögés elleni belsőleges oldat 150ml', '150ml', '2599', 'üres', 'üres', '17,30 Ft/ml', 'Egészségpénztári kártyára vásárolható', 'Készleten', 'Köhögéscsillapító', 'üres', 'A termék hagyományos növényi gyógyszer, kizárólag a régóta fennálló használaton alapuló, meghatározott javallatokra alkalmazandó. A torokban lévő irritáció enyhítésére és megfázáshoz társuló köhögés esetén köptetőszerként, 4 éves kor feletti gyermekeknek és felnőtteknek ajánlott.', 'OGYI-TN-45/01', 'üres', 'Kwizda Pharma GmbH', 'Effingergasse 21, 1160 Bécs, Ausztria', 'üres', 'üres', 'üres', 'üres', '27/07/2020')\n",
      "('CETIMAX 10 mg filmtabletta', 'Cetimax 10 mg filmtabletta 10x', '10x', '599', 'üres', 'üres', '59,90 Ft/db', 'Egészségpénztári kártyára vásárolható', 'Készleten', 'Allergia', 'üres', 'A Cetimax hatóanyaga a cetirizin-dihidroklorid. A Cetimax az antihisztaminoknak nevezett gyógy\\xadszerek cso\\xadportjába tar\\xadtozik szisz\\xadté\\xadmás (az egész szervezetre érintő) hasz\\xadnálatra, amelyeket allergia (túlérzékenység) ellen hasz\\xadnálnak. A Cetimax felnőttek, valamint 6 éves és afeletti gyermekek alábbi tüneteinek kezelésére javasolt: szezonális és egész éven át tartó allergiás nátha orr- és szemtüneteinek enyhítésére. krónikus csalánkiütés (krónikus idiopátiás urtikária) enyhítésére.', 'OGYI-T-21651/01 7x, OGYI-T-21651/02 10x, OGYI-T-21651/03 14x, OGYI-T-21651/04 15x, OGYI-T-21651/05 20x, OGYI-T-21651/06 30x, OGYI-T-21651/07 50x, OGYI-T-21651/08 100x', 'üres', 'Vitabalans Oy', 'Varastokatu 8, FI-13500 Hämeenlinna, FINNORSZÁG, Tel: +358 (3) 615600, Fax: +358 (3) 6183130', 'üres', 'üres', 'üres', 'üres', '27/07/2020')\n",
      "('CETIRIZIN 1 A PHARMA 10 mg filmtabletta', 'Cetirizin 1a Pharma 10 mg filmtabletta 10x', '10x', 'üres', 'üres', 'üres', '0,00 Ft/', 'Egészségpénztári kártyára vásárolható', 'Készleten', 'Allergia', 'cetirizinium chloratum', 'A Cetirizin 1a Pharma allergia ellenes gyógyszer. Segíti az allergiás reakciók és tünetek megszüntetését. Alkalmas a viszketés és a csalánkiütés enyhítésére is.', 'OGYI-T-10390/01 (7x), OGYI-T-10390/02 (10x), OGYI-T-10390/03 (30x), OGYI-T-10390/04 (60x)', 'üres', '1 A Pharma GmbH', 'Keltenring 1+3, 82041 Oberhaching, Németország', 'Salutas Pharma GmbH', 'Otto-von-Guericke-Allee 1, 39179 Barleben, Németország', 'üres', 'üres', '27/07/2020')\n",
      "('CEZERA 5 mg filmtabletta', 'Cezera 5 mg filmtabletta 30x', '30x', '2199', 'üres', 'üres', '73,30 Ft/db', 'Egészségpénztári kártyára vásárolható', 'Készleten', 'Allergia', 'levocetirizinum', 'Allergia elleni gyógyszer (szisztémás hatású antihisztamin). A Cezera tabletta az alábbi allergiás betegségek tüneteinek kezelésére szolgál: allergiás nátha (az orr és a szem nyálkahártyájának allergiás gyulladása). gyakran megjelenő csalánkiütés (hosszan tartó, ismeretlen eredetű csalánkiütés).', 'OGYI-T-20 530/01 (30x), OGYI-T-20 530/02 (60x), OGYI-T-20 530/03 (90x)', '2009. június 2.', 'üres', 'üres', 'üres', 'üres', 'üres', 'üres', '27/07/2020')\n",
      "('CLARITINE 10 mg tabletta', 'Claritine 10 mg tabletta 10x', '10x', '1299', 'üres', 'üres', '129,90 Ft/db', 'Egészségpénztári kártyára vásárolható', 'Készleten', 'Allergia', 'üres', 'üres', 'OGYI-T-1650/01 (Claritine 10 mg tabletta) 20 db, OGYI-T-1650/03 (Claritine 10 mg tabletta) 30 db, OGYI-T-1650/07 (Claritine 10 mg tabletta) 10 db, OGYI-T-1650/08 (Claritine 10 mg tabletta) 60 db', 'üres', 'Bayer Hungária Kft.', '1123 Budapest, Alkotás u. 50.', 'Schering-Plough Labo N.V.', 'Industriepark 30,B-2220 Heist-op-den-Berg,Belgium, és,European Pharma Hub Kft, 2360 Gyál, 7000/9 hrsz. 15. Raktár, Magyarország', 'üres', 'üres', '27/07/2020')\n",
      "('DAEDALON 50 mg tabletta', 'Daedalon 50 mg tabletta 10x', '10x', '1899', 'üres', 'üres', '189,90 Ft/db', 'Egészségpénztári kártyára vásárolható', 'Készleten', 'Hányinger ellen', 'dimenhydrinatum', 'A Daedalon tabletta különböző eredetű hányinger és hányás megelőzésére és kezelésére szolgál. Alkalmazható többek között bármely jármű kiváltotta utazási betegségben, különféle hányingert kiváltó eszközös vizsgálatok előtt, vagy szédüléssel is járó középfül eredetű émelygéskor (például Ménière szindróma).', 'OGYI-T-3120/01', 'üres', 'Richter Gedeon Nyrt.', 'H-1103 Budapest, Gyömrői út 19-21., Magyarország', 'üres', 'üres', 'üres', 'üres', '27/07/2020')\n",
      "('DORITHRICIN erdei gyümölcs szopogató tabletta', 'Dorithricin szopogató tabletta erdei gyümölcs ízű 20x', '20x', '2359', 'üres', 'üres', '115,00 Ft/db', 'Egészségpénztári kártyára vásárolható', 'Készleten', 'Torokfertőtlenítők', 'üres', 'Fájdalommal járó száj- és garatüregi gyulladásos megbetegedések helyi kezelésére szolgáló szopogató tabletta – felnőttek és 6 éves kor feletti gyerekek részére. Baktériumellenes, fertőtlenítő és fájdalomcsillapító hatású gyógyszer.', 'OGYI-T-7266/04 20×, OGYI-T-7266/05 40×', 'üres', 'Medice Pharma GmbH& Co. KG', 'Kuhloweg 37, D-58638, Iserlohn, Németország, Telefon: + 49 2371 152 790, Fax: + 49 2371 937 329', 'Medice Arzneimittel Pütter GmbH & Co. KG.', 'Kuhloweg 37, D-58638 Iserlohn, Németország, Forgalmazó:,Teva Gyógyszergyár Zrt., 4042 Debrecen, Pallagi út 13.', 'üres', 'üres', '27/07/2020')\n",
      "('FLUIMUCIL 200 mg granulátum', 'Fluimucil 200 mg granulátum 30x1g', '30x1g', '2149', 'üres', 'üres', '66,60 Ft/db', 'Egészségpénztári kártyára vásárolható', 'Készleten', 'Köhögéscsillapító', 'acetylcysteinum', 'A Fluimucil acetilcisztein hatóanyagot tartalmazó nyákoldó, köptető hatású készítmény. Az acetilcisztein oldja a légúti megbetegedések esetén képződő sűrű nyákot, elősegíti a légcsőben és légutakban lerakódott nyák kiürítését, így könnyíti a légzést. A készítmény olyan légúti megbetegedések kiegészítő kezelésére szolgál, amelyekben sűrű viszkózus nyák képződik, mint pl. a megfázásos megbetegedések, a hörgők akut vagy krónikus gyulladása, az influenza.', 'OGYI-T-5351/04 20 db, OGYI-T-5351/05 30 db, OGYI-T-5351/06 50 db', 'üres', 'Zambon S.p.A.', 'Via Lillo del Duca 10, 20091 Bresso, Olaszország', 'Zambon S.p.A', 'Via della Chimica 9, 36100 Vicenza, Olaszország, Aramis Pharma Kft., 6640 Csongrád,Kenderföldek u. 3.,Magyarország', 'üres', 'üres', '27/07/2020')\n",
      "('FLUIMUCIL FORTE 600 mg pezsgőtabletta', 'Fluimucil Forte 600 mg pezsgőtabletta 10x', '10x', '2449', 'üres', 'üres', '244,90 Ft/db', 'Egészségpénztári kártyára vásárolható', 'Készleten', 'Köhögéscsillapító', 'acetylcysteinum', 'A Fluimucil acetilcisztein hatóanyagot tartalmazó nyákoldó, köptető hatású készítmény. Az acetilcisztein oldja a légúti megbetegedések esetén képződő sűrű nyákot, elősegíti a légcsőben és légutakban lerakódott nyák kiürítését, így könnyíti a légzést. A készítmény olyan légúti megbetegedések kiegészítő kezelésére szolgál, amelyekben sűrű viszkózus nyák képződik, mint pl. a megfázásos megbetegedések, a hörgők akut vagy krónikus gyulladása, az influenza.', 'OGYI-T-5351/07-08', '2010. december 8.', 'üres', 'üres', 'Zambon S.p.A', 'Via della Chimica 9, 36100 Vicenza, Olaszország', 'üres', 'üres', '27/07/2020')\n",
      "('FLUIMUCIL szirup', 'Fluimucil szirup 100ml', '100ml', '1299', 'üres', 'üres', '13,00 Ft/ml', 'Egészségpénztári kártyára vásárolható', 'Készleten', 'Köhögéscsillapító', 'acetylcysteinum', 'A Fluimucil szirup hatóanyaga, az acetilcisztein megkönnyíti a légzést azáltal, hogy intenzív nyákoldó és elfolyósító hatást fejt ki a légúti váladékra és a köpetre. Sűrű és viszkózus váladéktermeléssel járó légúti elváltozások, krónikus és akut hörghurut és annak fellángolásai, tüdőtágulás, a légzőrendszer kiválasztó mirigyeit érintő örökletes betegség, és hörgőtágulat kiegészítő kezelésére javasolt.', 'OGYI-T-5351/09', 'üres', 'Zambon S.p.A', 'Via Lillo del Duca 10, 20091 Bresso, Olaszország', 'Zambon S.p.A.', 'Via della Chimica 9, 36100 Vicenza, Olaszország', 'üres', 'üres', '27/07/2020')\n",
      "('GRIPPOSTAD C kemény kapszula', 'Grippostad C kemény kapszula 20x', '20x', '2149', 'üres', 'üres', '107,50 Ft/db', 'Egészségpénztári kártyára vásárolható', 'Készleten', 'Komplex készítmények, forró italporok', 'paracetamolum', 'Meghűléses betegségek tüneteinek (pl. fejfájás, végtagfájdalom, orrdugulás és száraz köhögés) kezelésére. A Grippostad C kapszula a lázat is csillapítja. Magas vérnyomás esetén is szedhető.', 'OGYI-T-7522/01', '2011. március 15.', 'üres', 'üres', 'üres', 'üres', 'üres', 'üres', '27/07/2020')\n",
      "('HALIXOL 3 mg/ml szirup', 'Halixol 3 mg/ml szirup 100ml', '100ml', '1149', 'üres', 'üres', '11,50 Ft/ml', 'Egészségpénztári kártyára vásárolható', 'Készleten', 'Köhögéscsillapító', 'ambroxolium', 'A Halixol szirup köptető hatású készítmény, hatóanyaga az ambroxol. Kórosan sűrű nyáktermeléssel járó heveny és idült légúti megbetegedések, mint például tüdőasztma, hörghurut, hörgőtágulat kezelésére szolgál.', 'OGYI-T-4126/02', 'üres', 'Egis Gyógyszergyár Zrt.', 'H-1106 Budapest, Keresztúri út 30-38.', 'üres', 'üres', 'üres', 'üres', '27/07/2020')\n",
      "('GLYCOSEPT szájnyálkahártyán alkalmazott oldat', 'Glycosept szájnyálkahártyán alkalmazott oldat 30ml', '30ml', '1999', 'üres', 'üres', '66,60 Ft/Ft/ml', 'Egészségpénztári kártyára vásárolható', 'üres', 'Torokfertőtlenítők', 'mentholum', 'A Glycosept oldat baktériumellenes hatású gyógyszer. Az alkalmazás helyén enyhe fájdalom- és viszketéscsillapító hatással is rendelkezik. Használata javasolt torokgyulladás, gége- és légcsőgyulladás és gennyes, fekélyes szájbetegségek esetén öblögetésre illetve ecsetelésre.', 'OGYI-T-3214/01', 'üres', 'WAGNER-PHARMA Gyógyszerfejlesztő', 'üres', 'és Forgalmazó Kft.', '3242 Parádsasvár, Kossuth L. u. 44., Magyarország, WAGNER-PHARMA Gyógyszerfejlesztő, 6413 Kunfehértó, IV. Körzet 5., Magyarország', 'üres', 'üres', '27/07/2020')\n",
      "('HERBION izlandi zuzmó 6 mg/ml szirup', 'Herbion izlandi zuzmó 6 mg/ml szirup 150ml', '150ml', '2099', 'üres', 'üres', '14,00 Ft/ml', 'Egészségpénztári kártyára vásárolható', 'Készleten', 'Köhögéscsillapító', 'üres', 'Hagyományos növényi gyógyszer, kizárólag a régóta fennálló használaton alapuló, meghatározott javallatokra alkalmazandó, úgymint száraz (irritáló) köhögés, enyhe felsőlégúti gyulladás, valamint a száj- és toroknyálkahártya irritáció, beleértve a torokfájást.', 'OGYI/51613-12/2011 sz. határozat 2/2. sz. melléklete', '2013. február', 'üres', 'üres', 'üres', 'üres', 'üres', 'üres', '27/07/2020')\n",
      "('IMMUN HERBAL BÉRES filmtabletta', 'Béres Immun Herbal filmtabletta gyógyszer 30x', '30x', '2699', 'üres', 'üres', '90,00 Ft/Ft/db', 'Egészségpénztári kártyára vásárolható', 'üres', 'Multivitaminok', 'magnesium', 'A termék hagyományos növényi gyógyszer, kizárólag a régóta fennálló használaton alapuló, meghatározott javallatokra alkalmazandó, úgymint: a meghűléses eredetű betegségek (megfázás, nátha) megelőzésére és kiegészítő kezelésére.', 'OGYI/38742-2/2012 sz. határozat 2/2 sz. melléklete, BETEGTÁJÉKOZTATÓ: INFORMÁCIÓK A FELHASZNÁLÓ SZÁMÁRA, Immun Herbal Béres filmtabletta, Ginzenggyökér-, halvány kasvirág gyökér kivonat, vitaminok, ásványi anyagok és nyomelemek, Olvassa el figyelmesen az alábbi betegtájékoztatót, mely az Ön számára fontos információkat tartalmaz., Ez a gyógyszer orvosi rendelvény nélkül kapható. Mindemellett az optimális hatás érdekében elengedhetetlen e gyógyszer körültekintő bevétele., - Tartsa meg a betegtájékoztatót, mert a benne szereplő információkra a későbbiekben is, szüksége lehet., - További információkért vagy tanácsért forduljon gyógyszerészéhez., - Sürgősen forduljon orvosához, ha tünetei nem enyhülnek, vagy éppen súlyosbodnak., - Ha bármely mellékhatás súlyossá válik, vagy ha a betegtájékoztatóban felsorolt mellékhatásokon kívül egyéb tünetet észlel, kérjük, értesítse orvosát vagy gyógyszerészét.', '2012. szeptember', 'üres', 'üres', 'üres', 'üres', 'üres', 'üres', '27/07/2020')\n",
      "('INALLER 5 mg filmtabletta', 'Inaller 5 mg filmtabletta 30x', '30x', '2099', 'üres', 'üres', '70,00 Ft/db', 'Egészségpénztári kártyára vásárolható', 'Készleten', 'Allergia', 'dezloratadin', 'Az Inaller filmtabletta csillapítja az allergiás nátha (az orrjáratok allergia, pl. szénanátha vagy poratka-allergia által okozott gyulladásának) tüneteit felnőtteknél és 12 éves vagy ennél idősebb serdülőknél. Ezek közé a tünetek közé tartozik a tüsszögés, az orrfolyás és orrviszketés, a szájpad és a szem viszketése, a kötőhártya vérbősége és a könnyezés.', 'OGYI-T-22149/15 30x PVC/PE/PVDC – Alumínium buborékcsomagolásban, OGYI-T-22149/16 30x PVC/PCTFE (Aclar) - Alumínium buborékcsomagolásban', 'üres', 'Goodwill Pharma Kft.', '6724 Szeged, Cserzy Mihály u. 32.', 'Genepharm S.A.', '18 Km Marathon Avenue, 15351 Pallini, Görögország', 'üres', 'üres', '27/07/2020')\n",
      "('KALOBA belsőleges oldatos cseppek', 'Kaloba belsőleges oldatos cseppek 20ml', '20ml', '2449', 'üres', 'üres', '130,00 Ft/ml', 'Egészségpénztári kártyára vásárolható', 'Készleten', 'Komplex készítmények, forró italporok', 'pelargonium sidiodes radix', 'A termék hagyományos növényi gyógyszer, amelyet kizárólag a régóta fennálló használat alapján alkalmaznak felső légúti fertőzések, többek között a közönséges megfázás olyan tüneteinek enyhítésére, mint a torokfájás, köhögés és az orrdugulás, orrfolyás.', 'OGYI-TN-1/01, 50 ml OGYI-TN-1/02', 'üres', 'üres', 'üres', 'üres', 'üres', 'üres', 'üres', '27/07/2020')\n",
      "('LERTAZIN 5 mg filmtabletta', 'Lertazin 5 mg filmtabletta 7x', '7x', '649', 'üres', 'üres', '92,70 Ft/db', 'Egészségpénztári kártyára vásárolható', 'Készleten', 'Allergia', 'levocetirizinum', 'A Lertazin egy allergia elleni készítmény. A Lertazin az alábbi allergiás betegségek tüneteinek kezelésére szolgál: allergiás nátha (beleértve az egész éven át tartó allergiás náthát); csalánkiütés (urtikária).', 'OGYI-T-20511/01 - 30x (PVC/PVDC//Al buborékcsomagolásban), OGYI-T-20511/02 - 60x (PVC/PVDC//Al buborékcsomagolásban), OGYI-T-20511/03 - 90x (), OGYI-T-20511/04 7x (), OGYI-T-20511/05 10x ()', 'üres', 'KRKA', 'd.d., Novo mesto,Šmarješka cesta 6, 8501 Novo mesto, Szlovénia', 'üres', 'üres', 'KRKA', 'd.d., Novo mesto,Šmarješka cesta 6, 8501 Novo mesto, Szlovénia', '27/07/2020')\n",
      "('LEVOPRONT szirup', 'Levopront szirup 120ml', '120ml', '1399', 'üres', 'üres', '11,70 Ft/Ft/ml', 'Egészségpénztári kártyára vásárolható', 'üres', 'Köhögéscsillapító', 'levodropropizinum', 'Nem produktív (fokozott nyákképződéssel nem járó), kínzó, száraz köhögés rövid távú, tüneti kezelésére. A 60 ml-es szirup 4 éven felüli, a 120 ml-es szirup 10 éven felüli gyermekek és felnőttek számára javallt.', 'OGYI-T-7607/01 (60 ml), OGYI-T-7607/02 (120 ml)', '2015. május', 'Dompé Farmaceutici S.p.A.', 'Via San Martino 12, 20122 Milano, Olaszország', 'Dompé farmaceutici S.p.A.', 'Via Campo di Pile, 67100 L’Aquila, Olaszország', 'üres', 'üres', '27/07/2020')\n",
      "('LOLIMARINE HA 1 mg/ml oldatos orrspray', 'Lolimarine HA Kid 0,5mg/ml oldatos orrspray 10ml', '10ml', '2899', 'üres', 'üres', '289,90 Ft/ml', 'Egészségpénztári kártyára vásárolható', 'Készleten', 'Orrdugulás ellen', 'üres', 'üres', 'OGYI-T-23265/01 1×10 ml (3K – rendszerű adagoló pumpával ellátott HDPE tartály, OGYI-T-23265/02 1×10 ml (APFPLUS – rendszerű adagoló pumpával ellátott HDPE tartály, Lolimarine HA 1 mg/ml oldatos orrspray, OGYI-T-23265/03 1×10 ml (3K – rendszerű adagoló pumpával ellátott HDPE tartály), OGYI-T-23265/04 1×10 ml (APFPLUS – rendszerű adagoló pumpával ellátott HDPE tartály)', 'üres', 'Goodwill Pharma Kft.', '6724 Szeged, Cserzy Mihály utca 32., [logo]', 'JADRAN - Galenski laboratorij d.d.', '51000 Rijeka, Svilno 20,Horvátország, Lolimarine HA', 'üres', 'üres', '27/07/2020')\n",
      "('LOLIMUCIN 375 mg kemény kapszula', 'Lolimucin 375 mg kemény kapszula 20x', '20x', '2449', 'üres', 'üres', '122,50 Ft/db', 'Egészségpénztári kártyára vásárolható', 'Készleten', 'Köhögéscsillapító', 'üres', 'A légutakban hígítja a nyákot (váladékot), így az kevésbé tapad le és könnyebben felköhöghető. A Lolimucin olyan légúti betegségek kezelésére való, amelyek túl sok, vagy túl sűrű nyáktermelődéssel járnak.', 'OGYI-T-23161/01 20x, OGYI-T-23161/02 30x, OGYI-T-23161/03 50x, OGYI-T-23161/04 120x', 'üres', 'Goodwill Pharma Kft.', '6724 Szeged, Cserzy Mihály u. 32., Magyarország', 'ALKALOID-INT d.o.o.', 'Šlandrova ulica 4, 1231 Ljubljana – Črnuče, Szlovénia, Tel.: +386 1 300 42 90, Fax: +386 1 300 42 91, E-mail: info@alkaloid.si', 'üres', 'üres', '27/07/2020')\n",
      "('MUCOFREE 15 mg pasztilla', 'Mucofree 15 mg pasztilla 20x', '20x', '1599', 'üres', 'üres', '82,50 Ft/db', 'Egészségpénztári kártyára vásárolható', 'Készleten', 'Kezdőlap', 'üres', 'üres', 'üres', 'üres', 'üres', 'üres', 'üres', 'üres', 'üres', 'üres', '27/07/2020')\n",
      "('LYXIO 200 mg por belsőleges oldathoz', 'Lyxio 200 mg por belsőleges oldathoz 30x', '30x', '1599', 'üres', 'üres', '53,30 Ft/db', 'Egészségpénztári kártyára vásárolható', 'üres', 'Köhögéscsillapító', 'üres', 'A Lyxio acetilcisztein hatóanyagot tartalmazó nyákoldó, köptető hatású készítmény. Az acetilcisztein oldja a légúti megbetegedések esetén képződő sűrű nyákot, elősegíti a légcsőben és légutakban lerakódott nyák oldását, így könnyíti a légzést. A készítmény olyan légúti megbetegedések kiegészítő kezelésére szolgál, amelyekben sűrű viszkózus nyák képződik, mint pl. a megfázásos megbetegedések, a hörgők akut vagy krónikus gyulladása, az influenza', 'OGYI-T-22630/01 20x papír/Al/PE tasakban és dobozban, OGYI-T-22630/02 30x papír/Al/PE tasakban és dobozban, Lyxio 600 mg por belsőleges oldathoz:, OGYI-T-22630/03 10x papír/Al/PE tasakban és dobozban', 'üres', 'Lyxio 200 mg por belsőleges oldathoz:', 'üres', 'Lamp San Prospero SpA - Via della Pace 25/A', '41030 San Prospero (Modena),Olaszország,:, Lyxio 200 mg por belsőleges oldathoz:', 'üres', 'üres', '27/07/2020')\n",
      "('LYXIO 600 mg por belsőleges oldathoz', 'Lyxio 600 mg por belsőleges oldathoz 10x', '10x', '1799', 'üres', 'üres', '179,90 Ft/db', 'Egészségpénztári kártyára vásárolható', 'Készleten', 'Köhögéscsillapító', 'üres', 'A Lyxio acetilcisztein hatóanyagot tartalmazó nyákoldó, köptető hatású készítmény. Az acetilcisztein oldja a légúti megbetegedések esetén képződő sűrű nyákot, elősegíti a légcsőben és légutakban lerakódott nyák oldását, így könnyíti a légzést. A készítmény olyan légúti megbetegedések kiegészítő kezelésére szolgál, amelyekben sűrű viszkózus nyák képződik, mint pl. a megfázásos megbetegedések, a hörgők akut vagy krónikus gyulladása, az influenza.', 'OGYI-T-22630/01 20x papír/Al/PE tasakban és dobozban, OGYI-T-22630/02 30x papír/Al/PE tasakban és dobozban, Lyxio 600 mg por belsőleges oldathoz:, OGYI-T-22630/03 10x papír/Al/PE tasakban és dobozban', 'üres', 'Lyxio 200 mg por belsőleges oldathoz:', 'üres', 'Lamp San Prospero SpA - Via della Pace 25/A', '41030 San Prospero (Modena),Olaszország,:, Lyxio 200 mg por belsőleges oldathoz:', 'üres', 'üres', '27/07/2020')\n",
      "('MEBUCAIN MINT 2 mg/1 mg szopogató tabletta', 'Mebucain Mint 2mg/1mg szopogató tabletta 20x', '20x', '1949', 'üres', 'üres', '95,00 Ft/db', 'Egészségpénztári kártyára vásárolható', 'Készleten', 'Torokfertőtlenítők', 'cetylpiridinium bromatum', 'A Mebucain Mint szopogató tabletta enyhíti a torokfájást, vagy az enyhe szájüregi fertőzések okozta fájdalmat. Emellett csökkenti a fertőzést okozó kórokozók számát is.p\\np\\xa0p\\np\\np\\np\\np\\npKiszállítás futárszolgálattal: 695 Ftp\\np\\np\\np\\npSzemélyes átvétel több, mint 100 gyógyszertárban: ingyenesp\\np\\np\\n', 'OGYI-T-9879/02 (20 db), OGYI-T-9879/03 (30 db)', 'üres', 'Novartis Hungária Kft. (Consumer Health részlege)', '1114 Budapest, Bartók Béla út 43-47., Magyarország', 'üres', 'üres', 'üres', 'üres', '27/07/2020')\n",
      "('MEBUCAIN ORANGE szopogató tabletta', 'Mebucain Orange szopogató tabletta 16x', '16x', '1349', 'üres', 'üres', '84,30 Ft/Ft/db', 'Egészségpénztári kártyára vásárolható', 'üres', 'Torokfertőtlenítők', 'üres', 'A Mebucain szopogató tabletta a szájüreg és torok fertőzéseinek kezelésére használható. Alkalmazható pl. megfázás okozta torokfájás, a torokgyulladás, a gégehurut, kis szájüregi fekélyek (ún. afták) és a fogínygyulladás kezelésére. Mandulagyulladás kiegészítő kezelésére is használható.', 'OGYI-T–8450/01-02.', '2007. július 2.', 'Novartis Hungária Kft. (Consumer Health részlege)', '1114. Budapest, Bartók Béla út 43-47.', 'Novartis Pharmaceutica S.A.', 'Barbera del Valles, Spanyolország,1. MILYEN BETEGSÉGEK ESETÉN ALKALMAZHATÓ ÉS HOGYAN FEJTI KI HATÁSÁT A MEBUCAIN ORANGE SZOPOGATÓ TABLETTA?, A Mebucain szopogató tabletta a szájüreg és torok fertőzéseinek kezelésére használható. Alkalmazható pl. megfázás okozta torokfájás, a torokgyulladás, a gégehurut (melyek az esetek egy részében nyelési fájdalommal is járhatnak), kis szájüregi fekélyek (ún. afták) és a fogínygyulladás kezelésére. Mandulagyulladás kiegészítő kezelésére is használható.,Fertőtlenítő (baktériumok, vírusok és gombák okozta gyulladások) hatású és fájdalomcsillapító hatóanyagokat tartalmaz.,A helyi érzéstelenítő hatással rendelkező lidokain csillapítja a torokfájást és a gyulladás okozta nyelési fájdalmat.,Az Mebucain nem izgatja a száj és torok nyálkahártyáját.,2. TUDNIVALÓK A MEBUCAIN ORANGE SZOPOGATÓ TABLETTA SZEDÉSE ELŐTT, Mielőtt a Mebucain Orange szopogató tablettát alkalmazná, vegye figyelembe a következőket.,Mikor nem szabad használni ezt a gyógyszert? · Ha kvaterner ammónium-tartalmú gyógyszerekre, lidokainra vagy a készítmény egyéb összetevőjére túlérzékeny.,· Kifejezett bradikardia (a szívösszehúzódások száma alacsony) esetén nem alkalmazható., · 4 év alatti életkorban., Ha Ön terhes vagy szoptat:, Terhesség és szoptatás időszakában a tabletta alkalmazása nem javallt., Ha Ön cukorbeteg:, A gyógyszer alkalmazása során kérjük vegye figyelembe, hogy 1 tabletta 1 g szorbitot tartalmaz., Alkalmazható-e más gyógyszerekkel együtt a Mebucain Orange szopogató tabletta? Klinikailag jelentős gyógyszerkölcsönhatások nem ismeretesek., Mivel a lidokain a szisztémás keringésbe bejuthat – különösen túladagolás esetén – gyógyszerkölcsönhatások előfordulása (pl. ß-blockolókkal, cimetidinnel, fenitoinnal) nem zárható ki teljesen., A benzoxonium antibakteriális hatásfokát az egyidejűleg alkalmazott anionos felületaktív anyagok (pl. fogkrém) csökkentik., Figyelmeztetés:, Ha a torokfájást magas láz kíséri vagy a kezelés ellenére egy hétnél tovább tart, keresse fel kezelő\\\\xadorvosát.,3. HOGYAN KELL ALKALMAZNI A MEBUCAIN ORANGE SZOPOGATÓ TABLETTÁT?, Hogyan használja a Mebucain Orange szopogató tablettát? Ha az orvos másképp nem rendeli, szokásos adagja:, Felnőtteknek: naponta 2-3 óránként kell 1 tablettát elszopogatni. Súlyosabb esetben az adag növelhető 1-2 óránként 1 tablettára., A napi maximális adag: 10 tabletta., Gyermekeknek 4 éves kor felett adható, csökkentett adagban.,Naponta 2-3 óránként ½ tablettát kell elszopogatni., A napi maximális adag: 6 tabletta., A tablettát nem szabad egészben lenyelni, alkalmazását követően 1 órán át nem cél\\\\xadszerű enni és inni.,Mit tegyen, ha túl sok Mebucain Orange szopogató tablettát alkalmazott? Ha véletlenül túl sok tablettát nyel le, azonnal forduljon orvoshoz., Kisgyermekekben a lidokain esetleges túldagolása görcsöket válthat ki.,4. LEHETSÉGES MELLÉKHATÁSOK, Milyen mellékhatásai lehetnek a Mebucain Orange szopogató tablettának?, Bizonyos esetekben az alkalmazás helyén előfordulhat enyhe, átmeneti kellemetlen érzés. Nagyon ritkán allergiás reakció jelentkezhet, mely bőrkiütéssel, esetleg száj- és torok-duzzanattal jár. Ilyen esetben azonnal hagyja abba a gyógyszer alkalmazását és értesítse kezelőorvosát.,Lidokain tartalma miatt éhgyomorra nagyobb mennyiségben alkalmazva hányingert válthat ki., Tájékoztassa kezelőorvosát vagy a gyógyszerészt, ha a szopogató tabletta használatával kapcsolatba hozható nem kívánt hatást tapasztalna., 5. TÁROLÁS, 30 °C alatti hőmérsékleten, nedvességtől és hőtől védve tárolandó., A gyógyszert csak a csomagoláson feltüntetett lejárati időn belül szabad felhasználni., A gyógyszer gyermekektől elzárva tartandó!', 'üres', 'üres', '27/07/2020')\n",
      "('MUCOANGIN 20 mg szopogató tabletta', 'Mucoangin 20 mg szopogató tabletta 18x', '18x', '1549', 'üres', 'üres', '86,10 Ft/db', 'Egészségpénztári kártyára vásárolható', 'üres', 'Torokfertőtlenítők', 'üres', 'üres', 'OGYI-T-9384/01 20x - PP//Al (PP réteggel bevonva) buborékcsomagolásban és dobozban, OGYI-T-9384/04 20x - Al fólia (LDPE réteggel bevonva) szalagcsomagolásban és dobozban, OGYI-T-9384/05 18x - PP//Al (PP réteggel bevonva) buborékcsomagolásban és dobozban', '2017. február', 'SANOFI-AVENTIS Zrt.', '1045 Budapest, Tó utca 1-5., Magyarország', 'Delpharm Reims', '10 Rue Colonel Charbonneaux, 51100 Reims, Franciaország', 'üres', 'üres', '27/07/2020')\n",
      "('MUCOFREE 30 mg/5 ml szirup', 'Mucofree 30 mg/5 ml szirup 100ml', '100ml', '1999', 'üres', 'üres', '20,00 Ft/ml', 'Egészségpénztári kártyára vásárolható', 'Készleten', 'Köhögéscsillapító', 'üres', 'Hurutos köhögésre. A Mucofree szirup hármas hatásával fellazítja a váladékot, felszabadítja a légzést és könnyíti a köhögést. A gyógyszer egyénileg adagolható.', 'üres', 'üres', 'üres', 'üres', 'üres', 'üres', 'üres', 'üres', '27/07/2020')\n",
      "('MUCOPLANT DR. THEISS Eukaliptusz és fenyőolaj kenőcs', 'Mucoplant Dr.Theiss Eukaliptusz kenőcs 50g', '50g', '1549', 'üres', 'üres', '31,00 Ft/g', 'Egészségpénztári kártyára vásárolható', 'Készleten', 'Köhögéscsillapító', 'camphora', 'A Mucoplant Dr. Theiss Eukaliptusz és fenyőolaj kenőcs külsőleges használatra és inhalációs gőz képzéséhez alkalmazható, a megfázásos tünetek (pl. szövődményekkel nem járó nátha, rekedtség, hörghurut) enyhítésére.', 'OGYI-T-22433/01', 'üres', 'Dr. Theiss Naturwaren GmbH', 'Michelinstraße 10, 66424 Homburg, Németország', 'üres', 'üres', 'üres', 'üres', '27/07/2020')\n",
      "('MUCOPRONT 375 mg kemény kapszula', 'Mucopront 375 mg kemény kapszula 20x', '20x', '1749', 'üres', 'üres', '87,50 Ft/db', 'Egészségpénztári kártyára vásárolható', 'Készleten', 'Köhögéscsillapító', 'carbocysteinum', 'Mucopront 375 mg kemény kapszula nagy mennyiségű köpet termelődésével, elégtelen ürülésével járó légúti megbetegedé\\xadsekben a nyák oldá\\xadsára, a köpetürítés elősegítésére szolgál.', 'OGYI-T-1380/01 (20 db), OGYI-T-1380/02 (50 db)', 'üres', 'PharmaSwiss Česká republika s.r.o.', 'Jankovcova 1569/2c, 17000 Praha 7, Cseh Köztársaság', 'Meditop Gyógyszeripari Kft.', '2097 Pilisborosjenő, Ady Endre u.1.,:, Valeant Pharma Magyarország Kft., 1025 Budapest, Csatárka u. 82-84., Magyarország, Tel: 06-1-345-5900', 'üres', 'üres', '27/07/2020')\n",
      "('NASIC 0,5 mg/ml+50 mg/ml oldatos orrspray kisgyermekeknek', 'Nasic 0,5 mg/ml+50 mg/ml oldatos orrspray kisgyermekeknek 10ml', '10ml', '2249', 'üres', 'üres', '224,90 Ft/ml', 'Egészségpénztári kártyára vásárolható', 'üres', 'Orrdugulás ellen', 'dexpanthenolum', 'A nasic oldatos orrspray. Két hatóanyaga van, a xilometazolin érszűkítő hatása révén csökkenti a nyálkahártya vérbőségét, a dexpantenol egy vitamin (pantoténsav‑származék), amely elősegíti a sebgyógyulást és védi a nyálkahártyát.', 'OGYI-T-20508/01 (10 ml), OGYI-T-20508/03 (10 ml)', 'üres', 'Cassella-med GmbH & Co. KG', 'Gereonsmühlengasse 1, 50670 Köln, Németország', 'Klosterfrau Berlin GmbH', 'Motzener Str. 41, 12277 Berlin, Németország', 'üres', 'üres', '27/07/2020')\n",
      "('NEO-ANGIN szopogató tabletta', 'Neo-Angin Dolo szopogató tabletta 12x', '12x', '1249', 'üres', 'üres', '104,10 Ft/db', 'üres', 'Készleten', 'Torokfertőtlenítők', 'üres', 'Neo-angin dolo szopogató tabletta orvosi ziliz kivonattal, gyors segítség heveny torokfájás esetén.\\xa0', 'üres', 'üres', 'üres', 'üres', 'üres', 'üres', 'üres', 'üres', '27/07/2020')\n",
      "('NASIC PUR 0,5 mg/ml + 50 mg/ml oldatos orrspray kisgyermekeknek', 'Nasic Pur 0,5 mg/ml+50 mg/ml oldatos orrspray kisgyermekeknek 10ml', '10ml', '2349', 'üres', 'üres', '234,90 Ft/ml', 'Egészségpénztári kártyára vásárolható', 'Készleten', 'Orrdugulás ellen', 'üres', 'A naic pur oldatos orrspray. Két hatóanyaga van, a xilometazolin érszűkítő hatása ré\\xadvén csökkenti a nyálkahártya vérbőségét, a dexpantenol egy vitamin (pantoténsav‑származék), amely elősegíti a sebgyógyulást és védi a nyálkahártyát.', 'OGYI-T-22471/02 1x10 ml HDPE tartályban és dobozban', 'üres', 'Cassella-med GmbH & Co. KG', 'Gereonsmühlengasse 1, 50670 Köln, Németország', 'Klosterfrau Berlin GmbH', 'Motzener Str. 41, 12277 Berlin, Németország,:', 'üres', 'üres', '27/07/2020')\n",
      "('NASIVIN CLASSIC 0,5 mg/ml oldatos orrspray', 'Nasivin Classic 0,5mg/ml oldatos orrspray 10ml', '10ml', '2479', 'üres', 'üres', '247,90 Ft/ml', 'Egészségpénztári kártyára vásárolható', 'Készleten', 'Orrdugulás ellen', 'oxymethazolinium chloratum', 'A Nasivin 0,5 mg/ml oldatos orrspray a következő betegségekre alkalmazható: nátha (rinitisz akuta), allergiás nátha (rinitisz allergika), rohamokban fellépő szénanátha (rinitisz vazomotorika), a váladékürülés megkönnyítésére az orr- és/vagy melléküregek gyulladása esetén, náthával együttjáró fülkürt és középfül-gyulladás, nyálkahártya‑duzzanat diagnosztikus csökkentésére orvosi vizsgálatok során.', 'OGYI-T-7882/01', 'üres', 'üres', 'üres', 'Merck KGaA', '64293 Darmstadt, Frankfurter Str. 250, Németország, Sofarimex – Indústria Química e Farmacêutica, S.A., Av. das Indústrias - Alto do Colaride, Cacém, 2735–213, Portugália, Famar Nederland B.V., Industrieweg 1, 5531 AD Bladel, Hollandia', 'üres', 'üres', '27/07/2020')\n",
      "('NASIVIN KIDS 0,25 mg/ml oldatos orrcsepp', 'Nasivin Kids 0,25 mg/ml oldatos orrcsepp 10ml', '10ml', '1699', 'üres', 'üres', '169,90 Ft/ml', 'Egészségpénztári kártyára vásárolható', 'Készleten', 'Orrdugulás ellen', 'oxymethazolinium chloratum', 'A Nasivin oldatos oximetazolin tartalmú orrcseppek 1-6 éves korig a következő betegségekre alkalmazhatók: nátha (rinitisz akuta), allergiás nátha (rinitisz allergika), rohamokban fellépő szénanátha (rinitisz vazomotorika), a váladékürülés megkönnyítésére az orr- és/vagy melléküregek gyulladása esetén, náthával együttjáró fülkürt és középfül-gyulladás, nyálkahártya‑duzzanat diagnosztikus csökkentésére orvosi vizsgálatok során.', 'OGYI-T-7882/02 (Nasivin Baby 0,1 mg/ml oldatos orrcsepp), OGYI-T-7882/03 (Nasivin Kids 0,25 mg/ml oldatos orrcsepp), OGYI-T-7882/04 (Nasivin Classic 0,5 mg/ml oldatos orrcsepp)', 'üres', 'üres', 'üres', 'Merck KGaA', '64293 Darmstadt, Frankfurter Str. 250, Németország, Sofarimex – Indústria Química e Farmacêutica, S.A., Av. das Indústrias - Alto do Colaride, Cacém, 2735–213, Portugália, Famar Nederland B.V., Industrieweg 1, 5531 AD Bladel, Hollandia', 'üres', 'üres', '27/07/2020')\n",
      "('NASOPAX orrspray felnőtteknek', 'Nasopax orrspray felnőtteknek 10ml', '10ml', '2379', 'üres', 'üres', '237,90 Ft/ml', 'Egészségpénztári kártyára vásárolható', 'Készleten', 'Orrdugulás ellen', 'bromhexidinium chloratum', 'Olyan állapotokban, amikor az orr nyálkahártyája gyulladt és duzzadt, az orrlégzés nehezített, a duzzadt nyálkahártya miatt az arcüregek belső kivezető járatai zártak, valamint a belső füljá\\xadrat is zárt.p\\np\\xa0p\\np\\np\\np\\np\\npKiszállítás futárszolgálattal: 695 Ftp\\np\\np\\np\\npSzemélyes átvétel több, mint 100 gyógyszertárban: ingyenesp\\np\\np\\n', 'OGYI-T- 8269/01', '2009. március 3.', 'Meditop Gyógyszeripari Kft.', '2097 Pilisborosjenő, Ady Endre u.1, Tel.: 06 26 336 400, Fax.: 06 26 336 041, E-mail: info@meditop.hu', 'üres', 'üres', 'Meditop Gyógyszeripari Kft.', '2097 Pilisborosjenő, Ady Endre u.1, Tel.: 06 26 336 400, Fax.: 06 26 336 041, E-mail: info@meditop.hu', '27/07/2020')\n",
      "('NASOPAX orrspray gyermekeknek', 'Nasopax orrspray gyermekeknek 10ml', '10ml', '2339', 'üres', 'üres', '229,90 Ft/ml', 'Egészségpénztári kártyára vásárolható', 'Készleten', 'Orrdugulás ellen', 'bromhexidinium chloratum', 'Olyan állapotokban, amikor az orr nyálkahártyája gyulladt és duzzadt, az orrlégzés nehezített, a duzzadt nyálkahártya miatt az arcüregek belső kivezető járatai zártak, valamint a belső fül\\xadjá\\xadrat is zárt. Ilyen állapotok az egyszerű nátha, az allergiás és az ún. vazomotoros orrnyálkahártya gyulla\\xaddás, a felső légúti gyulladások (melynek kellemetlen tünetei az orrdugulás, tüsszögés, orrfo\\xadlyás, orrviszketés, könnyezés), valamint a heveny arcüreggyulladás.p\\np\\xa0p\\np\\np\\np\\np\\npKiszállítás futárszolgálattal: 695 Ftp\\np\\np\\np\\npSzemélyes átvétel több, mint 100 gyógyszertárban: ingyenesp\\np\\np\\n', 'OGYI-T- 8270/01', '2009. március 3.', 'Meditop Gyógyszeripari Kft.', '2097 Pilisborosjenő, Ady Endre u. 1, Tel.: 06 26 336 400, Fax.: 06 26 336 041, E-mail: info@meditop.hu', 'üres', 'üres', 'Meditop Gyógyszeripari Kft.', '2097 Pilisborosjenő, Ady Endre u. 1, Tel.: 06 26 336 400, Fax.: 06 26 336 041, E-mail: info@meditop.hu', '27/07/2020')\n",
      "('NEO-ANGIN cseresznye szopogató tabletta', 'Neo-Angin szopogató tabletta cseresznye ízű 24x', '24x', '1849', 'üres', 'üres', '77,00 Ft/Ft/db', 'Egészségpénztári kártyára vásárolható', 'Készleten', 'Torokfertőtlenítők', 'mentholum', 'A neo-angin cseresznye szopogató tabletta a száj és a torok fertőtőtlenítésére használt gyógyszer. A nyálkahártya gyulladása a garatmandula területén, aminek tipikus tüneteia torokfájás, piros, duzzadt torok.', 'OGYI-T-10365/03 (12x buborékcsomagolásban) OGYI-T-10365/04 (16x buborékcsomagolásban) OGYI-T-10365/05 (24x buborékcsomagolásban) OGYI-T-10365/06 (48x buborékcsomagolásban)', '2010. december 6.', 'DIVAPHARMA GmbH', 'Motzener Str. 41, D-12277 Berlin, Németország', 'üres', 'üres', 'üres', 'üres', '27/07/2020')\n",
      "('NOVORIN 0,05% oldatos orrcsepp', 'Novorin 0,05% oldatos orrcsepp 10ml', '10ml', '1099', 'üres', 'üres', '109,90 Ft/Ft/ml', 'Egészségpénztári kártyára vásárolható', 'Készleten', 'Orrdugulás ellen', 'xylomethazolinium chloratum', 'A készítmény az orrnyálkahártyára cseppentve érösszehúzódást idéz elő, csökkenti a nyálkahártya duzzanatot, és az orr-garatüreg nyálkahártyájának vérbőségét, továbbá ugyancsak csökkenti a váladékképződést. A készítmény az alábbi állapotok tüneti kezelésére alkalmas: akut vírusos, vagy bakteriális eredetű orrnyálkahártya-gyulladás; akut, vagy krónikus arcüreggyulladás fellángolása; allergiás orrnyálkahártya-gyulladás;', 'OGYI-T-1202/01 NOVORIN 0,05%,OGYI-T-753/01 NOVORIN 0,1%', '2009. január 14.', 'Warsaw Pharmaceutical Works Polfa S.A.', '22/24 Karolkowa Str.; 01-207 Varsó, Lengyelország, További részletes információért kérjük, lépjen kapcsolatba a forgalomba hozatali engedély jogosultjával.', 'üres', 'üres', 'üres', 'üres', '27/07/2020')\n",
      "('NOVORIN 0,1% oldatos orrcsepp', 'Novorin 0,1% oldatos orrcsepp 10ml', '10ml', '1349', 'üres', 'üres', '134,90 Ft/ml', 'Egészségpénztári kártyára vásárolható', 'Készleten', 'Orrdugulás ellen', 'xylomethazolinium chloratum', 'A készítmény az orrnyálkahártyára cseppentve érösszehúzódást idéz elő, csökkenti a nyálkahártya duzzanatot, és az orr-garatüreg nyálkahártyájának vérbőségét, továbbá ugyancsak csökkenti a váladékképződést. A készítmény az alábbi állapotok tüneti kezelésére alkalmas: akut vírusos, vagy bakteriális eredetű orrnyálkahártya-gyulladás; akut, vagy krónikus arcüreggyulladás fellángolása; allergiás orrnyálkahártya-gyulladás;', 'OGYI-T-1202/01 NOVORIN 0,05%,OGYI-T-753/01 NOVORIN 0,1%', '2009. január 14.', 'Warsaw Pharmaceutical Works Polfa S.A.', '22/24 Karolkowa Str.; 01-207 Varsó, Lengyelország, További részletes információért kérjük, lépjen kapcsolatba a forgalomba hozatali engedély jogosultjával.', 'üres', 'üres', 'üres', 'üres', '27/07/2020')\n",
      "('PAXIRASOL 8 mg tabletta', 'Paxirasol 8 mg tabletta 20x', '20x', '1399', 'üres', 'üres', '69,00 Ft/db', 'Egészségpénztári kártyára vásárolható', 'Készleten', 'Köhögéscsillapító', 'bromhexidinium chloratum', 'A Paxirasol 8 mg tabletta a kórosan sűrű nyák- és köpettermeléssel járó heveny és idült légúti megbetegedések kezelésére szolgáló, köptető hatású készítmény.', 'OGYI-T-3612/01', 'üres', 'üres', 'üres', 'Egis Gyógyszergyár Zrt.', 'H-9900 Körmend, Mátyás király út 65.', 'üres', 'üres', '27/07/2020')\n",
      "('REVICET AKUT 10 mg préselt szopogató tabletta', 'Revicet Akut 10 mg préselt szopogató tabletta 7x', '7x', '1049', 'üres', 'üres', '149,90 Ft/db', 'Egészségpénztári kártyára vásárolható', 'Készleten', 'Allergia', 'üres', 'A Revicet Akut 10 mg préselt szopogató tabletta allergia ellenes gyógyszer, az antihisztaminok csoportjába tartozik.', 'OGYI-T-20392/05', '2009. május 11.', 'üres', 'üres', 'Losan Pharma GmbH.', 'Otto Hahn Strasse 13, D-79395 Neuenburg, Németország.', 'üres', 'üres', '27/07/2020')\n",
      "('OTRIVIN RAPID 1 mg/ml adagoló oldatos orrspray', 'Otrivin Rapid 1 mg/ml adagoló oldatos orrspray (0,1%) 10ml', '(0,1%)10ml', '2349', 'üres', 'üres', '234,90 Ft/ml', 'Egészségpénztári kártyára vásárolható', 'Készleten', 'Orrdugulás ellen', 'xylomethazolinium chloratum', 'Különböző eredetű náthák (pl. meghűlés, szénanátha stb.) tüneteinek enyhítésére alkalmas orrpermet (orrspray). Az Otrivin Rapid készítmények hatóanyaga, a xilometazol, kifejezetten az orrnyálkahártya kezelésére alkalmas: érszűkítő hatást fejt ki, és csökkenti az orrban és melléküregeiben a nyálkahártya duzzanatot, megkönnyíti a váladék eltávozását. Ezáltal könnyíti az orrlégzést meghűlés és nátha esetén. Hatása néhány percen belül kialakul, és kb. 12 órán keresztül fennáll.', 'OGYI-T-5544/03', 'üres', 'Novartis Hungária Kft.', '(Consumer Health részlege), 1114, Budapest, Bartók Béla út 43-47.', 'Novartis Hungária Kft.', '1114, Budapest, Bartók Béla út 43-47.', 'üres', 'üres', '27/07/2020')\n",
      "('OTRIVIN RAPID 1 mg/ml oldatos orrcsepp', 'Otrivin Rapid 1 mg/ml oldatos orrcsepp (0,1%) 10ml', '(0,1%)10ml', '1549', 'üres', 'üres', '154,90 Ft/ml', 'Egészségpénztári kártyára vásárolható', 'Készleten', 'Orrdugulás ellen', 'xylomethazolinium chloratum', 'Az Otrivin Rapid oldatos orrcsepp az orrnyálkahártya kezelésére alkalmas érszűkítő hatású készítmény, amely gyorsan csökkenti az orrban és melléküregeiben az orrnyálkahártya duzzanatát. Az Otrivin Rapid oldatos orrcsepp gyorsan megszünteti az orrdugulást, ezáltal könnyíti az orrlégzést. Különböző eredetű náthák (pl. meghűlés, szénanátha, egyéb allergiás eredetű nátha vagy orrmelléküreg-gyulladás) okozta orrdugulás enyhítésére alkalmas.', 'OGYI-T-5544/02', 'üres', 'GlaxoSmithKline-Consumer Kft.', '1124 Budapest, Csörsz u. 43., Magyarország', 'GSK Consumer Healthcare GmbH & Co. KG', 'Barthstraβe 4,80339 München,Németország', 'üres', 'üres', '27/07/2020')\n",
      "('OTRIVIN RAPID MENTOL 1 mg/ml adagoló oldatos orrspray', 'Otrivin Rapid Menthol 1 mg/ml adagoló oldatos orrspray 10ml', '10ml', '2449', 'üres', 'üres', '244,90 Ft/ml', 'Egészségpénztári kártyára vásárolható', 'Készleten', 'Orrdugulás ellen', 'xylomethazolinium chloratum', 'Az Otrivin Menthol az orrnyálkahártya kezelésére alkalmas érszűkítő hatású készítmény, amely gyorsan megszünteti az orrdugulást. Az orrnyálkahártya-duzzanatot csökkentő hatóanyaga mellett hűsítő mentol és eukaliptusz aromapárát is tartalmaz.', 'OGYI-T-5544/04 10 ml HDPE kupakkal lezárt, PP szórófejjel és adagoló pumpával ellátott HDPE tartályban, dobozban', 'üres', 'Novartis Hungária Kft.', '(Consumer Health részlege), 1114 Budapest, Bartók Béla út 43-47.', 'Novartis Hungária Kft.', '1114 Budapest, Bartók Béla út 43-47.', 'üres', 'üres', '27/07/2020')\n",
      "('PROSPAN szirup', 'Prospan szirup 100ml', '100ml', '2799', 'üres', 'üres', '25,00 Ft/ml', 'Egészségpénztári kártyára vásárolható', 'Készleten', 'Köhögéscsillapító', 'Extr. hederae helicis (borostyán) folii', 'A cukormentes Prospan® szirup a borostyánlevél erejével elősegíti a letapadt nyák felszakadását és kiürülését, csökkenti a köhögés gyakoriságát. Gyulladáscsökkentő és hörgőtágító hatása hozzájárul, hogy újra szabadon lélegezzen. Már 2 éves kortól adható (4 évesnél fiatalabb gyermekeknek orvosi felügyelet mellett adható).', 'OGYI-T-21292/01 1 x 100 ml', '2010. 05. 14.', 'üres', 'üres', 'üres', 'üres', 'üres', 'üres', '27/07/2020')\n",
      "('REVICET 10 mg préselt szopogató tabletta', 'Revicet 10 mg préselt szopogató tabletta 28x', '28x', '2699', 'üres', 'üres', '96,40 Ft/db', 'Egészségpénztári kártyára vásárolható', 'Készleten', 'Allergia', 'cetirizinium chloratum', 'A Revicet 10 mg szopogató tabletta allergia ellenes gyógyszer, az antihisztaminok csoportjába tartozik.', 'OGYI-T-20392/01 20 db tabletta buborékfóliában, dobozban, OGYI-T-20392/02 30 db tabletta buborékfóliában, dobozban, OGYI-T-20392/03 60 db tabletta buborékfóliában, dobozban, OGYI-T-20392/04 90 db tabletta buborékfóliában, dobozban', '2009. május 6.', 'üres', 'üres', 'Losan Pharma GmbH.', 'Otto Hahn Strasse 13, D-79395 Neuenburg, Németország.', 'üres', 'üres', '27/07/2020')\n",
      "('RHINATHIOL 1 mg/ml köhögéscsillapító szirup gyermekeknek', 'Rhinathiol 1 mg/ml köhögéscsillapító szirup gyermekeknek 125ml', '125ml', '1799', 'üres', 'üres', '14,40 Ft/ml', 'Egészségpénztári kártyára vásárolható', 'Készleten', 'Köhögéscsillapító', 'dextrometorphanium bromatum', 'A Rhinathiol köhögéscsillapító szirup gyermekeknek hatóanyaga a dextrometorfán egy mesterségesen előállított morfin-származék. Köhögéscsillapító hatású vegyület, mely a központi idegrendszerre hatva fejti ki hatását.', 'OGYI-T-9257/01', 'üres', 'sanofi-aventis Zrt. 1045 Budapest', 'Tó utca 1-5.', 'Unither Liquid Manufacturing', '1-3, allée de la Nesté, Z.I. d’en Signal, 31770 Colomiers, Franciaország', 'üres', 'üres', '27/07/2020')\n",
      "('RHINATHIOL 1 mg/ml oldatos orrspray', 'Rhinathiol 1 mg/ml oldatos orrspray 10ml', '10ml', '2249', 'üres', 'üres', '239,90 Ft/ml', 'Egészségpénztári kártyára vásárolható', 'Készleten', 'Orrdugulás ellen', 'xylomethazolinium chloratum', 'A Rhinathiol oldatos orrspray az orrba fújva az orrdugulás kezelésére szolgál, különösen fertőzéses, allergiás vagy egyéb eredetű orrnyálkahártya-gyulladás (nátha, szénanátha) és az orrmelléküregek gyulladásai során.', 'OGYI-T-20077/01', '2012. január', 'sanofi-aventis Zrt.', '1045 Budapest, Tó u. 1-5., Információs szolgálat: 06-1-505-0050', 'Unither Liquid Manufacturing', '1-3 Allée de la Neste Z.I.d’en Sigal, 31770 Colomiers, Franciaország', 'üres', 'üres', '27/07/2020')\n",
      "('RHINATHIOL 1,33 mg/ml köhögéscsillapító szirup felnőtteknek', 'Rhinathiol 1,33 mg/ml köhögéscsillapító szirup felnőtteknek 200ml', '200ml', '2599', 'üres', 'üres', '13,00 Ft/ml', 'Egészségpénztári kártyára vásárolható', 'Készleten', 'Köhögéscsillapító', 'dextrometorphanium bromatum', 'A Rhinathiol köhögéscsillapító szirup felnőtteknek hatóanyaga a dextrometorfán-hidrobromid egy mesterségesen előállított morfin-származék. Köhögéscsillapító hatású vegyület, mely a központi idegrendszerre hatva fejti ki hatását.', 'OGYI-T-9257/02', 'üres', 'sanofi-aventis Zrt. 1045 Budapest', 'Tó utca 1-5.', 'Unither Liquid Manufacturing', '1-3, allée de la Nesté, Z.I. d’en Signal, 31770 Colomiers, Franciaország', 'üres', 'üres', '27/07/2020')\n",
      "('RHINATHIOL COLD 200 mg/30 mg filmtabletta', 'Rhinathiol Cold 200 mg/30 mg filmtabletta 20x', '20x', '2249', 'üres', 'üres', '112,50 Ft/db', 'Egészségpénztári kártyára vásárolható', 'Készleten', 'Komplex készítmények, forró italporok', 'ibuprofenum', 'Ibuprofent és pszeudoefedrint tartalmazó kombinált fájdalomcsillapító, gyulladáscsökkentő, lázcsillapító és az orrdugulást megszüntető készítmény. Az orr és az orrmelléküregek dugulásával járó megfázás és influenza tüneteinek, mint például fájdalom, fejfájás, láz, torokfájás enyhítésére szolgáló készítmény.', 'OGYI-T-9161/01 (12 db), OGYI-T-9161/02 (20 db), OGYI-T-9161/03 (24 db)', '2010. szeptenber 29.', 'sanofi-aventis Zrt', '1045 Budapest, Tó u. 1-5', 'Sanofi-Synthelabo Ltd.', 'Engefield Avenue, Fawdon, Newcastle upon Tyne, Tyne & Wear NE3 3TT, Egyesült Királyság', 'üres', 'üres', '27/07/2020')\n",
      "('RHINATHIOL TUSSO 100 mg tabletta', 'Rhinathiol Tusso 100 mg tabletta 20x', '20x', '1899', 'üres', 'üres', '97,50 Ft/db', 'Egészségpénztári kártyára vásárolható', 'Készleten', 'Köhögéscsillapító', 'prenoxdiazinium', 'A Rhinathiol Tusso tabletta száraz köhögés csillapítására szolgáló készítmény, amely megkönnyíti a légzést és a köpet mennyiségét is befolyásolja. Köhögéscsillapító hatása 3-4 órán át tart.', 'OGYI-T-9200/01 (20 db)', 'üres', 'sanofi-aventis Zrt.', '1045 Budapest, Tó u. 1-5.', 'Chinoin Zrt', '2112, Veresegyház, Lévai u.5., Magyarország', 'üres', 'üres', '27/07/2020')\n",
      "('RHINATHIOL köptető 20 mg/ml szirup gyermekeknek', 'Rhinathiol köptető 20 mg/ml szirup gyermekeknek 125ml', '125ml', '1849', 'üres', 'üres', '14,80 Ft/ml', 'Egészségpénztári kártyára vásárolható', 'Készleten', 'Köhögéscsillapító', 'carbocysteinum', 'A Rhinathiol köptető 20 mg/ml szirup gyermekeknek készítmény a légutakban felhalmozódott kóros nyák sűrűségét csökkenti, ezáltal elősegíti a köpetürítést és a légutak öntisztulását. 15 év alatti gyermekek nehezített köpetürítéssel, a hörgőváladék kiürítésének nehézségével járó légúti megbetegedéseinek (pl. heveny, félheveny, idült hörghurut, légcsőhurut, vagy krónikus hörghurut akut fellángolásának) kezelésére szolgál.', 'OGYI-T-6607/01', 'üres', 'sanofi-aventis Zrt.', '1045 Budapest, Tó u. 1-5.', 'k', 'Unither Liquid Manufacturing, 1-3, allée de la Nesté Z.I. d’en Sigal, 31770 Colomiers, Franciaország,Nattermann & Cie. GmbH, Nattermannallee 1, 50829 Cologne, Németország', 'üres', 'üres', '27/07/2020')\n",
      "('RHINATHIOL köptető 50 mg/ml szirup felnőtteknek', 'Rhinathiol köptető 50 mg/ml szirup felnőtteknek 200ml', '200ml', '2499', 'üres', 'üres', '12,50 Ft/ml', 'Egészségpénztári kártyára vásárolható', 'Készleten', 'Köhögéscsillapító', 'carbocysteinum', 'A Rhinathiol köptető 50 mg/ml szirup felnőtteknek készítmény a légutakban felhalmozódott kóros nyák sűrűségét csökkenti, ezáltal elősegíti a köpetürítést és a légutak öntisztulását. Felnőttek és 15 éven felüli gyermekek nehezített köpetürítéssel, a hörgőváladék kiürítésének nehézségével járó légúti megbetegedéseinek (pl. heveny, félheveny, idült hörghurut, légcsőhurut) kezelésére javallt.', 'OGYI-T- 6607/02 125 ml, OGYI-T- 6607/03 200 ml, OGYI-T- 6607/04 300 ml', 'üres', 'sanofi-aventis Zrt.', '1045 Budapest, Tó u. 1-5.', 'k', '1.) Unither Liquid Manufacturing, 1-3, allée de la Nesté Z.I. d’en Sigal, 31770 Colomiers, Franciaország, 2.) A. Nattermann & Cie. GmbH, Nattermannallee 1, 50829 Cologne, Németország', 'üres', 'üres', '27/07/2020')\n",
      "('RHINOSPRAY PLUS 1,265 mg/ml oldatos orrspray', 'Rhinospray Plus orrspray 10ml', '10ml', '2099', '2 099 Ft', '2 479 Ft helyett:', '209,90 Ft/ml', 'Egészségpénztári kártyára vásárolható', 'Készleten', 'Orrdugulás ellen', 'tramazolinium chloratum', 'A Rhinospray plus oldatos orrspray az orrnyálkahártya duzzanatának mérséklésére szolgál meghűlés vagy szénanátha esetén. Ezen kívül orrmelléküreg- és középfül-gyulladásban az izzadmány kiürülésének elősegítésére is alkalmazható.', 'OGYI-T-7335/01', 'üres', 'Boehringer Ingelheim International GmbH', 'Binger Strasse 173, D-55216 Ingelheim am Rhein, Németország', 'Istituto de Angeli', 'Localita i Prulli No. 103/c, I-50066 Regello, Firenze, Olaszország', 'üres', 'üres', '27/07/2020')\n",
      "('RINOFLUIMUCIL oldatos orrspray', 'Rinofluimucil oldatos orrspray 10ml', '10ml', '2199', 'üres', 'üres', '219,90 Ft/ml', 'Egészségpénztári kártyára vásárolható', 'Készleten', 'Orrdugulás ellen', 'acetylcysteinum', 'A Rinofluimucil oldatos orrspray hatóanyagai az acetilcisztein és a tuaminoheptán-szulfát. Az acetilcisztein erős nyákoldó hatású vegyület, orrnyálkahártyán alkalmazva hígítja a sűrű légúti váladékot. A tuaminoheptán-szulfát egy érösszehúzó hatású, ún. szimpatikomimetikus amin, orrnyálkahártyán alkalmazva csökkenti a nyálkahártya-duzzanatot.', 'OGYI-T-9685/01 (10 ml)', 'üres', 'Zambon S.p.A.', 'Via Lillo del Duca 10, 20091 Bresso, Olaszország', 'Zambon S.p.A.', 'Via della Chimica 9, 36100 Vicenza, Olaszország', 'üres', 'üres', '27/07/2020')\n",
      "('ROBITUSSIN ANTITUSSICUM szirup', 'Robitussin Antitussicum szirup 100ml', '100ml', '1999', 'üres', 'üres', '20,00 Ft/ml', 'Egészségpénztári kártyára vásárolható', 'Készleten', 'Köhögéscsillapító', 'dextrometorphanium bromatum', 'A készítmény köhögéscsillapító, enyhíti a makacs, száraz köhögést.', 'üres', 'üres', 'üres', 'üres', 'IVAX Pharmaceuticals s.r.o.', \"Ostravska 29, 747 70 Opava, 9, Czech Republic., (vagy), Doppel Farmaceutici S.r.l., Via Martiri delle Foibe 1, 29016 Cortemaggiore (Piacenza), Italy,A betegtájékoztató engedélyezésének dátuma: 2010. február 26., ']\", 'üres', 'üres', '27/07/2020')\n",
      "('SEPTOFORT tabletta', 'Septofort tabletta 24x', '24x', '1749', 'üres', 'üres', '58,30 Ft/db', 'Egészségpénztári kártyára vásárolható', 'Készleten', 'Torokfertőtlenítők', 'chlorhexidinium gluconicum', 'A klórhexidin tartalmú Septofortnak nem számít, miért fáj a torkod! Szájüregi fertőzések, gyulladások és szájnyálkahártya betegségek kezelésére is\\xa0 alkalmas', 'OGYI-T 3843/02 12 db, OGYI-T 3843/03 24 db', 'üres', 'WALMARK', 'a.s., Oldřichovice 44, 739 61 Třinec, Csehország', 'üres', 'üres', 'üres', 'üres', '27/07/2020')\n",
      "('ROBITUSSIN EXPECTORANS szirup', 'Robitussin Expectorans szirup 100ml', '100ml', '2149', 'üres', 'üres', '20,00 Ft/ml', 'Egészségpénztári kártyára vásárolható', 'Készleten', 'Köhögéscsillapító', 'guaiphensinum', 'A Robitussin Expectorans szirup köptető. A légutak heveny megbetegedéseiben jelentkező makacs, nyálkás, hurutos köhögés vagy hörghurut kiegészítő kezelésére alkalmas, feloldja a légúti váladékot, ezzel segíti annak felköhögését.', 'üres', '2010. február 26.', 'üres', 'üres', 'IVAX Pharmaceuticals s.r.o.', \"Ostravska 29, 747 70 Opava, 9, Czech Republic., (vagy), Doppel Farmaceutici S.r.l., Via Martiri delle Foibe 1, 29016 Cortemaggiore (Piacenza), Italy,A betegtájékoztató engedélyezésének dátuma: 2010. február 26., ']\", 'üres', 'üres', '27/07/2020')\n",
      "('ROBITUSSIN JUNIOR szirup', 'Robitussin Junior szirup 100ml', '100ml', '2149', 'üres', 'üres', '21,50 Ft/ml', 'Egészségpénztári kártyára vásárolható', 'Készleten', 'Köhögéscsillapító', 'dextrometorphanium bromatum', 'A készítmény köhögéscsillapító, enyhíti a makacs száraz köhögést. A gyógyszer csak gyermekgyógyászati felhasználásra javasolt.', 'üres', '2010. február 26.', 'üres', 'üres', 'IVAX Pharmaceuticals s.r.o.', \"Ostravska 29, 747 70 Opava, 9, Czech Republic, (vagy), Doppel Farmaceutici S.r.l., Via Martiri delle Foibe 1, 29016 Cortemaggiore (Piacenza), Italy,A betegtájékoztató engedélyezésének dátuma: 2010. február 26.,']\", 'üres', 'üres', '27/07/2020')\n",
      "('SEPTOLETE EXTRA 1,5 mg/ml + 5 mg/ml szájnyálkahártyán alkalmazott oldatos spray', 'Septolete Extra 1,5 mg/ml+5 mg/ml szájnyálkahártyán alkalmazott oldatos spray 30ml', '30ml', '2099', 'üres', 'üres', '70,00 Ft/ml', 'Egészségpénztári kártyára vásárolható', 'Készleten', 'Torokfertőtlenítők', 'üres', 'A Septolete extra szájnyálkahártyán alkalmazott spray gyulladáscsökkentő, fájdalomcsillapító és antiszeptikum helyi, szájüregi használatra. Fertőtleníti a szájüreget és a garatot, enyhíti a torokgyulladás tüneteit, például a fájdalmat, a vérbőséget, a duzzanatot, a melegséget és a nyelési nehézséget.', 'OGYI-T-22871/06 1x30 ml műanyag (HDPE) permetező tartály', 'üres', 'KRKA', 'd.d., Novo mesto, Šmarješka cesta 6, 8501 Novo mesto, Szlovénia', 'üres', 'üres', 'üres', 'üres', '27/07/2020')\n",
      "('SEPTOLETE EXTRA citrom-bodza 3 mg/1 mg szopogató tabletta', 'Septolete extra 3mg/1mg szopogató tabletta citrom-bodza ízű 16x', '16x', '1999', 'üres', 'üres', '124,90 Ft/db', 'Egészségpénztári kártyára vásárolható', 'Készleten', 'Torokfertőtlenítők', 'üres', 'A Septolete extra szopogató tabletta felnőttek és 6 év feletti gyermekek számára javallott gyulladáscsökkentőként, fájdalomcsillapítóként és fertőtlenítőként torok-, szájüregi és fogíny-irritáció kezelésére.', 'OGYI-T-22871/12 8×, OGYI-T-22871/13 16×, OGYI-T-22871/14 24×, OGYI-T-22871/15 32×, OGYI-T-22871/16 40×', 'üres', 'KRKA', 'd.d., Novo mesto, Šmarješka cesta 6, 8501 Novo mesto, Szlovénia', 'k:', 'KRKA, d.d., Novo mesto, Šmarješka cesta 6, 8501 Novo mesto, Szlovénia, TAD Pharma GmbH, Heinz-Lohmann-Straße 5, 27472 Cuxhaven, Németország', 'üres', 'üres', '27/07/2020')\n",
      "('SINUPRET belsőleges oldatos cseppek', 'Sinupret belsőleges oldatos cseppek 50ml', '50ml', '2599', 'üres', 'üres', '56,00 Ft/ml', 'Egészségpénztári kártyára vásárolható', 'Készleten', 'Orrdugulás ellen', 'gentianae radix', 'Alkalmazható az orrmelléküregek és a légutak heveny és idült gyulladásainak kezelésére. A hatóanyagok gyulladáscsökkentő, nyálkaoldó hatásúak, megkönnyítik a letapadt váladék felköhögését és kiürítését.', 'OGYI-T-5509/01-02. 50 ml, 100 ml', '2017.január.', 'Bionorica SE', 'Kerschensteiner Str. 11-15, 92318 Neumarkt, Németország,:, Schwabe Hungary Kft., Tel.: +36 1 431-8954, Fax: +36 1 431-8953, Email: info@schwabe.hu', 'üres', 'üres', 'üres', 'üres', '27/07/2020')\n",
      "('SINUPRET bevont tabletta', 'Sinupret forte bevont tabletta 20x', '20x', '2899', 'üres', 'üres', '145,00 Ft/db', 'Egészségpénztári kártyára vásárolható', 'Készleten', 'Orrdugulás ellen', 'gentianae radix', 'A Sinupret forte bevont tabletta az orrmelléküregek és a légutak heveny és idült gyulladásainak kezelésére alkalmazható. Antibakteriális kezelés kiegészítéseként is felhasználható.', 'OGYI-T-5509/05 20 db, OGYI-T-5509/06 50 db, OGYI-T-5509/07 100 db, OGYI-T-5509/08 500 db', 'üres', 'Bionorica SE', 'Kerschensteiner str. 11-15., 92318-Neumarkt, Németország, Tel.: +49 9181 231 90, Fax: +49 9181 231 265, Website: www.bionorica.de, Email: info@bionorica.de,:, Schwabe Hungary Kft., Tel.: +36 1 431-8934, Fax: +36 1 431-8953', 'üres', 'üres', 'üres', 'üres', '27/07/2020')\n",
      "('TALEUM 22 mg/g oldatos orrspray', 'Taleum 22 mg/g oldatos orrspray 15g', '15g', '2349', 'üres', 'üres', '156,60 Ft/g', 'Egészségpénztári kártyára vásárolható', 'Készleten', 'Allergia', 'natrium cromoglycicum', 'A Taleum orrspray az allergiás nátha (szénanátha) megelőző kezelésére szolgál. A készítmény helyi hatást fejt ki az orrnyálkahártyán és ezáltal alkalmas a szezonális és krónikus allergiás nátha tüneteinek tartós megelőzésére.', 'OGYI-T-3798/01', 'üres', 'PannonPharma Kft.', '7720 Pécsvárad, Pannonpharma út 1.', 'üres', 'üres', 'üres', 'üres', '27/07/2020')\n",
      "('SNUP 1 mg/ml oldatos orrspray', 'Snup 1 mg/ml oldatos orrspray 10ml', '10ml', '1699', 'üres', 'üres', '169,90 Ft/ml', 'Egészségpénztári kártyára vásárolható', 'Készleten', 'Orrdugulás ellen', 'üres', 'A tartósítószermentes SNUP orrspray az aktív hatóanyag és a tengervíz erejével segít csökkenteni az orrdugulást.', 'OGYI-T-23172/05 1×10 ml „3K-system” adagolópumpával lezárt polietilén tartály, OGYI-T-23172/06 1×10 ml „PFP N-system” adagolópumpával lezárt polietilén tartály, OGYI-T-23172/07 1×15 ml „3K-system” adagolópumpával lezárt polietilén tartály, OGYI-T-23172/08 1×15 ml „PFP N-system” adagolópumpával lezárt polietilén tartály', 'üres', 'STADA Arzneimittel AG', 'Stadastrasse 2-18, D-61118 Bad Vilbel, Németország', 'üres', 'üres', 'üres', 'üres', '27/07/2020')\n",
      "('SOLEDUM FORTE 200 mg gyomornedv-ellenálló lágy kapszula', 'Soledum Forte 200 mg gyomornedv-ellenálló lágy kapszula 25x', '25x', '2499', 'üres', 'üres', '100,00 Ft/Ft/db', 'Egészségpénztári kártyára vásárolható', 'üres', 'Köhögéscsillapító', 'üres', 'üres', 'OGYI-T-22947/04 20x PVC/PVdC//Al buborékcsomagolásban, OGYI-T-22947/05 50x PVC/PVdC//Al buborékcsomagolásban, OGYI-T-22947/06 100x PVC/PVdC//Al buborékcsomagolásban, OGYI-T-22947/08 25x PVC/PVdC//Al buborékcsomagolásban', 'üres', 'Cassella-med GmbH & Co. KG', 'Gereonsmühlengasse 1 50670 Köln, Németország', 'Klosterfrau Berlin GmbH', 'Motzenerstr. 41, 12277 Berlin, Németország', 'üres', 'üres', '27/07/2020')\n",
      "('SOLMUCOL 200 mg szopogató tabletta', 'Solmucol 200 mg szopogató tabletta 20x', '20x', '1649', 'üres', 'üres', '85,00 Ft/db', 'Egészségpénztári kártyára vásárolható', 'Készleten', 'Torokfertőtlenítők', 'acetylcysteinum', 'A Solmucol® acetilcisztein hatóanyagot tartalmazó, köptető hatású készítmény. Az acetilcisztein oldja a légúti megbetegedések esetén képződő sűrű nyákot. Elősegíti a légcsőben és légutakban lerakódott nyák kiürítését, így könnyíti a légzést.', 'OGYI-T-04060/02', 'üres', 'üres', 'üres', 'IBSA Farmaceutici Italia srl.', 'Via Martiri de Cefalonia, 2, 26900 Lodi, Olaszország', 'üres', 'üres', '27/07/2020')\n",
      "('STREPFEN 8,75 mg szopogató tabletta', 'Strepfen cukormentes 8,75 mg szopogató tabletta 24x', '24x', '2799', 'üres', 'üres', '117,90 Ft/db', 'Egészségpénztári kártyára vásárolható', 'Készleten', 'Torokfertőtlenítők', 'flurbiprofenum', 'Hatékonyan alkalmazható a baktériumok vagy vírusok által kiváltott torokgyulladás tüneteinek (fájdalom és nyálkahártya duzzanat) csökkentésére.', 'OGYI-T-8900/01', '2009. szeptember 27.', 'Reckitt Benckiser Healthcare International Ltd.', '103-105 Bath Road, Slough, Berkshire SL1 3UH, Egyesült Királyság', 'Reckitt Benckiser Healthcare International Ltd.', 'Nottingham Site, Thane Road, Nottingham, NG90 2DB, Egyesült Királyság,:, Reckitt Benckiser Kft., 1036 Budapest, Lajos u. 48-66, Tel.: 06 1 880-1870 Fax: 06 1 250-8398', 'üres', 'üres', '27/07/2020')\n",
      "('STREPFEN DIREKT 16,2 mg/ml szájnyálkahártyán alkalmazott oldatos spray', 'Strepfen Direkt 16,2 mg/ml szájnyálkahártyán alkalmazott oldatos spray 15ml', '15ml', '2999', 'üres', 'üres', '199,90 Ft/ml', 'Egészségpénztári kártyára vásárolható', 'Készleten', 'Torokfertőtlenítők', 'üres', 'A készítmény hatóanyaga a flurbiprofén. A flurbiprofén az úgynevezett nem szteroid gyulladáscsökkentő készítmények (NSAID-ok) csoportjába tartozik. Ezek a gyógyszerek a szervezetnek a fájdalomra, a duzzanatokra és lázra adott reakciójának megváltoztatásával biztosítanak enyhülést.', 'üres', 'üres', 'üres', 'üres', 'üres', 'üres', 'üres', 'üres', '27/07/2020')\n",
      "('STREPSILS citromízû cukormentes szopogató tabletta', 'Strepsils citromízű cukormentes szopogató tabletta 24x', '24x', '2299', 'üres', 'üres', '95,80 Ft/db', 'Egészségpénztári kártyára vásárolható', 'Készleten', 'Torokfertőtlenítők', 'alcoholum dichlorobenzylicum', 'Antibakteriális, gomba és vírusellenes hatású. csillapítja a fájdalmat már 5 perc elteltével.', 'OGYI-T-4519/02 (24×)', 'üres', 'Reckitt Benckiser Healthcare International Ltd.', '103-105 Bath Road, Slough, Berkshire SL1 3UH, Egyesült Királyság', 'Reckitt Benckiser Healthcare International Limited', 'Nottingham Site, Thane Road Nottingham, NG90 2DB, Egyesült Királyság,:, Reckitt Benckiser Kft., 1113 Budapest, Bocskai út 134-146.,Tel: 06 1 880-1870, Fax: 06 1 250-8398, E-mail: gyogyszer@reckittbenckiser.com', 'üres', 'üres', '27/07/2020')\n",
      "('STREPSILS eperízû cukormentes szopogató tabletta', 'Strepsils eperízű cukormentes szopogató tabletta 24x', '24x', '2299', 'üres', 'üres', '95,80 Ft/db', 'Egészségpénztári kártyára vásárolható', 'Készleten', 'Torokfertőtlenítők', 'alcoholum dichlorobenzylicum', 'Torokfájás esetén megküzd a kórokozókkal, továbbá fájdalomcsillapító hatású is már 5 perc elteltével.', 'OGYI-T-4519/03 (12×), OGYI-T-4519/04 (24×)', '2016. március', 'üres', 'üres', 'Reckitt Benckiser Healthcare International Limited', 'Nottingham Site, Thane Road Nottingham, NG90 2DB, Egyesült Királyság,:, Reckitt Benckiser Kft., 1113 Budapest, Bocskai út 134-146.,Tel: 06 1 880-1870, Fax: 06 1 250-8398, E-mail: gyogyszer@reckittbenckiser.com', 'üres', 'üres', '27/07/2020')\n",
      "('STREPSILS HONEY AND LEMON szopogató tabletta', 'Strepsils Honey and Lemon szopogató tabletta 24x', '24x', '2299', 'üres', 'üres', '88,70 Ft/db', 'Egészségpénztári kártyára vásárolható', 'Készleten', 'Torokfertőtlenítők', 'alcoholum dichlorobenzylicum', 'Szopogatásra szánt méz- és citromízű torokfertőtlenítő gyógyszerkészítmény. Alkalmazható a torok-, garat-, mandulagyulladás, fogínygyulladás, szájnyálkahártyagyulladás kezelésére, valamint a szájüregben végzett műtétek (mandula, fog, stb.) után a kellemetlen szájszag mérséklésére, ill. a másodlagos fertőzések megakadályozására.', 'OGYI-T-4519/05 12× buborékcsomagolásban, dobozban, OGYI-T-4519/06 12× buborékcsomagolásban, fémdobozban, OGYI-T-4519/07 24× buborékcsomagolásban, dobozban, OGYI-T-4519/08 36× buborékcsomagolásban, dobozban, OGYI-T-4519/09 10× tartályban.', 'üres', 'Reckitt Benckiser Healthcare International Ltd.', '103-105 Bath Road, Slough, Berkshire SL1 3UH, Egyesült Királyság', 'Reckitt Benckiser Healthcare International', 'Limited, Nottingham Site, Thane Road Nottingham, NG90 2DB,Egyesült Királyság,:, Reckitt Benckiser Kft., 1113 Budapest, Bocskai út 134-146.,Tel: 06 1 880-1870, Fax: 06 1 250-8398, E-mail: gyogyszer@reckittbenckiser.com', 'üres', 'üres', '27/07/2020')\n",
      "('STREPSILS MENTHOL AND EUCALYPTUS szopogató tabletta', 'Strepsils Menthol and eucalyptus szopogató tabletta  24x', '24x', '2299', 'üres', 'üres', '95,80 Ft/db', 'Egészségpénztári kártyára vásárolható', 'Készleten', 'Torokfertőtlenítők', 'mentholum', 'Szopogatásra szánt mentol- és eukaliptuszízű torokfertőtlenítő gyógyszerkészítmény. Alkalmazható a torok-, garat-, mandulagyulladás, fogínygyulladás, szájnyálkahártya-gyulladás kezelésére, valamint a szájüregben végzett műtétek (mandula, fog, stb.) után a kellemetlen szájszag mérséklésére, ill. a másodlagos fertőzések megakadályozására, valamint megfázással járó száraz, irritáló köhögés és orrdugulás kezelésére.', 'OGYI-T-4521/01 (24 db), OGYI-T-4521/02 (12 db), OGYI-T-4521/03 (36 db)', 'üres', 'Reckitt Benckiser Healthcare International Ltd.', '103-105 Bath Road, Slough, Berkshire SL1 3UH, Egyesült Királyság', 'Reckitt Benckiser Healthcare International Ltd.', 'Nottingham Site, Thane Road, Nottingham NG90 2DB, Egyesült Királyság,:, Reckitt Benckiser Kft., 1113 Budapest, Bocskai út 134-146.,Tel: 06 1 880-1870, Fax: 06 1 250-8398, E-mail: gyogyszer@reckittbenckiser.com', 'üres', 'üres', '27/07/2020')\n",
      "('STREPSILS PLUS tabletta', 'Strepsils Plus tabletta 24x', '24x', '2499', 'üres', 'üres', '104,10 Ft/db', 'Egészségpénztári kártyára vásárolható', 'Készleten', 'Torokfertőtlenítők', 'lidocainum', 'A Strepsils Plus tabletta erős torokfájás, valamint garat-, mandula-, és fogínygyulladás kezelésére javallott. Kettős hatású; fertőtleníti a gyulladt területet valamint lidokain tartalmának köszönhetően gyorsan csillapítja a száj- és garatüregben fellépő fájdalmat.', 'OGYI-T-5716/01', 'üres', 'Reckitt Benckiser Healthcare International Ltd.', '103-105 Bath Road, Slough, Berkshire SL1 3UH, Egyesült Királyság', 'Reckitt Benckiser Healthcare International Ltd.', 'Nottingham Site, Thane Road Nottingham, NG90 2DB,Egyesült Királyság,:, Reckitt Benckiser Kft., 1113 Budapest, Bocskai út 134-146., Tel: 06 1 880-1870, Fax: 06 1 250-8398, E-mail: gyogyszer@reckittbenckiser.com', 'üres', 'üres', '27/07/2020')\n",
      "('STREPSILS VITAMIN C 100 mg szopogató tabletta', 'Strepsils Vitamin C 100 mg szopogató tabletta 24x', '24x', '2299', 'üres', 'üres', '95,80 Ft/db', 'Egészségpénztári kártyára vásárolható', 'Készleten', 'Torokfertőtlenítők', 'natrium ascorbicum', 'Szopogatásra szánt, C vitamint is tartalmazó torokfertőtlenítő gyógyszerkészítmény. Hatékonyan alkalmazható a torok-, garat-, mandulagyulladás, fogínygyulladás, szájnyálkahártya‑gyulladás kezelésére, valamint a szájüregben végzett műtétek (mandula, fog, stb.) után a kellemetlen szájszag mérséklésére, ill. a másodlagos fertőzések megakadályozására.', 'OGYI-T-7206/01 (24 db), OGYI-T-7206/02 (12 db), OGYI-T-7206/03 (10 db)', 'üres', 'Reckitt Benckiser Healthcare International Ltd.', '103-105 Bath Road, Slough, Berkshire SL1 3UH, Egyesült Királyság', 'Reckitt Benckiser Healthcare International Ltd.', 'Nottingham Site, Thane Road, Nottingham, NG90 2DB, Egyesült Királyság,:, Reckitt Benckiser Kft., 1113 Budapest, Bocskai út 134-146.,Tel: 06 1 880-1870, Fax: 06 1 250-8398, E-mail: gyogyszer@reckittbenckiser.com', 'üres', 'üres', '27/07/2020')\n",
      "('TANTUM VERDE CITROM 3 mg szopogató tabletta', 'Tantum Verde citrom 3mg szopogató tabletta (Tantum Lemon) 20x', '20x', '2199', 'üres', 'üres', '110,00 Ft/db', 'Egészségpénztári kártyára vásárolható', 'Készleten', 'Torokfertőtlenítők', 'benzydaminium', 'A gyógyszer gyulladásgátló és fájdalomcsillapító hatású. Alkalmazható a torok, a száj és a fogíny gyulladásos tüneteinek kezelésére és szájfertőtlenítésre. Kiegészítő kezelésként használható például foghúzás, szájsebészeti beavatkozás előtt és után. Kemoterápiát vagy sugárterápiát követően, másodlagosan kialakuló szájnyálkahártya-panaszok esetén is alkalmazható.', 'üres', 'üres', 'üres', 'üres', 'üres', 'üres', 'üres', 'üres', '27/07/2020')\n",
      "('TANTUM VERDE MENTA 3 mg szopogató tabletta', 'Tantum Verde menta 3mg szopogató tabletta 20x', '20x', '2349', 'üres', 'üres', '117,50 Ft/db', 'Egészségpénztári kártyára vásárolható', 'Készleten', 'Torokfertőtlenítők', 'benzydaminium', 'A gyógyszer gyulladásgátló és fájdalomcsillapító hatású. Alkalmazható a torok, a száj és a fogíny gyulladásos tüneteinek kezelésére és szájfertőtlenítésre. Kiegészítő kezelésként használható például foghúzás, szájsebészeti beavatkozás előtt és után. Kemoterápiát vagy sugárterápiát követően, másodlagosan kialakuló szájnyálkahártya-panaszok esetén is alkalmazható.', 'üres', 'üres', 'üres', 'üres', 'üres', 'üres', 'üres', 'üres', '27/07/2020')\n",
      "('TANTUM VERDE NARANCS-MÉZ 3 mg szopogató tabletta', 'Tantum Verde narancs-méz 3 mg szopogató tabletta 20x', '20x', '2349', 'üres', 'üres', '117,50 Ft/db', 'Egészségpénztári kártyára vásárolható', 'Készleten', 'Torokfertőtlenítők', 'benzydaminium', 'A gyógyszer gyulladásgátló és fájdalomcsillapító hatású. Alkalmazható a torok, a száj és a fogíny gyulladásos tüneteinek kezelésére és szájfertőtlenítésre. Kiegészítő kezelésként használható például foghúzás, szájsebészeti beavatkozás előtt és után. Kemoterápiát vagy sugárterápiát követően, másodlagosan kialakuló szájnyálkahártya-panaszok esetén is alkalmazható.', 'üres', 'üres', 'üres', 'üres', 'üres', 'üres', 'üres', 'üres', '27/07/2020')\n",
      "('VIBROCIL oldatos orrcsepp', 'Vibrocil oldatos orrcsepp 15ml', '15ml', '1399', 'üres', 'üres', '93,30 Ft/ml', 'Egészségpénztári kártyára vásárolható', 'Készleten', 'Orrdugulás ellen', 'phenylephrinum', 'A Vibrocil oldatos orrcsepp gyorsan és tartósan enyhíti a különböző fertőzéses vagy allergiás eredetű felsőlégúti megbetegedések okozta orrdugulást és orrfolyást. Elősegíti az orrjáratok kitisztulását, mérsékli az orrdugulást.', 'OGYI-T-2040/01', 'üres', 'GlaxoSmithKline-Consumer Kft.', '1124 Budapest, Csörsz u. 43., Magyarország', 'GSK Consumer Healthcare GmbH & Co. KG', 'Barthstraβe 4,80339 München,Németország', 'üres', 'üres', '27/07/2020')\n",
      "('XILOMARE 1 mg/ml oldatos orrspray', 'Xilomare Kid 0,5mg/ml oldatos orrspray 10ml', '10ml', '2099', 'üres', 'üres', '209,90 Ft/ml', 'Egészségpénztári kártyára vásárolható', 'Készleten', 'Orrdugulás ellen', 'üres', 'A Xilomare Kid hatóanyaga a xilometazolin, amely összehúzza az orrnyálkahártya ereit, ezáltal csökkenti a különböző okok miatt fennálló duzzanatot, és megkönnyíti a légzést az orron keresztül. A Xilomare Kid 0,5 mg/ml oldatos orrspray 2-12 éves gyermekek orrdugulásának rövid távú kezelésére használatos.', 'üres', 'üres', 'üres', 'üres', 'üres', 'üres', 'üres', 'üres', '27/07/2020')\n"
     ]
    },
    {
     "name": "stdout",
     "output_type": "stream",
     "text": [
      "('WICK TRIACTIN citrom ízû por belsőleges oldathoz', 'Wick TriActin citrom ízű por belsőleges oldathoz 10x', '10x', '2599', 'üres', 'üres', '259,90 Ft/db', 'Egészségpénztári kártyára vásárolható', 'Készleten', 'Komplex készítmények, forró italporok', 'paracetamolum', 'A TriActin Wick citrom ízű por belsőleges oldathoz a megfázás és az influenza tüneteinek enyhítésére szolgál. Három hatóanyagot tartalmaz: A paracetamol jól ismert fájdalomcsillapító. A különböző fájdalmak, így a fejfájás és a torokfájás megszüntetésére és a láz csillapítására alkalmazható. A gvajfenezin (köhögéscsillapító) fellazítja a váladékot és enyhíti a hurutos köhögést. A fenilefrin-hidroklorid (orrdugulás elleni szer) csökkenti az orrjárat duzzanatát, így enyhíti az orrdugulást.', 'OGYI-T-21591/01-02', 'üres', 'Wick Pharma', 'Zweigniederlassung der Procter & Gamble GmbH, Sulzbacher Str. 40-50, D-65824 Schwalbach am Taunus, Németország', 'Wrafton Laboratories Limited', 'Braunton, Devon, EX33 2DL,Nagy-Britannia', 'üres', 'üres', '27/07/2020')\n",
      "('WICK VAPORUB kenőcs', 'Wick Vaporub kenőcs 50g', '50g', '2499', 'üres', 'üres', '50,00 Ft/g', 'Egészségpénztári kártyára vásárolható', 'Készleten', 'Orrdugulás ellen', 'camphora', 'A Wick VapoRub kenőcs alkalmazása náthával, köhögéssel, torok- és hörghuruttal járó meghüléses panaszok esetén ajánlott.p\\np\\xa0p\\np\\np\\np\\np\\npKiszállítás futárszolgálattal: 695 Ftp\\np\\np\\np\\npSzemélyes átvétel több, mint 100 gyógyszertárban: ingyenesp\\np\\np\\n', 'OGYI-T-22058/01-03', 'üres', 'Wick Pharma', 'Zweigniederlassung der Procter & Gamble GmbH, Sulzbacher Strasse 40-50, D-65824 Schwalbach am Taunus, Németország', 'Procter & Gamble Manufacturing GmbH', 'Procter & Gamble Strasse 1, 64521 Gross Gerau, Németország', 'üres', 'üres', '27/07/2020')\n",
      "('XYZAL 0,5 mg/ml belsőleges oldat', 'Xyzal 0,5 mg/ml belsőleges oldat 200ml', '200ml', '2599', 'üres', 'üres', '13,00 Ft/ml', 'Egészségpénztári kártyára vásárolható', 'Készleten', 'Allergia', 'levocetirizinum', 'A Xyzal allergia kezelésére szolgáló szer, hatóanyaga a hisztamin-receptorokat gátló gyógyszerek csoportjába tartozik. Az alábbi allergiás betegségek tüneteinek (tüsszentés, orrfolyás, orrdugulás, szem- és bőrtünetek) kezelésére használható felnőttekben és 2 éves kor feletti gyermekekben: · allergiás nátha (beleértve az egész éven át tartó allergiás náthát); · csalánkiütés (krónikus idiopátiás urtikária)', 'OGYI-T-8514/02.', 'üres', 'UCB Magyarország Kft.', '1023 Budapest, Árpád fejedelem útja 26-28.', 'UCB Pharma S.p.A.', 'Via Praglia 15, 10044 Pianezza, Olaszország', 'üres', 'üres', '27/07/2020')\n",
      "('XYZAL 5 mg filmtabletta', 'Xyzal 5 mg filmtabletta 10x', '10x', '1249', 'üres', 'üres', '124,90 Ft/Ft/db', 'Egészségpénztári kártyára vásárolható', 'Készleten', 'Allergia', 'levocetirizinum', 'Az alábbi tünetek (tüsszentés, orrfolyás, orrdugulás, szem- és bőrtünetek) kezelésére használható felnőttekben és 6 éves kor feletti gyermekekben: allergiás nátha (beleértve az egész éven át tartó allergiás náthát); csalánkiütés (urtikária).', 'OGYI-T-8514/01 (28 db),OGYI-T-8514/03 (10 db), OGYI-T-8514/04 (60 db)', 'üres', 'UCB Magyarország Kft.', '1023 Budapest, Árpád fejedelem útja 26-28.', 'UCB Pharma S.p.A.', 'Via Praglia 15, 10044 Pianezza, Olaszország', 'üres', 'üres', '27/07/2020')\n",
      "('ZILOLA 5 mg filmtabletta', 'Zilola 5 mg filmtabletta 28x', '28x', '2299', 'üres', 'üres', '82,10 Ft/db', 'Egészségpénztári kártyára vásárolható', 'Készleten', 'Allergia', 'levocetirizinum', 'Szisztémás hatású antihisztamin. Az alábbi betegségekkel összefüggő tünetek kezelésére szolgál: allergiás nátha (beleértve az év bizonyos szakában rendszeresen visszatérő allergiás náthát is) és rendszeresen jelentkező (idült), ismeretlen eredetű csalánkiütés (krónikus idiopátiás csalánkiütés).', 'OGYI-T-21995/01-10', '2012. január', 'Richter Gedeon Nyrt.', 'H-1103 Budapest, Gyömrői út 19-21., Magyarország', 'Gedeon Richter Polska Sp. z o.o.', 'ul. ks. J. Poniatowskiego 5, 05-825 Grodzisk Mazowiecki,Lengyelország', 'üres', 'üres', '27/07/2020')\n",
      "('ZYRTEC 10 mg/ml belsőleges oldatos cseppek', 'Zyrtec 10 mg/ml belsőleges oldatos cseppek 20ml', '20ml', '1549', 'üres', 'üres', '77,50 Ft/ml', 'Egészségpénztári kártyára vásárolható', 'Készleten', 'Allergia', 'cetirizinium chloratum', 'A Zyrtec egy allergia elleni gyógyszer. A Zyrtec felnőttek, valamint 2 éves és afeletti gyermekek alábbi tüneteinek kezelésére javasolt: szezonális és egész éven át tartó allergiás nátha orr- és szemtüneteinek enyhítésére, krónikus csalánkiütés (krónikus idiopátiás urtikária) enyhítésére.', 'OGYI-T-4491/01', '2009. április 28.', 'UCB Magyarország Kft.', 'H-1023 Budapest, Árpád fejedelem útja 26-28., Magyarország', 'UCB Pharma SpA', '15 Via Praglia, 10044 Pianezza, Olaszország', 'üres', 'üres', '27/07/2020')\n"
     ]
    }
   ],
   "source": [
    "#print out the data from the database\n",
    "for row in cursor:\n",
    "    print(row)"
   ]
  },
  {
   "cell_type": "code",
   "execution_count": 282,
   "metadata": {},
   "outputs": [],
   "source": [
    "#close cursor&connection\n",
    "cursor.close()\n",
    "conn.close()"
   ]
  },
  {
   "cell_type": "code",
   "execution_count": null,
   "metadata": {
    "scrolled": false
   },
   "outputs": [],
   "source": []
  },
  {
   "cell_type": "code",
   "execution_count": null,
   "metadata": {},
   "outputs": [],
   "source": [
    "\n"
   ]
  },
  {
   "cell_type": "code",
   "execution_count": null,
   "metadata": {},
   "outputs": [],
   "source": []
  },
  {
   "cell_type": "code",
   "execution_count": null,
   "metadata": {},
   "outputs": [],
   "source": []
  },
  {
   "cell_type": "code",
   "execution_count": null,
   "metadata": {},
   "outputs": [],
   "source": []
  },
  {
   "cell_type": "code",
   "execution_count": null,
   "metadata": {},
   "outputs": [],
   "source": []
  },
  {
   "cell_type": "code",
   "execution_count": null,
   "metadata": {},
   "outputs": [],
   "source": []
  },
  {
   "cell_type": "code",
   "execution_count": null,
   "metadata": {},
   "outputs": [],
   "source": []
  },
  {
   "cell_type": "code",
   "execution_count": null,
   "metadata": {},
   "outputs": [],
   "source": []
  },
  {
   "cell_type": "code",
   "execution_count": null,
   "metadata": {},
   "outputs": [],
   "source": []
  },
  {
   "cell_type": "code",
   "execution_count": null,
   "metadata": {},
   "outputs": [],
   "source": []
  },
  {
   "cell_type": "code",
   "execution_count": null,
   "metadata": {
    "scrolled": false
   },
   "outputs": [],
   "source": []
  },
  {
   "cell_type": "code",
   "execution_count": null,
   "metadata": {},
   "outputs": [],
   "source": []
  },
  {
   "cell_type": "code",
   "execution_count": null,
   "metadata": {},
   "outputs": [],
   "source": []
  },
  {
   "cell_type": "code",
   "execution_count": null,
   "metadata": {},
   "outputs": [],
   "source": []
  },
  {
   "cell_type": "code",
   "execution_count": null,
   "metadata": {},
   "outputs": [],
   "source": []
  },
  {
   "cell_type": "code",
   "execution_count": null,
   "metadata": {
    "scrolled": false
   },
   "outputs": [],
   "source": []
  },
  {
   "cell_type": "code",
   "execution_count": null,
   "metadata": {},
   "outputs": [],
   "source": []
  },
  {
   "cell_type": "code",
   "execution_count": null,
   "metadata": {},
   "outputs": [],
   "source": []
  },
  {
   "cell_type": "code",
   "execution_count": null,
   "metadata": {},
   "outputs": [],
   "source": [
    "\n"
   ]
  },
  {
   "cell_type": "code",
   "execution_count": null,
   "metadata": {},
   "outputs": [],
   "source": []
  },
  {
   "cell_type": "code",
   "execution_count": null,
   "metadata": {},
   "outputs": [],
   "source": []
  },
  {
   "cell_type": "code",
   "execution_count": null,
   "metadata": {},
   "outputs": [],
   "source": []
  },
  {
   "cell_type": "code",
   "execution_count": null,
   "metadata": {},
   "outputs": [],
   "source": []
  },
  {
   "cell_type": "code",
   "execution_count": null,
   "metadata": {},
   "outputs": [],
   "source": []
  },
  {
   "cell_type": "code",
   "execution_count": null,
   "metadata": {},
   "outputs": [],
   "source": []
  },
  {
   "cell_type": "code",
   "execution_count": null,
   "metadata": {},
   "outputs": [],
   "source": []
  },
  {
   "cell_type": "code",
   "execution_count": null,
   "metadata": {},
   "outputs": [],
   "source": []
  },
  {
   "cell_type": "code",
   "execution_count": null,
   "metadata": {},
   "outputs": [],
   "source": []
  },
  {
   "cell_type": "code",
   "execution_count": null,
   "metadata": {},
   "outputs": [],
   "source": []
  },
  {
   "cell_type": "code",
   "execution_count": null,
   "metadata": {},
   "outputs": [],
   "source": []
  },
  {
   "cell_type": "code",
   "execution_count": null,
   "metadata": {},
   "outputs": [],
   "source": []
  },
  {
   "cell_type": "code",
   "execution_count": null,
   "metadata": {},
   "outputs": [],
   "source": []
  },
  {
   "cell_type": "code",
   "execution_count": null,
   "metadata": {},
   "outputs": [],
   "source": []
  },
  {
   "cell_type": "code",
   "execution_count": null,
   "metadata": {},
   "outputs": [],
   "source": []
  },
  {
   "cell_type": "code",
   "execution_count": null,
   "metadata": {},
   "outputs": [],
   "source": []
  },
  {
   "cell_type": "code",
   "execution_count": null,
   "metadata": {},
   "outputs": [],
   "source": []
  },
  {
   "cell_type": "code",
   "execution_count": null,
   "metadata": {},
   "outputs": [],
   "source": []
  },
  {
   "cell_type": "code",
   "execution_count": null,
   "metadata": {},
   "outputs": [],
   "source": []
  },
  {
   "cell_type": "code",
   "execution_count": null,
   "metadata": {},
   "outputs": [],
   "source": []
  },
  {
   "cell_type": "code",
   "execution_count": null,
   "metadata": {},
   "outputs": [],
   "source": []
  },
  {
   "cell_type": "code",
   "execution_count": null,
   "metadata": {},
   "outputs": [],
   "source": []
  },
  {
   "cell_type": "code",
   "execution_count": null,
   "metadata": {},
   "outputs": [],
   "source": []
  },
  {
   "cell_type": "code",
   "execution_count": null,
   "metadata": {},
   "outputs": [],
   "source": []
  },
  {
   "cell_type": "code",
   "execution_count": null,
   "metadata": {},
   "outputs": [],
   "source": [
    "\n"
   ]
  },
  {
   "cell_type": "code",
   "execution_count": null,
   "metadata": {},
   "outputs": [],
   "source": []
  },
  {
   "cell_type": "code",
   "execution_count": null,
   "metadata": {},
   "outputs": [],
   "source": [
    "\n"
   ]
  },
  {
   "cell_type": "code",
   "execution_count": null,
   "metadata": {},
   "outputs": [],
   "source": []
  },
  {
   "cell_type": "code",
   "execution_count": null,
   "metadata": {},
   "outputs": [],
   "source": [
    "\n",
    "\n",
    "        "
   ]
  },
  {
   "cell_type": "code",
   "execution_count": null,
   "metadata": {},
   "outputs": [],
   "source": []
  },
  {
   "cell_type": "code",
   "execution_count": null,
   "metadata": {},
   "outputs": [],
   "source": []
  },
  {
   "cell_type": "code",
   "execution_count": null,
   "metadata": {},
   "outputs": [],
   "source": []
  },
  {
   "cell_type": "code",
   "execution_count": null,
   "metadata": {},
   "outputs": [],
   "source": []
  },
  {
   "cell_type": "code",
   "execution_count": null,
   "metadata": {},
   "outputs": [],
   "source": []
  },
  {
   "cell_type": "code",
   "execution_count": null,
   "metadata": {},
   "outputs": [],
   "source": []
  },
  {
   "cell_type": "code",
   "execution_count": null,
   "metadata": {},
   "outputs": [],
   "source": []
  },
  {
   "cell_type": "code",
   "execution_count": null,
   "metadata": {},
   "outputs": [],
   "source": []
  },
  {
   "cell_type": "code",
   "execution_count": null,
   "metadata": {},
   "outputs": [],
   "source": []
  },
  {
   "cell_type": "code",
   "execution_count": null,
   "metadata": {},
   "outputs": [],
   "source": [
    "\n",
    "\n"
   ]
  },
  {
   "cell_type": "code",
   "execution_count": null,
   "metadata": {},
   "outputs": [],
   "source": [
    "    "
   ]
  },
  {
   "cell_type": "code",
   "execution_count": null,
   "metadata": {},
   "outputs": [],
   "source": [
    "\n"
   ]
  },
  {
   "cell_type": "raw",
   "metadata": {},
   "source": []
  },
  {
   "cell_type": "code",
   "execution_count": null,
   "metadata": {},
   "outputs": [],
   "source": [
    "\n"
   ]
  },
  {
   "cell_type": "code",
   "execution_count": null,
   "metadata": {},
   "outputs": [],
   "source": []
  },
  {
   "cell_type": "code",
   "execution_count": null,
   "metadata": {},
   "outputs": [],
   "source": []
  },
  {
   "cell_type": "code",
   "execution_count": null,
   "metadata": {},
   "outputs": [],
   "source": []
  },
  {
   "cell_type": "code",
   "execution_count": null,
   "metadata": {},
   "outputs": [],
   "source": []
  },
  {
   "cell_type": "code",
   "execution_count": null,
   "metadata": {},
   "outputs": [],
   "source": []
  },
  {
   "cell_type": "code",
   "execution_count": null,
   "metadata": {},
   "outputs": [],
   "source": []
  },
  {
   "cell_type": "code",
   "execution_count": null,
   "metadata": {},
   "outputs": [],
   "source": []
  },
  {
   "cell_type": "code",
   "execution_count": null,
   "metadata": {},
   "outputs": [],
   "source": []
  },
  {
   "cell_type": "code",
   "execution_count": null,
   "metadata": {},
   "outputs": [],
   "source": []
  },
  {
   "cell_type": "code",
   "execution_count": null,
   "metadata": {},
   "outputs": [],
   "source": []
  },
  {
   "cell_type": "code",
   "execution_count": null,
   "metadata": {},
   "outputs": [],
   "source": [
    "\n"
   ]
  },
  {
   "cell_type": "code",
   "execution_count": null,
   "metadata": {
    "scrolled": true
   },
   "outputs": [],
   "source": []
  },
  {
   "cell_type": "code",
   "execution_count": null,
   "metadata": {},
   "outputs": [],
   "source": []
  },
  {
   "cell_type": "code",
   "execution_count": null,
   "metadata": {},
   "outputs": [],
   "source": []
  },
  {
   "cell_type": "code",
   "execution_count": null,
   "metadata": {},
   "outputs": [],
   "source": [
    "\n",
    "\n"
   ]
  },
  {
   "cell_type": "code",
   "execution_count": null,
   "metadata": {},
   "outputs": [],
   "source": []
  },
  {
   "cell_type": "code",
   "execution_count": null,
   "metadata": {},
   "outputs": [],
   "source": []
  },
  {
   "cell_type": "code",
   "execution_count": null,
   "metadata": {},
   "outputs": [],
   "source": []
  },
  {
   "cell_type": "code",
   "execution_count": null,
   "metadata": {},
   "outputs": [],
   "source": []
  },
  {
   "cell_type": "code",
   "execution_count": null,
   "metadata": {},
   "outputs": [],
   "source": []
  },
  {
   "cell_type": "code",
   "execution_count": null,
   "metadata": {},
   "outputs": [],
   "source": []
  },
  {
   "cell_type": "code",
   "execution_count": null,
   "metadata": {},
   "outputs": [],
   "source": []
  },
  {
   "cell_type": "code",
   "execution_count": null,
   "metadata": {},
   "outputs": [],
   "source": []
  },
  {
   "cell_type": "code",
   "execution_count": null,
   "metadata": {},
   "outputs": [],
   "source": []
  },
  {
   "cell_type": "code",
   "execution_count": null,
   "metadata": {},
   "outputs": [],
   "source": []
  },
  {
   "cell_type": "code",
   "execution_count": null,
   "metadata": {},
   "outputs": [],
   "source": []
  },
  {
   "cell_type": "code",
   "execution_count": null,
   "metadata": {},
   "outputs": [],
   "source": []
  },
  {
   "cell_type": "code",
   "execution_count": null,
   "metadata": {},
   "outputs": [],
   "source": []
  },
  {
   "cell_type": "code",
   "execution_count": null,
   "metadata": {},
   "outputs": [],
   "source": []
  },
  {
   "cell_type": "code",
   "execution_count": null,
   "metadata": {},
   "outputs": [],
   "source": []
  },
  {
   "cell_type": "code",
   "execution_count": null,
   "metadata": {},
   "outputs": [],
   "source": []
  }
 ],
 "metadata": {
  "kernelspec": {
   "display_name": "Python 3",
   "language": "python",
   "name": "python3"
  },
  "language_info": {
   "codemirror_mode": {
    "name": "ipython",
    "version": 3
   },
   "file_extension": ".py",
   "mimetype": "text/x-python",
   "name": "python",
   "nbconvert_exporter": "python",
   "pygments_lexer": "ipython3",
   "version": "3.7.6"
  }
 },
 "nbformat": 4,
 "nbformat_minor": 2
}
